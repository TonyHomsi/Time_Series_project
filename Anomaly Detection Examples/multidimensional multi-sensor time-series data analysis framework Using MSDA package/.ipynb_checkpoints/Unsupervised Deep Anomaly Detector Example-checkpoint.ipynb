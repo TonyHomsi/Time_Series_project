{
 "cells": [
  {
   "cell_type": "code",
   "execution_count": 1,
   "metadata": {},
   "outputs": [],
   "source": [
    "import pandas as pd\n",
    "import numpy as np\n",
    "import operator, statistics\n",
    "from statistics import mean\n",
    "import matplotlib.pyplot as plt\n",
    "import matplotlib.patches as mpatches\n",
    "from msda.msda import *\n",
    "from msda.anamoly import *\n",
    "%matplotlib inline"
   ]
  },
  {
   "cell_type": "markdown",
   "metadata": {},
   "source": [
    "# Import time-series data"
   ]
  },
  {
   "cell_type": "code",
   "execution_count": 2,
   "metadata": {},
   "outputs": [
    {
     "data": {
      "text/plain": [
       "(46368, 9)"
      ]
     },
     "execution_count": 2,
     "metadata": {},
     "output_type": "execute_result"
    }
   ],
   "source": [
    "df = pd.read_excel('m_1.xlsx')\n",
    "df.shape"
   ]
  },
  {
   "cell_type": "code",
   "execution_count": 3,
   "metadata": {},
   "outputs": [
    {
     "data": {
      "text/plain": [
       "Index(['timestamp', 'machine_id', 'cpu_util_percent', 'mem_util_percent',\n",
       "       'mem_gps', 'mkpi', 'net_in', 'net_out', 'disk_io_percent'],\n",
       "      dtype='object')"
      ]
     },
     "execution_count": 3,
     "metadata": {},
     "output_type": "execute_result"
    }
   ],
   "source": [
    "df.columns"
   ]
  },
  {
   "cell_type": "code",
   "execution_count": 4,
   "metadata": {},
   "outputs": [
    {
     "data": {
      "text/html": [
       "<div>\n",
       "<style scoped>\n",
       "    .dataframe tbody tr th:only-of-type {\n",
       "        vertical-align: middle;\n",
       "    }\n",
       "\n",
       "    .dataframe tbody tr th {\n",
       "        vertical-align: top;\n",
       "    }\n",
       "\n",
       "    .dataframe thead th {\n",
       "        text-align: right;\n",
       "    }\n",
       "</style>\n",
       "<table border=\"1\" class=\"dataframe\">\n",
       "  <thead>\n",
       "    <tr style=\"text-align: right;\">\n",
       "      <th></th>\n",
       "      <th>timestamp</th>\n",
       "      <th>machine_id</th>\n",
       "      <th>cpu_util_percent</th>\n",
       "      <th>mem_util_percent</th>\n",
       "      <th>mem_gps</th>\n",
       "      <th>mkpi</th>\n",
       "      <th>net_in</th>\n",
       "      <th>net_out</th>\n",
       "      <th>disk_io_percent</th>\n",
       "    </tr>\n",
       "  </thead>\n",
       "  <tbody>\n",
       "    <tr>\n",
       "      <th>0</th>\n",
       "      <td>2011-05-01 12:00:10</td>\n",
       "      <td>m_1</td>\n",
       "      <td>13</td>\n",
       "      <td>84</td>\n",
       "      <td>NaN</td>\n",
       "      <td>NaN</td>\n",
       "      <td>32.46</td>\n",
       "      <td>23.09</td>\n",
       "      <td>1</td>\n",
       "    </tr>\n",
       "    <tr>\n",
       "      <th>1</th>\n",
       "      <td>2011-05-01 12:00:20</td>\n",
       "      <td>m_1</td>\n",
       "      <td>10</td>\n",
       "      <td>84</td>\n",
       "      <td>NaN</td>\n",
       "      <td>NaN</td>\n",
       "      <td>32.46</td>\n",
       "      <td>23.09</td>\n",
       "      <td>1</td>\n",
       "    </tr>\n",
       "    <tr>\n",
       "      <th>2</th>\n",
       "      <td>2011-05-01 12:00:30</td>\n",
       "      <td>m_1</td>\n",
       "      <td>11</td>\n",
       "      <td>84</td>\n",
       "      <td>NaN</td>\n",
       "      <td>NaN</td>\n",
       "      <td>32.46</td>\n",
       "      <td>23.09</td>\n",
       "      <td>1</td>\n",
       "    </tr>\n",
       "    <tr>\n",
       "      <th>3</th>\n",
       "      <td>2011-05-01 12:00:40</td>\n",
       "      <td>m_1</td>\n",
       "      <td>12</td>\n",
       "      <td>84</td>\n",
       "      <td>NaN</td>\n",
       "      <td>NaN</td>\n",
       "      <td>32.46</td>\n",
       "      <td>23.09</td>\n",
       "      <td>1</td>\n",
       "    </tr>\n",
       "    <tr>\n",
       "      <th>4</th>\n",
       "      <td>2011-05-01 12:00:50</td>\n",
       "      <td>m_1</td>\n",
       "      <td>12</td>\n",
       "      <td>84</td>\n",
       "      <td>NaN</td>\n",
       "      <td>NaN</td>\n",
       "      <td>32.46</td>\n",
       "      <td>23.09</td>\n",
       "      <td>1</td>\n",
       "    </tr>\n",
       "  </tbody>\n",
       "</table>\n",
       "</div>"
      ],
      "text/plain": [
       "            timestamp machine_id  cpu_util_percent  mem_util_percent  mem_gps  \\\n",
       "0 2011-05-01 12:00:10        m_1                13                84      NaN   \n",
       "1 2011-05-01 12:00:20        m_1                10                84      NaN   \n",
       "2 2011-05-01 12:00:30        m_1                11                84      NaN   \n",
       "3 2011-05-01 12:00:40        m_1                12                84      NaN   \n",
       "4 2011-05-01 12:00:50        m_1                12                84      NaN   \n",
       "\n",
       "   mkpi  net_in  net_out  disk_io_percent  \n",
       "0   NaN   32.46    23.09                1  \n",
       "1   NaN   32.46    23.09                1  \n",
       "2   NaN   32.46    23.09                1  \n",
       "3   NaN   32.46    23.09                1  \n",
       "4   NaN   32.46    23.09                1  "
      ]
     },
     "execution_count": 4,
     "metadata": {},
     "output_type": "execute_result"
    }
   ],
   "source": [
    "df.head()"
   ]
  },
  {
   "cell_type": "code",
   "execution_count": 5,
   "metadata": {},
   "outputs": [
    {
     "name": "stdout",
     "output_type": "stream",
     "text": [
      "<class 'pandas.core.frame.DataFrame'>\n",
      "RangeIndex: 46368 entries, 0 to 46367\n",
      "Data columns (total 9 columns):\n",
      " #   Column            Non-Null Count  Dtype         \n",
      "---  ------            --------------  -----         \n",
      " 0   timestamp         46368 non-null  datetime64[ns]\n",
      " 1   machine_id        46368 non-null  object        \n",
      " 2   cpu_util_percent  46368 non-null  int64         \n",
      " 3   mem_util_percent  46368 non-null  int64         \n",
      " 4   mem_gps           0 non-null      float64       \n",
      " 5   mkpi              0 non-null      float64       \n",
      " 6   net_in            46368 non-null  float64       \n",
      " 7   net_out           46368 non-null  float64       \n",
      " 8   disk_io_percent   46368 non-null  int64         \n",
      "dtypes: datetime64[ns](1), float64(4), int64(3), object(1)\n",
      "memory usage: 3.2+ MB\n"
     ]
    }
   ],
   "source": [
    "df.info()"
   ]
  },
  {
   "cell_type": "markdown",
   "metadata": {},
   "source": [
    "# Check missing values with missing function"
   ]
  },
  {
   "cell_type": "code",
   "execution_count": 6,
   "metadata": {},
   "outputs": [
    {
     "name": "stdout",
     "output_type": "stream",
     "text": [
      "Missing information for whole dataset\n",
      "Missing by row timestamp               0\n",
      "machine_id              0\n",
      "cpu_util_percent        0\n",
      "mem_util_percent        0\n",
      "mem_gps             46368\n",
      "mkpi                46368\n",
      "net_in                  0\n",
      "net_out                 0\n",
      "disk_io_percent         0\n",
      "dtype: int64\n",
      "Missing by col 0        2\n",
      "1        2\n",
      "2        2\n",
      "3        2\n",
      "4        2\n",
      "        ..\n",
      "46363    2\n",
      "46364    2\n",
      "46365    2\n",
      "46366    2\n",
      "46367    2\n",
      "Length: 46368, dtype: int64\n"
     ]
    }
   ],
   "source": [
    "print(\"Missing information for whole dataset\")\n",
    "print(\"Missing by row\", df.apply(Preprocessing.missing, axis=0)) # col\n",
    "print(\"Missing by col\", df.apply(Preprocessing.missing, axis=1)) # row"
   ]
  },
  {
   "cell_type": "markdown",
   "metadata": {},
   "source": [
    "# Impute missing values with impute function (modes=0,1, 2, else backfill)\n",
    "### 0: impute with zero, 1: impute with mean, 2: impute with median, else impute with backfill method"
   ]
  },
  {
   "cell_type": "code",
   "execution_count": 7,
   "metadata": {},
   "outputs": [],
   "source": [
    "df_no_na = ExploratoryDataAnalysis.impute(df=df, modes=0)"
   ]
  },
  {
   "cell_type": "code",
   "execution_count": 8,
   "metadata": {},
   "outputs": [
    {
     "data": {
      "text/html": [
       "<div>\n",
       "<style scoped>\n",
       "    .dataframe tbody tr th:only-of-type {\n",
       "        vertical-align: middle;\n",
       "    }\n",
       "\n",
       "    .dataframe tbody tr th {\n",
       "        vertical-align: top;\n",
       "    }\n",
       "\n",
       "    .dataframe thead th {\n",
       "        text-align: right;\n",
       "    }\n",
       "</style>\n",
       "<table border=\"1\" class=\"dataframe\">\n",
       "  <thead>\n",
       "    <tr style=\"text-align: right;\">\n",
       "      <th></th>\n",
       "      <th>timestamp</th>\n",
       "      <th>machine_id</th>\n",
       "      <th>cpu_util_percent</th>\n",
       "      <th>mem_util_percent</th>\n",
       "      <th>mem_gps</th>\n",
       "      <th>mkpi</th>\n",
       "      <th>net_in</th>\n",
       "      <th>net_out</th>\n",
       "      <th>disk_io_percent</th>\n",
       "    </tr>\n",
       "  </thead>\n",
       "  <tbody>\n",
       "    <tr>\n",
       "      <th>0</th>\n",
       "      <td>2011-05-01 12:00:10</td>\n",
       "      <td>m_1</td>\n",
       "      <td>13</td>\n",
       "      <td>84</td>\n",
       "      <td>0.0</td>\n",
       "      <td>0.0</td>\n",
       "      <td>32.46</td>\n",
       "      <td>23.09</td>\n",
       "      <td>1</td>\n",
       "    </tr>\n",
       "    <tr>\n",
       "      <th>1</th>\n",
       "      <td>2011-05-01 12:00:20</td>\n",
       "      <td>m_1</td>\n",
       "      <td>10</td>\n",
       "      <td>84</td>\n",
       "      <td>0.0</td>\n",
       "      <td>0.0</td>\n",
       "      <td>32.46</td>\n",
       "      <td>23.09</td>\n",
       "      <td>1</td>\n",
       "    </tr>\n",
       "    <tr>\n",
       "      <th>2</th>\n",
       "      <td>2011-05-01 12:00:30</td>\n",
       "      <td>m_1</td>\n",
       "      <td>11</td>\n",
       "      <td>84</td>\n",
       "      <td>0.0</td>\n",
       "      <td>0.0</td>\n",
       "      <td>32.46</td>\n",
       "      <td>23.09</td>\n",
       "      <td>1</td>\n",
       "    </tr>\n",
       "    <tr>\n",
       "      <th>3</th>\n",
       "      <td>2011-05-01 12:00:40</td>\n",
       "      <td>m_1</td>\n",
       "      <td>12</td>\n",
       "      <td>84</td>\n",
       "      <td>0.0</td>\n",
       "      <td>0.0</td>\n",
       "      <td>32.46</td>\n",
       "      <td>23.09</td>\n",
       "      <td>1</td>\n",
       "    </tr>\n",
       "    <tr>\n",
       "      <th>4</th>\n",
       "      <td>2011-05-01 12:00:50</td>\n",
       "      <td>m_1</td>\n",
       "      <td>12</td>\n",
       "      <td>84</td>\n",
       "      <td>0.0</td>\n",
       "      <td>0.0</td>\n",
       "      <td>32.46</td>\n",
       "      <td>23.09</td>\n",
       "      <td>1</td>\n",
       "    </tr>\n",
       "  </tbody>\n",
       "</table>\n",
       "</div>"
      ],
      "text/plain": [
       "            timestamp machine_id  cpu_util_percent  mem_util_percent  mem_gps  \\\n",
       "0 2011-05-01 12:00:10        m_1                13                84      0.0   \n",
       "1 2011-05-01 12:00:20        m_1                10                84      0.0   \n",
       "2 2011-05-01 12:00:30        m_1                11                84      0.0   \n",
       "3 2011-05-01 12:00:40        m_1                12                84      0.0   \n",
       "4 2011-05-01 12:00:50        m_1                12                84      0.0   \n",
       "\n",
       "   mkpi  net_in  net_out  disk_io_percent  \n",
       "0   0.0   32.46    23.09                1  \n",
       "1   0.0   32.46    23.09                1  \n",
       "2   0.0   32.46    23.09                1  \n",
       "3   0.0   32.46    23.09                1  \n",
       "4   0.0   32.46    23.09                1  "
      ]
     },
     "execution_count": 8,
     "metadata": {},
     "output_type": "execute_result"
    }
   ],
   "source": [
    "df_no_na.head()"
   ]
  },
  {
   "cell_type": "code",
   "execution_count": 9,
   "metadata": {},
   "outputs": [
    {
     "name": "stdout",
     "output_type": "stream",
     "text": [
      "Missing information for whole dataset\n",
      "Missing by row timestamp           0\n",
      "machine_id          0\n",
      "cpu_util_percent    0\n",
      "mem_util_percent    0\n",
      "mem_gps             0\n",
      "mkpi                0\n",
      "net_in              0\n",
      "net_out             0\n",
      "disk_io_percent     0\n",
      "dtype: int64\n",
      "Missing by col 0        0\n",
      "1        0\n",
      "2        0\n",
      "3        0\n",
      "4        0\n",
      "        ..\n",
      "46363    0\n",
      "46364    0\n",
      "46365    0\n",
      "46366    0\n",
      "46367    0\n",
      "Length: 46368, dtype: int64\n"
     ]
    }
   ],
   "source": [
    "print(\"Missing information for whole dataset\")\n",
    "print(\"Missing by row\", df_no_na.apply(Preprocessing.missing, axis=0)) # col\n",
    "print(\"Missing by col\", df_no_na.apply(Preprocessing.missing, axis=1)) # row"
   ]
  },
  {
   "cell_type": "markdown",
   "metadata": {},
   "source": [
    "# Input data to ANOMALY DETECTOR\n",
    "### we are inputing data with no missing values, removal of unsignificant fields, assert timestamp field, etc."
   ]
  },
  {
   "cell_type": "code",
   "execution_count": 10,
   "metadata": {},
   "outputs": [],
   "source": [
    "anamoly_data, anamoly_df = Anamoly.read_data(data=df_no_na, column_index_to_drop=1, timestamp_column_index=0)"
   ]
  },
  {
   "cell_type": "code",
   "execution_count": 11,
   "metadata": {},
   "outputs": [],
   "source": [
    "anamoly_data, anamoly_df = Anamoly.read_data(data=df_no_na, column_index_to_drop=0, timestamp_column_index=0)"
   ]
  },
  {
   "cell_type": "code",
   "execution_count": 12,
   "metadata": {},
   "outputs": [
    {
     "data": {
      "text/plain": [
       "Index(['cpu_util_percent', 'mem_util_percent', 'mem_gps', 'mkpi', 'net_in',\n",
       "       'net_out', 'disk_io_percent'],\n",
       "      dtype='object')"
      ]
     },
     "execution_count": 12,
     "metadata": {},
     "output_type": "execute_result"
    }
   ],
   "source": [
    "anamoly_data.columns"
   ]
  },
  {
   "cell_type": "code",
   "execution_count": 13,
   "metadata": {},
   "outputs": [
    {
     "data": {
      "text/plain": [
       "Index(['cpu_util_percent', 'mem_util_percent', 'mem_gps', 'mkpi', 'net_in',\n",
       "       'net_out', 'disk_io_percent'],\n",
       "      dtype='object')"
      ]
     },
     "execution_count": 13,
     "metadata": {},
     "output_type": "execute_result"
    }
   ],
   "source": [
    "anamoly_df.columns"
   ]
  },
  {
   "cell_type": "code",
   "execution_count": 14,
   "metadata": {},
   "outputs": [
    {
     "data": {
      "text/html": [
       "<div>\n",
       "<style scoped>\n",
       "    .dataframe tbody tr th:only-of-type {\n",
       "        vertical-align: middle;\n",
       "    }\n",
       "\n",
       "    .dataframe tbody tr th {\n",
       "        vertical-align: top;\n",
       "    }\n",
       "\n",
       "    .dataframe thead th {\n",
       "        text-align: right;\n",
       "    }\n",
       "</style>\n",
       "<table border=\"1\" class=\"dataframe\">\n",
       "  <thead>\n",
       "    <tr style=\"text-align: right;\">\n",
       "      <th></th>\n",
       "      <th>cpu_util_percent</th>\n",
       "      <th>mem_util_percent</th>\n",
       "      <th>mem_gps</th>\n",
       "      <th>mkpi</th>\n",
       "      <th>net_in</th>\n",
       "      <th>net_out</th>\n",
       "      <th>disk_io_percent</th>\n",
       "    </tr>\n",
       "    <tr>\n",
       "      <th>timestamp</th>\n",
       "      <th></th>\n",
       "      <th></th>\n",
       "      <th></th>\n",
       "      <th></th>\n",
       "      <th></th>\n",
       "      <th></th>\n",
       "      <th></th>\n",
       "    </tr>\n",
       "  </thead>\n",
       "  <tbody>\n",
       "    <tr>\n",
       "      <th>2011-05-01 12:00:10</th>\n",
       "      <td>13</td>\n",
       "      <td>84</td>\n",
       "      <td>0.0</td>\n",
       "      <td>0.0</td>\n",
       "      <td>32.46</td>\n",
       "      <td>23.09</td>\n",
       "      <td>1</td>\n",
       "    </tr>\n",
       "    <tr>\n",
       "      <th>2011-05-01 12:00:20</th>\n",
       "      <td>10</td>\n",
       "      <td>84</td>\n",
       "      <td>0.0</td>\n",
       "      <td>0.0</td>\n",
       "      <td>32.46</td>\n",
       "      <td>23.09</td>\n",
       "      <td>1</td>\n",
       "    </tr>\n",
       "    <tr>\n",
       "      <th>2011-05-01 12:00:30</th>\n",
       "      <td>11</td>\n",
       "      <td>84</td>\n",
       "      <td>0.0</td>\n",
       "      <td>0.0</td>\n",
       "      <td>32.46</td>\n",
       "      <td>23.09</td>\n",
       "      <td>1</td>\n",
       "    </tr>\n",
       "    <tr>\n",
       "      <th>2011-05-01 12:00:40</th>\n",
       "      <td>12</td>\n",
       "      <td>84</td>\n",
       "      <td>0.0</td>\n",
       "      <td>0.0</td>\n",
       "      <td>32.46</td>\n",
       "      <td>23.09</td>\n",
       "      <td>1</td>\n",
       "    </tr>\n",
       "    <tr>\n",
       "      <th>2011-05-01 12:00:50</th>\n",
       "      <td>12</td>\n",
       "      <td>84</td>\n",
       "      <td>0.0</td>\n",
       "      <td>0.0</td>\n",
       "      <td>32.46</td>\n",
       "      <td>23.09</td>\n",
       "      <td>1</td>\n",
       "    </tr>\n",
       "  </tbody>\n",
       "</table>\n",
       "</div>"
      ],
      "text/plain": [
       "                     cpu_util_percent  mem_util_percent  mem_gps  mkpi  \\\n",
       "timestamp                                                                \n",
       "2011-05-01 12:00:10                13                84      0.0   0.0   \n",
       "2011-05-01 12:00:20                10                84      0.0   0.0   \n",
       "2011-05-01 12:00:30                11                84      0.0   0.0   \n",
       "2011-05-01 12:00:40                12                84      0.0   0.0   \n",
       "2011-05-01 12:00:50                12                84      0.0   0.0   \n",
       "\n",
       "                     net_in  net_out  disk_io_percent  \n",
       "timestamp                                              \n",
       "2011-05-01 12:00:10   32.46    23.09                1  \n",
       "2011-05-01 12:00:20   32.46    23.09                1  \n",
       "2011-05-01 12:00:30   32.46    23.09                1  \n",
       "2011-05-01 12:00:40   32.46    23.09                1  \n",
       "2011-05-01 12:00:50   32.46    23.09                1  "
      ]
     },
     "execution_count": 14,
     "metadata": {},
     "output_type": "execute_result"
    }
   ],
   "source": [
    "anamoly_df.head()"
   ]
  },
  {
   "cell_type": "code",
   "execution_count": 15,
   "metadata": {},
   "outputs": [
    {
     "name": "stdout",
     "output_type": "stream",
     "text": [
      "<class 'pandas.core.frame.DataFrame'>\n",
      "DatetimeIndex: 46368 entries, 2011-05-01 12:00:10 to 2011-05-07 16:38:10\n",
      "Data columns (total 7 columns):\n",
      " #   Column            Non-Null Count  Dtype  \n",
      "---  ------            --------------  -----  \n",
      " 0   cpu_util_percent  46368 non-null  int64  \n",
      " 1   mem_util_percent  46368 non-null  int64  \n",
      " 2   mem_gps           46368 non-null  float64\n",
      " 3   mkpi              46368 non-null  float64\n",
      " 4   net_in            46368 non-null  float64\n",
      " 5   net_out           46368 non-null  float64\n",
      " 6   disk_io_percent   46368 non-null  int64  \n",
      "dtypes: float64(4), int64(3)\n",
      "memory usage: 2.8 MB\n"
     ]
    }
   ],
   "source": [
    "anamoly_df.info()"
   ]
  },
  {
   "cell_type": "markdown",
   "metadata": {},
   "source": [
    "# Data Preprocessing with user-input time window size"
   ]
  },
  {
   "cell_type": "code",
   "execution_count": 16,
   "metadata": {},
   "outputs": [],
   "source": [
    "X,Y,timesteps,X_data = Anamoly.data_pre_processing(df=anamoly_df, LOOKBACK_SIZE=10)"
   ]
  },
  {
   "cell_type": "markdown",
   "metadata": {},
   "source": [
    "# Selecting the deep models, time window size, kernel size\n",
    "### Available models - Deep Convolutional Neural Network, LSTM AUTOENCODERS\n",
    "### Possible Values ['deepcnn', 'lstmaenn']"
   ]
  },
  {
   "cell_type": "code",
   "execution_count": 17,
   "metadata": {},
   "outputs": [
    {
     "name": "stdout",
     "output_type": "stream",
     "text": [
      "MODEL_SELECTED = deepcnn\n",
      "LOOKBACK_SIZE = 10\n",
      "KERNEL_SIZE = 2\n"
     ]
    }
   ],
   "source": [
    "MODEL_SELECTED, LOOKBACK_SIZE, KERNEL_SIZE = Anamoly.set_config(MODEL_SELECTED='deepcnn', LOOKBACK_SIZE=10, KERNEL_SIZE=2)"
   ]
  },
  {
   "cell_type": "markdown",
   "metadata": {},
   "source": [
    "# Training the selected ANOMALY detector model\n",
    "### It will use GPU if available other CPU\n",
    "### DeepCNN example"
   ]
  },
  {
   "cell_type": "code",
   "execution_count": null,
   "metadata": {},
   "outputs": [
    {
     "name": "stdout",
     "output_type": "stream",
     "text": [
      "cpu\n",
      "DeepCNN(\n",
      "  (conv1d_1_layer): Conv1d(10, 16, kernel_size=(2,), stride=(1,))\n",
      "  (relu_1_layer): ReLU()\n",
      "  (maxpooling_1_layer): MaxPool1d(kernel_size=1, stride=1, padding=0, dilation=1, ceil_mode=False)\n",
      "  (conv1d_2_layer): Conv1d(16, 16, kernel_size=(2,), stride=(1,))\n",
      "  (relu_2_layer): ReLU()\n",
      "  (maxpooling_2_layer): MaxPool1d(kernel_size=1, stride=1, padding=0, dilation=1, ceil_mode=False)\n",
      "  (flatten_layer): Flatten(start_dim=1, end_dim=-1)\n",
      "  (dense_1_layer): Linear(in_features=80, out_features=40, bias=True)\n",
      "  (relu_3_layer): ReLU()\n",
      "  (dropout_layer): Dropout(p=0.25, inplace=False)\n",
      "  (dense_2_layer): Linear(in_features=40, out_features=7, bias=True)\n",
      ")\n",
      "Training Loss: 0.06785754502986817 - Epoch: 1\n",
      "Training Loss: 0.024009390804194185 - Epoch: 2\n",
      "Training Loss: 0.021210704883849768 - Epoch: 3\n",
      "Training Loss: 0.019161246059458573 - Epoch: 4\n",
      "Training Loss: 0.017295648584886615 - Epoch: 5\n",
      "Training Loss: 0.015809928586679525 - Epoch: 6\n"
     ]
    }
   ],
   "source": [
    "loss, train_data, model = Anamoly.compute(X, Y, LOOKBACK_SIZE=10, num_of_numerical_features=7, MODEL_SELECTED=MODEL_SELECTED, KERNEL_SIZE=KERNEL_SIZE, epocs=30)"
   ]
  },
  {
   "cell_type": "markdown",
   "metadata": {},
   "source": [
    "# Finding Anomalies\n",
    "### DeepCNN example"
   ]
  },
  {
   "cell_type": "code",
   "execution_count": null,
   "metadata": {},
   "outputs": [],
   "source": [
    "loss_df = Anamoly.find_anamoly(loss=loss, T=timesteps)"
   ]
  },
  {
   "cell_type": "markdown",
   "metadata": {},
   "source": [
    "# Plotting Samples with confidence score\n",
    "### DeepCNN example"
   ]
  },
  {
   "cell_type": "code",
   "execution_count": null,
   "metadata": {},
   "outputs": [],
   "source": [
    "Anamoly.plot_anamoly_results(loss_df=loss_df)"
   ]
  },
  {
   "cell_type": "markdown",
   "metadata": {},
   "source": [
    "# Intepretable results of predictions from the anomaly detector - DeepCNN\n",
    "### Input: Prediction Results for which row (specific_prediction_sample_to_explain), Window Difference (input_label_index_value)\n",
    "### Possible Modes: Individual Instance Explainable Results, Batch of data Explainable Results"
   ]
  },
  {
   "cell_type": "code",
   "execution_count": null,
   "metadata": {},
   "outputs": [],
   "source": [
    "Anamoly.explainable_results(X=anamoly_data, Y=Y, specific_prediction_sample_to_explain=10,input_label_index_value=1, num_labels=7)"
   ]
  },
  {
   "cell_type": "markdown",
   "metadata": {},
   "source": [
    "# Selecting the deep models, time window size, kernel size\n",
    "### Available models - Deep Convolutional Neural Network, LSTM AUTOENCODERS\n",
    "### Possible Values ['deepcnn', 'lstmaenn']"
   ]
  },
  {
   "cell_type": "code",
   "execution_count": null,
   "metadata": {},
   "outputs": [],
   "source": [
    "MODEL_SELECTED, LOOKBACK_SIZE, KERNEL_SIZE = Anamoly.set_config(MODEL_SELECTED='lstmaenn', LOOKBACK_SIZE=10, KERNEL_SIZE=2)"
   ]
  },
  {
   "cell_type": "markdown",
   "metadata": {},
   "source": [
    "# Training the selected ANOMALY detector model\n",
    "### It will use GPU if available other CPU\n",
    "### LSTMAENN example"
   ]
  },
  {
   "cell_type": "code",
   "execution_count": null,
   "metadata": {},
   "outputs": [],
   "source": [
    "loss, train_data, model = Anamoly.compute(X, Y, LOOKBACK_SIZE=10, num_of_numerical_features=7, MODEL_SELECTED=MODEL_SELECTED, KERNEL_SIZE=KERNEL_SIZE, epocs=30)"
   ]
  },
  {
   "cell_type": "markdown",
   "metadata": {},
   "source": [
    "# Finding Anomalies\n",
    "### LSTMAENN example"
   ]
  },
  {
   "cell_type": "code",
   "execution_count": null,
   "metadata": {},
   "outputs": [],
   "source": [
    "loss_df = Anamoly.find_anamoly(loss=loss, T=timesteps)"
   ]
  },
  {
   "cell_type": "markdown",
   "metadata": {},
   "source": [
    "# Plotting Samples with confidence score\n",
    "### LSTMAENN example"
   ]
  },
  {
   "cell_type": "code",
   "execution_count": null,
   "metadata": {},
   "outputs": [],
   "source": [
    "Anamoly.plot_anamoly_results(loss_df=loss_df)"
   ]
  },
  {
   "cell_type": "markdown",
   "metadata": {},
   "source": [
    "# Intepretable results of predictions from the anomaly detector - LSTMAENN\n",
    "### Input: Prediction Results for which row (specific_prediction_sample_to_explain), Window Difference (input_label_index_value)\n",
    "### Possible Modes: Individual Instance Explainable Results, Batch of data Explainable Results"
   ]
  },
  {
   "cell_type": "code",
   "execution_count": null,
   "metadata": {},
   "outputs": [],
   "source": [
    "Anamoly.explainable_results(X=anamoly_data, Y=Y, specific_prediction_sample_to_explain=5,input_label_index_value=0, num_labels=7)"
   ]
  },
  {
   "cell_type": "code",
   "execution_count": null,
   "metadata": {},
   "outputs": [],
   "source": []
  },
  {
   "cell_type": "code",
   "execution_count": null,
   "metadata": {},
   "outputs": [],
   "source": []
  }
 ],
 "metadata": {
  "kernelspec": {
   "display_name": "gpu2",
   "language": "python",
   "name": "gpu2"
  },
  "language_info": {
   "codemirror_mode": {
    "name": "ipython",
    "version": 3
   },
   "file_extension": ".py",
   "mimetype": "text/x-python",
   "name": "python",
   "nbconvert_exporter": "python",
   "pygments_lexer": "ipython3",
   "version": "3.8.12"
  }
 },
 "nbformat": 4,
 "nbformat_minor": 2
}
