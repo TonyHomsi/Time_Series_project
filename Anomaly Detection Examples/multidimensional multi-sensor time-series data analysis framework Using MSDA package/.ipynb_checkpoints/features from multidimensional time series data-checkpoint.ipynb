{
 "cells": [
  {
   "cell_type": "markdown",
   "metadata": {},
   "source": [
    "\"AIM: Select appropriate sensors/columns/features from multidimensional time series data\"\n",
    "@author: Ajay Arunachalam"
   ]
  },
  {
   "cell_type": "code",
   "execution_count": 1,
   "metadata": {},
   "outputs": [],
   "source": [
    "import pandas as pd\n",
    "import numpy as np\n",
    "import operator, statistics\n",
    "from statistics import mean\n",
    "import matplotlib.pyplot as plt\n",
    "import matplotlib.patches as mpatches\n",
    "from msda.msda import *\n",
    "%matplotlib inline"
   ]
  },
  {
   "cell_type": "markdown",
   "metadata": {},
   "source": [
    "# Import time-series data"
   ]
  },
  {
   "cell_type": "markdown",
   "metadata": {},
   "source": [
    "## The raw sensor data includes 6 sensors logging data every 2 minutes ##\n",
    "## The columns include\n",
    "Date, Time, Light, Temp Air, Temp Soil, Soil Moisture, Soil Moisture, Soil Moisture\n",
    "'''\n",
    "The code includes:-\n",
    "1) Time series analysis\n",
    "2) The variation of each sensor column wrt time (increasing, decreasing, equal)\n",
    "3) How each column values varies wrt other column, and the maximum variation ratio between each column wrt other column\n",
    "4) Relationship establishment with trend array to identify most appropriate sensor.\n",
    "5) User can select window length and then check average value and standard deviation accross each window for each sensor column\n",
    "6) It provides count of growth/decay value for each sensor column values above or below a threshold value\n",
    "7) Feature Engineering \n",
    "    a) Features involving trend of values across various aggregation windows: change and rate of change in average,\n",
    "    std. deviation across window\n",
    "    b) Ratio of changes, growth rate with std. deviation\n",
    "    c) Change over time\n",
    "    d) Rate of change over time\n",
    "    e) Growth or decay\n",
    "    f) Rate of growth or decay\n",
    "    g) Count of values above or below a threshold value \n",
    "'''"
   ]
  },
  {
   "cell_type": "code",
   "execution_count": 2,
   "metadata": {},
   "outputs": [
    {
     "data": {
      "text/plain": [
       "(210, 8)"
      ]
     },
     "execution_count": 2,
     "metadata": {},
     "output_type": "execute_result"
    }
   ],
   "source": [
    "df = pd.read_csv('Data1.csv')\n",
    "df.shape"
   ]
  },
  {
   "cell_type": "code",
   "execution_count": 3,
   "metadata": {},
   "outputs": [
    {
     "data": {
      "text/html": [
       "<div>\n",
       "<style scoped>\n",
       "    .dataframe tbody tr th:only-of-type {\n",
       "        vertical-align: middle;\n",
       "    }\n",
       "\n",
       "    .dataframe tbody tr th {\n",
       "        vertical-align: top;\n",
       "    }\n",
       "\n",
       "    .dataframe thead th {\n",
       "        text-align: right;\n",
       "    }\n",
       "</style>\n",
       "<table border=\"1\" class=\"dataframe\">\n",
       "  <thead>\n",
       "    <tr style=\"text-align: right;\">\n",
       "      <th></th>\n",
       "      <th>Date</th>\n",
       "      <th>Time</th>\n",
       "      <th>Light</th>\n",
       "      <th>Temp_Air</th>\n",
       "      <th>Temp_Soil</th>\n",
       "      <th>Soil_Moisture_1</th>\n",
       "      <th>Soil_Moisture_2</th>\n",
       "      <th>Soil_Moisture_3</th>\n",
       "    </tr>\n",
       "  </thead>\n",
       "  <tbody>\n",
       "    <tr>\n",
       "      <th>0</th>\n",
       "      <td>22-05-2019</td>\n",
       "      <td>08:40</td>\n",
       "      <td>64.0</td>\n",
       "      <td>23.1875</td>\n",
       "      <td>20.5625</td>\n",
       "      <td>756.0</td>\n",
       "      <td>780.0</td>\n",
       "      <td>1002.0</td>\n",
       "    </tr>\n",
       "    <tr>\n",
       "      <th>1</th>\n",
       "      <td>22-05-2019</td>\n",
       "      <td>08:42</td>\n",
       "      <td>64.0</td>\n",
       "      <td>23.1250</td>\n",
       "      <td>20.5625</td>\n",
       "      <td>755.0</td>\n",
       "      <td>782.0</td>\n",
       "      <td>1002.0</td>\n",
       "    </tr>\n",
       "    <tr>\n",
       "      <th>2</th>\n",
       "      <td>22-05-2019</td>\n",
       "      <td>08:44</td>\n",
       "      <td>66.0</td>\n",
       "      <td>23.0000</td>\n",
       "      <td>20.5625</td>\n",
       "      <td>758.0</td>\n",
       "      <td>782.0</td>\n",
       "      <td>1001.0</td>\n",
       "    </tr>\n",
       "    <tr>\n",
       "      <th>3</th>\n",
       "      <td>22-05-2019</td>\n",
       "      <td>08:46</td>\n",
       "      <td>71.0</td>\n",
       "      <td>22.9375</td>\n",
       "      <td>20.5625</td>\n",
       "      <td>756.0</td>\n",
       "      <td>782.0</td>\n",
       "      <td>1002.0</td>\n",
       "    </tr>\n",
       "    <tr>\n",
       "      <th>4</th>\n",
       "      <td>22-05-2019</td>\n",
       "      <td>08:48</td>\n",
       "      <td>71.0</td>\n",
       "      <td>22.8750</td>\n",
       "      <td>20.5625</td>\n",
       "      <td>756.0</td>\n",
       "      <td>783.0</td>\n",
       "      <td>1003.0</td>\n",
       "    </tr>\n",
       "  </tbody>\n",
       "</table>\n",
       "</div>"
      ],
      "text/plain": [
       "         Date   Time  Light  Temp_Air  Temp_Soil  Soil_Moisture_1  \\\n",
       "0  22-05-2019  08:40   64.0   23.1875    20.5625            756.0   \n",
       "1  22-05-2019  08:42   64.0   23.1250    20.5625            755.0   \n",
       "2  22-05-2019  08:44   66.0   23.0000    20.5625            758.0   \n",
       "3  22-05-2019  08:46   71.0   22.9375    20.5625            756.0   \n",
       "4  22-05-2019  08:48   71.0   22.8750    20.5625            756.0   \n",
       "\n",
       "   Soil_Moisture_2  Soil_Moisture_3  \n",
       "0            780.0           1002.0  \n",
       "1            782.0           1002.0  \n",
       "2            782.0           1001.0  \n",
       "3            782.0           1002.0  \n",
       "4            783.0           1003.0  "
      ]
     },
     "execution_count": 3,
     "metadata": {},
     "output_type": "execute_result"
    }
   ],
   "source": [
    "df.head()"
   ]
  },
  {
   "cell_type": "code",
   "execution_count": 4,
   "metadata": {},
   "outputs": [
    {
     "data": {
      "text/html": [
       "<div>\n",
       "<style scoped>\n",
       "    .dataframe tbody tr th:only-of-type {\n",
       "        vertical-align: middle;\n",
       "    }\n",
       "\n",
       "    .dataframe tbody tr th {\n",
       "        vertical-align: top;\n",
       "    }\n",
       "\n",
       "    .dataframe thead th {\n",
       "        text-align: right;\n",
       "    }\n",
       "</style>\n",
       "<table border=\"1\" class=\"dataframe\">\n",
       "  <thead>\n",
       "    <tr style=\"text-align: right;\">\n",
       "      <th></th>\n",
       "      <th>Date</th>\n",
       "      <th>Time</th>\n",
       "      <th>Light</th>\n",
       "      <th>Temp_Air</th>\n",
       "      <th>Temp_Soil</th>\n",
       "      <th>Soil_Moisture_1</th>\n",
       "      <th>Soil_Moisture_2</th>\n",
       "      <th>Soil_Moisture_3</th>\n",
       "    </tr>\n",
       "  </thead>\n",
       "  <tbody>\n",
       "    <tr>\n",
       "      <th>205</th>\n",
       "      <td>22-05-2019</td>\n",
       "      <td>15:32</td>\n",
       "      <td>69.0</td>\n",
       "      <td>22.000</td>\n",
       "      <td>20.025</td>\n",
       "      <td>758.0</td>\n",
       "      <td>783.0</td>\n",
       "      <td>998.0</td>\n",
       "    </tr>\n",
       "    <tr>\n",
       "      <th>206</th>\n",
       "      <td>22-05-2019</td>\n",
       "      <td>15:34</td>\n",
       "      <td>66.0</td>\n",
       "      <td>22.125</td>\n",
       "      <td>22.000</td>\n",
       "      <td>760.0</td>\n",
       "      <td>780.0</td>\n",
       "      <td>999.0</td>\n",
       "    </tr>\n",
       "    <tr>\n",
       "      <th>207</th>\n",
       "      <td>22-05-2019</td>\n",
       "      <td>15:36</td>\n",
       "      <td>51.0</td>\n",
       "      <td>22.125</td>\n",
       "      <td>20.625</td>\n",
       "      <td>758.0</td>\n",
       "      <td>783.0</td>\n",
       "      <td>999.0</td>\n",
       "    </tr>\n",
       "    <tr>\n",
       "      <th>208</th>\n",
       "      <td>22-05-2019</td>\n",
       "      <td>15:38</td>\n",
       "      <td>62.0</td>\n",
       "      <td>22.000</td>\n",
       "      <td>20.625</td>\n",
       "      <td>755.0</td>\n",
       "      <td>781.0</td>\n",
       "      <td>1003.0</td>\n",
       "    </tr>\n",
       "    <tr>\n",
       "      <th>209</th>\n",
       "      <td>22-05-2019</td>\n",
       "      <td>15:40</td>\n",
       "      <td>66.0</td>\n",
       "      <td>20.225</td>\n",
       "      <td>23.825</td>\n",
       "      <td>757.0</td>\n",
       "      <td>788.0</td>\n",
       "      <td>999.0</td>\n",
       "    </tr>\n",
       "  </tbody>\n",
       "</table>\n",
       "</div>"
      ],
      "text/plain": [
       "           Date   Time  Light  Temp_Air  Temp_Soil  Soil_Moisture_1  \\\n",
       "205  22-05-2019  15:32   69.0    22.000     20.025            758.0   \n",
       "206  22-05-2019  15:34   66.0    22.125     22.000            760.0   \n",
       "207  22-05-2019  15:36   51.0    22.125     20.625            758.0   \n",
       "208  22-05-2019  15:38   62.0    22.000     20.625            755.0   \n",
       "209  22-05-2019  15:40   66.0    20.225     23.825            757.0   \n",
       "\n",
       "     Soil_Moisture_2  Soil_Moisture_3  \n",
       "205            783.0            998.0  \n",
       "206            780.0            999.0  \n",
       "207            783.0            999.0  \n",
       "208            781.0           1003.0  \n",
       "209            788.0            999.0  "
      ]
     },
     "execution_count": 4,
     "metadata": {},
     "output_type": "execute_result"
    }
   ],
   "source": [
    "df.tail()"
   ]
  },
  {
   "cell_type": "code",
   "execution_count": 5,
   "metadata": {},
   "outputs": [
    {
     "data": {
      "text/plain": [
       "Index(['Date', 'Time', 'Light', 'Temp_Air', 'Temp_Soil', 'Soil_Moisture_1',\n",
       "       'Soil_Moisture_2', 'Soil_Moisture_3'],\n",
       "      dtype='object')"
      ]
     },
     "execution_count": 5,
     "metadata": {},
     "output_type": "execute_result"
    }
   ],
   "source": [
    "df.columns"
   ]
  },
  {
   "cell_type": "code",
   "execution_count": 6,
   "metadata": {},
   "outputs": [
    {
     "name": "stdout",
     "output_type": "stream",
     "text": [
      "<class 'pandas.core.frame.DataFrame'>\n",
      "RangeIndex: 210 entries, 0 to 209\n",
      "Data columns (total 8 columns):\n",
      " #   Column           Non-Null Count  Dtype  \n",
      "---  ------           --------------  -----  \n",
      " 0   Date             210 non-null    object \n",
      " 1   Time             210 non-null    object \n",
      " 2   Light            210 non-null    float64\n",
      " 3   Temp_Air         210 non-null    float64\n",
      " 4   Temp_Soil        210 non-null    float64\n",
      " 5   Soil_Moisture_1  210 non-null    float64\n",
      " 6   Soil_Moisture_2  210 non-null    float64\n",
      " 7   Soil_Moisture_3  210 non-null    float64\n",
      "dtypes: float64(6), object(2)\n",
      "memory usage: 13.2+ KB\n"
     ]
    }
   ],
   "source": [
    "df.info()"
   ]
  },
  {
   "cell_type": "markdown",
   "metadata": {},
   "source": [
    "# Check missing values with missing function "
   ]
  },
  {
   "cell_type": "code",
   "execution_count": 7,
   "metadata": {},
   "outputs": [
    {
     "name": "stdout",
     "output_type": "stream",
     "text": [
      "0\n"
     ]
    }
   ],
   "source": [
    "# Check missing individual column\n",
    "returned = Preprocessing.missing(df.Light)\n",
    "print(returned)"
   ]
  },
  {
   "cell_type": "code",
   "execution_count": 8,
   "metadata": {},
   "outputs": [
    {
     "name": "stdout",
     "output_type": "stream",
     "text": [
      "Missing information for whole dataset\n",
      "Missing by row Date               0\n",
      "Time               0\n",
      "Light              0\n",
      "Temp_Air           0\n",
      "Temp_Soil          0\n",
      "Soil_Moisture_1    0\n",
      "Soil_Moisture_2    0\n",
      "Soil_Moisture_3    0\n",
      "dtype: int64\n",
      "Missing by col 0      0\n",
      "1      0\n",
      "2      0\n",
      "3      0\n",
      "4      0\n",
      "      ..\n",
      "205    0\n",
      "206    0\n",
      "207    0\n",
      "208    0\n",
      "209    0\n",
      "Length: 210, dtype: int64\n"
     ]
    }
   ],
   "source": [
    "print(\"Missing information for whole dataset\")\n",
    "print(\"Missing by row\", df.apply(Preprocessing.missing, axis=0)) # col\n",
    "print(\"Missing by col\", df.apply(Preprocessing.missing, axis=1)) # row"
   ]
  },
  {
   "cell_type": "markdown",
   "metadata": {},
   "source": [
    "# Find variation in each column (Inc, Dec, Eql) from its previous values"
   ]
  },
  {
   "cell_type": "code",
   "execution_count": 9,
   "metadata": {},
   "outputs": [
    {
     "name": "stdout",
     "output_type": "stream",
     "text": [
      "Trend information for each column in the dataset\n",
      "Dictionary of each column with variation count\n",
      " Date                 {'Inc': 0, 'Dec': 0, 'Eql': 209}\n",
      "Time                 {'Inc': 209, 'Dec': 0, 'Eql': 0}\n",
      "Light               {'Inc': 74, 'Dec': 78, 'Eql': 57}\n",
      "Temp_Air           {'Inc': 23, 'Dec': 108, 'Eql': 78}\n",
      "Temp_Soil           {'Inc': 63, 'Dec': 59, 'Eql': 87}\n",
      "Soil_Moisture_1     {'Inc': 84, 'Dec': 81, 'Eql': 44}\n",
      "Soil_Moisture_2    {'Inc': 84, 'Dec': 109, 'Eql': 16}\n",
      "Soil_Moisture_3     {'Inc': 87, 'Dec': 67, 'Eql': 55}\n",
      "dtype: object\n"
     ]
    }
   ],
   "source": [
    "print(\"Trend information for each column in the dataset\")\n",
    "print(\"Dictionary of each column with variation count\\n\", df.apply(FeatureSelection.count_trend, axis=0)) # col"
   ]
  },
  {
   "cell_type": "markdown",
   "metadata": {},
   "source": [
    "# Find maximum variation in each column wrt time"
   ]
  },
  {
   "cell_type": "code",
   "execution_count": 10,
   "metadata": {},
   "outputs": [],
   "source": [
    "# Dictionary of each column with variation\n",
    "Light_trend = FeatureSelection.count_trend(df.Light)\n",
    "Tempsoil_trend=FeatureSelection.count_trend(df.Temp_Soil)\n",
    "Tempair_trend=FeatureSelection.count_trend(df.Temp_Air)\n",
    "Soil_m1_trend=FeatureSelection.count_trend(df.Soil_Moisture_1)\n",
    "Soil_m2_trend=FeatureSelection.count_trend(df.Soil_Moisture_2)\n",
    "Soil_m3_trend=FeatureSelection.count_trend(df.Soil_Moisture_3)"
   ]
  },
  {
   "cell_type": "code",
   "execution_count": 11,
   "metadata": {},
   "outputs": [],
   "source": [
    "# Values showing maximum variation in each column wrt Time\n",
    "light = max(Light_trend.items(), key=operator.itemgetter(1))[0]\n",
    "soil_temp= max(Tempsoil_trend.items(),key=operator.itemgetter(1))[0]\n",
    "air_temp= max(Tempair_trend.items(),key=operator.itemgetter(1))[0]\n",
    "soil_m1= max(Soil_m1_trend.items(),key=operator.itemgetter(1))[0]\n",
    "soil_m2= max(Soil_m2_trend.items(),key=operator.itemgetter(1))[0]\n",
    "soil_m3= max(Soil_m3_trend.items(),key=operator.itemgetter(1))[0]"
   ]
  },
  {
   "cell_type": "code",
   "execution_count": 12,
   "metadata": {},
   "outputs": [
    {
     "name": "stdout",
     "output_type": "stream",
     "text": [
      "Max. Variation Involved in each Sensor Column values are:\n",
      "Note: Inc-Increasing ; Dec-Decreasing ; Eq-Equal \n",
      "For Light Column: Dec\n",
      "For Temp_Air Column: Dec\n",
      "For Temp_Soil Column: Eql\n",
      "For Soil_Moisture_1 Column: Inc\n",
      "For Soil_Moisture_2 Column: Dec\n",
      "For Soil_Moisture_3 Column: Inc\n"
     ]
    }
   ],
   "source": [
    "print('Max. Variation Involved in each Sensor Column values are:')\n",
    "print('Note: Inc-Increasing ; Dec-Decreasing ; Eq-Equal ')\n",
    "print('For Light Column:',light)\n",
    "print('For Temp_Air Column:',air_temp)\n",
    "print('For Temp_Soil Column:',soil_temp)\n",
    "print('For Soil_Moisture_1 Column:',soil_m1)\n",
    "print('For Soil_Moisture_2 Column:',soil_m2)\n",
    "print('For Soil_Moisture_3 Column:',soil_m3)"
   ]
  },
  {
   "cell_type": "markdown",
   "metadata": {},
   "source": [
    "# forming variation-based array to define how each column value differs from its previous value"
   ]
  },
  {
   "cell_type": "code",
   "execution_count": 13,
   "metadata": {},
   "outputs": [
    {
     "name": "stdout",
     "output_type": "stream",
     "text": [
      "[['Eq' 'Inc' 'Eq' ... 'Dec' 'Inc' 'Eq']\n",
      " ['Eq' 'Inc' 'Inc' ... 'Inc' 'Eq' 'Dec']\n",
      " ['Eq' 'Inc' 'Inc' ... 'Dec' 'Eq' 'Inc']\n",
      " ...\n",
      " ['Eq' 'Inc' 'Dec' ... 'Dec' 'Inc' 'Eq']\n",
      " ['Eq' 'Inc' 'Inc' ... 'Dec' 'Dec' 'Inc']\n",
      " ['Eq' 'Inc' 'Inc' ... 'Inc' 'Inc' 'Dec']]\n"
     ]
    }
   ],
   "source": [
    "trend=list()\n",
    "i=0\n",
    "av=df.to_numpy()\n",
    "while i!=len(av)-1:\n",
    "    vg=[]\n",
    "    for k, v in zip(av[i], av[i+1]):\n",
    "        if k==v:\n",
    "            vg.append('Eq')\n",
    "        elif k>v:\n",
    "            vg.append('Dec')\n",
    "        elif k<v:\n",
    "            vg.append('Inc')\n",
    "    i+=1\n",
    "    trend.append(vg)\n",
    "\n",
    "mat = np.array(trend)\n",
    "print(mat)"
   ]
  },
  {
   "cell_type": "markdown",
   "metadata": {},
   "source": [
    "# Calculate ratios for each variation in each column wrt other column values & finding max ratio to establish change of a given column wrt other column"
   ]
  },
  {
   "cell_type": "code",
   "execution_count": 14,
   "metadata": {},
   "outputs": [
    {
     "name": "stdout",
     "output_type": "stream",
     "text": [
      "** Ratios of Variations Of Values of Each Sensor Column wrt other Sensor Column **\n",
      " Note: Inc-Increasing ; Dec-Decreasing ; Eq-Equal \n",
      "[['Eq' 'Inc' 'Eq' ... 'Dec' 'Inc' 'Eq']\n",
      " ['Eq' 'Inc' 'Inc' ... 'Inc' 'Eq' 'Dec']\n",
      " ['Eq' 'Inc' 'Inc' ... 'Dec' 'Eq' 'Inc']\n",
      " ...\n",
      " ['Eq' 'Inc' 'Dec' ... 'Dec' 'Inc' 'Eq']\n",
      " ['Eq' 'Inc' 'Inc' ... 'Dec' 'Dec' 'Inc']\n",
      " ['Eq' 'Inc' 'Inc' ... 'Inc' 'Inc' 'Dec']]\n",
      "[['Eq' 'Inc' 'Eq' ... 'Dec' 'Inc' 'Eq']\n",
      " ['Eq' 'Inc' 'Inc' ... 'Inc' 'Eq' 'Dec']\n",
      " ['Eq' 'Inc' 'Inc' ... 'Dec' 'Eq' 'Inc']\n",
      " ...\n",
      " ['Eq' 'Inc' 'Dec' ... 'Dec' 'Inc' 'Eq']\n",
      " ['Eq' 'Inc' 'Inc' ... 'Dec' 'Dec' 'Inc']\n",
      " ['Eq' 'Inc' 'Inc' ... 'Inc' 'Inc' 'Dec']]\n",
      "[['Eq' 'Inc' 'Eq' ... 'Dec' 'Inc' 'Eq']\n",
      " ['Eq' 'Inc' 'Inc' ... 'Inc' 'Eq' 'Dec']\n",
      " ['Eq' 'Inc' 'Inc' ... 'Dec' 'Eq' 'Inc']\n",
      " ...\n",
      " ['Eq' 'Inc' 'Dec' ... 'Dec' 'Inc' 'Eq']\n",
      " ['Eq' 'Inc' 'Inc' ... 'Dec' 'Dec' 'Inc']\n",
      " ['Eq' 'Inc' 'Inc' ... 'Inc' 'Inc' 'Dec']]\n",
      "[['Eq' 'Inc' 'Eq' ... 'Dec' 'Inc' 'Eq']\n",
      " ['Eq' 'Inc' 'Inc' ... 'Inc' 'Eq' 'Dec']\n",
      " ['Eq' 'Inc' 'Inc' ... 'Dec' 'Eq' 'Inc']\n",
      " ...\n",
      " ['Eq' 'Inc' 'Dec' ... 'Dec' 'Inc' 'Eq']\n",
      " ['Eq' 'Inc' 'Inc' ... 'Dec' 'Dec' 'Inc']\n",
      " ['Eq' 'Inc' 'Inc' ... 'Inc' 'Inc' 'Dec']]\n",
      "[['Eq' 'Inc' 'Eq' ... 'Dec' 'Inc' 'Eq']\n",
      " ['Eq' 'Inc' 'Inc' ... 'Inc' 'Eq' 'Dec']\n",
      " ['Eq' 'Inc' 'Inc' ... 'Dec' 'Eq' 'Inc']\n",
      " ...\n",
      " ['Eq' 'Inc' 'Dec' ... 'Dec' 'Inc' 'Eq']\n",
      " ['Eq' 'Inc' 'Inc' ... 'Dec' 'Dec' 'Inc']\n",
      " ['Eq' 'Inc' 'Inc' ... 'Inc' 'Inc' 'Dec']]\n",
      "[['Eq' 'Inc' 'Eq' ... 'Dec' 'Inc' 'Eq']\n",
      " ['Eq' 'Inc' 'Inc' ... 'Inc' 'Eq' 'Dec']\n",
      " ['Eq' 'Inc' 'Inc' ... 'Dec' 'Eq' 'Inc']\n",
      " ...\n",
      " ['Eq' 'Inc' 'Dec' ... 'Dec' 'Inc' 'Eq']\n",
      " ['Eq' 'Inc' 'Inc' ... 'Dec' 'Dec' 'Inc']\n",
      " ['Eq' 'Inc' 'Inc' ... 'Inc' 'Inc' 'Dec']]\n",
      "[['Eq' 'Inc' 'Eq' ... 'Dec' 'Inc' 'Eq']\n",
      " ['Eq' 'Inc' 'Inc' ... 'Inc' 'Eq' 'Dec']\n",
      " ['Eq' 'Inc' 'Inc' ... 'Dec' 'Eq' 'Inc']\n",
      " ...\n",
      " ['Eq' 'Inc' 'Dec' ... 'Dec' 'Inc' 'Eq']\n",
      " ['Eq' 'Inc' 'Inc' ... 'Dec' 'Dec' 'Inc']\n",
      " ['Eq' 'Inc' 'Inc' ... 'Inc' 'Inc' 'Dec']]\n",
      "[['Eq' 'Inc' 'Eq' ... 'Dec' 'Inc' 'Eq']\n",
      " ['Eq' 'Inc' 'Inc' ... 'Inc' 'Eq' 'Dec']\n",
      " ['Eq' 'Inc' 'Inc' ... 'Dec' 'Eq' 'Inc']\n",
      " ...\n",
      " ['Eq' 'Inc' 'Dec' ... 'Dec' 'Inc' 'Eq']\n",
      " ['Eq' 'Inc' 'Inc' ... 'Dec' 'Dec' 'Inc']\n",
      " ['Eq' 'Inc' 'Inc' ... 'Inc' 'Inc' 'Dec']]\n",
      "[['Eq' 'Inc' 'Eq' ... 'Dec' 'Inc' 'Eq']\n",
      " ['Eq' 'Inc' 'Inc' ... 'Inc' 'Eq' 'Dec']\n",
      " ['Eq' 'Inc' 'Inc' ... 'Dec' 'Eq' 'Inc']\n",
      " ...\n",
      " ['Eq' 'Inc' 'Dec' ... 'Dec' 'Inc' 'Eq']\n",
      " ['Eq' 'Inc' 'Inc' ... 'Dec' 'Dec' 'Inc']\n",
      " ['Eq' 'Inc' 'Inc' ... 'Inc' 'Inc' 'Dec']]\n",
      "For Sensor Column:- Light\n",
      "Ratio is: 0.6756756756756757\n",
      "When Sensor Column 'Light' values are Inc , Sensor Column 'Soil_Moisture_1' values are Dec\n",
      "------------------------\n",
      "[['Eq' 'Inc' 'Eq' ... 'Dec' 'Inc' 'Eq']\n",
      " ['Eq' 'Inc' 'Inc' ... 'Inc' 'Eq' 'Dec']\n",
      " ['Eq' 'Inc' 'Inc' ... 'Dec' 'Eq' 'Inc']\n",
      " ...\n",
      " ['Eq' 'Inc' 'Dec' ... 'Dec' 'Inc' 'Eq']\n",
      " ['Eq' 'Inc' 'Inc' ... 'Dec' 'Dec' 'Inc']\n",
      " ['Eq' 'Inc' 'Inc' ... 'Inc' 'Inc' 'Dec']]\n",
      "[['Eq' 'Inc' 'Eq' ... 'Dec' 'Inc' 'Eq']\n",
      " ['Eq' 'Inc' 'Inc' ... 'Inc' 'Eq' 'Dec']\n",
      " ['Eq' 'Inc' 'Inc' ... 'Dec' 'Eq' 'Inc']\n",
      " ...\n",
      " ['Eq' 'Inc' 'Dec' ... 'Dec' 'Inc' 'Eq']\n",
      " ['Eq' 'Inc' 'Inc' ... 'Dec' 'Dec' 'Inc']\n",
      " ['Eq' 'Inc' 'Inc' ... 'Inc' 'Inc' 'Dec']]\n",
      "[['Eq' 'Inc' 'Eq' ... 'Dec' 'Inc' 'Eq']\n",
      " ['Eq' 'Inc' 'Inc' ... 'Inc' 'Eq' 'Dec']\n",
      " ['Eq' 'Inc' 'Inc' ... 'Dec' 'Eq' 'Inc']\n",
      " ...\n",
      " ['Eq' 'Inc' 'Dec' ... 'Dec' 'Inc' 'Eq']\n",
      " ['Eq' 'Inc' 'Inc' ... 'Dec' 'Dec' 'Inc']\n",
      " ['Eq' 'Inc' 'Inc' ... 'Inc' 'Inc' 'Dec']]\n",
      "[['Eq' 'Inc' 'Eq' ... 'Dec' 'Inc' 'Eq']\n",
      " ['Eq' 'Inc' 'Inc' ... 'Inc' 'Eq' 'Dec']\n",
      " ['Eq' 'Inc' 'Inc' ... 'Dec' 'Eq' 'Inc']\n",
      " ...\n",
      " ['Eq' 'Inc' 'Dec' ... 'Dec' 'Inc' 'Eq']\n",
      " ['Eq' 'Inc' 'Inc' ... 'Dec' 'Dec' 'Inc']\n",
      " ['Eq' 'Inc' 'Inc' ... 'Inc' 'Inc' 'Dec']]\n",
      "[['Eq' 'Inc' 'Eq' ... 'Dec' 'Inc' 'Eq']\n",
      " ['Eq' 'Inc' 'Inc' ... 'Inc' 'Eq' 'Dec']\n",
      " ['Eq' 'Inc' 'Inc' ... 'Dec' 'Eq' 'Inc']\n",
      " ...\n",
      " ['Eq' 'Inc' 'Dec' ... 'Dec' 'Inc' 'Eq']\n",
      " ['Eq' 'Inc' 'Inc' ... 'Dec' 'Dec' 'Inc']\n",
      " ['Eq' 'Inc' 'Inc' ... 'Inc' 'Inc' 'Dec']]\n",
      "[['Eq' 'Inc' 'Eq' ... 'Dec' 'Inc' 'Eq']\n",
      " ['Eq' 'Inc' 'Inc' ... 'Inc' 'Eq' 'Dec']\n",
      " ['Eq' 'Inc' 'Inc' ... 'Dec' 'Eq' 'Inc']\n",
      " ...\n",
      " ['Eq' 'Inc' 'Dec' ... 'Dec' 'Inc' 'Eq']\n",
      " ['Eq' 'Inc' 'Inc' ... 'Dec' 'Dec' 'Inc']\n",
      " ['Eq' 'Inc' 'Inc' ... 'Inc' 'Inc' 'Dec']]\n",
      "[['Eq' 'Inc' 'Eq' ... 'Dec' 'Inc' 'Eq']\n",
      " ['Eq' 'Inc' 'Inc' ... 'Inc' 'Eq' 'Dec']\n",
      " ['Eq' 'Inc' 'Inc' ... 'Dec' 'Eq' 'Inc']\n",
      " ...\n",
      " ['Eq' 'Inc' 'Dec' ... 'Dec' 'Inc' 'Eq']\n",
      " ['Eq' 'Inc' 'Inc' ... 'Dec' 'Dec' 'Inc']\n",
      " ['Eq' 'Inc' 'Inc' ... 'Inc' 'Inc' 'Dec']]\n",
      "[['Eq' 'Inc' 'Eq' ... 'Dec' 'Inc' 'Eq']\n",
      " ['Eq' 'Inc' 'Inc' ... 'Inc' 'Eq' 'Dec']\n",
      " ['Eq' 'Inc' 'Inc' ... 'Dec' 'Eq' 'Inc']\n",
      " ...\n",
      " ['Eq' 'Inc' 'Dec' ... 'Dec' 'Inc' 'Eq']\n",
      " ['Eq' 'Inc' 'Inc' ... 'Dec' 'Dec' 'Inc']\n",
      " ['Eq' 'Inc' 'Inc' ... 'Inc' 'Inc' 'Dec']]\n",
      "[['Eq' 'Inc' 'Eq' ... 'Dec' 'Inc' 'Eq']\n",
      " ['Eq' 'Inc' 'Inc' ... 'Inc' 'Eq' 'Dec']\n",
      " ['Eq' 'Inc' 'Inc' ... 'Dec' 'Eq' 'Inc']\n",
      " ...\n",
      " ['Eq' 'Inc' 'Dec' ... 'Dec' 'Inc' 'Eq']\n",
      " ['Eq' 'Inc' 'Inc' ... 'Dec' 'Dec' 'Inc']\n",
      " ['Eq' 'Inc' 'Inc' ... 'Inc' 'Inc' 'Dec']]\n",
      "For Sensor Column:- Temp_Air\n",
      "Ratio is: 1.0\n",
      "When Sensor Column 'Temp_Air' values are Inc , Sensor Column 'Light' values are Dec\n",
      "------------------------\n",
      "[['Eq' 'Inc' 'Eq' ... 'Dec' 'Inc' 'Eq']\n",
      " ['Eq' 'Inc' 'Inc' ... 'Inc' 'Eq' 'Dec']\n",
      " ['Eq' 'Inc' 'Inc' ... 'Dec' 'Eq' 'Inc']\n",
      " ...\n",
      " ['Eq' 'Inc' 'Dec' ... 'Dec' 'Inc' 'Eq']\n",
      " ['Eq' 'Inc' 'Inc' ... 'Dec' 'Dec' 'Inc']\n",
      " ['Eq' 'Inc' 'Inc' ... 'Inc' 'Inc' 'Dec']]\n",
      "[['Eq' 'Inc' 'Eq' ... 'Dec' 'Inc' 'Eq']\n",
      " ['Eq' 'Inc' 'Inc' ... 'Inc' 'Eq' 'Dec']\n",
      " ['Eq' 'Inc' 'Inc' ... 'Dec' 'Eq' 'Inc']\n",
      " ...\n",
      " ['Eq' 'Inc' 'Dec' ... 'Dec' 'Inc' 'Eq']\n",
      " ['Eq' 'Inc' 'Inc' ... 'Dec' 'Dec' 'Inc']\n",
      " ['Eq' 'Inc' 'Inc' ... 'Inc' 'Inc' 'Dec']]\n",
      "[['Eq' 'Inc' 'Eq' ... 'Dec' 'Inc' 'Eq']\n",
      " ['Eq' 'Inc' 'Inc' ... 'Inc' 'Eq' 'Dec']\n",
      " ['Eq' 'Inc' 'Inc' ... 'Dec' 'Eq' 'Inc']\n",
      " ...\n",
      " ['Eq' 'Inc' 'Dec' ... 'Dec' 'Inc' 'Eq']\n",
      " ['Eq' 'Inc' 'Inc' ... 'Dec' 'Dec' 'Inc']\n",
      " ['Eq' 'Inc' 'Inc' ... 'Inc' 'Inc' 'Dec']]\n",
      "[['Eq' 'Inc' 'Eq' ... 'Dec' 'Inc' 'Eq']\n",
      " ['Eq' 'Inc' 'Inc' ... 'Inc' 'Eq' 'Dec']\n",
      " ['Eq' 'Inc' 'Inc' ... 'Dec' 'Eq' 'Inc']\n",
      " ...\n",
      " ['Eq' 'Inc' 'Dec' ... 'Dec' 'Inc' 'Eq']\n",
      " ['Eq' 'Inc' 'Inc' ... 'Dec' 'Dec' 'Inc']\n",
      " ['Eq' 'Inc' 'Inc' ... 'Inc' 'Inc' 'Dec']]\n",
      "[['Eq' 'Inc' 'Eq' ... 'Dec' 'Inc' 'Eq']\n",
      " ['Eq' 'Inc' 'Inc' ... 'Inc' 'Eq' 'Dec']\n",
      " ['Eq' 'Inc' 'Inc' ... 'Dec' 'Eq' 'Inc']\n",
      " ...\n",
      " ['Eq' 'Inc' 'Dec' ... 'Dec' 'Inc' 'Eq']\n",
      " ['Eq' 'Inc' 'Inc' ... 'Dec' 'Dec' 'Inc']\n",
      " ['Eq' 'Inc' 'Inc' ... 'Inc' 'Inc' 'Dec']]\n",
      "[['Eq' 'Inc' 'Eq' ... 'Dec' 'Inc' 'Eq']\n",
      " ['Eq' 'Inc' 'Inc' ... 'Inc' 'Eq' 'Dec']\n",
      " ['Eq' 'Inc' 'Inc' ... 'Dec' 'Eq' 'Inc']\n",
      " ...\n",
      " ['Eq' 'Inc' 'Dec' ... 'Dec' 'Inc' 'Eq']\n",
      " ['Eq' 'Inc' 'Inc' ... 'Dec' 'Dec' 'Inc']\n",
      " ['Eq' 'Inc' 'Inc' ... 'Inc' 'Inc' 'Dec']]\n",
      "[['Eq' 'Inc' 'Eq' ... 'Dec' 'Inc' 'Eq']\n",
      " ['Eq' 'Inc' 'Inc' ... 'Inc' 'Eq' 'Dec']\n",
      " ['Eq' 'Inc' 'Inc' ... 'Dec' 'Eq' 'Inc']\n",
      " ...\n",
      " ['Eq' 'Inc' 'Dec' ... 'Dec' 'Inc' 'Eq']\n",
      " ['Eq' 'Inc' 'Inc' ... 'Dec' 'Dec' 'Inc']\n",
      " ['Eq' 'Inc' 'Inc' ... 'Inc' 'Inc' 'Dec']]\n",
      "[['Eq' 'Inc' 'Eq' ... 'Dec' 'Inc' 'Eq']\n",
      " ['Eq' 'Inc' 'Inc' ... 'Inc' 'Eq' 'Dec']\n",
      " ['Eq' 'Inc' 'Inc' ... 'Dec' 'Eq' 'Inc']\n",
      " ...\n",
      " ['Eq' 'Inc' 'Dec' ... 'Dec' 'Inc' 'Eq']\n",
      " ['Eq' 'Inc' 'Inc' ... 'Dec' 'Dec' 'Inc']\n",
      " ['Eq' 'Inc' 'Inc' ... 'Inc' 'Inc' 'Dec']]\n",
      "[['Eq' 'Inc' 'Eq' ... 'Dec' 'Inc' 'Eq']\n",
      " ['Eq' 'Inc' 'Inc' ... 'Inc' 'Eq' 'Dec']\n",
      " ['Eq' 'Inc' 'Inc' ... 'Dec' 'Eq' 'Inc']\n",
      " ...\n",
      " ['Eq' 'Inc' 'Dec' ... 'Dec' 'Inc' 'Eq']\n",
      " ['Eq' 'Inc' 'Inc' ... 'Dec' 'Dec' 'Inc']\n",
      " ['Eq' 'Inc' 'Inc' ... 'Inc' 'Inc' 'Dec']]\n",
      "For Sensor Column:- Temp_Soil\n",
      "Ratio is: 0.9736842105263158\n",
      "When Sensor Column 'Temp_Soil' values are Eq , Sensor Column 'Light' values are Inc\n",
      "------------------------\n",
      "[['Eq' 'Inc' 'Eq' ... 'Dec' 'Inc' 'Eq']\n",
      " ['Eq' 'Inc' 'Inc' ... 'Inc' 'Eq' 'Dec']\n",
      " ['Eq' 'Inc' 'Inc' ... 'Dec' 'Eq' 'Inc']\n",
      " ...\n",
      " ['Eq' 'Inc' 'Dec' ... 'Dec' 'Inc' 'Eq']\n",
      " ['Eq' 'Inc' 'Inc' ... 'Dec' 'Dec' 'Inc']\n",
      " ['Eq' 'Inc' 'Inc' ... 'Inc' 'Inc' 'Dec']]\n",
      "[['Eq' 'Inc' 'Eq' ... 'Dec' 'Inc' 'Eq']\n",
      " ['Eq' 'Inc' 'Inc' ... 'Inc' 'Eq' 'Dec']\n",
      " ['Eq' 'Inc' 'Inc' ... 'Dec' 'Eq' 'Inc']\n",
      " ...\n",
      " ['Eq' 'Inc' 'Dec' ... 'Dec' 'Inc' 'Eq']\n",
      " ['Eq' 'Inc' 'Inc' ... 'Dec' 'Dec' 'Inc']\n",
      " ['Eq' 'Inc' 'Inc' ... 'Inc' 'Inc' 'Dec']]\n",
      "[['Eq' 'Inc' 'Eq' ... 'Dec' 'Inc' 'Eq']\n",
      " ['Eq' 'Inc' 'Inc' ... 'Inc' 'Eq' 'Dec']\n",
      " ['Eq' 'Inc' 'Inc' ... 'Dec' 'Eq' 'Inc']\n",
      " ...\n",
      " ['Eq' 'Inc' 'Dec' ... 'Dec' 'Inc' 'Eq']\n",
      " ['Eq' 'Inc' 'Inc' ... 'Dec' 'Dec' 'Inc']\n",
      " ['Eq' 'Inc' 'Inc' ... 'Inc' 'Inc' 'Dec']]\n",
      "[['Eq' 'Inc' 'Eq' ... 'Dec' 'Inc' 'Eq']\n",
      " ['Eq' 'Inc' 'Inc' ... 'Inc' 'Eq' 'Dec']\n",
      " ['Eq' 'Inc' 'Inc' ... 'Dec' 'Eq' 'Inc']\n",
      " ...\n",
      " ['Eq' 'Inc' 'Dec' ... 'Dec' 'Inc' 'Eq']\n",
      " ['Eq' 'Inc' 'Inc' ... 'Dec' 'Dec' 'Inc']\n",
      " ['Eq' 'Inc' 'Inc' ... 'Inc' 'Inc' 'Dec']]\n",
      "[['Eq' 'Inc' 'Eq' ... 'Dec' 'Inc' 'Eq']\n",
      " ['Eq' 'Inc' 'Inc' ... 'Inc' 'Eq' 'Dec']\n",
      " ['Eq' 'Inc' 'Inc' ... 'Dec' 'Eq' 'Inc']\n",
      " ...\n",
      " ['Eq' 'Inc' 'Dec' ... 'Dec' 'Inc' 'Eq']\n",
      " ['Eq' 'Inc' 'Inc' ... 'Dec' 'Dec' 'Inc']\n",
      " ['Eq' 'Inc' 'Inc' ... 'Inc' 'Inc' 'Dec']]\n",
      "[['Eq' 'Inc' 'Eq' ... 'Dec' 'Inc' 'Eq']\n",
      " ['Eq' 'Inc' 'Inc' ... 'Inc' 'Eq' 'Dec']\n",
      " ['Eq' 'Inc' 'Inc' ... 'Dec' 'Eq' 'Inc']\n",
      " ...\n",
      " ['Eq' 'Inc' 'Dec' ... 'Dec' 'Inc' 'Eq']\n",
      " ['Eq' 'Inc' 'Inc' ... 'Dec' 'Dec' 'Inc']\n",
      " ['Eq' 'Inc' 'Inc' ... 'Inc' 'Inc' 'Dec']]\n",
      "[['Eq' 'Inc' 'Eq' ... 'Dec' 'Inc' 'Eq']\n",
      " ['Eq' 'Inc' 'Inc' ... 'Inc' 'Eq' 'Dec']\n",
      " ['Eq' 'Inc' 'Inc' ... 'Dec' 'Eq' 'Inc']\n",
      " ...\n",
      " ['Eq' 'Inc' 'Dec' ... 'Dec' 'Inc' 'Eq']\n",
      " ['Eq' 'Inc' 'Inc' ... 'Dec' 'Dec' 'Inc']\n",
      " ['Eq' 'Inc' 'Inc' ... 'Inc' 'Inc' 'Dec']]\n",
      "[['Eq' 'Inc' 'Eq' ... 'Dec' 'Inc' 'Eq']\n",
      " ['Eq' 'Inc' 'Inc' ... 'Inc' 'Eq' 'Dec']\n",
      " ['Eq' 'Inc' 'Inc' ... 'Dec' 'Eq' 'Inc']\n",
      " ...\n",
      " ['Eq' 'Inc' 'Dec' ... 'Dec' 'Inc' 'Eq']\n",
      " ['Eq' 'Inc' 'Inc' ... 'Dec' 'Dec' 'Inc']\n",
      " ['Eq' 'Inc' 'Inc' ... 'Inc' 'Inc' 'Dec']]\n",
      "[['Eq' 'Inc' 'Eq' ... 'Dec' 'Inc' 'Eq']\n",
      " ['Eq' 'Inc' 'Inc' ... 'Inc' 'Eq' 'Dec']\n",
      " ['Eq' 'Inc' 'Inc' ... 'Dec' 'Eq' 'Inc']\n",
      " ...\n",
      " ['Eq' 'Inc' 'Dec' ... 'Dec' 'Inc' 'Eq']\n",
      " ['Eq' 'Inc' 'Inc' ... 'Dec' 'Dec' 'Inc']\n",
      " ['Eq' 'Inc' 'Inc' ... 'Inc' 'Inc' 'Dec']]\n",
      "For Sensor Column:- Soil_Moisture_1\n",
      "Ratio is: 1.0\n",
      "When Sensor Column 'Soil_Moisture_1' values are Dec , Sensor Column 'Temp_Soil' values are Dec\n",
      "------------------------\n",
      "[['Eq' 'Inc' 'Eq' ... 'Dec' 'Inc' 'Eq']\n",
      " ['Eq' 'Inc' 'Inc' ... 'Inc' 'Eq' 'Dec']\n",
      " ['Eq' 'Inc' 'Inc' ... 'Dec' 'Eq' 'Inc']\n",
      " ...\n",
      " ['Eq' 'Inc' 'Dec' ... 'Dec' 'Inc' 'Eq']\n",
      " ['Eq' 'Inc' 'Inc' ... 'Dec' 'Dec' 'Inc']\n",
      " ['Eq' 'Inc' 'Inc' ... 'Inc' 'Inc' 'Dec']]\n",
      "[['Eq' 'Inc' 'Eq' ... 'Dec' 'Inc' 'Eq']\n",
      " ['Eq' 'Inc' 'Inc' ... 'Inc' 'Eq' 'Dec']\n",
      " ['Eq' 'Inc' 'Inc' ... 'Dec' 'Eq' 'Inc']\n",
      " ...\n",
      " ['Eq' 'Inc' 'Dec' ... 'Dec' 'Inc' 'Eq']\n",
      " ['Eq' 'Inc' 'Inc' ... 'Dec' 'Dec' 'Inc']\n",
      " ['Eq' 'Inc' 'Inc' ... 'Inc' 'Inc' 'Dec']]\n",
      "[['Eq' 'Inc' 'Eq' ... 'Dec' 'Inc' 'Eq']\n",
      " ['Eq' 'Inc' 'Inc' ... 'Inc' 'Eq' 'Dec']\n",
      " ['Eq' 'Inc' 'Inc' ... 'Dec' 'Eq' 'Inc']\n",
      " ...\n",
      " ['Eq' 'Inc' 'Dec' ... 'Dec' 'Inc' 'Eq']\n",
      " ['Eq' 'Inc' 'Inc' ... 'Dec' 'Dec' 'Inc']\n",
      " ['Eq' 'Inc' 'Inc' ... 'Inc' 'Inc' 'Dec']]\n",
      "[['Eq' 'Inc' 'Eq' ... 'Dec' 'Inc' 'Eq']\n",
      " ['Eq' 'Inc' 'Inc' ... 'Inc' 'Eq' 'Dec']\n",
      " ['Eq' 'Inc' 'Inc' ... 'Dec' 'Eq' 'Inc']\n",
      " ...\n",
      " ['Eq' 'Inc' 'Dec' ... 'Dec' 'Inc' 'Eq']\n",
      " ['Eq' 'Inc' 'Inc' ... 'Dec' 'Dec' 'Inc']\n",
      " ['Eq' 'Inc' 'Inc' ... 'Inc' 'Inc' 'Dec']]\n",
      "[['Eq' 'Inc' 'Eq' ... 'Dec' 'Inc' 'Eq']\n",
      " ['Eq' 'Inc' 'Inc' ... 'Inc' 'Eq' 'Dec']\n",
      " ['Eq' 'Inc' 'Inc' ... 'Dec' 'Eq' 'Inc']\n",
      " ...\n",
      " ['Eq' 'Inc' 'Dec' ... 'Dec' 'Inc' 'Eq']\n",
      " ['Eq' 'Inc' 'Inc' ... 'Dec' 'Dec' 'Inc']\n",
      " ['Eq' 'Inc' 'Inc' ... 'Inc' 'Inc' 'Dec']]\n",
      "[['Eq' 'Inc' 'Eq' ... 'Dec' 'Inc' 'Eq']\n",
      " ['Eq' 'Inc' 'Inc' ... 'Inc' 'Eq' 'Dec']\n",
      " ['Eq' 'Inc' 'Inc' ... 'Dec' 'Eq' 'Inc']\n",
      " ...\n",
      " ['Eq' 'Inc' 'Dec' ... 'Dec' 'Inc' 'Eq']\n",
      " ['Eq' 'Inc' 'Inc' ... 'Dec' 'Dec' 'Inc']\n",
      " ['Eq' 'Inc' 'Inc' ... 'Inc' 'Inc' 'Dec']]\n",
      "[['Eq' 'Inc' 'Eq' ... 'Dec' 'Inc' 'Eq']\n",
      " ['Eq' 'Inc' 'Inc' ... 'Inc' 'Eq' 'Dec']\n",
      " ['Eq' 'Inc' 'Inc' ... 'Dec' 'Eq' 'Inc']\n",
      " ...\n",
      " ['Eq' 'Inc' 'Dec' ... 'Dec' 'Inc' 'Eq']\n",
      " ['Eq' 'Inc' 'Inc' ... 'Dec' 'Dec' 'Inc']\n",
      " ['Eq' 'Inc' 'Inc' ... 'Inc' 'Inc' 'Dec']]\n",
      "[['Eq' 'Inc' 'Eq' ... 'Dec' 'Inc' 'Eq']\n",
      " ['Eq' 'Inc' 'Inc' ... 'Inc' 'Eq' 'Dec']\n",
      " ['Eq' 'Inc' 'Inc' ... 'Dec' 'Eq' 'Inc']\n",
      " ...\n",
      " ['Eq' 'Inc' 'Dec' ... 'Dec' 'Inc' 'Eq']\n",
      " ['Eq' 'Inc' 'Inc' ... 'Dec' 'Dec' 'Inc']\n",
      " ['Eq' 'Inc' 'Inc' ... 'Inc' 'Inc' 'Dec']]\n",
      "[['Eq' 'Inc' 'Eq' ... 'Dec' 'Inc' 'Eq']\n",
      " ['Eq' 'Inc' 'Inc' ... 'Inc' 'Eq' 'Dec']\n",
      " ['Eq' 'Inc' 'Inc' ... 'Dec' 'Eq' 'Inc']\n",
      " ...\n",
      " ['Eq' 'Inc' 'Dec' ... 'Dec' 'Inc' 'Eq']\n",
      " ['Eq' 'Inc' 'Inc' ... 'Dec' 'Dec' 'Inc']\n",
      " ['Eq' 'Inc' 'Inc' ... 'Inc' 'Inc' 'Dec']]\n",
      "For Sensor Column:- Soil_Moisture_2\n",
      "Ratio is: 1.0\n",
      "When Sensor Column 'Soil_Moisture_2' values are Eq , Sensor Column 'Light' values are Dec\n",
      "------------------------\n",
      "[['Eq' 'Inc' 'Eq' ... 'Dec' 'Inc' 'Eq']\n",
      " ['Eq' 'Inc' 'Inc' ... 'Inc' 'Eq' 'Dec']\n",
      " ['Eq' 'Inc' 'Inc' ... 'Dec' 'Eq' 'Inc']\n",
      " ...\n",
      " ['Eq' 'Inc' 'Dec' ... 'Dec' 'Inc' 'Eq']\n",
      " ['Eq' 'Inc' 'Inc' ... 'Dec' 'Dec' 'Inc']\n",
      " ['Eq' 'Inc' 'Inc' ... 'Inc' 'Inc' 'Dec']]\n",
      "[['Eq' 'Inc' 'Eq' ... 'Dec' 'Inc' 'Eq']\n",
      " ['Eq' 'Inc' 'Inc' ... 'Inc' 'Eq' 'Dec']\n",
      " ['Eq' 'Inc' 'Inc' ... 'Dec' 'Eq' 'Inc']\n",
      " ...\n",
      " ['Eq' 'Inc' 'Dec' ... 'Dec' 'Inc' 'Eq']\n",
      " ['Eq' 'Inc' 'Inc' ... 'Dec' 'Dec' 'Inc']\n",
      " ['Eq' 'Inc' 'Inc' ... 'Inc' 'Inc' 'Dec']]\n",
      "[['Eq' 'Inc' 'Eq' ... 'Dec' 'Inc' 'Eq']\n",
      " ['Eq' 'Inc' 'Inc' ... 'Inc' 'Eq' 'Dec']\n",
      " ['Eq' 'Inc' 'Inc' ... 'Dec' 'Eq' 'Inc']\n",
      " ...\n",
      " ['Eq' 'Inc' 'Dec' ... 'Dec' 'Inc' 'Eq']\n",
      " ['Eq' 'Inc' 'Inc' ... 'Dec' 'Dec' 'Inc']\n",
      " ['Eq' 'Inc' 'Inc' ... 'Inc' 'Inc' 'Dec']]\n",
      "[['Eq' 'Inc' 'Eq' ... 'Dec' 'Inc' 'Eq']\n",
      " ['Eq' 'Inc' 'Inc' ... 'Inc' 'Eq' 'Dec']\n",
      " ['Eq' 'Inc' 'Inc' ... 'Dec' 'Eq' 'Inc']\n",
      " ...\n",
      " ['Eq' 'Inc' 'Dec' ... 'Dec' 'Inc' 'Eq']\n",
      " ['Eq' 'Inc' 'Inc' ... 'Dec' 'Dec' 'Inc']\n",
      " ['Eq' 'Inc' 'Inc' ... 'Inc' 'Inc' 'Dec']]\n",
      "[['Eq' 'Inc' 'Eq' ... 'Dec' 'Inc' 'Eq']\n",
      " ['Eq' 'Inc' 'Inc' ... 'Inc' 'Eq' 'Dec']\n",
      " ['Eq' 'Inc' 'Inc' ... 'Dec' 'Eq' 'Inc']\n",
      " ...\n",
      " ['Eq' 'Inc' 'Dec' ... 'Dec' 'Inc' 'Eq']\n",
      " ['Eq' 'Inc' 'Inc' ... 'Dec' 'Dec' 'Inc']\n",
      " ['Eq' 'Inc' 'Inc' ... 'Inc' 'Inc' 'Dec']]\n",
      "[['Eq' 'Inc' 'Eq' ... 'Dec' 'Inc' 'Eq']\n",
      " ['Eq' 'Inc' 'Inc' ... 'Inc' 'Eq' 'Dec']\n",
      " ['Eq' 'Inc' 'Inc' ... 'Dec' 'Eq' 'Inc']\n",
      " ...\n",
      " ['Eq' 'Inc' 'Dec' ... 'Dec' 'Inc' 'Eq']\n",
      " ['Eq' 'Inc' 'Inc' ... 'Dec' 'Dec' 'Inc']\n",
      " ['Eq' 'Inc' 'Inc' ... 'Inc' 'Inc' 'Dec']]\n",
      "[['Eq' 'Inc' 'Eq' ... 'Dec' 'Inc' 'Eq']\n",
      " ['Eq' 'Inc' 'Inc' ... 'Inc' 'Eq' 'Dec']\n",
      " ['Eq' 'Inc' 'Inc' ... 'Dec' 'Eq' 'Inc']\n",
      " ...\n",
      " ['Eq' 'Inc' 'Dec' ... 'Dec' 'Inc' 'Eq']\n",
      " ['Eq' 'Inc' 'Inc' ... 'Dec' 'Dec' 'Inc']\n",
      " ['Eq' 'Inc' 'Inc' ... 'Inc' 'Inc' 'Dec']]\n",
      "[['Eq' 'Inc' 'Eq' ... 'Dec' 'Inc' 'Eq']\n",
      " ['Eq' 'Inc' 'Inc' ... 'Inc' 'Eq' 'Dec']\n",
      " ['Eq' 'Inc' 'Inc' ... 'Dec' 'Eq' 'Inc']\n",
      " ...\n",
      " ['Eq' 'Inc' 'Dec' ... 'Dec' 'Inc' 'Eq']\n",
      " ['Eq' 'Inc' 'Inc' ... 'Dec' 'Dec' 'Inc']\n",
      " ['Eq' 'Inc' 'Inc' ... 'Inc' 'Inc' 'Dec']]\n",
      "[['Eq' 'Inc' 'Eq' ... 'Dec' 'Inc' 'Eq']\n",
      " ['Eq' 'Inc' 'Inc' ... 'Inc' 'Eq' 'Dec']\n",
      " ['Eq' 'Inc' 'Inc' ... 'Dec' 'Eq' 'Inc']\n",
      " ...\n",
      " ['Eq' 'Inc' 'Dec' ... 'Dec' 'Inc' 'Eq']\n",
      " ['Eq' 'Inc' 'Inc' ... 'Dec' 'Dec' 'Inc']\n",
      " ['Eq' 'Inc' 'Inc' ... 'Inc' 'Inc' 'Dec']]\n",
      "For Sensor Column:- Soil_Moisture_3\n",
      "Ratio is: 1.0\n",
      "When Sensor Column 'Soil_Moisture_3' values are Dec , Sensor Column 'Soil_Moisture_1' values are Inc\n",
      "------------------------\n"
     ]
    }
   ],
   "source": [
    "# To print Ratios of Variations of Values in each column\n",
    "cols = list(df.columns)\n",
    "cols = cols[2:]\n",
    "print('** Ratios of Variations Of Values of Each Sensor Column wrt other Sensor Column **')\n",
    "print(' Note: Inc-Increasing ; Dec-Decreasing ; Eq-Equal ')\n",
    "for i in cols:\n",
    "    FeatureSelection.ratio(df,i)\n",
    "    print('------------------------')"
   ]
  },
  {
   "cell_type": "markdown",
   "metadata": {},
   "source": [
    "# Evaluate change & rate of change in average, std. deviation across window"
   ]
  },
  {
   "cell_type": "code",
   "execution_count": 15,
   "metadata": {},
   "outputs": [
    {
     "name": "stdout",
     "output_type": "stream",
     "text": [
      "--------------------------------------------------------------------\n",
      "** Avg. and Standard deviations for each Sensor Column **\n",
      "Enter Time in Minutes for the Window: (Must be a Multiple of 2):10\n"
     ]
    },
    {
     "ename": "AttributeError",
     "evalue": "'DataFrame' object has no attribute 'map'",
     "output_type": "error",
     "traceback": [
      "\u001b[1;31m---------------------------------------------------------------------------\u001b[0m",
      "\u001b[1;31mAttributeError\u001b[0m                            Traceback (most recent call last)",
      "\u001b[1;32mC:\\Users\\DATASC~1\\AppData\\Local\\Temp/ipykernel_1504/2831303613.py\u001b[0m in \u001b[0;36m<module>\u001b[1;34m\u001b[0m\n\u001b[0;32m      1\u001b[0m \u001b[0mprint\u001b[0m\u001b[1;33m(\u001b[0m\u001b[1;34m'--------------------------------------------------------------------'\u001b[0m\u001b[1;33m)\u001b[0m\u001b[1;33m\u001b[0m\u001b[1;33m\u001b[0m\u001b[0m\n\u001b[0;32m      2\u001b[0m \u001b[0mprint\u001b[0m\u001b[1;33m(\u001b[0m\u001b[1;34m'** Avg. and Standard deviations for each Sensor Column **'\u001b[0m\u001b[1;33m)\u001b[0m\u001b[1;33m\u001b[0m\u001b[1;33m\u001b[0m\u001b[0m\n\u001b[1;32m----> 3\u001b[1;33m \u001b[0mFeatureSelection\u001b[0m\u001b[1;33m.\u001b[0m\u001b[0mwindow\u001b[0m\u001b[1;33m(\u001b[0m\u001b[0mdf\u001b[0m\u001b[1;33m=\u001b[0m\u001b[0mdf\u001b[0m\u001b[1;33m)\u001b[0m\u001b[1;33m\u001b[0m\u001b[1;33m\u001b[0m\u001b[0m\n\u001b[0m",
      "\u001b[1;32mC:\\ProgramData\\Anaconda3\\lib\\site-packages\\msda\\msda.py\u001b[0m in \u001b[0;36mwindow\u001b[1;34m(df)\u001b[0m\n\u001b[0;32m    186\u001b[0m         \u001b[0mcols\u001b[0m \u001b[1;33m=\u001b[0m \u001b[0mlist\u001b[0m\u001b[1;33m(\u001b[0m\u001b[0mdf\u001b[0m\u001b[1;33m.\u001b[0m\u001b[0mcolumns\u001b[0m\u001b[1;33m)\u001b[0m\u001b[1;33m[\u001b[0m\u001b[1;36m2\u001b[0m\u001b[1;33m:\u001b[0m\u001b[1;33m]\u001b[0m\u001b[1;33m\u001b[0m\u001b[1;33m\u001b[0m\u001b[0m\n\u001b[0;32m    187\u001b[0m         \u001b[1;31m#columns = df.iloc[:,2:].values.tolist()\u001b[0m\u001b[1;33m\u001b[0m\u001b[1;33m\u001b[0m\u001b[1;33m\u001b[0m\u001b[0m\n\u001b[1;32m--> 188\u001b[1;33m         \u001b[0mcolumns\u001b[0m \u001b[1;33m=\u001b[0m  \u001b[0mdf\u001b[0m\u001b[1;33m.\u001b[0m\u001b[0miloc\u001b[0m\u001b[1;33m[\u001b[0m\u001b[1;33m:\u001b[0m\u001b[1;33m,\u001b[0m\u001b[1;36m2\u001b[0m\u001b[1;33m:\u001b[0m\u001b[1;33m]\u001b[0m\u001b[1;33m.\u001b[0m\u001b[0maggregate\u001b[0m\u001b[1;33m(\u001b[0m\u001b[1;32mlambda\u001b[0m \u001b[0mx\u001b[0m\u001b[1;33m:\u001b[0m \u001b[1;33m[\u001b[0m\u001b[0mx\u001b[0m\u001b[1;33m.\u001b[0m\u001b[0mtolist\u001b[0m\u001b[1;33m(\u001b[0m\u001b[1;33m)\u001b[0m\u001b[1;33m]\u001b[0m\u001b[1;33m,\u001b[0m \u001b[0maxis\u001b[0m\u001b[1;33m=\u001b[0m\u001b[1;36m0\u001b[0m\u001b[1;33m)\u001b[0m\u001b[1;33m.\u001b[0m\u001b[0mmap\u001b[0m\u001b[1;33m(\u001b[0m\u001b[1;32mlambda\u001b[0m \u001b[0mx\u001b[0m\u001b[1;33m:\u001b[0m\u001b[0mx\u001b[0m\u001b[1;33m[\u001b[0m\u001b[1;36m0\u001b[0m\u001b[1;33m]\u001b[0m\u001b[1;33m)\u001b[0m\u001b[1;33m\u001b[0m\u001b[1;33m\u001b[0m\u001b[0m\n\u001b[0m\u001b[0;32m    189\u001b[0m         \u001b[1;31m#columns=[Light,Temp_Air,Temp_Soil,Soil_Moisture_1,Soil_Moisture_2,Soil_Moisture_3]\u001b[0m\u001b[1;33m\u001b[0m\u001b[1;33m\u001b[0m\u001b[1;33m\u001b[0m\u001b[0m\n\u001b[0;32m    190\u001b[0m \u001b[1;33m\u001b[0m\u001b[0m\n",
      "\u001b[1;32m~\\AppData\\Roaming\\Python\\Python38\\site-packages\\pandas\\core\\generic.py\u001b[0m in \u001b[0;36m__getattr__\u001b[1;34m(self, name)\u001b[0m\n\u001b[0;32m   5485\u001b[0m         ):\n\u001b[0;32m   5486\u001b[0m             \u001b[1;32mreturn\u001b[0m \u001b[0mself\u001b[0m\u001b[1;33m[\u001b[0m\u001b[0mname\u001b[0m\u001b[1;33m]\u001b[0m\u001b[1;33m\u001b[0m\u001b[1;33m\u001b[0m\u001b[0m\n\u001b[1;32m-> 5487\u001b[1;33m         \u001b[1;32mreturn\u001b[0m \u001b[0mobject\u001b[0m\u001b[1;33m.\u001b[0m\u001b[0m__getattribute__\u001b[0m\u001b[1;33m(\u001b[0m\u001b[0mself\u001b[0m\u001b[1;33m,\u001b[0m \u001b[0mname\u001b[0m\u001b[1;33m)\u001b[0m\u001b[1;33m\u001b[0m\u001b[1;33m\u001b[0m\u001b[0m\n\u001b[0m\u001b[0;32m   5488\u001b[0m \u001b[1;33m\u001b[0m\u001b[0m\n\u001b[0;32m   5489\u001b[0m     \u001b[1;32mdef\u001b[0m \u001b[0m__setattr__\u001b[0m\u001b[1;33m(\u001b[0m\u001b[0mself\u001b[0m\u001b[1;33m,\u001b[0m \u001b[0mname\u001b[0m\u001b[1;33m:\u001b[0m \u001b[0mstr\u001b[0m\u001b[1;33m,\u001b[0m \u001b[0mvalue\u001b[0m\u001b[1;33m)\u001b[0m \u001b[1;33m->\u001b[0m \u001b[1;32mNone\u001b[0m\u001b[1;33m:\u001b[0m\u001b[1;33m\u001b[0m\u001b[1;33m\u001b[0m\u001b[0m\n",
      "\u001b[1;31mAttributeError\u001b[0m: 'DataFrame' object has no attribute 'map'"
     ]
    }
   ],
   "source": [
    "print('--------------------------------------------------------------------')\n",
    "print('** Avg. and Standard deviations for each Sensor Column **')\n",
    "FeatureSelection.window(df=df)"
   ]
  },
  {
   "cell_type": "markdown",
   "metadata": {},
   "source": [
    "# Plot the sensors/features to verify slope For Sensors/Columns Showing Max. Variation"
   ]
  },
  {
   "cell_type": "code",
   "execution_count": null,
   "metadata": {},
   "outputs": [],
   "source": [
    "FeatureSelection.plot(df, logging_interval=2)"
   ]
  },
  {
   "cell_type": "markdown",
   "metadata": {},
   "source": [
    "# Derive new features*** \n",
    "Change over time, Rate of change over time, Growth and/or decay, Rate of growth and/or decay, No. of elements above threshold (mean) value for growth and/or decay, etc.\n",
    "'''\n",
    "Feature Engineering \n",
    "    a) Features involving trend of values across various aggregation windows: change and rate of change in average,\n",
    "    std. deviation across window\n",
    "    b) Ratio of changes, growth rate with std. deviation\n",
    "    c) Change over time\n",
    "    d) Rate of change over time\n",
    "    e) Growth and/or decay\n",
    "    f) Rate of growth and/or decay\n",
    "    g) Count of Growth/Decay values above or below a threshold value \n",
    "'''"
   ]
  },
  {
   "cell_type": "code",
   "execution_count": null,
   "metadata": {},
   "outputs": [],
   "source": [
    "change_ovr_time,rate_of_change_ovr_time,growth_decay,rate_growth_decay,(threshold_growth_decay,count_decay_growth) = FeatureSelection.features(df=df, start_sensor_column_index=2)"
   ]
  },
  {
   "cell_type": "markdown",
   "metadata": {},
   "source": [
    "# Plot each sensor column & the derived features with correlation (slope)\n",
    "1) Feature: Change over time\n",
    "2) Feature: Rate of change over time\n",
    "3) Feature: Growth decay\n",
    "4) Feature: Rate of growth decay\n",
    "5) Feature: threshold growth decay, count growth decay"
   ]
  },
  {
   "cell_type": "code",
   "execution_count": null,
   "metadata": {},
   "outputs": [],
   "source": [
    "FeatureSelection.plot_change_ovr_time(df=df, feature=change_ovr_time, logging_interval=2)"
   ]
  },
  {
   "cell_type": "code",
   "execution_count": null,
   "metadata": {},
   "outputs": [],
   "source": [
    "FeatureSelection.plot_rate_of_change_ovr_time(df=df, feature=rate_of_change_ovr_time, logging_interval=2)"
   ]
  },
  {
   "cell_type": "code",
   "execution_count": null,
   "metadata": {},
   "outputs": [],
   "source": [
    "FeatureSelection.plot_growth_decay(df=df, feature=growth_decay, logging_interval=2)"
   ]
  },
  {
   "cell_type": "code",
   "execution_count": null,
   "metadata": {},
   "outputs": [],
   "source": [
    "FeatureSelection.plot_rate_growth_decay(df=df, feature=rate_growth_decay, logging_interval=2)"
   ]
  },
  {
   "cell_type": "code",
   "execution_count": null,
   "metadata": {},
   "outputs": [],
   "source": [
    "FeatureSelection.Threshold_Counts(df=df,feature=(threshold_growth_decay,count_decay_growth))"
   ]
  },
  {
   "cell_type": "markdown",
   "metadata": {},
   "source": [
    "# CONCLUSION"
   ]
  },
  {
   "cell_type": "markdown",
   "metadata": {},
   "source": [
    "## The plots shows each sensor values and features with correlation (slope) is provided.\n",
    "\n",
    "The most appropriate sensors to be selected based on our approach would be then 'Temp_Soil', 'Light' in the \n",
    "order of highest importance.\n",
    "\n",
    "The reasons are as follows:-\n",
    "   * These column values mostly remain constant or increases over time as seen from the slope.\n",
    "   * The rate of change of column values remain constant or increases over time as seen from the slope.\n",
    "   * Maximum variation within the column values shows an increasing slope.\n",
    "   * It has constant decay slope.\n",
    "   * Rate of Decay is positive or constant.\n",
    "   * It has moderate number of values above the threshold value (i.e., mean).\n",
    "\n",
    "From our method of array values evaluation, it can be observed that the various characteristics involved in each sensor column help in selection of most appropriate sensor column by observing the plot of the characteristics, and corresponding slope."
   ]
  }
 ],
 "metadata": {
  "kernelspec": {
   "display_name": "Python 3 (ipykernel)",
   "language": "python",
   "name": "python3"
  },
  "language_info": {
   "codemirror_mode": {
    "name": "ipython",
    "version": 3
   },
   "file_extension": ".py",
   "mimetype": "text/x-python",
   "name": "python",
   "nbconvert_exporter": "python",
   "pygments_lexer": "ipython3",
   "version": "3.8.12"
  }
 },
 "nbformat": 4,
 "nbformat_minor": 2
}
