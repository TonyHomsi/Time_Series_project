{
 "cells": [
  {
   "cell_type": "code",
   "execution_count": 2,
   "id": "0dd6380c",
   "metadata": {},
   "outputs": [],
   "source": [
    "#!pip install tensorflow_hub "
   ]
  },
  {
   "cell_type": "code",
   "execution_count": 3,
   "id": "677ae571",
   "metadata": {},
   "outputs": [
    {
     "name": "stdout",
     "output_type": "stream",
     "text": [
      "TF version: 2.5.1\n",
      "TF Hub version: 0.12.0\n",
      "GPU available (YESSSS!!!!!)\n"
     ]
    }
   ],
   "source": [
    "# Import necessary tools\n",
    "import tensorflow as tf\n",
    "import tensorflow_hub as hub \n",
    "print(\"TF version:\", tf.__version__)\n",
    "print(\"TF Hub version:\", hub.__version__)\n",
    "\n",
    "# Check for GPU availability\n",
    "print(\"GPU\", \"available (YESSSS!!!!!)\" if tf.config.list_physical_devices(\"GPU\") else \"not available :(\")"
   ]
  },
  {
   "cell_type": "code",
   "execution_count": 4,
   "id": "ab0213fa",
   "metadata": {},
   "outputs": [],
   "source": [
    "import random\n",
    "                       \n",
    "import pandas as pd                       \n",
    "import matplotlib.pyplot as plt                       \n",
    "import numpy as np"
   ]
  },
  {
   "cell_type": "code",
   "execution_count": 5,
   "id": "17a2831e",
   "metadata": {},
   "outputs": [],
   "source": [
    "df = pd.read_csv('mnist_test.csv')\n"
   ]
  },
  {
   "cell_type": "markdown",
   "id": "2f47b04c",
   "metadata": {},
   "source": [
    "We use the test file datapoints since they will be excluded from training and therefore our model will not see any of these. Using the test datapoints we will select a subset for us to corrupt. Let’s arbitrarily use the first 1000 (index 0–999) for corruption and leave the remaining 9000 datapoints untouched."
   ]
  },
  {
   "cell_type": "code",
   "execution_count": 6,
   "id": "eed7e115",
   "metadata": {},
   "outputs": [],
   "source": [
    "anom = df[:1000]\n",
    "clean = df[1000:]"
   ]
  },
  {
   "cell_type": "code",
   "execution_count": 7,
   "id": "85a9faac",
   "metadata": {},
   "outputs": [
    {
     "data": {
      "text/html": [
       "<div>\n",
       "<style scoped>\n",
       "    .dataframe tbody tr th:only-of-type {\n",
       "        vertical-align: middle;\n",
       "    }\n",
       "\n",
       "    .dataframe tbody tr th {\n",
       "        vertical-align: top;\n",
       "    }\n",
       "\n",
       "    .dataframe thead th {\n",
       "        text-align: right;\n",
       "    }\n",
       "</style>\n",
       "<table border=\"1\" class=\"dataframe\">\n",
       "  <thead>\n",
       "    <tr style=\"text-align: right;\">\n",
       "      <th></th>\n",
       "      <th>label</th>\n",
       "      <th>1x1</th>\n",
       "      <th>1x2</th>\n",
       "      <th>1x3</th>\n",
       "      <th>1x4</th>\n",
       "      <th>1x5</th>\n",
       "      <th>1x6</th>\n",
       "      <th>1x7</th>\n",
       "      <th>1x8</th>\n",
       "      <th>1x9</th>\n",
       "      <th>...</th>\n",
       "      <th>28x19</th>\n",
       "      <th>28x20</th>\n",
       "      <th>28x21</th>\n",
       "      <th>28x22</th>\n",
       "      <th>28x23</th>\n",
       "      <th>28x24</th>\n",
       "      <th>28x25</th>\n",
       "      <th>28x26</th>\n",
       "      <th>28x27</th>\n",
       "      <th>28x28</th>\n",
       "    </tr>\n",
       "  </thead>\n",
       "  <tbody>\n",
       "    <tr>\n",
       "      <th>0</th>\n",
       "      <td>7</td>\n",
       "      <td>0</td>\n",
       "      <td>0</td>\n",
       "      <td>0</td>\n",
       "      <td>0</td>\n",
       "      <td>0</td>\n",
       "      <td>0</td>\n",
       "      <td>0</td>\n",
       "      <td>0</td>\n",
       "      <td>0</td>\n",
       "      <td>...</td>\n",
       "      <td>0</td>\n",
       "      <td>0</td>\n",
       "      <td>0</td>\n",
       "      <td>0</td>\n",
       "      <td>0</td>\n",
       "      <td>0</td>\n",
       "      <td>0</td>\n",
       "      <td>0</td>\n",
       "      <td>0</td>\n",
       "      <td>0</td>\n",
       "    </tr>\n",
       "    <tr>\n",
       "      <th>1</th>\n",
       "      <td>2</td>\n",
       "      <td>0</td>\n",
       "      <td>0</td>\n",
       "      <td>0</td>\n",
       "      <td>0</td>\n",
       "      <td>0</td>\n",
       "      <td>0</td>\n",
       "      <td>0</td>\n",
       "      <td>0</td>\n",
       "      <td>0</td>\n",
       "      <td>...</td>\n",
       "      <td>0</td>\n",
       "      <td>0</td>\n",
       "      <td>0</td>\n",
       "      <td>0</td>\n",
       "      <td>0</td>\n",
       "      <td>0</td>\n",
       "      <td>0</td>\n",
       "      <td>0</td>\n",
       "      <td>0</td>\n",
       "      <td>0</td>\n",
       "    </tr>\n",
       "    <tr>\n",
       "      <th>2</th>\n",
       "      <td>1</td>\n",
       "      <td>0</td>\n",
       "      <td>0</td>\n",
       "      <td>0</td>\n",
       "      <td>0</td>\n",
       "      <td>0</td>\n",
       "      <td>0</td>\n",
       "      <td>0</td>\n",
       "      <td>0</td>\n",
       "      <td>0</td>\n",
       "      <td>...</td>\n",
       "      <td>0</td>\n",
       "      <td>0</td>\n",
       "      <td>0</td>\n",
       "      <td>0</td>\n",
       "      <td>0</td>\n",
       "      <td>0</td>\n",
       "      <td>0</td>\n",
       "      <td>0</td>\n",
       "      <td>0</td>\n",
       "      <td>0</td>\n",
       "    </tr>\n",
       "    <tr>\n",
       "      <th>3</th>\n",
       "      <td>0</td>\n",
       "      <td>0</td>\n",
       "      <td>0</td>\n",
       "      <td>0</td>\n",
       "      <td>0</td>\n",
       "      <td>0</td>\n",
       "      <td>0</td>\n",
       "      <td>0</td>\n",
       "      <td>0</td>\n",
       "      <td>0</td>\n",
       "      <td>...</td>\n",
       "      <td>0</td>\n",
       "      <td>0</td>\n",
       "      <td>0</td>\n",
       "      <td>0</td>\n",
       "      <td>0</td>\n",
       "      <td>0</td>\n",
       "      <td>0</td>\n",
       "      <td>0</td>\n",
       "      <td>0</td>\n",
       "      <td>0</td>\n",
       "    </tr>\n",
       "    <tr>\n",
       "      <th>4</th>\n",
       "      <td>4</td>\n",
       "      <td>0</td>\n",
       "      <td>0</td>\n",
       "      <td>0</td>\n",
       "      <td>0</td>\n",
       "      <td>0</td>\n",
       "      <td>0</td>\n",
       "      <td>0</td>\n",
       "      <td>0</td>\n",
       "      <td>0</td>\n",
       "      <td>...</td>\n",
       "      <td>0</td>\n",
       "      <td>0</td>\n",
       "      <td>0</td>\n",
       "      <td>0</td>\n",
       "      <td>0</td>\n",
       "      <td>0</td>\n",
       "      <td>0</td>\n",
       "      <td>0</td>\n",
       "      <td>0</td>\n",
       "      <td>0</td>\n",
       "    </tr>\n",
       "  </tbody>\n",
       "</table>\n",
       "<p>5 rows × 785 columns</p>\n",
       "</div>"
      ],
      "text/plain": [
       "   label  1x1  1x2  1x3  1x4  1x5  1x6  1x7  1x8  1x9  ...  28x19  28x20  \\\n",
       "0      7    0    0    0    0    0    0    0    0    0  ...      0      0   \n",
       "1      2    0    0    0    0    0    0    0    0    0  ...      0      0   \n",
       "2      1    0    0    0    0    0    0    0    0    0  ...      0      0   \n",
       "3      0    0    0    0    0    0    0    0    0    0  ...      0      0   \n",
       "4      4    0    0    0    0    0    0    0    0    0  ...      0      0   \n",
       "\n",
       "   28x21  28x22  28x23  28x24  28x25  28x26  28x27  28x28  \n",
       "0      0      0      0      0      0      0      0      0  \n",
       "1      0      0      0      0      0      0      0      0  \n",
       "2      0      0      0      0      0      0      0      0  \n",
       "3      0      0      0      0      0      0      0      0  \n",
       "4      0      0      0      0      0      0      0      0  \n",
       "\n",
       "[5 rows x 785 columns]"
      ]
     },
     "execution_count": 7,
     "metadata": {},
     "output_type": "execute_result"
    }
   ],
   "source": [
    "anom.head()"
   ]
  },
  {
   "cell_type": "markdown",
   "id": "d1c9ec23",
   "metadata": {},
   "source": [
    "We will store the first 1000 rows of mnist_test.csv as our anomalies (don’t worry, later we will shuffle it all up) in a separate DataFrame and join them later.\n",
    "Next we want to corrupt (add excessive noise) to these 1000 datapoints:"
   ]
  },
  {
   "cell_type": "code",
   "execution_count": 8,
   "id": "6d5f6031",
   "metadata": {},
   "outputs": [],
   "source": [
    "for i in range(len(anom)):\n",
    "    # select row from anom\n",
    "    row = anom.iloc[i]\n",
    "    # iterate through each element in row\n",
    "    for i in range(len(row)-1):\n",
    "        # add noise to element\n",
    "        row[i+1] = min(255, row[i+1]+random.randint(100,200))"
   ]
  },
  {
   "cell_type": "markdown",
   "id": "d53719a1",
   "metadata": {},
   "source": [
    "This effectively adds a randThis effectively adds a random amount of noise to each pixel of a MNIST datapoint. It is fairly excessive, but it can be an interesting experiment by changing the level of noise to see how our model reacts. This change can be reflected in ‘randint(lower, upper)’ by giving ‘lower’ 0 and ‘upper’ 255 values. For this article we will use very corrupted data.\n",
    "\n",
    "Here is what first first five rows of the ‘anom’ DataFrame now (bottom row) looks like compared to before (top row):om amount of noise to each pixel of a MNIST datapoint. It is fairly excessive, but it can be an interesting experiment by changing the level of noise to see how our model reacts. This change can be reflected in ‘randint(lower, upper)’ by giving ‘lower’ 0 and ‘upper’ 255 values. For this article we will use very corrupted data.\n",
    "Here is what first first five rows of the ‘anom’ DataFrame now (bottom row) looks like compared to before (top row):"
   ]
  },
  {
   "cell_type": "markdown",
   "id": "dbaf744e",
   "metadata": {},
   "source": [
    "Not only are we adding noise, we will also edit the label to a binary annotation: anomalous or non-anomalous, which will be 1 and 0 respectively. We will use this label in the final stage to determine how many anomalies we successfully identified."
   ]
  },
  {
   "cell_type": "code",
   "execution_count": 9,
   "id": "7ba688cb",
   "metadata": {},
   "outputs": [],
   "source": [
    "anom['label'] = 1\n",
    "clean['label'] = 0"
   ]
  },
  {
   "cell_type": "markdown",
   "id": "7e030ee7",
   "metadata": {},
   "source": [
    "All that is left is to join up these two DataFrames, shuffle and save it to its own file:"
   ]
  },
  {
   "cell_type": "code",
   "execution_count": 10,
   "id": "b475d77d",
   "metadata": {},
   "outputs": [],
   "source": [
    "an_test = pd.concat([anom, clean])  # join\n",
    "an_test.sample(frac=1)              # shuffle\n",
    "an_test.to_csv('anom.csv')          # save"
   ]
  },
  {
   "cell_type": "markdown",
   "id": "ddf22af0",
   "metadata": {},
   "source": [
    "## Autoencoder\n",
    "The neural network of choice for our anomaly detection application is the Autoencoder. This is due to the autoencoders ability to perform feature extraction as the dimensionality is reduced to build a latent representation of the input distribution. How we can exploit that is by utilizing a loss distribution of rebuilt inputs to outputs (which turns out to be Guassian) and making the assumption that any outliers will be anomalies since they faulter well outside the parameters of what the model considers “within the expected distribution”."
   ]
  },
  {
   "cell_type": "markdown",
   "id": "40c5ad88",
   "metadata": {},
   "source": [
    "For our purposes the following architecture was used as a simple linear compression from input to latent representation."
   ]
  },
  {
   "cell_type": "code",
   "execution_count": 11,
   "id": "d3363623",
   "metadata": {},
   "outputs": [],
   "source": [
    "import torch.nn as nn\n",
    "class AE(nn.Module):\n",
    "    def __init__(self):\n",
    "        super(AE, self).__init__()\n",
    "        self.enc = nn.Sequential(\n",
    "            nn.Linear(784, 512),\n",
    "            nn.ReLU(),\n",
    "            nn.Linear(512, 256),\n",
    "            nn.ReLU(),\n",
    "            nn.Linear(256, 128),\n",
    "            nn.ReLU(),\n",
    "            nn.Linear(128, 64),\n",
    "            nn.ReLU(),\n",
    "            nn.Linear(64, 32),\n",
    "            nn.ReLU(),\n",
    "            nn.Linear(32, 16),\n",
    "            nn.ReLU()\n",
    "        )\n",
    "        self.dec = nn.Sequential(\n",
    "            nn.Linear(16, 32),\n",
    "            nn.ReLU(),\n",
    "            nn.Linear(32, 64),\n",
    "            nn.ReLU(),\n",
    "            nn.Linear(64, 128),\n",
    "            nn.ReLU(),\n",
    "            nn.Linear(128, 256),\n",
    "            nn.ReLU(),\n",
    "            nn.Linear(256, 512),\n",
    "            nn.ReLU(),\n",
    "            nn.Linear(512, 784),\n",
    "            nn.ReLU()\n",
    "        )\n",
    "    def forward(self, x):\n",
    "        encode = self.enc(x)\n",
    "        decode = self.dec(encode)\n",
    "        return decode"
   ]
  },
  {
   "cell_type": "markdown",
   "id": "dde9af46",
   "metadata": {},
   "source": [
    "## Training and Prediction Setup\n",
    "Libraries required for training and predicting."
   ]
  },
  {
   "cell_type": "code",
   "execution_count": 12,
   "id": "9e6cd3ed",
   "metadata": {},
   "outputs": [],
   "source": [
    "import torch\n",
    "import time\n",
    "import random\n",
    "import matplotlib.pyplot as plt\n",
    "import torch.nn as nn\n",
    "import numpy as np\n",
    "import pandas as pd\n",
    "import seaborn as sns\n",
    "from collections import defaultdict\n",
    "from datetime import timedelta"
   ]
  },
  {
   "cell_type": "markdown",
   "id": "e8e70e0f",
   "metadata": {},
   "source": [
    "Core training parameters."
   ]
  },
  {
   "cell_type": "code",
   "execution_count": 13,
   "id": "eee216f2",
   "metadata": {},
   "outputs": [],
   "source": [
    "batch_size = 32\n",
    "lr = 1e-2         # learning rate\n",
    "w_d = 1e-5        # weight decay\n",
    "momentum = 0.9   \n",
    "epochs = 15"
   ]
  },
  {
   "cell_type": "markdown",
   "id": "55eed0ee",
   "metadata": {},
   "source": [
    "Training\n",
    "Using the model mentioned in the previous section, we will now train on the standard MNIST training dataset (our mnist_train.csv file). Since we’re using the CSV file, we will implement a custom dataset loader with PyTorch."
   ]
  },
  {
   "cell_type": "code",
   "execution_count": 14,
   "id": "2e0bc0db",
   "metadata": {},
   "outputs": [],
   "source": [
    "class Loader(torch.utils.data.Dataset):\n",
    "    def __init__(self):\n",
    "        super(Loader, self).__init__()\n",
    "        self.dataset = ''\n",
    "    \n",
    "    def __len__(self):\n",
    "        return len(self.dataset)\n",
    "    \n",
    "    def __getitem__(self, idx):\n",
    "        row = self.dataset.iloc[idx]\n",
    "        row = row.drop(labels={'label'})\n",
    "        data = torch.from_numpy(np.array(row)/255).float()\n",
    "        return data\n",
    "    \n",
    "class Train_Loader(Loader):\n",
    "    def __init__(self):\n",
    "        super(Train_Loader, self).__init__()\n",
    "        self.dataset = pd.read_csv(\n",
    "                       'mnist_train.csv',\n",
    "                       index_col=False\n",
    "                       )"
   ]
  },
  {
   "cell_type": "markdown",
   "id": "38aa2f69",
   "metadata": {},
   "source": [
    "This custom dataset loader removes the label column of each row and normalizes (divides by 255) to a 0–1 range that better serves training efficiency. The ‘Train_Loader’ implements the base class ‘Loader’. It was built this way as a ‘Test_Loader’ class can easily be implemented using the same base class.\n",
    "\n",
    "In order to enumerate over the dataset during training we extend to the PyTorch DataLoader class:"
   ]
  },
  {
   "cell_type": "code",
   "execution_count": 15,
   "id": "8cad4e41",
   "metadata": {},
   "outputs": [],
   "source": [
    "train_set = Train_Loader()\n",
    "train_ = torch.utils.data.DataLoader(\n",
    "            train_set,\n",
    "            batch_size=batch_size,\n",
    "            shuffle=True,\n",
    "            #num_workers=1,\n",
    "            pin_memory=True,\n",
    "            drop_last=True\n",
    "        )"
   ]
  },
  {
   "cell_type": "markdown",
   "id": "1751efaf",
   "metadata": {},
   "source": [
    "The training setup includes a dictionary of lists named metrics — this is a personal favorite if I have to track multiple values throughout training. The rest of the parameters are pretty standard. As mentioned before, we will be implemented the MSELoss class as our loss function between output and input."
   ]
  },
  {
   "cell_type": "code",
   "execution_count": 16,
   "id": "5f2b9f26",
   "metadata": {},
   "outputs": [],
   "source": [
    "metrics = defaultdict(list)\n",
    "device = 'cuda' if torch.cuda.is_available() else 'cpu'\n",
    "model = AE()\n",
    "model.to(device)\n",
    "criterion = nn.MSELoss(reduction='mean')\n",
    "optimizer = torch.optim.SGD(model.parameters(), lr=lr, weight_decay=w_d)"
   ]
  },
  {
   "cell_type": "markdown",
   "id": "7641d07d",
   "metadata": {},
   "source": [
    "Now we can train our model with the following loop:\n"
   ]
  },
  {
   "cell_type": "code",
   "execution_count": 17,
   "id": "abecd6f0",
   "metadata": {},
   "outputs": [
    {
     "name": "stdout",
     "output_type": "stream",
     "text": [
      "-----------------------------------------------\n",
      "[EPOCH] 1/15\n",
      "[LOSS] 0.0033654114346951245\n",
      "Epoch Complete in 0:00:55.882000\n",
      "-----------------------------------------------\n",
      "[EPOCH] 2/15\n",
      "[LOSS] 0.003264253607019782\n",
      "Epoch Complete in 0:00:56.555031\n",
      "-----------------------------------------------\n",
      "[EPOCH] 3/15\n",
      "[LOSS] 0.0031576461182286344\n",
      "Epoch Complete in 0:00:57.234009\n",
      "-----------------------------------------------\n",
      "[EPOCH] 4/15\n",
      "[LOSS] 0.0030424837092558545\n",
      "Epoch Complete in 0:00:54.746991\n",
      "-----------------------------------------------\n",
      "[EPOCH] 5/15\n",
      "[LOSS] 0.002926768708849947\n",
      "Epoch Complete in 0:00:58.074002\n",
      "-----------------------------------------------\n",
      "[EPOCH] 6/15\n",
      "[LOSS] 0.0028255631657938163\n",
      "Epoch Complete in 0:00:56.316001\n",
      "-----------------------------------------------\n",
      "[EPOCH] 7/15\n",
      "[LOSS] 0.0027558970741927624\n",
      "Epoch Complete in 0:00:54.834997\n",
      "-----------------------------------------------\n",
      "[EPOCH] 8/15\n",
      "[LOSS] 0.002715326627964775\n",
      "Epoch Complete in 0:00:48.980035\n",
      "-----------------------------------------------\n",
      "[EPOCH] 9/15\n",
      "[LOSS] 0.00269601532133917\n",
      "Epoch Complete in 0:00:47.003965\n",
      "-----------------------------------------------\n",
      "[EPOCH] 10/15\n",
      "[LOSS] 0.0026882292593518892\n",
      "Epoch Complete in 0:00:49.205999\n",
      "-----------------------------------------------\n",
      "[EPOCH] 11/15\n",
      "[LOSS] 0.0026850482275088627\n",
      "Epoch Complete in 0:00:49.663001\n",
      "-----------------------------------------------\n",
      "[EPOCH] 12/15\n",
      "[LOSS] 0.0026836937037607034\n",
      "Epoch Complete in 0:00:49.783999\n",
      "-----------------------------------------------\n",
      "[EPOCH] 13/15\n",
      "[LOSS] 0.0026831023771315813\n",
      "Epoch Complete in 0:00:49.547000\n",
      "-----------------------------------------------\n",
      "[EPOCH] 14/15\n",
      "[LOSS] 0.002682840739687284\n",
      "Epoch Complete in 0:00:49.460005\n",
      "-----------------------------------------------\n",
      "[EPOCH] 15/15\n",
      "[LOSS] 0.002682725479453802\n",
      "Epoch Complete in 0:00:51.071996\n",
      "-----------------------------------------------\n",
      "[System Complete: 0:13:08.360032]\n"
     ]
    }
   ],
   "source": [
    "model.train()\n",
    "start = time.time()\n",
    "for epoch in range(epochs):\n",
    "    ep_start = time.time()\n",
    "    running_loss = 0.0\n",
    "    for bx, (data) in enumerate(train_):\n",
    "        sample = model(data.to(device))\n",
    "        loss = criterion(data.to(device), sample)\n",
    "        optimizer.zero_grad()\n",
    "        loss.backward()\n",
    "        optimizer.step()\n",
    "        running_loss += loss.item()\n",
    "    epoch_loss = running_loss/len(train_set)\n",
    "    metrics['train_loss'].append(epoch_loss)\n",
    "    ep_end = time.time()\n",
    "    print('-----------------------------------------------')\n",
    "    print('[EPOCH] {}/{}\\n[LOSS] {}'.format(epoch+1,epochs,epoch_loss))\n",
    "    print('Epoch Complete in {}'.format(timedelta(seconds=ep_end-ep_start)))\n",
    "end = time.time()\n",
    "print('-----------------------------------------------')\n",
    "print('[System Complete: {}]'.format(timedelta(seconds=end-start)))"
   ]
  },
  {
   "cell_type": "markdown",
   "id": "5db536b4",
   "metadata": {},
   "source": [
    "Once training is finished, we output the loss plot to determine if our model has converged to a solution."
   ]
  },
  {
   "cell_type": "code",
   "execution_count": 18,
   "id": "3f3a5e01",
   "metadata": {},
   "outputs": [
    {
     "data": {
      "text/plain": [
       "[<matplotlib.lines.Line2D at 0x2853a1e6c10>]"
      ]
     },
     "execution_count": 18,
     "metadata": {},
     "output_type": "execute_result"
    },
    {
     "data": {
      "image/png": "[encoded data removed]",
      "text/plain": [
       "<Figure size 1080x720 with 1 Axes>"
      ]
     },
     "metadata": {
      "needs_background": "light"
     },
     "output_type": "display_data"
    }
   ],
   "source": [
    "_, ax = plt.subplots(1,1,figsize=(15,10))\n",
    "ax.set_title('Loss')\n",
    "ax.plot(metrics['train_loss'])"
   ]
  },
  {
   "cell_type": "markdown",
   "id": "0606bf80",
   "metadata": {},
   "source": [
    "Excellent! It looks like we’ve managed to converge to a solution: the Autoencoder has successfully captured the features of the input distribution within its compressed latent representation.\n"
   ]
  },
  {
   "cell_type": "markdown",
   "id": "4b438210",
   "metadata": {},
   "source": [
    "## Prediction\n",
    "For our model to determine if an input is or is not an anomaly, we will use the loss value from the output and input — if the loss value is high, then we will assume that the model is seeing an element that is outside of the known distribution representation. To achieve this, we will iterate through our test set sequentially and retaining the loss value. It is very important to perform this task sequentially as this will serve us in our analysis of results"
   ]
  },
  {
   "cell_type": "code",
   "execution_count": 19,
   "id": "82352d37",
   "metadata": {},
   "outputs": [],
   "source": [
    "model.eval()\n",
    "loss_dist = []\n",
    "anom = pd.read_csv('anom.csv', index_col=[0])\n",
    "#for bx, data in enumerate(test_):\n",
    "for i in range(len(anom)):\n",
    "    data = torch.from_numpy(np.array(anom.iloc[i][1:])/255).float()\n",
    "    sample = model(data.to(device))\n",
    "    loss = criterion(data.to(device), sample)\n",
    "    loss_dist.append(loss.item())"
   ]
  },
  {
   "cell_type": "markdown",
   "id": "4a79222f",
   "metadata": {},
   "source": [
    "## Results\n",
    "Visualizing the loss values will give us valuable insight to where our anomalies are hiding. A simple way of doing this is by projecting each value as a point and observing the plot."
   ]
  },
  {
   "cell_type": "code",
   "execution_count": 20,
   "id": "ef6f9d47",
   "metadata": {},
   "outputs": [
    {
     "data": {
      "text/plain": [
       "<matplotlib.lines.Line2D at 0x2853a83fdf0>"
      ]
     },
     "execution_count": 20,
     "metadata": {},
     "output_type": "execute_result"
    },
    {
     "data": {
      "image/png": "[encoded data removed]",
      "text/plain": [
       "<Figure size 432x288 with 1 Axes>"
      ]
     },
     "metadata": {
      "needs_background": "light"
     },
     "output_type": "display_data"
    }
   ],
   "source": [
    "loss_sc = []\n",
    "for i in loss_dist:\n",
    "    loss_sc.append((i,i))\n",
    "plt.scatter(*zip(*loss_sc))\n",
    "plt.axvline(0.3, 0.0, 1)"
   ]
  },
  {
   "cell_type": "code",
   "execution_count": 21,
   "id": "7624f73b",
   "metadata": {},
   "outputs": [
    {
     "data": {
      "text/plain": [
       "<matplotlib.lines.Line2D at 0x2853a1244f0>"
      ]
     },
     "execution_count": 21,
     "metadata": {},
     "output_type": "execute_result"
    },
    {
     "data": {
      "image/png": "[encoded data removed]",
      "text/plain": [
       "<Figure size 864x432 with 1 Axes>"
      ]
     },
     "metadata": {
      "needs_background": "light"
     },
     "output_type": "display_data"
    }
   ],
   "source": [
    "lower_threshold = 0.0\n",
    "upper_threshold = 0.3\n",
    "plt.figure(figsize=(12,6))\n",
    "plt.title('Loss Distribution')\n",
    "sns.distplot(loss_dist,bins=100,kde=True, color='blue')\n",
    "plt.axvline(upper_threshold, 0.0, 10, color='r')\n",
    "plt.axvline(lower_threshold, 0.0, 10, color='b')"
   ]
  },
  {
   "cell_type": "markdown",
   "id": "e4a406a2",
   "metadata": {},
   "source": [
    "In both the above plots of the loss values, you noticed a vertical line. These lines are an estimated threshold value for which we will determine a loss value is or is not an anomaly. In the loss distribution plot, if the value exceed (to the right) of the red line, we will consider that data as an anomaly. There is a blue line that represents a lower threshold (anything below) but is not relevant for this example of data.\n",
    "\n",
    "Using this upper threshold, we can make predictions on what we consider an anomaly and count the number of occurences as follows:\n",
    "\n",
    "* TP (True Positive): Both the prediction and label align for anomaly\n",
    "* FP (False Positive): The prediction determines anomaly but the label is non-anomalout\n",
    "* TN (True Negative): Both the prediction and label align for non-anomalous\n",
    "* FN (False Negative): The prediction determines non-anomaly but the label is anomalous\n",
    "\n",
    "The following code is why it was so important to retain the sequential ordering of our loss values. We match up the loss values to each row within the MNIST anomaly test set we have created. If this ordering was altered then we would be associating the wrong loss value with the wrong input."
   ]
  },
  {
   "cell_type": "code",
   "execution_count": 22,
   "id": "2861d13b",
   "metadata": {},
   "outputs": [
    {
     "name": "stdout",
     "output_type": "stream",
     "text": [
      "[TP] 1000\t[FP] 0\t[MISSED] 0\n",
      "[TN] 9000\t[FN] 0\n"
     ]
    }
   ],
   "source": [
    "df = pd.read_csv('anom.csv', index_col=[0])\n",
    "ddf = pd.DataFrame(columns=df.columns)\n",
    "tp = 0\n",
    "fp = 0\n",
    "tn = 0\n",
    "fn = 0\n",
    "total_anom = 0\n",
    "for i in range(len(loss_dist)):\n",
    "    total_anom += df.iloc[i]['label']\n",
    "    if loss_dist[i] >= upper_threshold:\n",
    "        n_df = pd.DataFrame([df.iloc[i]])\n",
    "        n_df['loss'] = loss_dist[i]\n",
    "        ddf = pd.concat([df,n_df], sort = True)\n",
    "        if float(df.iloc[i]['label']) == 1.0:\n",
    "            tp += 1\n",
    "        else:\n",
    "            fp += 1\n",
    "    else:\n",
    "        if float(df.iloc[i]['label']) == 1.0:\n",
    "            fn += 1\n",
    "        else:\n",
    "            tn += 1\n",
    "print('[TP] {}\\t[FP] {}\\t[MISSED] {}'.format(tp, fp, total_anom-tp))\n",
    "print('[TN] {}\\t[FN] {}'.format(tn, fn))"
   ]
  },
  {
   "cell_type": "markdown",
   "id": "cffba80d",
   "metadata": {},
   "source": [
    "Placing our threshold at 0.3 gives us a 100% success rate for predicting anomalies."
   ]
  },
  {
   "cell_type": "markdown",
   "id": "68f9b95e",
   "metadata": {},
   "source": [
    "This information can be best visualized as a confusion matrix.\n"
   ]
  },
  {
   "cell_type": "code",
   "execution_count": 23,
   "id": "09f0eac8",
   "metadata": {},
   "outputs": [
    {
     "data": {
      "text/plain": [
       "<AxesSubplot:>"
      ]
     },
     "execution_count": 23,
     "metadata": {},
     "output_type": "execute_result"
    },
    {
     "data": {
      "image/png": "[encoded data removed]",
      "text/plain": [
       "<Figure size 432x288 with 2 Axes>"
      ]
     },
     "metadata": {
      "needs_background": "light"
     },
     "output_type": "display_data"
    }
   ],
   "source": [
    "conf = [[tn,fp],[fn,tp]]\n",
    "plt.figure()\n",
    "sns.heatmap(conf,annot=True,annot_kws={\"size\": 16},fmt='g')"
   ]
  },
  {
   "cell_type": "markdown",
   "id": "ba06fe74",
   "metadata": {},
   "source": [
    "Using a traditional autoencoder built with PyTorch, we can identify 100% of aomalies. The framework can be copied and run in a Jupyter Notebook with ease. Test yourself and challenge the thresholds of identifying different kinds of anomalies! This can be extended to other use-cases with little effort."
   ]
  },
  {
   "cell_type": "code",
   "execution_count": null,
   "id": "0995b41f",
   "metadata": {},
   "outputs": [],
   "source": []
  }
 ],
 "metadata": {
  "interpreter": {
   "hash": "7469b5c52ed6cbffba78b5779164b4632de7fb79cb56d174168f3f45cadf6091"
  },
  "kernelspec": {
   "display_name": "gpu2",
   "language": "python",
   "name": "python3"
  },
  "language_info": {
   "codemirror_mode": {
    "name": "ipython",
    "version": 3
   },
   "file_extension": ".py",
   "mimetype": "text/x-python",
   "name": "python",
   "nbconvert_exporter": "python",
   "pygments_lexer": "ipython3",
   "version": "3.8.12"
  }
 },
 "nbformat": 4,
 "nbformat_minor": 5
}
