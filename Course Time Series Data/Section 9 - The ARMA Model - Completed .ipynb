{
 "cells": [
  {
   "cell_type": "markdown",
   "metadata": {},
   "source": [
    "## Importing the relevant packages"
   ]
  },
  {
   "cell_type": "code",
   "execution_count": 1,
   "metadata": {},
   "outputs": [],
   "source": [
    "import pandas as pd\n",
    "import numpy as np\n",
    "import matplotlib.pyplot as plt\n",
    "import statsmodels.graphics.tsaplots as sgt\n",
    "import statsmodels.tsa.stattools as sts\n",
    "from statsmodels.tsa.arima_model import ARMA\n",
    "from scipy.stats.distributions import chi2 \n",
    "import seaborn as sns\n",
    "sns.set()"
   ]
  },
  {
   "cell_type": "markdown",
   "metadata": {},
   "source": [
    " "
   ]
  },
  {
   "cell_type": "markdown",
   "metadata": {},
   "source": [
    "## Importing the Data and Pre-processing "
   ]
  },
  {
   "cell_type": "code",
   "execution_count": 2,
   "metadata": {},
   "outputs": [],
   "source": [
    "raw_csv_data = pd.read_csv(\"Index2018.csv\") \n",
    "df_comp=raw_csv_data.copy()\n",
    "df_comp.date = pd.to_datetime(df_comp.date, dayfirst = True)\n",
    "df_comp.set_index(\"date\", inplace=True)\n",
    "df_comp=df_comp.asfreq('b')\n",
    "df_comp=df_comp.fillna(method='ffill')"
   ]
  },
  {
   "cell_type": "code",
   "execution_count": 3,
   "metadata": {},
   "outputs": [],
   "source": [
    "df_comp['market_value']=df_comp.ftse"
   ]
  },
  {
   "cell_type": "code",
   "execution_count": 4,
   "metadata": {},
   "outputs": [],
   "source": [
    "del df_comp['spx']\n",
    "del df_comp['dax']\n",
    "del df_comp['ftse']\n",
    "del df_comp['nikkei']\n",
    "size = int(len(df_comp)*0.8)\n",
    "df, df_test = df_comp.iloc[:size], df_comp.iloc[size:]"
   ]
  },
  {
   "cell_type": "code",
   "execution_count": null,
   "metadata": {},
   "outputs": [],
   "source": [
    "import warnings\n",
    "warnings.filterwarnings(\"ignore\")"
   ]
  },
  {
   "cell_type": "markdown",
   "metadata": {},
   "source": [
    " "
   ]
  },
  {
   "cell_type": "markdown",
   "metadata": {},
   "source": [
    "## The LLR Test"
   ]
  },
  {
   "cell_type": "code",
   "execution_count": 5,
   "metadata": {},
   "outputs": [],
   "source": [
    "def LLR_test(mod_1, mod_2, DF = 1):\n",
    "    L1 = mod_1.fit().llf\n",
    "    L2 = mod_2.fit().llf\n",
    "    LR = (2*(L2-L1))    \n",
    "    p = chi2.sf(LR, DF).round(3)\n",
    "    return p"
   ]
  },
  {
   "cell_type": "markdown",
   "metadata": {},
   "source": [
    "## Creating Returns"
   ]
  },
  {
   "cell_type": "code",
   "execution_count": 7,
   "metadata": {
    "scrolled": true
   },
   "outputs": [],
   "source": [
    "df['returns'] = df.market_value.pct_change(1)*100"
   ]
  },
  {
   "cell_type": "markdown",
   "metadata": {},
   "source": [
    "## ARMA(1,1)"
   ]
  },
  {
   "cell_type": "code",
   "execution_count": 8,
   "metadata": {},
   "outputs": [
    {
     "data": {
      "text/html": [
       "<table class=\"simpletable\">\n",
       "<caption>ARMA Model Results</caption>\n",
       "<tr>\n",
       "  <th>Dep. Variable:</th>      <td>returns</td>     <th>  No. Observations:  </th>   <td>5020</td>   \n",
       "</tr>\n",
       "<tr>\n",
       "  <th>Model:</th>            <td>ARMA(1, 1)</td>    <th>  Log Likelihood     </th> <td>-7916.500</td>\n",
       "</tr>\n",
       "<tr>\n",
       "  <th>Method:</th>             <td>css-mle</td>     <th>  S.D. of innovations</th>   <td>1.171</td>  \n",
       "</tr>\n",
       "<tr>\n",
       "  <th>Date:</th>          <td>Sun, 08 Sep 2019</td> <th>  AIC                </th> <td>15841.000</td>\n",
       "</tr>\n",
       "<tr>\n",
       "  <th>Time:</th>              <td>17:37:33</td>     <th>  BIC                </th> <td>15867.085</td>\n",
       "</tr>\n",
       "<tr>\n",
       "  <th>Sample:</th>           <td>01-10-1994</td>    <th>  HQIC               </th> <td>15850.140</td>\n",
       "</tr>\n",
       "<tr>\n",
       "  <th></th>                 <td>- 04-05-2013</td>   <th>                     </th>     <td> </td>    \n",
       "</tr>\n",
       "</table>\n",
       "<table class=\"simpletable\">\n",
       "<tr>\n",
       "        <td></td>           <th>coef</th>     <th>std err</th>      <th>z</th>      <th>P>|z|</th>  <th>[0.025</th>    <th>0.975]</th>  \n",
       "</tr>\n",
       "<tr>\n",
       "  <th>const</th>         <td>    0.0189</td> <td>    0.013</td> <td>    1.446</td> <td> 0.148</td> <td>   -0.007</td> <td>    0.045</td>\n",
       "</tr>\n",
       "<tr>\n",
       "  <th>ar.L1.returns</th> <td>    0.7649</td> <td>    0.067</td> <td>   11.349</td> <td> 0.000</td> <td>    0.633</td> <td>    0.897</td>\n",
       "</tr>\n",
       "<tr>\n",
       "  <th>ma.L1.returns</th> <td>   -0.8141</td> <td>    0.061</td> <td>  -13.406</td> <td> 0.000</td> <td>   -0.933</td> <td>   -0.695</td>\n",
       "</tr>\n",
       "</table>\n",
       "<table class=\"simpletable\">\n",
       "<caption>Roots</caption>\n",
       "<tr>\n",
       "    <td></td>   <th>            Real</th>  <th>         Imaginary</th> <th>         Modulus</th>  <th>        Frequency</th>\n",
       "</tr>\n",
       "<tr>\n",
       "  <th>AR.1</th> <td>           1.3074</td> <td>          +0.0000j</td> <td>           1.3074</td> <td>           0.0000</td>\n",
       "</tr>\n",
       "<tr>\n",
       "  <th>MA.1</th> <td>           1.2284</td> <td>          +0.0000j</td> <td>           1.2284</td> <td>           0.0000</td>\n",
       "</tr>\n",
       "</table>"
      ],
      "text/plain": [
       "<class 'statsmodels.iolib.summary.Summary'>\n",
       "\"\"\"\n",
       "                              ARMA Model Results                              \n",
       "==============================================================================\n",
       "Dep. Variable:                returns   No. Observations:                 5020\n",
       "Model:                     ARMA(1, 1)   Log Likelihood               -7916.500\n",
       "Method:                       css-mle   S.D. of innovations              1.171\n",
       "Date:                Sun, 08 Sep 2019   AIC                          15841.000\n",
       "Time:                        17:37:33   BIC                          15867.085\n",
       "Sample:                    01-10-1994   HQIC                         15850.140\n",
       "                         - 04-05-2013                                         \n",
       "=================================================================================\n",
       "                    coef    std err          z      P>|z|      [0.025      0.975]\n",
       "---------------------------------------------------------------------------------\n",
       "const             0.0189      0.013      1.446      0.148      -0.007       0.045\n",
       "ar.L1.returns     0.7649      0.067     11.349      0.000       0.633       0.897\n",
       "ma.L1.returns    -0.8141      0.061    -13.406      0.000      -0.933      -0.695\n",
       "                                    Roots                                    \n",
       "=============================================================================\n",
       "                  Real          Imaginary           Modulus         Frequency\n",
       "-----------------------------------------------------------------------------\n",
       "AR.1            1.3074           +0.0000j            1.3074            0.0000\n",
       "MA.1            1.2284           +0.0000j            1.2284            0.0000\n",
       "-----------------------------------------------------------------------------\n",
       "\"\"\""
      ]
     },
     "execution_count": 8,
     "metadata": {},
     "output_type": "execute_result"
    }
   ],
   "source": [
    "model_ret_ar_1_ma_1 = ARMA(df.returns[1:], order=(1,1))\n",
    "results_ret_ar_1_ma_1 = model_ret_ar_1_ma_1.fit()\n",
    "results_ret_ar_1_ma_1.summary()"
   ]
  },
  {
   "cell_type": "code",
   "execution_count": 9,
   "metadata": {
    "scrolled": true
   },
   "outputs": [],
   "source": [
    "model_ret_ar_1 = ARMA(df.returns[1:], order = (1,0))\n",
    "model_ret_ma_1 = ARMA(df.returns[1:], order = (0,1))"
   ]
  },
  {
   "cell_type": "code",
   "execution_count": 10,
   "metadata": {},
   "outputs": [
    {
     "name": "stdout",
     "output_type": "stream",
     "text": [
      "\n",
      "ARMA vs AR  0.0\n",
      "\n",
      "ARMA vs MA  0.0\n"
     ]
    }
   ],
   "source": [
    "print(\"\\nARMA vs AR \", LLR_test(model_ret_ar_1, model_ret_ar_1_ma_1))\n",
    "print(\"\\nARMA vs MA \", LLR_test(model_ret_ma_1, model_ret_ar_1_ma_1))"
   ]
  },
  {
   "cell_type": "markdown",
   "metadata": {},
   "source": [
    "## Higher-Lag ARMA Models"
   ]
  },
  {
   "cell_type": "code",
   "execution_count": 11,
   "metadata": {},
   "outputs": [],
   "source": [
    "model_ret_ar_3_ma_3 = ARMA(df.returns[1:], order=(3,3))\n",
    "results_ret_ar_3_ma_3 = model_ret_ar_3_ma_3.fit()"
   ]
  },
  {
   "cell_type": "code",
   "execution_count": 12,
   "metadata": {},
   "outputs": [
    {
     "data": {
      "text/plain": [
       "0.0"
      ]
     },
     "execution_count": 12,
     "metadata": {},
     "output_type": "execute_result"
    }
   ],
   "source": [
    "LLR_test(model_ret_ar_1_ma_1, model_ret_ar_3_ma_3, DF = 4)"
   ]
  },
  {
   "cell_type": "code",
   "execution_count": 13,
   "metadata": {},
   "outputs": [
    {
     "data": {
      "text/html": [
       "<table class=\"simpletable\">\n",
       "<caption>ARMA Model Results</caption>\n",
       "<tr>\n",
       "  <th>Dep. Variable:</th>      <td>returns</td>     <th>  No. Observations:  </th>   <td>5020</td>   \n",
       "</tr>\n",
       "<tr>\n",
       "  <th>Model:</th>            <td>ARMA(3, 3)</td>    <th>  Log Likelihood     </th> <td>-7893.515</td>\n",
       "</tr>\n",
       "<tr>\n",
       "  <th>Method:</th>             <td>css-mle</td>     <th>  S.D. of innovations</th>   <td>1.166</td>  \n",
       "</tr>\n",
       "<tr>\n",
       "  <th>Date:</th>          <td>Sun, 08 Sep 2019</td> <th>  AIC                </th> <td>15803.030</td>\n",
       "</tr>\n",
       "<tr>\n",
       "  <th>Time:</th>              <td>17:40:54</td>     <th>  BIC                </th> <td>15855.199</td>\n",
       "</tr>\n",
       "<tr>\n",
       "  <th>Sample:</th>           <td>01-10-1994</td>    <th>  HQIC               </th> <td>15821.310</td>\n",
       "</tr>\n",
       "<tr>\n",
       "  <th></th>                 <td>- 04-05-2013</td>   <th>                     </th>     <td> </td>    \n",
       "</tr>\n",
       "</table>\n",
       "<table class=\"simpletable\">\n",
       "<tr>\n",
       "        <td></td>           <th>coef</th>     <th>std err</th>      <th>z</th>      <th>P>|z|</th>  <th>[0.025</th>    <th>0.975]</th>  \n",
       "</tr>\n",
       "<tr>\n",
       "  <th>const</th>         <td>    0.0189</td> <td>    0.014</td> <td>    1.395</td> <td> 0.163</td> <td>   -0.008</td> <td>    0.045</td>\n",
       "</tr>\n",
       "<tr>\n",
       "  <th>ar.L1.returns</th> <td>   -0.1898</td> <td>    0.104</td> <td>   -1.827</td> <td> 0.068</td> <td>   -0.393</td> <td>    0.014</td>\n",
       "</tr>\n",
       "<tr>\n",
       "  <th>ar.L2.returns</th> <td>   -0.2942</td> <td>    0.087</td> <td>   -3.389</td> <td> 0.001</td> <td>   -0.464</td> <td>   -0.124</td>\n",
       "</tr>\n",
       "<tr>\n",
       "  <th>ar.L3.returns</th> <td>    0.4459</td> <td>    0.138</td> <td>    3.225</td> <td> 0.001</td> <td>    0.175</td> <td>    0.717</td>\n",
       "</tr>\n",
       "<tr>\n",
       "  <th>ma.L1.returns</th> <td>    0.1707</td> <td>    0.099</td> <td>    1.726</td> <td> 0.084</td> <td>   -0.023</td> <td>    0.365</td>\n",
       "</tr>\n",
       "<tr>\n",
       "  <th>ma.L2.returns</th> <td>    0.2277</td> <td>    0.084</td> <td>    2.701</td> <td> 0.007</td> <td>    0.062</td> <td>    0.393</td>\n",
       "</tr>\n",
       "<tr>\n",
       "  <th>ma.L3.returns</th> <td>   -0.5432</td> <td>    0.127</td> <td>   -4.270</td> <td> 0.000</td> <td>   -0.793</td> <td>   -0.294</td>\n",
       "</tr>\n",
       "</table>\n",
       "<table class=\"simpletable\">\n",
       "<caption>Roots</caption>\n",
       "<tr>\n",
       "    <td></td>   <th>            Real</th>  <th>         Imaginary</th> <th>         Modulus</th>  <th>        Frequency</th>\n",
       "</tr>\n",
       "<tr>\n",
       "  <th>AR.1</th> <td>          -0.5168</td> <td>          -1.0283j</td> <td>           1.1508</td> <td>          -0.3241</td>\n",
       "</tr>\n",
       "<tr>\n",
       "  <th>AR.2</th> <td>          -0.5168</td> <td>          +1.0283j</td> <td>           1.1508</td> <td>           0.3241</td>\n",
       "</tr>\n",
       "<tr>\n",
       "  <th>AR.3</th> <td>           1.6932</td> <td>          -0.0000j</td> <td>           1.6932</td> <td>          -0.0000</td>\n",
       "</tr>\n",
       "<tr>\n",
       "  <th>MA.1</th> <td>          -0.5286</td> <td>          -0.9835j</td> <td>           1.1166</td> <td>          -0.3285</td>\n",
       "</tr>\n",
       "<tr>\n",
       "  <th>MA.2</th> <td>          -0.5286</td> <td>          +0.9835j</td> <td>           1.1166</td> <td>           0.3285</td>\n",
       "</tr>\n",
       "<tr>\n",
       "  <th>MA.3</th> <td>           1.4764</td> <td>          -0.0000j</td> <td>           1.4764</td> <td>          -0.0000</td>\n",
       "</tr>\n",
       "</table>"
      ],
      "text/plain": [
       "<class 'statsmodels.iolib.summary.Summary'>\n",
       "\"\"\"\n",
       "                              ARMA Model Results                              \n",
       "==============================================================================\n",
       "Dep. Variable:                returns   No. Observations:                 5020\n",
       "Model:                     ARMA(3, 3)   Log Likelihood               -7893.515\n",
       "Method:                       css-mle   S.D. of innovations              1.166\n",
       "Date:                Sun, 08 Sep 2019   AIC                          15803.030\n",
       "Time:                        17:40:54   BIC                          15855.199\n",
       "Sample:                    01-10-1994   HQIC                         15821.310\n",
       "                         - 04-05-2013                                         \n",
       "=================================================================================\n",
       "                    coef    std err          z      P>|z|      [0.025      0.975]\n",
       "---------------------------------------------------------------------------------\n",
       "const             0.0189      0.014      1.395      0.163      -0.008       0.045\n",
       "ar.L1.returns    -0.1898      0.104     -1.827      0.068      -0.393       0.014\n",
       "ar.L2.returns    -0.2942      0.087     -3.389      0.001      -0.464      -0.124\n",
       "ar.L3.returns     0.4459      0.138      3.225      0.001       0.175       0.717\n",
       "ma.L1.returns     0.1707      0.099      1.726      0.084      -0.023       0.365\n",
       "ma.L2.returns     0.2277      0.084      2.701      0.007       0.062       0.393\n",
       "ma.L3.returns    -0.5432      0.127     -4.270      0.000      -0.793      -0.294\n",
       "                                    Roots                                    \n",
       "=============================================================================\n",
       "                  Real          Imaginary           Modulus         Frequency\n",
       "-----------------------------------------------------------------------------\n",
       "AR.1           -0.5168           -1.0283j            1.1508           -0.3241\n",
       "AR.2           -0.5168           +1.0283j            1.1508            0.3241\n",
       "AR.3            1.6932           -0.0000j            1.6932           -0.0000\n",
       "MA.1           -0.5286           -0.9835j            1.1166           -0.3285\n",
       "MA.2           -0.5286           +0.9835j            1.1166            0.3285\n",
       "MA.3            1.4764           -0.0000j            1.4764           -0.0000\n",
       "-----------------------------------------------------------------------------\n",
       "\"\"\""
      ]
     },
     "execution_count": 13,
     "metadata": {},
     "output_type": "execute_result"
    }
   ],
   "source": [
    "results_ret_ar_3_ma_3.summary()"
   ]
  },
  {
   "cell_type": "code",
   "execution_count": 14,
   "metadata": {},
   "outputs": [
    {
     "data": {
      "text/html": [
       "<table class=\"simpletable\">\n",
       "<caption>ARMA Model Results</caption>\n",
       "<tr>\n",
       "  <th>Dep. Variable:</th>      <td>returns</td>     <th>  No. Observations:  </th>   <td>5020</td>   \n",
       "</tr>\n",
       "<tr>\n",
       "  <th>Model:</th>            <td>ARMA(3, 2)</td>    <th>  Log Likelihood     </th> <td>-7895.747</td>\n",
       "</tr>\n",
       "<tr>\n",
       "  <th>Method:</th>             <td>css-mle</td>     <th>  S.D. of innovations</th>   <td>1.166</td>  \n",
       "</tr>\n",
       "<tr>\n",
       "  <th>Date:</th>          <td>Sun, 08 Sep 2019</td> <th>  AIC                </th> <td>15805.495</td>\n",
       "</tr>\n",
       "<tr>\n",
       "  <th>Time:</th>              <td>17:43:23</td>     <th>  BIC                </th> <td>15851.143</td>\n",
       "</tr>\n",
       "<tr>\n",
       "  <th>Sample:</th>           <td>01-10-1994</td>    <th>  HQIC               </th> <td>15821.491</td>\n",
       "</tr>\n",
       "<tr>\n",
       "  <th></th>                 <td>- 04-05-2013</td>   <th>                     </th>     <td> </td>    \n",
       "</tr>\n",
       "</table>\n",
       "<table class=\"simpletable\">\n",
       "<tr>\n",
       "        <td></td>           <th>coef</th>     <th>std err</th>      <th>z</th>      <th>P>|z|</th>  <th>[0.025</th>    <th>0.975]</th>  \n",
       "</tr>\n",
       "<tr>\n",
       "  <th>const</th>         <td>    0.0188</td> <td>    0.015</td> <td>    1.251</td> <td> 0.211</td> <td>   -0.011</td> <td>    0.048</td>\n",
       "</tr>\n",
       "<tr>\n",
       "  <th>ar.L1.returns</th> <td>   -0.6785</td> <td>    0.087</td> <td>   -7.799</td> <td> 0.000</td> <td>   -0.849</td> <td>   -0.508</td>\n",
       "</tr>\n",
       "<tr>\n",
       "  <th>ar.L2.returns</th> <td>   -0.5088</td> <td>    0.139</td> <td>   -3.670</td> <td> 0.000</td> <td>   -0.780</td> <td>   -0.237</td>\n",
       "</tr>\n",
       "<tr>\n",
       "  <th>ar.L3.returns</th> <td>   -0.1141</td> <td>    0.015</td> <td>   -7.655</td> <td> 0.000</td> <td>   -0.143</td> <td>   -0.085</td>\n",
       "</tr>\n",
       "<tr>\n",
       "  <th>ma.L1.returns</th> <td>    0.6568</td> <td>    0.087</td> <td>    7.536</td> <td> 0.000</td> <td>    0.486</td> <td>    0.828</td>\n",
       "</tr>\n",
       "<tr>\n",
       "  <th>ma.L2.returns</th> <td>    0.4474</td> <td>    0.141</td> <td>    3.175</td> <td> 0.002</td> <td>    0.171</td> <td>    0.724</td>\n",
       "</tr>\n",
       "</table>\n",
       "<table class=\"simpletable\">\n",
       "<caption>Roots</caption>\n",
       "<tr>\n",
       "    <td></td>   <th>            Real</th>  <th>         Imaginary</th> <th>         Modulus</th>  <th>        Frequency</th>\n",
       "</tr>\n",
       "<tr>\n",
       "  <th>AR.1</th> <td>          -0.4929</td> <td>          -1.5100j</td> <td>           1.5884</td> <td>          -0.3002</td>\n",
       "</tr>\n",
       "<tr>\n",
       "  <th>AR.2</th> <td>          -0.4929</td> <td>          +1.5100j</td> <td>           1.5884</td> <td>           0.3002</td>\n",
       "</tr>\n",
       "<tr>\n",
       "  <th>AR.3</th> <td>          -3.4749</td> <td>          -0.0000j</td> <td>           3.4749</td> <td>          -0.5000</td>\n",
       "</tr>\n",
       "<tr>\n",
       "  <th>MA.1</th> <td>          -0.7340</td> <td>          -1.3025j</td> <td>           1.4951</td> <td>          -0.3317</td>\n",
       "</tr>\n",
       "<tr>\n",
       "  <th>MA.2</th> <td>          -0.7340</td> <td>          +1.3025j</td> <td>           1.4951</td> <td>           0.3317</td>\n",
       "</tr>\n",
       "</table>"
      ],
      "text/plain": [
       "<class 'statsmodels.iolib.summary.Summary'>\n",
       "\"\"\"\n",
       "                              ARMA Model Results                              \n",
       "==============================================================================\n",
       "Dep. Variable:                returns   No. Observations:                 5020\n",
       "Model:                     ARMA(3, 2)   Log Likelihood               -7895.747\n",
       "Method:                       css-mle   S.D. of innovations              1.166\n",
       "Date:                Sun, 08 Sep 2019   AIC                          15805.495\n",
       "Time:                        17:43:23   BIC                          15851.143\n",
       "Sample:                    01-10-1994   HQIC                         15821.491\n",
       "                         - 04-05-2013                                         \n",
       "=================================================================================\n",
       "                    coef    std err          z      P>|z|      [0.025      0.975]\n",
       "---------------------------------------------------------------------------------\n",
       "const             0.0188      0.015      1.251      0.211      -0.011       0.048\n",
       "ar.L1.returns    -0.6785      0.087     -7.799      0.000      -0.849      -0.508\n",
       "ar.L2.returns    -0.5088      0.139     -3.670      0.000      -0.780      -0.237\n",
       "ar.L3.returns    -0.1141      0.015     -7.655      0.000      -0.143      -0.085\n",
       "ma.L1.returns     0.6568      0.087      7.536      0.000       0.486       0.828\n",
       "ma.L2.returns     0.4474      0.141      3.175      0.002       0.171       0.724\n",
       "                                    Roots                                    \n",
       "=============================================================================\n",
       "                  Real          Imaginary           Modulus         Frequency\n",
       "-----------------------------------------------------------------------------\n",
       "AR.1           -0.4929           -1.5100j            1.5884           -0.3002\n",
       "AR.2           -0.4929           +1.5100j            1.5884            0.3002\n",
       "AR.3           -3.4749           -0.0000j            3.4749           -0.5000\n",
       "MA.1           -0.7340           -1.3025j            1.4951           -0.3317\n",
       "MA.2           -0.7340           +1.3025j            1.4951            0.3317\n",
       "-----------------------------------------------------------------------------\n",
       "\"\"\""
      ]
     },
     "execution_count": 14,
     "metadata": {},
     "output_type": "execute_result"
    }
   ],
   "source": [
    "model_ret_ar_3_ma_2 = ARMA(df.returns[1:], order=(3,2))\n",
    "results_ret_ar_3_ma_2 = model_ret_ar_3_ma_2.fit()\n",
    "results_ret_ar_3_ma_2.summary()"
   ]
  },
  {
   "cell_type": "code",
   "execution_count": 15,
   "metadata": {},
   "outputs": [
    {
     "data": {
      "text/html": [
       "<table class=\"simpletable\">\n",
       "<caption>ARMA Model Results</caption>\n",
       "<tr>\n",
       "  <th>Dep. Variable:</th>      <td>returns</td>     <th>  No. Observations:  </th>   <td>5020</td>   \n",
       "</tr>\n",
       "<tr>\n",
       "  <th>Model:</th>            <td>ARMA(2, 3)</td>    <th>  Log Likelihood     </th> <td>-7895.587</td>\n",
       "</tr>\n",
       "<tr>\n",
       "  <th>Method:</th>             <td>css-mle</td>     <th>  S.D. of innovations</th>   <td>1.166</td>  \n",
       "</tr>\n",
       "<tr>\n",
       "  <th>Date:</th>          <td>Sun, 08 Sep 2019</td> <th>  AIC                </th> <td>15805.174</td>\n",
       "</tr>\n",
       "<tr>\n",
       "  <th>Time:</th>              <td>17:43:54</td>     <th>  BIC                </th> <td>15850.823</td>\n",
       "</tr>\n",
       "<tr>\n",
       "  <th>Sample:</th>           <td>01-10-1994</td>    <th>  HQIC               </th> <td>15821.170</td>\n",
       "</tr>\n",
       "<tr>\n",
       "  <th></th>                 <td>- 04-05-2013</td>   <th>                     </th>     <td> </td>    \n",
       "</tr>\n",
       "</table>\n",
       "<table class=\"simpletable\">\n",
       "<tr>\n",
       "        <td></td>           <th>coef</th>     <th>std err</th>      <th>z</th>      <th>P>|z|</th>  <th>[0.025</th>    <th>0.975]</th>  \n",
       "</tr>\n",
       "<tr>\n",
       "  <th>const</th>         <td>    0.0189</td> <td>    0.015</td> <td>    1.276</td> <td> 0.202</td> <td>   -0.010</td> <td>    0.048</td>\n",
       "</tr>\n",
       "<tr>\n",
       "  <th>ar.L1.returns</th> <td>   -0.5605</td> <td>    0.090</td> <td>   -6.245</td> <td> 0.000</td> <td>   -0.736</td> <td>   -0.385</td>\n",
       "</tr>\n",
       "<tr>\n",
       "  <th>ar.L2.returns</th> <td>   -0.4187</td> <td>    0.193</td> <td>   -2.172</td> <td> 0.030</td> <td>   -0.797</td> <td>   -0.041</td>\n",
       "</tr>\n",
       "<tr>\n",
       "  <th>ma.L1.returns</th> <td>    0.5378</td> <td>    0.090</td> <td>    6.000</td> <td> 0.000</td> <td>    0.362</td> <td>    0.714</td>\n",
       "</tr>\n",
       "<tr>\n",
       "  <th>ma.L2.returns</th> <td>    0.3540</td> <td>    0.195</td> <td>    1.818</td> <td> 0.069</td> <td>   -0.028</td> <td>    0.736</td>\n",
       "</tr>\n",
       "<tr>\n",
       "  <th>ma.L3.returns</th> <td>   -0.1158</td> <td>    0.016</td> <td>   -7.369</td> <td> 0.000</td> <td>   -0.147</td> <td>   -0.085</td>\n",
       "</tr>\n",
       "</table>\n",
       "<table class=\"simpletable\">\n",
       "<caption>Roots</caption>\n",
       "<tr>\n",
       "    <td></td>   <th>            Real</th>  <th>         Imaginary</th> <th>         Modulus</th>  <th>        Frequency</th>\n",
       "</tr>\n",
       "<tr>\n",
       "  <th>AR.1</th> <td>          -0.6694</td> <td>          -1.3930j</td> <td>           1.5455</td> <td>          -0.3213</td>\n",
       "</tr>\n",
       "<tr>\n",
       "  <th>AR.2</th> <td>          -0.6694</td> <td>          +1.3930j</td> <td>           1.5455</td> <td>           0.3213</td>\n",
       "</tr>\n",
       "<tr>\n",
       "  <th>MA.1</th> <td>          -0.7270</td> <td>          -1.1772j</td> <td>           1.3836</td> <td>          -0.3381</td>\n",
       "</tr>\n",
       "<tr>\n",
       "  <th>MA.2</th> <td>          -0.7270</td> <td>          +1.1772j</td> <td>           1.3836</td> <td>           0.3381</td>\n",
       "</tr>\n",
       "<tr>\n",
       "  <th>MA.3</th> <td>           4.5096</td> <td>          -0.0000j</td> <td>           4.5096</td> <td>          -0.0000</td>\n",
       "</tr>\n",
       "</table>"
      ],
      "text/plain": [
       "<class 'statsmodels.iolib.summary.Summary'>\n",
       "\"\"\"\n",
       "                              ARMA Model Results                              \n",
       "==============================================================================\n",
       "Dep. Variable:                returns   No. Observations:                 5020\n",
       "Model:                     ARMA(2, 3)   Log Likelihood               -7895.587\n",
       "Method:                       css-mle   S.D. of innovations              1.166\n",
       "Date:                Sun, 08 Sep 2019   AIC                          15805.174\n",
       "Time:                        17:43:54   BIC                          15850.823\n",
       "Sample:                    01-10-1994   HQIC                         15821.170\n",
       "                         - 04-05-2013                                         \n",
       "=================================================================================\n",
       "                    coef    std err          z      P>|z|      [0.025      0.975]\n",
       "---------------------------------------------------------------------------------\n",
       "const             0.0189      0.015      1.276      0.202      -0.010       0.048\n",
       "ar.L1.returns    -0.5605      0.090     -6.245      0.000      -0.736      -0.385\n",
       "ar.L2.returns    -0.4187      0.193     -2.172      0.030      -0.797      -0.041\n",
       "ma.L1.returns     0.5378      0.090      6.000      0.000       0.362       0.714\n",
       "ma.L2.returns     0.3540      0.195      1.818      0.069      -0.028       0.736\n",
       "ma.L3.returns    -0.1158      0.016     -7.369      0.000      -0.147      -0.085\n",
       "                                    Roots                                    \n",
       "=============================================================================\n",
       "                  Real          Imaginary           Modulus         Frequency\n",
       "-----------------------------------------------------------------------------\n",
       "AR.1           -0.6694           -1.3930j            1.5455           -0.3213\n",
       "AR.2           -0.6694           +1.3930j            1.5455            0.3213\n",
       "MA.1           -0.7270           -1.1772j            1.3836           -0.3381\n",
       "MA.2           -0.7270           +1.1772j            1.3836            0.3381\n",
       "MA.3            4.5096           -0.0000j            4.5096           -0.0000\n",
       "-----------------------------------------------------------------------------\n",
       "\"\"\""
      ]
     },
     "execution_count": 15,
     "metadata": {},
     "output_type": "execute_result"
    }
   ],
   "source": [
    "model_ret_ar_2_ma_3 = ARMA(df.returns[1:], order=(2,3))\n",
    "results_ret_ar_2_ma_3 = model_ret_ar_2_ma_3.fit()\n",
    "results_ret_ar_2_ma_3.summary()"
   ]
  },
  {
   "cell_type": "code",
   "execution_count": 16,
   "metadata": {},
   "outputs": [
    {
     "data": {
      "text/plain": [
       "0.042"
      ]
     },
     "execution_count": 16,
     "metadata": {},
     "output_type": "execute_result"
    }
   ],
   "source": [
    "LLR_test(model_ret_ar_2_ma_3, model_ret_ar_3_ma_3)"
   ]
  },
  {
   "cell_type": "code",
   "execution_count": 17,
   "metadata": {},
   "outputs": [
    {
     "data": {
      "text/html": [
       "<table class=\"simpletable\">\n",
       "<caption>ARMA Model Results</caption>\n",
       "<tr>\n",
       "  <th>Dep. Variable:</th>      <td>returns</td>     <th>  No. Observations:  </th>   <td>5020</td>   \n",
       "</tr>\n",
       "<tr>\n",
       "  <th>Model:</th>            <td>ARMA(3, 1)</td>    <th>  Log Likelihood     </th> <td>-7899.072</td>\n",
       "</tr>\n",
       "<tr>\n",
       "  <th>Method:</th>             <td>css-mle</td>     <th>  S.D. of innovations</th>   <td>1.167</td>  \n",
       "</tr>\n",
       "<tr>\n",
       "  <th>Date:</th>          <td>Sun, 08 Sep 2019</td> <th>  AIC                </th> <td>15810.144</td>\n",
       "</tr>\n",
       "<tr>\n",
       "  <th>Time:</th>              <td>17:46:14</td>     <th>  BIC                </th> <td>15849.271</td>\n",
       "</tr>\n",
       "<tr>\n",
       "  <th>Sample:</th>           <td>01-10-1994</td>    <th>  HQIC               </th> <td>15823.855</td>\n",
       "</tr>\n",
       "<tr>\n",
       "  <th></th>                 <td>- 04-05-2013</td>   <th>                     </th>     <td> </td>    \n",
       "</tr>\n",
       "</table>\n",
       "<table class=\"simpletable\">\n",
       "<tr>\n",
       "        <td></td>           <th>coef</th>     <th>std err</th>      <th>z</th>      <th>P>|z|</th>  <th>[0.025</th>    <th>0.975]</th>  \n",
       "</tr>\n",
       "<tr>\n",
       "  <th>const</th>         <td>    0.0189</td> <td>    0.015</td> <td>    1.298</td> <td> 0.194</td> <td>   -0.010</td> <td>    0.047</td>\n",
       "</tr>\n",
       "<tr>\n",
       "  <th>ar.L1.returns</th> <td>   -0.5077</td> <td>    0.088</td> <td>   -5.769</td> <td> 0.000</td> <td>   -0.680</td> <td>   -0.335</td>\n",
       "</tr>\n",
       "<tr>\n",
       "  <th>ar.L2.returns</th> <td>   -0.0638</td> <td>    0.016</td> <td>   -4.023</td> <td> 0.000</td> <td>   -0.095</td> <td>   -0.033</td>\n",
       "</tr>\n",
       "<tr>\n",
       "  <th>ar.L3.returns</th> <td>   -0.1102</td> <td>    0.014</td> <td>   -7.850</td> <td> 0.000</td> <td>   -0.138</td> <td>   -0.083</td>\n",
       "</tr>\n",
       "<tr>\n",
       "  <th>ma.L1.returns</th> <td>    0.4839</td> <td>    0.088</td> <td>    5.500</td> <td> 0.000</td> <td>    0.311</td> <td>    0.656</td>\n",
       "</tr>\n",
       "</table>\n",
       "<table class=\"simpletable\">\n",
       "<caption>Roots</caption>\n",
       "<tr>\n",
       "    <td></td>   <th>            Real</th>  <th>         Imaginary</th> <th>         Modulus</th>  <th>        Frequency</th>\n",
       "</tr>\n",
       "<tr>\n",
       "  <th>AR.1</th> <td>          -1.5095</td> <td>          -0.0000j</td> <td>           1.5095</td> <td>          -0.5000</td>\n",
       "</tr>\n",
       "<tr>\n",
       "  <th>AR.2</th> <td>           0.4653</td> <td>          -2.4076j</td> <td>           2.4521</td> <td>          -0.2196</td>\n",
       "</tr>\n",
       "<tr>\n",
       "  <th>AR.3</th> <td>           0.4653</td> <td>          +2.4076j</td> <td>           2.4521</td> <td>           0.2196</td>\n",
       "</tr>\n",
       "<tr>\n",
       "  <th>MA.1</th> <td>          -2.0668</td> <td>          +0.0000j</td> <td>           2.0668</td> <td>           0.5000</td>\n",
       "</tr>\n",
       "</table>"
      ],
      "text/plain": [
       "<class 'statsmodels.iolib.summary.Summary'>\n",
       "\"\"\"\n",
       "                              ARMA Model Results                              \n",
       "==============================================================================\n",
       "Dep. Variable:                returns   No. Observations:                 5020\n",
       "Model:                     ARMA(3, 1)   Log Likelihood               -7899.072\n",
       "Method:                       css-mle   S.D. of innovations              1.167\n",
       "Date:                Sun, 08 Sep 2019   AIC                          15810.144\n",
       "Time:                        17:46:14   BIC                          15849.271\n",
       "Sample:                    01-10-1994   HQIC                         15823.855\n",
       "                         - 04-05-2013                                         \n",
       "=================================================================================\n",
       "                    coef    std err          z      P>|z|      [0.025      0.975]\n",
       "---------------------------------------------------------------------------------\n",
       "const             0.0189      0.015      1.298      0.194      -0.010       0.047\n",
       "ar.L1.returns    -0.5077      0.088     -5.769      0.000      -0.680      -0.335\n",
       "ar.L2.returns    -0.0638      0.016     -4.023      0.000      -0.095      -0.033\n",
       "ar.L3.returns    -0.1102      0.014     -7.850      0.000      -0.138      -0.083\n",
       "ma.L1.returns     0.4839      0.088      5.500      0.000       0.311       0.656\n",
       "                                    Roots                                    \n",
       "=============================================================================\n",
       "                  Real          Imaginary           Modulus         Frequency\n",
       "-----------------------------------------------------------------------------\n",
       "AR.1           -1.5095           -0.0000j            1.5095           -0.5000\n",
       "AR.2            0.4653           -2.4076j            2.4521           -0.2196\n",
       "AR.3            0.4653           +2.4076j            2.4521            0.2196\n",
       "MA.1           -2.0668           +0.0000j            2.0668            0.5000\n",
       "-----------------------------------------------------------------------------\n",
       "\"\"\""
      ]
     },
     "execution_count": 17,
     "metadata": {},
     "output_type": "execute_result"
    }
   ],
   "source": [
    "model_ret_ar_3_ma_1 = ARMA(df.returns[1:], order=(3,1))\n",
    "results_ret_ar_3_ma_1 = model_ret_ar_3_ma_1.fit()\n",
    "results_ret_ar_3_ma_1.summary()"
   ]
  },
  {
   "cell_type": "code",
   "execution_count": 18,
   "metadata": {},
   "outputs": [
    {
     "data": {
      "text/plain": [
       "0.01"
      ]
     },
     "execution_count": 18,
     "metadata": {},
     "output_type": "execute_result"
    }
   ],
   "source": [
    "LLR_test(model_ret_ar_3_ma_1, model_ret_ar_3_ma_2)"
   ]
  },
  {
   "cell_type": "code",
   "execution_count": 19,
   "metadata": {},
   "outputs": [
    {
     "data": {
      "text/html": [
       "<table class=\"simpletable\">\n",
       "<caption>ARMA Model Results</caption>\n",
       "<tr>\n",
       "  <th>Dep. Variable:</th>      <td>returns</td>     <th>  No. Observations:  </th>   <td>5020</td>   \n",
       "</tr>\n",
       "<tr>\n",
       "  <th>Model:</th>            <td>ARMA(2, 2)</td>    <th>  Log Likelihood     </th> <td>-7913.223</td>\n",
       "</tr>\n",
       "<tr>\n",
       "  <th>Method:</th>             <td>css-mle</td>     <th>  S.D. of innovations</th>   <td>1.170</td>  \n",
       "</tr>\n",
       "<tr>\n",
       "  <th>Date:</th>          <td>Sun, 08 Sep 2019</td> <th>  AIC                </th> <td>15838.446</td>\n",
       "</tr>\n",
       "<tr>\n",
       "  <th>Time:</th>              <td>17:47:04</td>     <th>  BIC                </th> <td>15877.573</td>\n",
       "</tr>\n",
       "<tr>\n",
       "  <th>Sample:</th>           <td>01-10-1994</td>    <th>  HQIC               </th> <td>15852.156</td>\n",
       "</tr>\n",
       "<tr>\n",
       "  <th></th>                 <td>- 04-05-2013</td>   <th>                     </th>     <td> </td>    \n",
       "</tr>\n",
       "</table>\n",
       "<table class=\"simpletable\">\n",
       "<tr>\n",
       "        <td></td>           <th>coef</th>     <th>std err</th>      <th>z</th>      <th>P>|z|</th>  <th>[0.025</th>    <th>0.975]</th>  \n",
       "</tr>\n",
       "<tr>\n",
       "  <th>const</th>         <td>    0.0189</td> <td>    0.014</td> <td>    1.394</td> <td> 0.163</td> <td>   -0.008</td> <td>    0.045</td>\n",
       "</tr>\n",
       "<tr>\n",
       "  <th>ar.L1.returns</th> <td>    0.7820</td> <td>    0.238</td> <td>    3.284</td> <td> 0.001</td> <td>    0.315</td> <td>    1.249</td>\n",
       "</tr>\n",
       "<tr>\n",
       "  <th>ar.L2.returns</th> <td>   -0.1563</td> <td>    0.177</td> <td>   -0.884</td> <td> 0.377</td> <td>   -0.503</td> <td>    0.190</td>\n",
       "</tr>\n",
       "<tr>\n",
       "  <th>ma.L1.returns</th> <td>   -0.8105</td> <td>    0.239</td> <td>   -3.388</td> <td> 0.001</td> <td>   -1.279</td> <td>   -0.342</td>\n",
       "</tr>\n",
       "<tr>\n",
       "  <th>ma.L2.returns</th> <td>    0.1177</td> <td>    0.187</td> <td>    0.628</td> <td> 0.530</td> <td>   -0.250</td> <td>    0.485</td>\n",
       "</tr>\n",
       "</table>\n",
       "<table class=\"simpletable\">\n",
       "<caption>Roots</caption>\n",
       "<tr>\n",
       "    <td></td>   <th>            Real</th>  <th>         Imaginary</th> <th>         Modulus</th>  <th>        Frequency</th>\n",
       "</tr>\n",
       "<tr>\n",
       "  <th>AR.1</th> <td>           2.5017</td> <td>          -0.3737j</td> <td>           2.5295</td> <td>          -0.0236</td>\n",
       "</tr>\n",
       "<tr>\n",
       "  <th>AR.2</th> <td>           2.5017</td> <td>          +0.3737j</td> <td>           2.5295</td> <td>           0.0236</td>\n",
       "</tr>\n",
       "<tr>\n",
       "  <th>MA.1</th> <td>           1.6107</td> <td>          +0.0000j</td> <td>           1.6107</td> <td>           0.0000</td>\n",
       "</tr>\n",
       "<tr>\n",
       "  <th>MA.2</th> <td>           5.2740</td> <td>          +0.0000j</td> <td>           5.2740</td> <td>           0.0000</td>\n",
       "</tr>\n",
       "</table>"
      ],
      "text/plain": [
       "<class 'statsmodels.iolib.summary.Summary'>\n",
       "\"\"\"\n",
       "                              ARMA Model Results                              \n",
       "==============================================================================\n",
       "Dep. Variable:                returns   No. Observations:                 5020\n",
       "Model:                     ARMA(2, 2)   Log Likelihood               -7913.223\n",
       "Method:                       css-mle   S.D. of innovations              1.170\n",
       "Date:                Sun, 08 Sep 2019   AIC                          15838.446\n",
       "Time:                        17:47:04   BIC                          15877.573\n",
       "Sample:                    01-10-1994   HQIC                         15852.156\n",
       "                         - 04-05-2013                                         \n",
       "=================================================================================\n",
       "                    coef    std err          z      P>|z|      [0.025      0.975]\n",
       "---------------------------------------------------------------------------------\n",
       "const             0.0189      0.014      1.394      0.163      -0.008       0.045\n",
       "ar.L1.returns     0.7820      0.238      3.284      0.001       0.315       1.249\n",
       "ar.L2.returns    -0.1563      0.177     -0.884      0.377      -0.503       0.190\n",
       "ma.L1.returns    -0.8105      0.239     -3.388      0.001      -1.279      -0.342\n",
       "ma.L2.returns     0.1177      0.187      0.628      0.530      -0.250       0.485\n",
       "                                    Roots                                    \n",
       "=============================================================================\n",
       "                  Real          Imaginary           Modulus         Frequency\n",
       "-----------------------------------------------------------------------------\n",
       "AR.1            2.5017           -0.3737j            2.5295           -0.0236\n",
       "AR.2            2.5017           +0.3737j            2.5295            0.0236\n",
       "MA.1            1.6107           +0.0000j            1.6107            0.0000\n",
       "MA.2            5.2740           +0.0000j            5.2740            0.0000\n",
       "-----------------------------------------------------------------------------\n",
       "\"\"\""
      ]
     },
     "execution_count": 19,
     "metadata": {},
     "output_type": "execute_result"
    }
   ],
   "source": [
    "model_ret_ar_2_ma_2 = ARMA(df.returns[1:], order=(2,2))\n",
    "results_ret_ar_2_ma_2 = model_ret_ar_2_ma_2.fit()\n",
    "results_ret_ar_2_ma_2.summary()"
   ]
  },
  {
   "cell_type": "code",
   "execution_count": 20,
   "metadata": {},
   "outputs": [
    {
     "data": {
      "text/html": [
       "<table class=\"simpletable\">\n",
       "<caption>ARMA Model Results</caption>\n",
       "<tr>\n",
       "  <th>Dep. Variable:</th>      <td>returns</td>     <th>  No. Observations:  </th>   <td>5020</td>   \n",
       "</tr>\n",
       "<tr>\n",
       "  <th>Model:</th>            <td>ARMA(1, 3)</td>    <th>  Log Likelihood     </th> <td>-7896.838</td>\n",
       "</tr>\n",
       "<tr>\n",
       "  <th>Method:</th>             <td>css-mle</td>     <th>  S.D. of innovations</th>   <td>1.167</td>  \n",
       "</tr>\n",
       "<tr>\n",
       "  <th>Date:</th>          <td>Sun, 08 Sep 2019</td> <th>  AIC                </th> <td>15805.676</td>\n",
       "</tr>\n",
       "<tr>\n",
       "  <th>Time:</th>              <td>17:47:41</td>     <th>  BIC                </th> <td>15844.803</td>\n",
       "</tr>\n",
       "<tr>\n",
       "  <th>Sample:</th>           <td>01-10-1994</td>    <th>  HQIC               </th> <td>15819.386</td>\n",
       "</tr>\n",
       "<tr>\n",
       "  <th></th>                 <td>- 04-05-2013</td>   <th>                     </th>     <td> </td>    \n",
       "</tr>\n",
       "</table>\n",
       "<table class=\"simpletable\">\n",
       "<tr>\n",
       "        <td></td>           <th>coef</th>     <th>std err</th>      <th>z</th>      <th>P>|z|</th>  <th>[0.025</th>    <th>0.975]</th>  \n",
       "</tr>\n",
       "<tr>\n",
       "  <th>const</th>         <td>    0.0189</td> <td>    0.014</td> <td>    1.332</td> <td> 0.183</td> <td>   -0.009</td> <td>    0.047</td>\n",
       "</tr>\n",
       "<tr>\n",
       "  <th>ar.L1.returns</th> <td>   -0.4699</td> <td>    0.096</td> <td>   -4.901</td> <td> 0.000</td> <td>   -0.658</td> <td>   -0.282</td>\n",
       "</tr>\n",
       "<tr>\n",
       "  <th>ma.L1.returns</th> <td>    0.4474</td> <td>    0.095</td> <td>    4.691</td> <td> 0.000</td> <td>    0.260</td> <td>    0.634</td>\n",
       "</tr>\n",
       "<tr>\n",
       "  <th>ma.L2.returns</th> <td>   -0.0637</td> <td>    0.015</td> <td>   -4.113</td> <td> 0.000</td> <td>   -0.094</td> <td>   -0.033</td>\n",
       "</tr>\n",
       "<tr>\n",
       "  <th>ma.L3.returns</th> <td>   -0.1182</td> <td>    0.014</td> <td>   -8.200</td> <td> 0.000</td> <td>   -0.146</td> <td>   -0.090</td>\n",
       "</tr>\n",
       "</table>\n",
       "<table class=\"simpletable\">\n",
       "<caption>Roots</caption>\n",
       "<tr>\n",
       "    <td></td>   <th>            Real</th>  <th>         Imaginary</th> <th>         Modulus</th>  <th>        Frequency</th>\n",
       "</tr>\n",
       "<tr>\n",
       "  <th>AR.1</th> <td>          -2.1282</td> <td>          +0.0000j</td> <td>           2.1282</td> <td>           0.5000</td>\n",
       "</tr>\n",
       "<tr>\n",
       "  <th>MA.1</th> <td>          -1.4882</td> <td>          -1.1206j</td> <td>           1.8629</td> <td>          -0.3973</td>\n",
       "</tr>\n",
       "<tr>\n",
       "  <th>MA.2</th> <td>          -1.4882</td> <td>          +1.1206j</td> <td>           1.8629</td> <td>           0.3973</td>\n",
       "</tr>\n",
       "<tr>\n",
       "  <th>MA.3</th> <td>           2.4376</td> <td>          -0.0000j</td> <td>           2.4376</td> <td>          -0.0000</td>\n",
       "</tr>\n",
       "</table>"
      ],
      "text/plain": [
       "<class 'statsmodels.iolib.summary.Summary'>\n",
       "\"\"\"\n",
       "                              ARMA Model Results                              \n",
       "==============================================================================\n",
       "Dep. Variable:                returns   No. Observations:                 5020\n",
       "Model:                     ARMA(1, 3)   Log Likelihood               -7896.838\n",
       "Method:                       css-mle   S.D. of innovations              1.167\n",
       "Date:                Sun, 08 Sep 2019   AIC                          15805.676\n",
       "Time:                        17:47:41   BIC                          15844.803\n",
       "Sample:                    01-10-1994   HQIC                         15819.386\n",
       "                         - 04-05-2013                                         \n",
       "=================================================================================\n",
       "                    coef    std err          z      P>|z|      [0.025      0.975]\n",
       "---------------------------------------------------------------------------------\n",
       "const             0.0189      0.014      1.332      0.183      -0.009       0.047\n",
       "ar.L1.returns    -0.4699      0.096     -4.901      0.000      -0.658      -0.282\n",
       "ma.L1.returns     0.4474      0.095      4.691      0.000       0.260       0.634\n",
       "ma.L2.returns    -0.0637      0.015     -4.113      0.000      -0.094      -0.033\n",
       "ma.L3.returns    -0.1182      0.014     -8.200      0.000      -0.146      -0.090\n",
       "                                    Roots                                    \n",
       "=============================================================================\n",
       "                  Real          Imaginary           Modulus         Frequency\n",
       "-----------------------------------------------------------------------------\n",
       "AR.1           -2.1282           +0.0000j            2.1282            0.5000\n",
       "MA.1           -1.4882           -1.1206j            1.8629           -0.3973\n",
       "MA.2           -1.4882           +1.1206j            1.8629            0.3973\n",
       "MA.3            2.4376           -0.0000j            2.4376           -0.0000\n",
       "-----------------------------------------------------------------------------\n",
       "\"\"\""
      ]
     },
     "execution_count": 20,
     "metadata": {},
     "output_type": "execute_result"
    }
   ],
   "source": [
    "model_ret_ar_1_ma_3 = ARMA(df.returns[1:], order=(1,3))\n",
    "results_ret_ar_1_ma_3 = model_ret_ar_1_ma_3.fit()\n",
    "results_ret_ar_1_ma_3.summary()"
   ]
  },
  {
   "cell_type": "code",
   "execution_count": 21,
   "metadata": {},
   "outputs": [
    {
     "name": "stdout",
     "output_type": "stream",
     "text": [
      "\n",
      " ARMA(3,2): \tLL =  -7895.74745851493 \tAIC =  15805.49491702986\n",
      "\n",
      " ARMA(1,3): \tLL =  -7896.837893752797 \tAIC =  15805.675787505594\n"
     ]
    }
   ],
   "source": [
    "print(\"\\n ARMA(3,2): \\tLL = \", results_ret_ar_3_ma_2.llf, \"\\tAIC = \", results_ret_ar_3_ma_2.aic)\n",
    "print(\"\\n ARMA(1,3): \\tLL = \", results_ret_ar_1_ma_3.llf, \"\\tAIC = \", results_ret_ar_1_ma_3.aic)"
   ]
  },
  {
   "cell_type": "markdown",
   "metadata": {},
   "source": [
    "## Residuals for Returns"
   ]
  },
  {
   "cell_type": "code",
   "execution_count": 22,
   "metadata": {},
   "outputs": [],
   "source": [
    "df['res_ret_ar_3_ma_2'] = results_ret_ar_3_ma_2.resid[1:]"
   ]
  },
  {
   "cell_type": "code",
   "execution_count": 23,
   "metadata": {},
   "outputs": [
    {
     "data": {
      "image/png": "[encoded data removed]",
      "text/plain": [
       "<Figure size 1440x360 with 1 Axes>"
      ]
     },
     "metadata": {
      "needs_background": "light"
     },
     "output_type": "display_data"
    }
   ],
   "source": [
    "df.res_ret_ar_3_ma_2.plot(figsize = (20,5))\n",
    "plt.title(\"Residuals of Returns\", size=24)\n",
    "plt.show()"
   ]
  },
  {
   "cell_type": "code",
   "execution_count": 24,
   "metadata": {},
   "outputs": [
    {
     "data": {
      "image/png": "[encoded data removed]",
      "text/plain": [
       "<Figure size 432x288 with 1 Axes>"
      ]
     },
     "metadata": {
      "needs_background": "light"
     },
     "output_type": "display_data"
    }
   ],
   "source": [
    "sgt.plot_acf(df.res_ret_ar_3_ma_2[2:], zero = False, lags = 40)\n",
    "plt.title(\"ACF Of Residuals for Returns\",size=24)\n",
    "plt.show()"
   ]
  },
  {
   "cell_type": "markdown",
   "metadata": {},
   "source": [
    "## Reevaluating Model Selection"
   ]
  },
  {
   "cell_type": "code",
   "execution_count": 25,
   "metadata": {},
   "outputs": [
    {
     "data": {
      "text/html": [
       "<table class=\"simpletable\">\n",
       "<caption>ARMA Model Results</caption>\n",
       "<tr>\n",
       "  <th>Dep. Variable:</th>      <td>returns</td>     <th>  No. Observations:  </th>   <td>5020</td>   \n",
       "</tr>\n",
       "<tr>\n",
       "  <th>Model:</th>            <td>ARMA(5, 5)</td>    <th>  Log Likelihood     </th> <td>-7882.160</td>\n",
       "</tr>\n",
       "<tr>\n",
       "  <th>Method:</th>             <td>css-mle</td>     <th>  S.D. of innovations</th>   <td>1.163</td>  \n",
       "</tr>\n",
       "<tr>\n",
       "  <th>Date:</th>          <td>Sun, 08 Sep 2019</td> <th>  AIC                </th> <td>15788.321</td>\n",
       "</tr>\n",
       "<tr>\n",
       "  <th>Time:</th>              <td>17:52:26</td>     <th>  BIC                </th> <td>15866.575</td>\n",
       "</tr>\n",
       "<tr>\n",
       "  <th>Sample:</th>           <td>01-10-1994</td>    <th>  HQIC               </th> <td>15815.742</td>\n",
       "</tr>\n",
       "<tr>\n",
       "  <th></th>                 <td>- 04-05-2013</td>   <th>                     </th>     <td> </td>    \n",
       "</tr>\n",
       "</table>\n",
       "<table class=\"simpletable\">\n",
       "<tr>\n",
       "        <td></td>           <th>coef</th>     <th>std err</th>      <th>z</th>      <th>P>|z|</th>  <th>[0.025</th>    <th>0.975]</th>  \n",
       "</tr>\n",
       "<tr>\n",
       "  <th>const</th>         <td>    0.0189</td> <td>    0.013</td> <td>    1.402</td> <td> 0.161</td> <td>   -0.008</td> <td>    0.045</td>\n",
       "</tr>\n",
       "<tr>\n",
       "  <th>ar.L1.returns</th> <td>   -0.0684</td> <td>    0.140</td> <td>   -0.490</td> <td> 0.624</td> <td>   -0.342</td> <td>    0.205</td>\n",
       "</tr>\n",
       "<tr>\n",
       "  <th>ar.L2.returns</th> <td>   -0.6722</td> <td>    0.146</td> <td>   -4.603</td> <td> 0.000</td> <td>   -0.958</td> <td>   -0.386</td>\n",
       "</tr>\n",
       "<tr>\n",
       "  <th>ar.L3.returns</th> <td>   -0.1152</td> <td>    0.141</td> <td>   -0.817</td> <td> 0.414</td> <td>   -0.392</td> <td>    0.161</td>\n",
       "</tr>\n",
       "<tr>\n",
       "  <th>ar.L4.returns</th> <td>    0.1779</td> <td>    0.129</td> <td>    1.381</td> <td> 0.167</td> <td>   -0.075</td> <td>    0.430</td>\n",
       "</tr>\n",
       "<tr>\n",
       "  <th>ar.L5.returns</th> <td>    0.1215</td> <td>    0.107</td> <td>    1.132</td> <td> 0.258</td> <td>   -0.089</td> <td>    0.332</td>\n",
       "</tr>\n",
       "<tr>\n",
       "  <th>ma.L1.returns</th> <td>    0.0443</td> <td>    0.138</td> <td>    0.322</td> <td> 0.748</td> <td>   -0.226</td> <td>    0.314</td>\n",
       "</tr>\n",
       "<tr>\n",
       "  <th>ma.L2.returns</th> <td>    0.6223</td> <td>    0.144</td> <td>    4.321</td> <td> 0.000</td> <td>    0.340</td> <td>    0.905</td>\n",
       "</tr>\n",
       "<tr>\n",
       "  <th>ma.L3.returns</th> <td>    0.0107</td> <td>    0.136</td> <td>    0.079</td> <td> 0.937</td> <td>   -0.256</td> <td>    0.277</td>\n",
       "</tr>\n",
       "<tr>\n",
       "  <th>ma.L4.returns</th> <td>   -0.1753</td> <td>    0.122</td> <td>   -1.436</td> <td> 0.151</td> <td>   -0.415</td> <td>    0.064</td>\n",
       "</tr>\n",
       "<tr>\n",
       "  <th>ma.L5.returns</th> <td>   -0.2240</td> <td>    0.104</td> <td>   -2.148</td> <td> 0.032</td> <td>   -0.428</td> <td>   -0.020</td>\n",
       "</tr>\n",
       "</table>\n",
       "<table class=\"simpletable\">\n",
       "<caption>Roots</caption>\n",
       "<tr>\n",
       "    <td></td>   <th>            Real</th>  <th>         Imaginary</th> <th>         Modulus</th>  <th>        Frequency</th>\n",
       "</tr>\n",
       "<tr>\n",
       "  <th>AR.1</th> <td>           0.0870</td> <td>          -1.0364j</td> <td>           1.0401</td> <td>          -0.2367</td>\n",
       "</tr>\n",
       "<tr>\n",
       "  <th>AR.2</th> <td>           0.0870</td> <td>          +1.0364j</td> <td>           1.0401</td> <td>           0.2367</td>\n",
       "</tr>\n",
       "<tr>\n",
       "  <th>AR.3</th> <td>           1.7715</td> <td>          -0.0000j</td> <td>           1.7715</td> <td>          -0.0000</td>\n",
       "</tr>\n",
       "<tr>\n",
       "  <th>AR.4</th> <td>          -1.7050</td> <td>          -1.1784j</td> <td>           2.0726</td> <td>          -0.4038</td>\n",
       "</tr>\n",
       "<tr>\n",
       "  <th>AR.5</th> <td>          -1.7050</td> <td>          +1.1784j</td> <td>           2.0726</td> <td>           0.4038</td>\n",
       "</tr>\n",
       "<tr>\n",
       "  <th>MA.1</th> <td>           0.1033</td> <td>          -1.0434j</td> <td>           1.0485</td> <td>          -0.2343</td>\n",
       "</tr>\n",
       "<tr>\n",
       "  <th>MA.2</th> <td>           0.1033</td> <td>          +1.0434j</td> <td>           1.0485</td> <td>           0.2343</td>\n",
       "</tr>\n",
       "<tr>\n",
       "  <th>MA.3</th> <td>           1.4855</td> <td>          -0.0000j</td> <td>           1.4855</td> <td>          -0.0000</td>\n",
       "</tr>\n",
       "<tr>\n",
       "  <th>MA.4</th> <td>          -1.2373</td> <td>          -1.0965j</td> <td>           1.6532</td> <td>          -0.3846</td>\n",
       "</tr>\n",
       "<tr>\n",
       "  <th>MA.5</th> <td>          -1.2373</td> <td>          +1.0965j</td> <td>           1.6532</td> <td>           0.3846</td>\n",
       "</tr>\n",
       "</table>"
      ],
      "text/plain": [
       "<class 'statsmodels.iolib.summary.Summary'>\n",
       "\"\"\"\n",
       "                              ARMA Model Results                              \n",
       "==============================================================================\n",
       "Dep. Variable:                returns   No. Observations:                 5020\n",
       "Model:                     ARMA(5, 5)   Log Likelihood               -7882.160\n",
       "Method:                       css-mle   S.D. of innovations              1.163\n",
       "Date:                Sun, 08 Sep 2019   AIC                          15788.321\n",
       "Time:                        17:52:26   BIC                          15866.575\n",
       "Sample:                    01-10-1994   HQIC                         15815.742\n",
       "                         - 04-05-2013                                         \n",
       "=================================================================================\n",
       "                    coef    std err          z      P>|z|      [0.025      0.975]\n",
       "---------------------------------------------------------------------------------\n",
       "const             0.0189      0.013      1.402      0.161      -0.008       0.045\n",
       "ar.L1.returns    -0.0684      0.140     -0.490      0.624      -0.342       0.205\n",
       "ar.L2.returns    -0.6722      0.146     -4.603      0.000      -0.958      -0.386\n",
       "ar.L3.returns    -0.1152      0.141     -0.817      0.414      -0.392       0.161\n",
       "ar.L4.returns     0.1779      0.129      1.381      0.167      -0.075       0.430\n",
       "ar.L5.returns     0.1215      0.107      1.132      0.258      -0.089       0.332\n",
       "ma.L1.returns     0.0443      0.138      0.322      0.748      -0.226       0.314\n",
       "ma.L2.returns     0.6223      0.144      4.321      0.000       0.340       0.905\n",
       "ma.L3.returns     0.0107      0.136      0.079      0.937      -0.256       0.277\n",
       "ma.L4.returns    -0.1753      0.122     -1.436      0.151      -0.415       0.064\n",
       "ma.L5.returns    -0.2240      0.104     -2.148      0.032      -0.428      -0.020\n",
       "                                    Roots                                    \n",
       "=============================================================================\n",
       "                  Real          Imaginary           Modulus         Frequency\n",
       "-----------------------------------------------------------------------------\n",
       "AR.1            0.0870           -1.0364j            1.0401           -0.2367\n",
       "AR.2            0.0870           +1.0364j            1.0401            0.2367\n",
       "AR.3            1.7715           -0.0000j            1.7715           -0.0000\n",
       "AR.4           -1.7050           -1.1784j            2.0726           -0.4038\n",
       "AR.5           -1.7050           +1.1784j            2.0726            0.4038\n",
       "MA.1            0.1033           -1.0434j            1.0485           -0.2343\n",
       "MA.2            0.1033           +1.0434j            1.0485            0.2343\n",
       "MA.3            1.4855           -0.0000j            1.4855           -0.0000\n",
       "MA.4           -1.2373           -1.0965j            1.6532           -0.3846\n",
       "MA.5           -1.2373           +1.0965j            1.6532            0.3846\n",
       "-----------------------------------------------------------------------------\n",
       "\"\"\""
      ]
     },
     "execution_count": 25,
     "metadata": {},
     "output_type": "execute_result"
    }
   ],
   "source": [
    "model_ret_ar_5_ma_5 = ARMA(df.returns[1:], order=(5,5))\n",
    "results_ret_ar_5_ma_5 = model_ret_ar_5_ma_5.fit()\n",
    "results_ret_ar_5_ma_5.summary()"
   ]
  },
  {
   "cell_type": "code",
   "execution_count": 26,
   "metadata": {},
   "outputs": [
    {
     "data": {
      "text/html": [
       "<table class=\"simpletable\">\n",
       "<caption>ARMA Model Results</caption>\n",
       "<tr>\n",
       "  <th>Dep. Variable:</th>      <td>returns</td>     <th>  No. Observations:  </th>   <td>5020</td>   \n",
       "</tr>\n",
       "<tr>\n",
       "  <th>Model:</th>            <td>ARMA(5, 1)</td>    <th>  Log Likelihood     </th> <td>-7889.311</td>\n",
       "</tr>\n",
       "<tr>\n",
       "  <th>Method:</th>             <td>css-mle</td>     <th>  S.D. of innovations</th>   <td>1.165</td>  \n",
       "</tr>\n",
       "<tr>\n",
       "  <th>Date:</th>          <td>Sun, 08 Sep 2019</td> <th>  AIC                </th> <td>15794.623</td>\n",
       "</tr>\n",
       "<tr>\n",
       "  <th>Time:</th>              <td>17:52:51</td>     <th>  BIC                </th> <td>15846.792</td>\n",
       "</tr>\n",
       "<tr>\n",
       "  <th>Sample:</th>           <td>01-10-1994</td>    <th>  HQIC               </th> <td>15812.903</td>\n",
       "</tr>\n",
       "<tr>\n",
       "  <th></th>                 <td>- 04-05-2013</td>   <th>                     </th>     <td> </td>    \n",
       "</tr>\n",
       "</table>\n",
       "<table class=\"simpletable\">\n",
       "<tr>\n",
       "        <td></td>           <th>coef</th>     <th>std err</th>      <th>z</th>      <th>P>|z|</th>  <th>[0.025</th>    <th>0.975]</th>  \n",
       "</tr>\n",
       "<tr>\n",
       "  <th>const</th>         <td>    0.0189</td> <td>    0.013</td> <td>    1.407</td> <td> 0.159</td> <td>   -0.007</td> <td>    0.045</td>\n",
       "</tr>\n",
       "<tr>\n",
       "  <th>ar.L1.returns</th> <td>    0.3440</td> <td>    0.131</td> <td>    2.624</td> <td> 0.009</td> <td>    0.087</td> <td>    0.601</td>\n",
       "</tr>\n",
       "<tr>\n",
       "  <th>ar.L2.returns</th> <td>   -0.0458</td> <td>    0.015</td> <td>   -3.005</td> <td> 0.003</td> <td>   -0.076</td> <td>   -0.016</td>\n",
       "</tr>\n",
       "<tr>\n",
       "  <th>ar.L3.returns</th> <td>   -0.0652</td> <td>    0.016</td> <td>   -4.010</td> <td> 0.000</td> <td>   -0.097</td> <td>   -0.033</td>\n",
       "</tr>\n",
       "<tr>\n",
       "  <th>ar.L4.returns</th> <td>    0.0741</td> <td>    0.018</td> <td>    4.068</td> <td> 0.000</td> <td>    0.038</td> <td>    0.110</td>\n",
       "</tr>\n",
       "<tr>\n",
       "  <th>ar.L5.returns</th> <td>   -0.0813</td> <td>    0.014</td> <td>   -5.688</td> <td> 0.000</td> <td>   -0.109</td> <td>   -0.053</td>\n",
       "</tr>\n",
       "<tr>\n",
       "  <th>ma.L1.returns</th> <td>   -0.3673</td> <td>    0.131</td> <td>   -2.801</td> <td> 0.005</td> <td>   -0.624</td> <td>   -0.110</td>\n",
       "</tr>\n",
       "</table>\n",
       "<table class=\"simpletable\">\n",
       "<caption>Roots</caption>\n",
       "<tr>\n",
       "    <td></td>   <th>            Real</th>  <th>         Imaginary</th> <th>         Modulus</th>  <th>        Frequency</th>\n",
       "</tr>\n",
       "<tr>\n",
       "  <th>AR.1</th> <td>          -1.6158</td> <td>          -0.0000j</td> <td>           1.6158</td> <td>          -0.5000</td>\n",
       "</tr>\n",
       "<tr>\n",
       "  <th>AR.2</th> <td>           1.3793</td> <td>          -0.8613j</td> <td>           1.6261</td> <td>          -0.0888</td>\n",
       "</tr>\n",
       "<tr>\n",
       "  <th>AR.3</th> <td>           1.3793</td> <td>          +0.8613j</td> <td>           1.6261</td> <td>           0.0888</td>\n",
       "</tr>\n",
       "<tr>\n",
       "  <th>AR.4</th> <td>          -0.1156</td> <td>          -1.6929j</td> <td>           1.6968</td> <td>          -0.2608</td>\n",
       "</tr>\n",
       "<tr>\n",
       "  <th>AR.5</th> <td>          -0.1156</td> <td>          +1.6929j</td> <td>           1.6968</td> <td>           0.2608</td>\n",
       "</tr>\n",
       "<tr>\n",
       "  <th>MA.1</th> <td>           2.7223</td> <td>          +0.0000j</td> <td>           2.7223</td> <td>           0.0000</td>\n",
       "</tr>\n",
       "</table>"
      ],
      "text/plain": [
       "<class 'statsmodels.iolib.summary.Summary'>\n",
       "\"\"\"\n",
       "                              ARMA Model Results                              \n",
       "==============================================================================\n",
       "Dep. Variable:                returns   No. Observations:                 5020\n",
       "Model:                     ARMA(5, 1)   Log Likelihood               -7889.311\n",
       "Method:                       css-mle   S.D. of innovations              1.165\n",
       "Date:                Sun, 08 Sep 2019   AIC                          15794.623\n",
       "Time:                        17:52:51   BIC                          15846.792\n",
       "Sample:                    01-10-1994   HQIC                         15812.903\n",
       "                         - 04-05-2013                                         \n",
       "=================================================================================\n",
       "                    coef    std err          z      P>|z|      [0.025      0.975]\n",
       "---------------------------------------------------------------------------------\n",
       "const             0.0189      0.013      1.407      0.159      -0.007       0.045\n",
       "ar.L1.returns     0.3440      0.131      2.624      0.009       0.087       0.601\n",
       "ar.L2.returns    -0.0458      0.015     -3.005      0.003      -0.076      -0.016\n",
       "ar.L3.returns    -0.0652      0.016     -4.010      0.000      -0.097      -0.033\n",
       "ar.L4.returns     0.0741      0.018      4.068      0.000       0.038       0.110\n",
       "ar.L5.returns    -0.0813      0.014     -5.688      0.000      -0.109      -0.053\n",
       "ma.L1.returns    -0.3673      0.131     -2.801      0.005      -0.624      -0.110\n",
       "                                    Roots                                    \n",
       "=============================================================================\n",
       "                  Real          Imaginary           Modulus         Frequency\n",
       "-----------------------------------------------------------------------------\n",
       "AR.1           -1.6158           -0.0000j            1.6158           -0.5000\n",
       "AR.2            1.3793           -0.8613j            1.6261           -0.0888\n",
       "AR.3            1.3793           +0.8613j            1.6261            0.0888\n",
       "AR.4           -0.1156           -1.6929j            1.6968           -0.2608\n",
       "AR.5           -0.1156           +1.6929j            1.6968            0.2608\n",
       "MA.1            2.7223           +0.0000j            2.7223            0.0000\n",
       "-----------------------------------------------------------------------------\n",
       "\"\"\""
      ]
     },
     "execution_count": 26,
     "metadata": {},
     "output_type": "execute_result"
    }
   ],
   "source": [
    "model_ret_ar_5_ma_1 = ARMA(df.returns[1:], order=(5,1))\n",
    "results_ret_ar_5_ma_1 = model_ret_ar_5_ma_1.fit()\n",
    "results_ret_ar_5_ma_1.summary()"
   ]
  },
  {
   "cell_type": "code",
   "execution_count": 27,
   "metadata": {},
   "outputs": [
    {
     "data": {
      "text/html": [
       "<table class=\"simpletable\">\n",
       "<caption>ARMA Model Results</caption>\n",
       "<tr>\n",
       "  <th>Dep. Variable:</th>      <td>returns</td>     <th>  No. Observations:  </th>   <td>5020</td>   \n",
       "</tr>\n",
       "<tr>\n",
       "  <th>Model:</th>            <td>ARMA(1, 5)</td>    <th>  Log Likelihood     </th> <td>-7890.973</td>\n",
       "</tr>\n",
       "<tr>\n",
       "  <th>Method:</th>             <td>css-mle</td>     <th>  S.D. of innovations</th>   <td>1.165</td>  \n",
       "</tr>\n",
       "<tr>\n",
       "  <th>Date:</th>          <td>Sun, 08 Sep 2019</td> <th>  AIC                </th> <td>15797.947</td>\n",
       "</tr>\n",
       "<tr>\n",
       "  <th>Time:</th>              <td>17:53:13</td>     <th>  BIC                </th> <td>15850.116</td>\n",
       "</tr>\n",
       "<tr>\n",
       "  <th>Sample:</th>           <td>01-10-1994</td>    <th>  HQIC               </th> <td>15816.228</td>\n",
       "</tr>\n",
       "<tr>\n",
       "  <th></th>                 <td>- 04-05-2013</td>   <th>                     </th>     <td> </td>    \n",
       "</tr>\n",
       "</table>\n",
       "<table class=\"simpletable\">\n",
       "<tr>\n",
       "        <td></td>           <th>coef</th>     <th>std err</th>      <th>z</th>      <th>P>|z|</th>  <th>[0.025</th>    <th>0.975]</th>  \n",
       "</tr>\n",
       "<tr>\n",
       "  <th>const</th>         <td>    0.0189</td> <td>    0.013</td> <td>    1.419</td> <td> 0.156</td> <td>   -0.007</td> <td>    0.045</td>\n",
       "</tr>\n",
       "<tr>\n",
       "  <th>ar.L1.returns</th> <td>    0.3285</td> <td>    0.152</td> <td>    2.159</td> <td> 0.031</td> <td>    0.030</td> <td>    0.627</td>\n",
       "</tr>\n",
       "<tr>\n",
       "  <th>ma.L1.returns</th> <td>   -0.3534</td> <td>    0.152</td> <td>   -2.332</td> <td> 0.020</td> <td>   -0.650</td> <td>   -0.056</td>\n",
       "</tr>\n",
       "<tr>\n",
       "  <th>ma.L2.returns</th> <td>   -0.0404</td> <td>    0.015</td> <td>   -2.624</td> <td> 0.009</td> <td>   -0.071</td> <td>   -0.010</td>\n",
       "</tr>\n",
       "<tr>\n",
       "  <th>ma.L3.returns</th> <td>   -0.0679</td> <td>    0.017</td> <td>   -4.022</td> <td> 0.000</td> <td>   -0.101</td> <td>   -0.035</td>\n",
       "</tr>\n",
       "<tr>\n",
       "  <th>ma.L4.returns</th> <td>    0.0742</td> <td>    0.020</td> <td>    3.771</td> <td> 0.000</td> <td>    0.036</td> <td>    0.113</td>\n",
       "</tr>\n",
       "<tr>\n",
       "  <th>ma.L5.returns</th> <td>   -0.0683</td> <td>    0.015</td> <td>   -4.660</td> <td> 0.000</td> <td>   -0.097</td> <td>   -0.040</td>\n",
       "</tr>\n",
       "</table>\n",
       "<table class=\"simpletable\">\n",
       "<caption>Roots</caption>\n",
       "<tr>\n",
       "    <td></td>   <th>            Real</th>  <th>         Imaginary</th> <th>         Modulus</th>  <th>        Frequency</th>\n",
       "</tr>\n",
       "<tr>\n",
       "  <th>AR.1</th> <td>           3.0443</td> <td>          +0.0000j</td> <td>           3.0443</td> <td>           0.0000</td>\n",
       "</tr>\n",
       "<tr>\n",
       "  <th>MA.1</th> <td>          -1.1897</td> <td>          -1.1548j</td> <td>           1.6580</td> <td>          -0.3774</td>\n",
       "</tr>\n",
       "<tr>\n",
       "  <th>MA.2</th> <td>          -1.1897</td> <td>          +1.1548j</td> <td>           1.6580</td> <td>           0.3774</td>\n",
       "</tr>\n",
       "<tr>\n",
       "  <th>MA.3</th> <td>           1.5041</td> <td>          -0.0000j</td> <td>           1.5041</td> <td>          -0.0000</td>\n",
       "</tr>\n",
       "<tr>\n",
       "  <th>MA.4</th> <td>           0.9809</td> <td>          -1.6057j</td> <td>           1.8815</td> <td>          -0.1627</td>\n",
       "</tr>\n",
       "<tr>\n",
       "  <th>MA.5</th> <td>           0.9809</td> <td>          +1.6057j</td> <td>           1.8815</td> <td>           0.1627</td>\n",
       "</tr>\n",
       "</table>"
      ],
      "text/plain": [
       "<class 'statsmodels.iolib.summary.Summary'>\n",
       "\"\"\"\n",
       "                              ARMA Model Results                              \n",
       "==============================================================================\n",
       "Dep. Variable:                returns   No. Observations:                 5020\n",
       "Model:                     ARMA(1, 5)   Log Likelihood               -7890.973\n",
       "Method:                       css-mle   S.D. of innovations              1.165\n",
       "Date:                Sun, 08 Sep 2019   AIC                          15797.947\n",
       "Time:                        17:53:13   BIC                          15850.116\n",
       "Sample:                    01-10-1994   HQIC                         15816.228\n",
       "                         - 04-05-2013                                         \n",
       "=================================================================================\n",
       "                    coef    std err          z      P>|z|      [0.025      0.975]\n",
       "---------------------------------------------------------------------------------\n",
       "const             0.0189      0.013      1.419      0.156      -0.007       0.045\n",
       "ar.L1.returns     0.3285      0.152      2.159      0.031       0.030       0.627\n",
       "ma.L1.returns    -0.3534      0.152     -2.332      0.020      -0.650      -0.056\n",
       "ma.L2.returns    -0.0404      0.015     -2.624      0.009      -0.071      -0.010\n",
       "ma.L3.returns    -0.0679      0.017     -4.022      0.000      -0.101      -0.035\n",
       "ma.L4.returns     0.0742      0.020      3.771      0.000       0.036       0.113\n",
       "ma.L5.returns    -0.0683      0.015     -4.660      0.000      -0.097      -0.040\n",
       "                                    Roots                                    \n",
       "=============================================================================\n",
       "                  Real          Imaginary           Modulus         Frequency\n",
       "-----------------------------------------------------------------------------\n",
       "AR.1            3.0443           +0.0000j            3.0443            0.0000\n",
       "MA.1           -1.1897           -1.1548j            1.6580           -0.3774\n",
       "MA.2           -1.1897           +1.1548j            1.6580            0.3774\n",
       "MA.3            1.5041           -0.0000j            1.5041           -0.0000\n",
       "MA.4            0.9809           -1.6057j            1.8815           -0.1627\n",
       "MA.5            0.9809           +1.6057j            1.8815            0.1627\n",
       "-----------------------------------------------------------------------------\n",
       "\"\"\""
      ]
     },
     "execution_count": 27,
     "metadata": {},
     "output_type": "execute_result"
    }
   ],
   "source": [
    "model_ret_ar_1_ma_5 = ARMA(df.returns[1:], order=(1,5))\n",
    "results_ret_ar_1_ma_5 = model_ret_ar_1_ma_5.fit()\n",
    "results_ret_ar_1_ma_5.summary()"
   ]
  },
  {
   "cell_type": "code",
   "execution_count": 28,
   "metadata": {},
   "outputs": [
    {
     "name": "stdout",
     "output_type": "stream",
     "text": [
      "ARMA(5,1):  \t LL =  -7889.311282945815 \t AIC =  15794.62256589163\n",
      "ARMA(1,5):  \t LL =  -7890.9734602094495 \t AIC =  15797.946920418899\n"
     ]
    }
   ],
   "source": [
    "print(\"ARMA(5,1):  \\t LL = \",results_ret_ar_5_ma_1.llf,\"\\t AIC = \",results_ret_ar_5_ma_1.aic)\n",
    "print(\"ARMA(1,5):  \\t LL = \",results_ret_ar_1_ma_5.llf,\"\\t AIC = \",results_ret_ar_1_ma_5.aic)"
   ]
  },
  {
   "cell_type": "code",
   "execution_count": 30,
   "metadata": {},
   "outputs": [
    {
     "name": "stdout",
     "output_type": "stream",
     "text": [
      "ARMA(3,2):  \t LL =  -7895.74745851493 \t AIC =  15805.49491702986\n"
     ]
    }
   ],
   "source": [
    "print(\"ARMA(3,2):  \\t LL = \",results_ret_ar_3_ma_2.llf,\"\\t AIC = \",results_ret_ar_3_ma_2.aic)"
   ]
  },
  {
   "cell_type": "markdown",
   "metadata": {},
   "source": [
    "## Residuals for the New Model"
   ]
  },
  {
   "cell_type": "code",
   "execution_count": 31,
   "metadata": {},
   "outputs": [],
   "source": [
    "df['res_ret_ar_5_ma_1'] = results_ret_ar_5_ma_1.resid"
   ]
  },
  {
   "cell_type": "code",
   "execution_count": 32,
   "metadata": {},
   "outputs": [
    {
     "data": {
      "image/png": "[encoded data removed]",
      "text/plain": [
       "<Figure size 432x288 with 1 Axes>"
      ]
     },
     "metadata": {
      "needs_background": "light"
     },
     "output_type": "display_data"
    }
   ],
   "source": [
    "sgt.plot_acf(df.res_ret_ar_5_ma_1[1:], zero = False, lags = 40)\n",
    "plt.title(\"ACF of Residuals for Returns\",size=24)\n",
    "plt.show()"
   ]
  },
  {
   "cell_type": "markdown",
   "metadata": {},
   "source": [
    "## ARMA Models for Prices"
   ]
  },
  {
   "cell_type": "code",
   "execution_count": 33,
   "metadata": {},
   "outputs": [
    {
     "data": {
      "image/png": "[encoded data removed]",
      "text/plain": [
       "<Figure size 432x288 with 1 Axes>"
      ]
     },
     "metadata": {
      "needs_background": "light"
     },
     "output_type": "display_data"
    }
   ],
   "source": [
    "sgt.plot_acf(df.market_value, unbiased=True, zero = False, lags = 40)\n",
    "plt.title(\"Autocorrelation Function for Prices\",size=20)\n",
    "plt.show()"
   ]
  },
  {
   "cell_type": "code",
   "execution_count": 34,
   "metadata": {},
   "outputs": [
    {
     "data": {
      "image/png": "[encoded data removed]",
      "text/plain": [
       "<Figure size 432x288 with 1 Axes>"
      ]
     },
     "metadata": {
      "needs_background": "light"
     },
     "output_type": "display_data"
    }
   ],
   "source": [
    "sgt.plot_pacf(df.market_value, lags = 40, alpha = 0.05, zero = False , method = ('ols'))\n",
    "plt.title(\"Partial Autocorrelation Function for Prices\",size=20)\n",
    "plt.show()"
   ]
  },
  {
   "cell_type": "code",
   "execution_count": 35,
   "metadata": {},
   "outputs": [
    {
     "data": {
      "text/html": [
       "<table class=\"simpletable\">\n",
       "<caption>ARMA Model Results</caption>\n",
       "<tr>\n",
       "  <th>Dep. Variable:</th>   <td>market_value</td>   <th>  No. Observations:  </th>    <td>5021</td>   \n",
       "</tr>\n",
       "<tr>\n",
       "  <th>Model:</th>            <td>ARMA(1, 1)</td>    <th>  Log Likelihood     </th> <td>-27621.789</td>\n",
       "</tr>\n",
       "<tr>\n",
       "  <th>Method:</th>             <td>css-mle</td>     <th>  S.D. of innovations</th>   <td>59.248</td>  \n",
       "</tr>\n",
       "<tr>\n",
       "  <th>Date:</th>          <td>Sun, 08 Sep 2019</td> <th>  AIC                </th>  <td>55251.579</td>\n",
       "</tr>\n",
       "<tr>\n",
       "  <th>Time:</th>              <td>17:57:05</td>     <th>  BIC                </th>  <td>55277.664</td>\n",
       "</tr>\n",
       "<tr>\n",
       "  <th>Sample:</th>           <td>01-07-1994</td>    <th>  HQIC               </th>  <td>55260.719</td>\n",
       "</tr>\n",
       "<tr>\n",
       "  <th></th>                 <td>- 04-05-2013</td>   <th>                     </th>      <td> </td>    \n",
       "</tr>\n",
       "</table>\n",
       "<table class=\"simpletable\">\n",
       "<tr>\n",
       "           <td></td>             <th>coef</th>     <th>std err</th>      <th>z</th>      <th>P>|z|</th>  <th>[0.025</th>    <th>0.975]</th>  \n",
       "</tr>\n",
       "<tr>\n",
       "  <th>const</th>              <td> 5089.6411</td> <td>  496.827</td> <td>   10.244</td> <td> 0.000</td> <td> 4115.879</td> <td> 6063.403</td>\n",
       "</tr>\n",
       "<tr>\n",
       "  <th>ar.L1.market_value</th> <td>    0.9985</td> <td>    0.001</td> <td> 1323.212</td> <td> 0.000</td> <td>    0.997</td> <td>    1.000</td>\n",
       "</tr>\n",
       "<tr>\n",
       "  <th>ma.L1.market_value</th> <td>   -0.0190</td> <td>    0.015</td> <td>   -1.274</td> <td> 0.203</td> <td>   -0.048</td> <td>    0.010</td>\n",
       "</tr>\n",
       "</table>\n",
       "<table class=\"simpletable\">\n",
       "<caption>Roots</caption>\n",
       "<tr>\n",
       "    <td></td>   <th>            Real</th>  <th>         Imaginary</th> <th>         Modulus</th>  <th>        Frequency</th>\n",
       "</tr>\n",
       "<tr>\n",
       "  <th>AR.1</th> <td>           1.0015</td> <td>          +0.0000j</td> <td>           1.0015</td> <td>           0.0000</td>\n",
       "</tr>\n",
       "<tr>\n",
       "  <th>MA.1</th> <td>          52.5188</td> <td>          +0.0000j</td> <td>          52.5188</td> <td>           0.0000</td>\n",
       "</tr>\n",
       "</table>"
      ],
      "text/plain": [
       "<class 'statsmodels.iolib.summary.Summary'>\n",
       "\"\"\"\n",
       "                              ARMA Model Results                              \n",
       "==============================================================================\n",
       "Dep. Variable:           market_value   No. Observations:                 5021\n",
       "Model:                     ARMA(1, 1)   Log Likelihood              -27621.789\n",
       "Method:                       css-mle   S.D. of innovations             59.248\n",
       "Date:                Sun, 08 Sep 2019   AIC                          55251.579\n",
       "Time:                        17:57:05   BIC                          55277.664\n",
       "Sample:                    01-07-1994   HQIC                         55260.719\n",
       "                         - 04-05-2013                                         \n",
       "======================================================================================\n",
       "                         coef    std err          z      P>|z|      [0.025      0.975]\n",
       "--------------------------------------------------------------------------------------\n",
       "const               5089.6411    496.827     10.244      0.000    4115.879    6063.403\n",
       "ar.L1.market_value     0.9985      0.001   1323.212      0.000       0.997       1.000\n",
       "ma.L1.market_value    -0.0190      0.015     -1.274      0.203      -0.048       0.010\n",
       "                                    Roots                                    \n",
       "=============================================================================\n",
       "                  Real          Imaginary           Modulus         Frequency\n",
       "-----------------------------------------------------------------------------\n",
       "AR.1            1.0015           +0.0000j            1.0015            0.0000\n",
       "MA.1           52.5188           +0.0000j           52.5188            0.0000\n",
       "-----------------------------------------------------------------------------\n",
       "\"\"\""
      ]
     },
     "execution_count": 35,
     "metadata": {},
     "output_type": "execute_result"
    }
   ],
   "source": [
    "model_ar_1_ma_1 = ARMA(df.market_value, order=(1,1))\n",
    "results_ar_1_ma_1 = model_ar_1_ma_1.fit()\n",
    "results_ar_1_ma_1.summary()"
   ]
  },
  {
   "cell_type": "code",
   "execution_count": 36,
   "metadata": {},
   "outputs": [],
   "source": [
    "df['res_ar_1_ma_1'] = results_ar_1_ma_1.resid"
   ]
  },
  {
   "cell_type": "code",
   "execution_count": 37,
   "metadata": {},
   "outputs": [
    {
     "data": {
      "image/png": "[encoded data removed]",
      "text/plain": [
       "<Figure size 432x288 with 1 Axes>"
      ]
     },
     "metadata": {
      "needs_background": "light"
     },
     "output_type": "display_data"
    }
   ],
   "source": [
    "sgt.plot_acf(df.res_ar_1_ma_1, zero = False, lags = 40)\n",
    "plt.title(\"ACF Of Residuals of Prices\",size=20)\n",
    "plt.show()"
   ]
  },
  {
   "cell_type": "code",
   "execution_count": 40,
   "metadata": {},
   "outputs": [
    {
     "data": {
      "text/html": [
       "<table class=\"simpletable\">\n",
       "<caption>ARMA Model Results</caption>\n",
       "<tr>\n",
       "  <th>Dep. Variable:</th>   <td>market_value</td>   <th>  No. Observations:  </th>    <td>5021</td>   \n",
       "</tr>\n",
       "<tr>\n",
       "  <th>Model:</th>            <td>ARMA(6, 6)</td>    <th>  Log Likelihood     </th> <td>-27587.932</td>\n",
       "</tr>\n",
       "<tr>\n",
       "  <th>Method:</th>             <td>css-mle</td>     <th>  S.D. of innovations</th>   <td>58.849</td>  \n",
       "</tr>\n",
       "<tr>\n",
       "  <th>Date:</th>          <td>Sun, 08 Sep 2019</td> <th>  AIC                </th>  <td>55203.864</td>\n",
       "</tr>\n",
       "<tr>\n",
       "  <th>Time:</th>              <td>17:59:06</td>     <th>  BIC                </th>  <td>55295.164</td>\n",
       "</tr>\n",
       "<tr>\n",
       "  <th>Sample:</th>           <td>01-07-1994</td>    <th>  HQIC               </th>  <td>55235.856</td>\n",
       "</tr>\n",
       "<tr>\n",
       "  <th></th>                 <td>- 04-05-2013</td>   <th>                     </th>      <td> </td>    \n",
       "</tr>\n",
       "</table>\n",
       "<table class=\"simpletable\">\n",
       "<tr>\n",
       "           <td></td>             <th>coef</th>     <th>std err</th>      <th>z</th>      <th>P>|z|</th>  <th>[0.025</th>    <th>0.975]</th>  \n",
       "</tr>\n",
       "<tr>\n",
       "  <th>const</th>              <td> 5089.6487</td> <td>  568.236</td> <td>    8.957</td> <td> 0.000</td> <td> 3975.926</td> <td> 6203.372</td>\n",
       "</tr>\n",
       "<tr>\n",
       "  <th>ar.L1.market_value</th> <td>    1.9277</td> <td>    0.032</td> <td>   59.829</td> <td> 0.000</td> <td>    1.865</td> <td>    1.991</td>\n",
       "</tr>\n",
       "<tr>\n",
       "  <th>ar.L2.market_value</th> <td>   -1.7361</td> <td>    0.040</td> <td>  -43.307</td> <td> 0.000</td> <td>   -1.815</td> <td>   -1.657</td>\n",
       "</tr>\n",
       "<tr>\n",
       "  <th>ar.L3.market_value</th> <td>    1.2675</td> <td>    0.035</td> <td>   36.722</td> <td> 0.000</td> <td>    1.200</td> <td>    1.335</td>\n",
       "</tr>\n",
       "<tr>\n",
       "  <th>ar.L4.market_value</th> <td>   -0.2373</td> <td>    0.157</td> <td>   -1.509</td> <td> 0.131</td> <td>   -0.546</td> <td>    0.071</td>\n",
       "</tr>\n",
       "<tr>\n",
       "  <th>ar.L5.market_value</th> <td>   -0.4064</td> <td>    0.165</td> <td>   -2.470</td> <td> 0.014</td> <td>   -0.729</td> <td>   -0.084</td>\n",
       "</tr>\n",
       "<tr>\n",
       "  <th>ar.L6.market_value</th> <td>    0.1842</td> <td>    0.049</td> <td>    3.768</td> <td> 0.000</td> <td>    0.088</td> <td>    0.280</td>\n",
       "</tr>\n",
       "<tr>\n",
       "  <th>ma.L1.market_value</th> <td>   -0.9488</td> <td>    0.035</td> <td>  -27.006</td> <td> 0.000</td> <td>   -1.018</td> <td>   -0.880</td>\n",
       "</tr>\n",
       "<tr>\n",
       "  <th>ma.L2.market_value</th> <td>    0.7800</td> <td>    0.032</td> <td>   24.160</td> <td> 0.000</td> <td>    0.717</td> <td>    0.843</td>\n",
       "</tr>\n",
       "<tr>\n",
       "  <th>ma.L3.market_value</th> <td>   -0.5083</td> <td>    0.031</td> <td>  -16.305</td> <td> 0.000</td> <td>   -0.569</td> <td>   -0.447</td>\n",
       "</tr>\n",
       "<tr>\n",
       "  <th>ma.L4.market_value</th> <td>   -0.1561</td> <td>    0.158</td> <td>   -0.988</td> <td> 0.323</td> <td>   -0.466</td> <td>    0.154</td>\n",
       "</tr>\n",
       "<tr>\n",
       "  <th>ma.L5.market_value</th> <td>    0.0955</td> <td>    0.057</td> <td>    1.682</td> <td> 0.093</td> <td>   -0.016</td> <td>    0.207</td>\n",
       "</tr>\n",
       "<tr>\n",
       "  <th>ma.L6.market_value</th> <td>    0.0670</td> <td>    0.024</td> <td>    2.808</td> <td> 0.005</td> <td>    0.020</td> <td>    0.114</td>\n",
       "</tr>\n",
       "</table>\n",
       "<table class=\"simpletable\">\n",
       "<caption>Roots</caption>\n",
       "<tr>\n",
       "    <td></td>   <th>            Real</th>  <th>         Imaginary</th> <th>         Modulus</th>  <th>        Frequency</th>\n",
       "</tr>\n",
       "<tr>\n",
       "  <th>AR.1</th> <td>           0.0856</td> <td>          -1.0503j</td> <td>           1.0538</td> <td>          -0.2371</td>\n",
       "</tr>\n",
       "<tr>\n",
       "  <th>AR.2</th> <td>           0.0856</td> <td>          +1.0503j</td> <td>           1.0538</td> <td>           0.2371</td>\n",
       "</tr>\n",
       "<tr>\n",
       "  <th>AR.3</th> <td>          -2.0249</td> <td>          -0.0000j</td> <td>           2.0249</td> <td>          -0.5000</td>\n",
       "</tr>\n",
       "<tr>\n",
       "  <th>AR.4</th> <td>           1.0011</td> <td>          -0.0000j</td> <td>           1.0011</td> <td>          -0.0000</td>\n",
       "</tr>\n",
       "<tr>\n",
       "  <th>AR.5</th> <td>           1.5294</td> <td>          -0.2695j</td> <td>           1.5529</td> <td>          -0.0278</td>\n",
       "</tr>\n",
       "<tr>\n",
       "  <th>AR.6</th> <td>           1.5294</td> <td>          +0.2695j</td> <td>           1.5529</td> <td>           0.0278</td>\n",
       "</tr>\n",
       "<tr>\n",
       "  <th>MA.1</th> <td>           0.1027</td> <td>          -1.0613j</td> <td>           1.0662</td> <td>          -0.2346</td>\n",
       "</tr>\n",
       "<tr>\n",
       "  <th>MA.2</th> <td>           0.1027</td> <td>          +1.0613j</td> <td>           1.0662</td> <td>           0.2346</td>\n",
       "</tr>\n",
       "<tr>\n",
       "  <th>MA.3</th> <td>           1.3618</td> <td>          -0.2805j</td> <td>           1.3904</td> <td>          -0.0323</td>\n",
       "</tr>\n",
       "<tr>\n",
       "  <th>MA.4</th> <td>           1.3618</td> <td>          +0.2805j</td> <td>           1.3904</td> <td>           0.0323</td>\n",
       "</tr>\n",
       "<tr>\n",
       "  <th>MA.5</th> <td>          -2.1772</td> <td>          -1.4332j</td> <td>           2.6066</td> <td>          -0.4073</td>\n",
       "</tr>\n",
       "<tr>\n",
       "  <th>MA.6</th> <td>          -2.1772</td> <td>          +1.4332j</td> <td>           2.6066</td> <td>           0.4073</td>\n",
       "</tr>\n",
       "</table>"
      ],
      "text/plain": [
       "<class 'statsmodels.iolib.summary.Summary'>\n",
       "\"\"\"\n",
       "                              ARMA Model Results                              \n",
       "==============================================================================\n",
       "Dep. Variable:           market_value   No. Observations:                 5021\n",
       "Model:                     ARMA(6, 6)   Log Likelihood              -27587.932\n",
       "Method:                       css-mle   S.D. of innovations             58.849\n",
       "Date:                Sun, 08 Sep 2019   AIC                          55203.864\n",
       "Time:                        17:59:06   BIC                          55295.164\n",
       "Sample:                    01-07-1994   HQIC                         55235.856\n",
       "                         - 04-05-2013                                         \n",
       "======================================================================================\n",
       "                         coef    std err          z      P>|z|      [0.025      0.975]\n",
       "--------------------------------------------------------------------------------------\n",
       "const               5089.6487    568.236      8.957      0.000    3975.926    6203.372\n",
       "ar.L1.market_value     1.9277      0.032     59.829      0.000       1.865       1.991\n",
       "ar.L2.market_value    -1.7361      0.040    -43.307      0.000      -1.815      -1.657\n",
       "ar.L3.market_value     1.2675      0.035     36.722      0.000       1.200       1.335\n",
       "ar.L4.market_value    -0.2373      0.157     -1.509      0.131      -0.546       0.071\n",
       "ar.L5.market_value    -0.4064      0.165     -2.470      0.014      -0.729      -0.084\n",
       "ar.L6.market_value     0.1842      0.049      3.768      0.000       0.088       0.280\n",
       "ma.L1.market_value    -0.9488      0.035    -27.006      0.000      -1.018      -0.880\n",
       "ma.L2.market_value     0.7800      0.032     24.160      0.000       0.717       0.843\n",
       "ma.L3.market_value    -0.5083      0.031    -16.305      0.000      -0.569      -0.447\n",
       "ma.L4.market_value    -0.1561      0.158     -0.988      0.323      -0.466       0.154\n",
       "ma.L5.market_value     0.0955      0.057      1.682      0.093      -0.016       0.207\n",
       "ma.L6.market_value     0.0670      0.024      2.808      0.005       0.020       0.114\n",
       "                                    Roots                                    \n",
       "=============================================================================\n",
       "                  Real          Imaginary           Modulus         Frequency\n",
       "-----------------------------------------------------------------------------\n",
       "AR.1            0.0856           -1.0503j            1.0538           -0.2371\n",
       "AR.2            0.0856           +1.0503j            1.0538            0.2371\n",
       "AR.3           -2.0249           -0.0000j            2.0249           -0.5000\n",
       "AR.4            1.0011           -0.0000j            1.0011           -0.0000\n",
       "AR.5            1.5294           -0.2695j            1.5529           -0.0278\n",
       "AR.6            1.5294           +0.2695j            1.5529            0.0278\n",
       "MA.1            0.1027           -1.0613j            1.0662           -0.2346\n",
       "MA.2            0.1027           +1.0613j            1.0662            0.2346\n",
       "MA.3            1.3618           -0.2805j            1.3904           -0.0323\n",
       "MA.4            1.3618           +0.2805j            1.3904            0.0323\n",
       "MA.5           -2.1772           -1.4332j            2.6066           -0.4073\n",
       "MA.6           -2.1772           +1.4332j            2.6066            0.4073\n",
       "-----------------------------------------------------------------------------\n",
       "\"\"\""
      ]
     },
     "execution_count": 40,
     "metadata": {},
     "output_type": "execute_result"
    }
   ],
   "source": [
    "model_ar_6_ma_6 = ARMA(df.market_value, order=(6,6))\n",
    "results_ar_6_ma_6 = model_ar_6_ma_6.fit(start_ar_lags = 11)\n",
    "results_ar_6_ma_6.summary()"
   ]
  },
  {
   "cell_type": "code",
   "execution_count": 41,
   "metadata": {},
   "outputs": [
    {
     "data": {
      "text/html": [
       "<table class=\"simpletable\">\n",
       "<caption>ARMA Model Results</caption>\n",
       "<tr>\n",
       "  <th>Dep. Variable:</th>   <td>market_value</td>   <th>  No. Observations:  </th>    <td>5021</td>   \n",
       "</tr>\n",
       "<tr>\n",
       "  <th>Model:</th>            <td>ARMA(5, 6)</td>    <th>  Log Likelihood     </th> <td>-27587.863</td>\n",
       "</tr>\n",
       "<tr>\n",
       "  <th>Method:</th>             <td>css-mle</td>     <th>  S.D. of innovations</th>   <td>58.849</td>  \n",
       "</tr>\n",
       "<tr>\n",
       "  <th>Date:</th>          <td>Sun, 08 Sep 2019</td> <th>  AIC                </th>  <td>55201.726</td>\n",
       "</tr>\n",
       "<tr>\n",
       "  <th>Time:</th>              <td>17:59:37</td>     <th>  BIC                </th>  <td>55286.504</td>\n",
       "</tr>\n",
       "<tr>\n",
       "  <th>Sample:</th>           <td>01-07-1994</td>    <th>  HQIC               </th>  <td>55231.433</td>\n",
       "</tr>\n",
       "<tr>\n",
       "  <th></th>                 <td>- 04-05-2013</td>   <th>                     </th>      <td> </td>    \n",
       "</tr>\n",
       "</table>\n",
       "<table class=\"simpletable\">\n",
       "<tr>\n",
       "           <td></td>             <th>coef</th>     <th>std err</th>      <th>z</th>      <th>P>|z|</th>  <th>[0.025</th>    <th>0.975]</th>  \n",
       "</tr>\n",
       "<tr>\n",
       "  <th>const</th>              <td> 5089.6485</td> <td>  580.944</td> <td>    8.761</td> <td> 0.000</td> <td> 3951.020</td> <td> 6228.277</td>\n",
       "</tr>\n",
       "<tr>\n",
       "  <th>ar.L1.market_value</th> <td>    1.3585</td> <td>    0.177</td> <td>    7.661</td> <td> 0.000</td> <td>    1.011</td> <td>    1.706</td>\n",
       "</tr>\n",
       "<tr>\n",
       "  <th>ar.L2.market_value</th> <td>   -1.1290</td> <td>    0.237</td> <td>   -4.767</td> <td> 0.000</td> <td>   -1.593</td> <td>   -0.665</td>\n",
       "</tr>\n",
       "<tr>\n",
       "  <th>ar.L3.market_value</th> <td>    0.9148</td> <td>    0.228</td> <td>    4.006</td> <td> 0.000</td> <td>    0.467</td> <td>    1.362</td>\n",
       "</tr>\n",
       "<tr>\n",
       "  <th>ar.L4.market_value</th> <td>    0.0158</td> <td>    0.203</td> <td>    0.078</td> <td> 0.938</td> <td>   -0.383</td> <td>    0.415</td>\n",
       "</tr>\n",
       "<tr>\n",
       "  <th>ar.L5.market_value</th> <td>   -0.1613</td> <td>    0.119</td> <td>   -1.353</td> <td> 0.176</td> <td>   -0.395</td> <td>    0.072</td>\n",
       "</tr>\n",
       "<tr>\n",
       "  <th>ma.L1.market_value</th> <td>   -0.3797</td> <td>    0.178</td> <td>   -2.135</td> <td> 0.033</td> <td>   -0.728</td> <td>   -0.031</td>\n",
       "</tr>\n",
       "<tr>\n",
       "  <th>ma.L2.market_value</th> <td>    0.7294</td> <td>    0.125</td> <td>    5.835</td> <td> 0.000</td> <td>    0.484</td> <td>    0.974</td>\n",
       "</tr>\n",
       "<tr>\n",
       "  <th>ma.L3.market_value</th> <td>   -0.2198</td> <td>    0.153</td> <td>   -1.439</td> <td> 0.150</td> <td>   -0.519</td> <td>    0.080</td>\n",
       "</tr>\n",
       "<tr>\n",
       "  <th>ma.L4.market_value</th> <td>   -0.1387</td> <td>    0.114</td> <td>   -1.216</td> <td> 0.224</td> <td>   -0.362</td> <td>    0.085</td>\n",
       "</tr>\n",
       "<tr>\n",
       "  <th>ma.L5.market_value</th> <td>   -0.0879</td> <td>    0.017</td> <td>   -5.325</td> <td> 0.000</td> <td>   -0.120</td> <td>   -0.056</td>\n",
       "</tr>\n",
       "<tr>\n",
       "  <th>ma.L6.market_value</th> <td>    0.0265</td> <td>    0.023</td> <td>    1.129</td> <td> 0.259</td> <td>   -0.020</td> <td>    0.073</td>\n",
       "</tr>\n",
       "</table>\n",
       "<table class=\"simpletable\">\n",
       "<caption>Roots</caption>\n",
       "<tr>\n",
       "    <td></td>   <th>            Real</th>  <th>         Imaginary</th> <th>         Modulus</th>  <th>        Frequency</th>\n",
       "</tr>\n",
       "<tr>\n",
       "  <th>AR.1</th> <td>           0.0917</td> <td>          -1.0418j</td> <td>           1.0458</td> <td>          -0.2360</td>\n",
       "</tr>\n",
       "<tr>\n",
       "  <th>AR.2</th> <td>           0.0917</td> <td>          +1.0418j</td> <td>           1.0458</td> <td>           0.2360</td>\n",
       "</tr>\n",
       "<tr>\n",
       "  <th>AR.3</th> <td>           1.0010</td> <td>          -0.0000j</td> <td>           1.0010</td> <td>          -0.0000</td>\n",
       "</tr>\n",
       "<tr>\n",
       "  <th>AR.4</th> <td>           1.8978</td> <td>          -0.0000j</td> <td>           1.8978</td> <td>          -0.0000</td>\n",
       "</tr>\n",
       "<tr>\n",
       "  <th>AR.5</th> <td>          -2.9842</td> <td>          -0.0000j</td> <td>           2.9842</td> <td>          -0.5000</td>\n",
       "</tr>\n",
       "<tr>\n",
       "  <th>MA.1</th> <td>           0.1071</td> <td>          -1.0487j</td> <td>           1.0542</td> <td>          -0.2338</td>\n",
       "</tr>\n",
       "<tr>\n",
       "  <th>MA.2</th> <td>           0.1071</td> <td>          +1.0487j</td> <td>           1.0542</td> <td>           0.2338</td>\n",
       "</tr>\n",
       "<tr>\n",
       "  <th>MA.3</th> <td>          -1.5352</td> <td>          -1.5157j</td> <td>           2.1574</td> <td>          -0.3760</td>\n",
       "</tr>\n",
       "<tr>\n",
       "  <th>MA.4</th> <td>          -1.5352</td> <td>          +1.5157j</td> <td>           2.1574</td> <td>           0.3760</td>\n",
       "</tr>\n",
       "<tr>\n",
       "  <th>MA.5</th> <td>           1.5918</td> <td>          -0.0000j</td> <td>           1.5918</td> <td>          -0.0000</td>\n",
       "</tr>\n",
       "<tr>\n",
       "  <th>MA.6</th> <td>           4.5771</td> <td>          -0.0000j</td> <td>           4.5771</td> <td>          -0.0000</td>\n",
       "</tr>\n",
       "</table>"
      ],
      "text/plain": [
       "<class 'statsmodels.iolib.summary.Summary'>\n",
       "\"\"\"\n",
       "                              ARMA Model Results                              \n",
       "==============================================================================\n",
       "Dep. Variable:           market_value   No. Observations:                 5021\n",
       "Model:                     ARMA(5, 6)   Log Likelihood              -27587.863\n",
       "Method:                       css-mle   S.D. of innovations             58.849\n",
       "Date:                Sun, 08 Sep 2019   AIC                          55201.726\n",
       "Time:                        17:59:37   BIC                          55286.504\n",
       "Sample:                    01-07-1994   HQIC                         55231.433\n",
       "                         - 04-05-2013                                         \n",
       "======================================================================================\n",
       "                         coef    std err          z      P>|z|      [0.025      0.975]\n",
       "--------------------------------------------------------------------------------------\n",
       "const               5089.6485    580.944      8.761      0.000    3951.020    6228.277\n",
       "ar.L1.market_value     1.3585      0.177      7.661      0.000       1.011       1.706\n",
       "ar.L2.market_value    -1.1290      0.237     -4.767      0.000      -1.593      -0.665\n",
       "ar.L3.market_value     0.9148      0.228      4.006      0.000       0.467       1.362\n",
       "ar.L4.market_value     0.0158      0.203      0.078      0.938      -0.383       0.415\n",
       "ar.L5.market_value    -0.1613      0.119     -1.353      0.176      -0.395       0.072\n",
       "ma.L1.market_value    -0.3797      0.178     -2.135      0.033      -0.728      -0.031\n",
       "ma.L2.market_value     0.7294      0.125      5.835      0.000       0.484       0.974\n",
       "ma.L3.market_value    -0.2198      0.153     -1.439      0.150      -0.519       0.080\n",
       "ma.L4.market_value    -0.1387      0.114     -1.216      0.224      -0.362       0.085\n",
       "ma.L5.market_value    -0.0879      0.017     -5.325      0.000      -0.120      -0.056\n",
       "ma.L6.market_value     0.0265      0.023      1.129      0.259      -0.020       0.073\n",
       "                                    Roots                                    \n",
       "=============================================================================\n",
       "                  Real          Imaginary           Modulus         Frequency\n",
       "-----------------------------------------------------------------------------\n",
       "AR.1            0.0917           -1.0418j            1.0458           -0.2360\n",
       "AR.2            0.0917           +1.0418j            1.0458            0.2360\n",
       "AR.3            1.0010           -0.0000j            1.0010           -0.0000\n",
       "AR.4            1.8978           -0.0000j            1.8978           -0.0000\n",
       "AR.5           -2.9842           -0.0000j            2.9842           -0.5000\n",
       "MA.1            0.1071           -1.0487j            1.0542           -0.2338\n",
       "MA.2            0.1071           +1.0487j            1.0542            0.2338\n",
       "MA.3           -1.5352           -1.5157j            2.1574           -0.3760\n",
       "MA.4           -1.5352           +1.5157j            2.1574            0.3760\n",
       "MA.5            1.5918           -0.0000j            1.5918           -0.0000\n",
       "MA.6            4.5771           -0.0000j            4.5771           -0.0000\n",
       "-----------------------------------------------------------------------------\n",
       "\"\"\""
      ]
     },
     "execution_count": 41,
     "metadata": {},
     "output_type": "execute_result"
    }
   ],
   "source": [
    "model_ar_5_ma_6 = ARMA(df.market_value, order=(5,6))\n",
    "results_ar_5_ma_6 = model_ar_5_ma_6.fit(start_ar_lags = 7)\n",
    "results_ar_5_ma_6.summary()"
   ]
  },
  {
   "cell_type": "code",
   "execution_count": 42,
   "metadata": {},
   "outputs": [
    {
     "data": {
      "text/html": [
       "<table class=\"simpletable\">\n",
       "<caption>ARMA Model Results</caption>\n",
       "<tr>\n",
       "  <th>Dep. Variable:</th>   <td>market_value</td>   <th>  No. Observations:  </th>    <td>5021</td>   \n",
       "</tr>\n",
       "<tr>\n",
       "  <th>Model:</th>            <td>ARMA(6, 1)</td>    <th>  Log Likelihood     </th> <td>-27594.195</td>\n",
       "</tr>\n",
       "<tr>\n",
       "  <th>Method:</th>             <td>css-mle</td>     <th>  S.D. of innovations</th>   <td>58.923</td>  \n",
       "</tr>\n",
       "<tr>\n",
       "  <th>Date:</th>          <td>Sun, 08 Sep 2019</td> <th>  AIC                </th>  <td>55206.389</td>\n",
       "</tr>\n",
       "<tr>\n",
       "  <th>Time:</th>              <td>18:00:05</td>     <th>  BIC                </th>  <td>55265.082</td>\n",
       "</tr>\n",
       "<tr>\n",
       "  <th>Sample:</th>           <td>01-07-1994</td>    <th>  HQIC               </th>  <td>55226.956</td>\n",
       "</tr>\n",
       "<tr>\n",
       "  <th></th>                 <td>- 04-05-2013</td>   <th>                     </th>      <td> </td>    \n",
       "</tr>\n",
       "</table>\n",
       "<table class=\"simpletable\">\n",
       "<tr>\n",
       "           <td></td>             <th>coef</th>     <th>std err</th>      <th>z</th>      <th>P>|z|</th>  <th>[0.025</th>    <th>0.975]</th>  \n",
       "</tr>\n",
       "<tr>\n",
       "  <th>const</th>              <td> 5089.6424</td> <td>  586.490</td> <td>    8.678</td> <td> 0.000</td> <td> 3940.143</td> <td> 6239.142</td>\n",
       "</tr>\n",
       "<tr>\n",
       "  <th>ar.L1.market_value</th> <td>    1.3921</td> <td>    0.058</td> <td>   23.930</td> <td> 0.000</td> <td>    1.278</td> <td>    1.506</td>\n",
       "</tr>\n",
       "<tr>\n",
       "  <th>ar.L2.market_value</th> <td>   -0.4369</td> <td>    0.059</td> <td>   -7.400</td> <td> 0.000</td> <td>   -0.553</td> <td>   -0.321</td>\n",
       "</tr>\n",
       "<tr>\n",
       "  <th>ar.L3.market_value</th> <td>   -0.0101</td> <td>    0.025</td> <td>   -0.409</td> <td> 0.683</td> <td>   -0.059</td> <td>    0.038</td>\n",
       "</tr>\n",
       "<tr>\n",
       "  <th>ar.L4.market_value</th> <td>    0.1126</td> <td>    0.025</td> <td>    4.527</td> <td> 0.000</td> <td>    0.064</td> <td>    0.161</td>\n",
       "</tr>\n",
       "<tr>\n",
       "  <th>ar.L5.market_value</th> <td>   -0.1158</td> <td>    0.025</td> <td>   -4.717</td> <td> 0.000</td> <td>   -0.164</td> <td>   -0.068</td>\n",
       "</tr>\n",
       "<tr>\n",
       "  <th>ar.L6.market_value</th> <td>    0.0573</td> <td>    0.014</td> <td>    4.067</td> <td> 0.000</td> <td>    0.030</td> <td>    0.085</td>\n",
       "</tr>\n",
       "<tr>\n",
       "  <th>ma.L1.market_value</th> <td>   -0.4127</td> <td>    0.060</td> <td>   -6.925</td> <td> 0.000</td> <td>   -0.529</td> <td>   -0.296</td>\n",
       "</tr>\n",
       "</table>\n",
       "<table class=\"simpletable\">\n",
       "<caption>Roots</caption>\n",
       "<tr>\n",
       "    <td></td>   <th>            Real</th>  <th>         Imaginary</th> <th>         Modulus</th>  <th>        Frequency</th>\n",
       "</tr>\n",
       "<tr>\n",
       "  <th>AR.1</th> <td>           1.0010</td> <td>          -0.0000j</td> <td>           1.0010</td> <td>          -0.0000</td>\n",
       "</tr>\n",
       "<tr>\n",
       "  <th>AR.2</th> <td>          -1.7608</td> <td>          -0.0000j</td> <td>           1.7608</td> <td>          -0.5000</td>\n",
       "</tr>\n",
       "<tr>\n",
       "  <th>AR.3</th> <td>          -0.0803</td> <td>          -1.8407j</td> <td>           1.8425</td> <td>          -0.2569</td>\n",
       "</tr>\n",
       "<tr>\n",
       "  <th>AR.4</th> <td>          -0.0803</td> <td>          +1.8407j</td> <td>           1.8425</td> <td>           0.2569</td>\n",
       "</tr>\n",
       "<tr>\n",
       "  <th>AR.5</th> <td>           1.4694</td> <td>          -0.8691j</td> <td>           1.7072</td> <td>          -0.0850</td>\n",
       "</tr>\n",
       "<tr>\n",
       "  <th>AR.6</th> <td>           1.4694</td> <td>          +0.8691j</td> <td>           1.7072</td> <td>           0.0850</td>\n",
       "</tr>\n",
       "<tr>\n",
       "  <th>MA.1</th> <td>           2.4233</td> <td>          +0.0000j</td> <td>           2.4233</td> <td>           0.0000</td>\n",
       "</tr>\n",
       "</table>"
      ],
      "text/plain": [
       "<class 'statsmodels.iolib.summary.Summary'>\n",
       "\"\"\"\n",
       "                              ARMA Model Results                              \n",
       "==============================================================================\n",
       "Dep. Variable:           market_value   No. Observations:                 5021\n",
       "Model:                     ARMA(6, 1)   Log Likelihood              -27594.195\n",
       "Method:                       css-mle   S.D. of innovations             58.923\n",
       "Date:                Sun, 08 Sep 2019   AIC                          55206.389\n",
       "Time:                        18:00:05   BIC                          55265.082\n",
       "Sample:                    01-07-1994   HQIC                         55226.956\n",
       "                         - 04-05-2013                                         \n",
       "======================================================================================\n",
       "                         coef    std err          z      P>|z|      [0.025      0.975]\n",
       "--------------------------------------------------------------------------------------\n",
       "const               5089.6424    586.490      8.678      0.000    3940.143    6239.142\n",
       "ar.L1.market_value     1.3921      0.058     23.930      0.000       1.278       1.506\n",
       "ar.L2.market_value    -0.4369      0.059     -7.400      0.000      -0.553      -0.321\n",
       "ar.L3.market_value    -0.0101      0.025     -0.409      0.683      -0.059       0.038\n",
       "ar.L4.market_value     0.1126      0.025      4.527      0.000       0.064       0.161\n",
       "ar.L5.market_value    -0.1158      0.025     -4.717      0.000      -0.164      -0.068\n",
       "ar.L6.market_value     0.0573      0.014      4.067      0.000       0.030       0.085\n",
       "ma.L1.market_value    -0.4127      0.060     -6.925      0.000      -0.529      -0.296\n",
       "                                    Roots                                    \n",
       "=============================================================================\n",
       "                  Real          Imaginary           Modulus         Frequency\n",
       "-----------------------------------------------------------------------------\n",
       "AR.1            1.0010           -0.0000j            1.0010           -0.0000\n",
       "AR.2           -1.7608           -0.0000j            1.7608           -0.5000\n",
       "AR.3           -0.0803           -1.8407j            1.8425           -0.2569\n",
       "AR.4           -0.0803           +1.8407j            1.8425            0.2569\n",
       "AR.5            1.4694           -0.8691j            1.7072           -0.0850\n",
       "AR.6            1.4694           +0.8691j            1.7072            0.0850\n",
       "MA.1            2.4233           +0.0000j            2.4233            0.0000\n",
       "-----------------------------------------------------------------------------\n",
       "\"\"\""
      ]
     },
     "execution_count": 42,
     "metadata": {},
     "output_type": "execute_result"
    }
   ],
   "source": [
    "model_ar_6_ma_1 = ARMA(df.market_value, order=(6,1))\n",
    "results_ar_6_ma_1 = model_ar_6_ma_1.fit(start_ar_lags = 7)\n",
    "results_ar_6_ma_1.summary()"
   ]
  },
  {
   "cell_type": "code",
   "execution_count": 43,
   "metadata": {},
   "outputs": [
    {
     "name": "stdout",
     "output_type": "stream",
     "text": [
      "ARMA(5,6):  \t LL =  -27587.862948301117 \t AIC =  55201.725896602235\n",
      "ARMA(6,1):  \t LL =  -27594.194571066146 \t AIC =  55206.38914213229\n"
     ]
    }
   ],
   "source": [
    "print(\"ARMA(5,6):  \\t LL = \", results_ar_5_ma_6.llf, \"\\t AIC = \", results_ar_5_ma_6.aic)\n",
    "print(\"ARMA(6,1):  \\t LL = \", results_ar_6_ma_1.llf, \"\\t AIC = \", results_ar_6_ma_1.aic)"
   ]
  },
  {
   "cell_type": "code",
   "execution_count": 44,
   "metadata": {},
   "outputs": [
    {
     "data": {
      "image/png": "[encoded data removed]",
      "text/plain": [
       "<Figure size 432x288 with 1 Axes>"
      ]
     },
     "metadata": {
      "needs_background": "light"
     },
     "output_type": "display_data"
    }
   ],
   "source": [
    "df['res_ar_5_ma_6'] = results_ar_5_ma_6.resid\n",
    "sgt.plot_acf(df.res_ar_5_ma_6, zero = False, lags = 40)\n",
    "plt.title(\"ACF Of Residuals of Prices\",size=20)\n",
    "plt.show()"
   ]
  },
  {
   "cell_type": "markdown",
   "metadata": {},
   "source": [
    "## ARMA for Returns vs ARMA for Prices"
   ]
  },
  {
   "cell_type": "code",
   "execution_count": 45,
   "metadata": {},
   "outputs": [
    {
     "name": "stdout",
     "output_type": "stream",
     "text": [
      "ARMA(5,6):  \t LL =  -27587.862948301117 \t AIC =  55201.725896602235\n",
      "ARMA(5,1):  \t LL =  -7889.311282945815 \t AIC =  15794.62256589163\n"
     ]
    }
   ],
   "source": [
    "print(\"ARMA(5,6):  \\t LL = \", results_ar_5_ma_6.llf, \"\\t AIC = \", results_ar_5_ma_6.aic)\n",
    "print(\"ARMA(5,1):  \\t LL = \", results_ret_ar_5_ma_1.llf, \"\\t AIC = \", results_ret_ar_5_ma_1.aic)"
   ]
  }
 ],
 "metadata": {
  "kernelspec": {
   "display_name": "Python 3",
   "language": "python",
   "name": "python3"
  },
  "language_info": {
   "codemirror_mode": {
    "name": "ipython",
    "version": 3
   },
   "file_extension": ".py",
   "mimetype": "text/x-python",
   "name": "python",
   "nbconvert_exporter": "python",
   "pygments_lexer": "ipython3",
   "version": "3.6.7"
  }
 },
 "nbformat": 4,
 "nbformat_minor": 2
}
