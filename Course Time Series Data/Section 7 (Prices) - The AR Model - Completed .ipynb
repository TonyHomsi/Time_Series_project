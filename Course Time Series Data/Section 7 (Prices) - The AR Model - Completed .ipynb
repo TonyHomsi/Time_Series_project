{
 "cells": [
  {
   "cell_type": "markdown",
   "metadata": {},
   "source": [
    "## Importing the relevant packages\n"
   ]
  },
  {
   "cell_type": "code",
   "execution_count": 1,
   "metadata": {},
   "outputs": [],
   "source": [
    "import pandas as pd\n",
    "import numpy as np\n",
    "import matplotlib.pyplot as plt\n",
    "import statsmodels.graphics.tsaplots as sgt\n",
    "from statsmodels.tsa.arima_model import ARMA\n",
    "from scipy.stats.distributions import chi2\n",
    "import statsmodels.tsa.stattools as sts \n",
    "import seaborn as sns\n",
    "sns.set()"
   ]
  },
  {
   "cell_type": "markdown",
   "metadata": {},
   "source": [
    "## Importing the Data and Pre-processing "
   ]
  },
  {
   "cell_type": "code",
   "execution_count": 2,
   "metadata": {},
   "outputs": [],
   "source": [
    "raw_csv_data = pd.read_csv(\"Index2018.csv\") \n",
    "df_comp=raw_csv_data.copy()\n",
    "df_comp.date = pd.to_datetime(df_comp.date, dayfirst = True)\n",
    "df_comp.set_index(\"date\", inplace=True)\n",
    "df_comp=df_comp.asfreq('b')\n",
    "df_comp=df_comp.fillna(method='ffill')"
   ]
  },
  {
   "cell_type": "code",
   "execution_count": 3,
   "metadata": {},
   "outputs": [],
   "source": [
    "df_comp['market_value']=df_comp.ftse"
   ]
  },
  {
   "cell_type": "code",
   "execution_count": 4,
   "metadata": {},
   "outputs": [],
   "source": [
    "del df_comp['spx']\n",
    "del df_comp['dax']\n",
    "del df_comp['ftse']\n",
    "del df_comp['nikkei']\n",
    "size = int(len(df_comp)*0.8)\n",
    "df, df_test = df_comp.iloc[:size], df_comp.iloc[size:]"
   ]
  },
  {
   "cell_type": "markdown",
   "metadata": {},
   "source": [
    "## The ACF"
   ]
  },
  {
   "cell_type": "code",
   "execution_count": 5,
   "metadata": {
    "scrolled": true
   },
   "outputs": [
    {
     "data": {
      "image/png": "[encoded data removed]",
      "text/plain": [
       "<Figure size 432x288 with 1 Axes>"
      ]
     },
     "metadata": {
      "needs_background": "light"
     },
     "output_type": "display_data"
    }
   ],
   "source": [
    "sgt.plot_acf(df.market_value, zero = False, lags = 40)\n",
    "plt.title(\"ACF for Prices\", size = 20)\n",
    "plt.show()"
   ]
  },
  {
   "cell_type": "code",
   "execution_count": 6,
   "metadata": {},
   "outputs": [],
   "source": [
    "import warnings\n",
    "warnings.filterwarnings(\"ignore\")"
   ]
  },
  {
   "cell_type": "markdown",
   "metadata": {},
   "source": [
    "## The PACF"
   ]
  },
  {
   "cell_type": "code",
   "execution_count": 7,
   "metadata": {
    "scrolled": true
   },
   "outputs": [
    {
     "data": {
      "image/png": "[encoded data removed]",
      "text/plain": [
       "<Figure size 432x288 with 1 Axes>"
      ]
     },
     "metadata": {
      "needs_background": "light"
     },
     "output_type": "display_data"
    }
   ],
   "source": [
    "sgt.plot_pacf(df.market_value, lags = 40, alpha = 0.05, zero = False, method = ('ols'))\n",
    "plt.title(\"PACF for Prices\", size = 20)\n",
    "plt.show()"
   ]
  },
  {
   "cell_type": "markdown",
   "metadata": {},
   "source": [
    "## The AR(1) Model"
   ]
  },
  {
   "cell_type": "code",
   "execution_count": 8,
   "metadata": {},
   "outputs": [],
   "source": [
    "model_ar = ARMA(df.market_value, order=(1,0))"
   ]
  },
  {
   "cell_type": "code",
   "execution_count": 9,
   "metadata": {},
   "outputs": [],
   "source": [
    "results_ar = model_ar.fit()"
   ]
  },
  {
   "cell_type": "code",
   "execution_count": 10,
   "metadata": {},
   "outputs": [
    {
     "data": {
      "text/html": [
       "<table class=\"simpletable\">\n",
       "<caption>ARMA Model Results</caption>\n",
       "<tr>\n",
       "  <th>Dep. Variable:</th>   <td>market_value</td>   <th>  No. Observations:  </th>    <td>5021</td>   \n",
       "</tr>\n",
       "<tr>\n",
       "  <th>Model:</th>            <td>ARMA(1, 0)</td>    <th>  Log Likelihood     </th> <td>-27622.598</td>\n",
       "</tr>\n",
       "<tr>\n",
       "  <th>Method:</th>             <td>css-mle</td>     <th>  S.D. of innovations</th>   <td>59.258</td>  \n",
       "</tr>\n",
       "<tr>\n",
       "  <th>Date:</th>          <td>Thu, 05 Sep 2019</td> <th>  AIC                </th>  <td>55251.196</td>\n",
       "</tr>\n",
       "<tr>\n",
       "  <th>Time:</th>              <td>11:01:52</td>     <th>  BIC                </th>  <td>55270.760</td>\n",
       "</tr>\n",
       "<tr>\n",
       "  <th>Sample:</th>           <td>01-07-1994</td>    <th>  HQIC               </th>  <td>55258.052</td>\n",
       "</tr>\n",
       "<tr>\n",
       "  <th></th>                 <td>- 04-05-2013</td>   <th>                     </th>      <td> </td>    \n",
       "</tr>\n",
       "</table>\n",
       "<table class=\"simpletable\">\n",
       "<tr>\n",
       "           <td></td>             <th>coef</th>     <th>std err</th>      <th>z</th>      <th>P>|z|</th>  <th>[0.025</th>    <th>0.975]</th>  \n",
       "</tr>\n",
       "<tr>\n",
       "  <th>const</th>              <td> 5057.0038</td> <td>  486.461</td> <td>   10.395</td> <td> 0.000</td> <td> 4103.558</td> <td> 6010.450</td>\n",
       "</tr>\n",
       "<tr>\n",
       "  <th>ar.L1.market_value</th> <td>    0.9985</td> <td>    0.001</td> <td> 1298.863</td> <td> 0.000</td> <td>    0.997</td> <td>    1.000</td>\n",
       "</tr>\n",
       "</table>\n",
       "<table class=\"simpletable\">\n",
       "<caption>Roots</caption>\n",
       "<tr>\n",
       "    <td></td>   <th>            Real</th>  <th>         Imaginary</th> <th>         Modulus</th>  <th>        Frequency</th>\n",
       "</tr>\n",
       "<tr>\n",
       "  <th>AR.1</th> <td>           1.0015</td> <td>          +0.0000j</td> <td>           1.0015</td> <td>           0.0000</td>\n",
       "</tr>\n",
       "</table>"
      ],
      "text/plain": [
       "<class 'statsmodels.iolib.summary.Summary'>\n",
       "\"\"\"\n",
       "                              ARMA Model Results                              \n",
       "==============================================================================\n",
       "Dep. Variable:           market_value   No. Observations:                 5021\n",
       "Model:                     ARMA(1, 0)   Log Likelihood              -27622.598\n",
       "Method:                       css-mle   S.D. of innovations             59.258\n",
       "Date:                Thu, 05 Sep 2019   AIC                          55251.196\n",
       "Time:                        11:01:52   BIC                          55270.760\n",
       "Sample:                    01-07-1994   HQIC                         55258.052\n",
       "                         - 04-05-2013                                         \n",
       "======================================================================================\n",
       "                         coef    std err          z      P>|z|      [0.025      0.975]\n",
       "--------------------------------------------------------------------------------------\n",
       "const               5057.0038    486.461     10.395      0.000    4103.558    6010.450\n",
       "ar.L1.market_value     0.9985      0.001   1298.863      0.000       0.997       1.000\n",
       "                                    Roots                                    \n",
       "=============================================================================\n",
       "                  Real          Imaginary           Modulus         Frequency\n",
       "-----------------------------------------------------------------------------\n",
       "AR.1            1.0015           +0.0000j            1.0015            0.0000\n",
       "-----------------------------------------------------------------------------\n",
       "\"\"\""
      ]
     },
     "execution_count": 10,
     "metadata": {},
     "output_type": "execute_result"
    }
   ],
   "source": [
    "results_ar.summary()"
   ]
  },
  {
   "cell_type": "markdown",
   "metadata": {},
   "source": [
    "## Higher-Lag AR Models"
   ]
  },
  {
   "cell_type": "code",
   "execution_count": 11,
   "metadata": {},
   "outputs": [
    {
     "data": {
      "text/html": [
       "<table class=\"simpletable\">\n",
       "<caption>ARMA Model Results</caption>\n",
       "<tr>\n",
       "  <th>Dep. Variable:</th>   <td>market_value</td>   <th>  No. Observations:  </th>    <td>5021</td>   \n",
       "</tr>\n",
       "<tr>\n",
       "  <th>Model:</th>            <td>ARMA(2, 0)</td>    <th>  Log Likelihood     </th> <td>-27621.866</td>\n",
       "</tr>\n",
       "<tr>\n",
       "  <th>Method:</th>             <td>css-mle</td>     <th>  S.D. of innovations</th>   <td>59.249</td>  \n",
       "</tr>\n",
       "<tr>\n",
       "  <th>Date:</th>          <td>Thu, 05 Sep 2019</td> <th>  AIC                </th>  <td>55251.731</td>\n",
       "</tr>\n",
       "<tr>\n",
       "  <th>Time:</th>              <td>11:01:53</td>     <th>  BIC                </th>  <td>55277.817</td>\n",
       "</tr>\n",
       "<tr>\n",
       "  <th>Sample:</th>           <td>01-07-1994</td>    <th>  HQIC               </th>  <td>55260.872</td>\n",
       "</tr>\n",
       "<tr>\n",
       "  <th></th>                 <td>- 04-05-2013</td>   <th>                     </th>      <td> </td>    \n",
       "</tr>\n",
       "</table>\n",
       "<table class=\"simpletable\">\n",
       "<tr>\n",
       "           <td></td>             <th>coef</th>     <th>std err</th>      <th>z</th>      <th>P>|z|</th>  <th>[0.025</th>    <th>0.975]</th>  \n",
       "</tr>\n",
       "<tr>\n",
       "  <th>const</th>              <td> 5036.7744</td> <td>  495.444</td> <td>   10.166</td> <td> 0.000</td> <td> 4065.721</td> <td> 6007.828</td>\n",
       "</tr>\n",
       "<tr>\n",
       "  <th>ar.L1.market_value</th> <td>    0.9814</td> <td>    0.014</td> <td>   69.595</td> <td> 0.000</td> <td>    0.954</td> <td>    1.009</td>\n",
       "</tr>\n",
       "<tr>\n",
       "  <th>ar.L2.market_value</th> <td>    0.0171</td> <td>    0.014</td> <td>    1.211</td> <td> 0.226</td> <td>   -0.011</td> <td>    0.045</td>\n",
       "</tr>\n",
       "</table>\n",
       "<table class=\"simpletable\">\n",
       "<caption>Roots</caption>\n",
       "<tr>\n",
       "    <td></td>   <th>            Real</th>  <th>         Imaginary</th> <th>         Modulus</th>  <th>        Frequency</th>\n",
       "</tr>\n",
       "<tr>\n",
       "  <th>AR.1</th> <td>           1.0015</td> <td>          +0.0000j</td> <td>           1.0015</td> <td>           0.0000</td>\n",
       "</tr>\n",
       "<tr>\n",
       "  <th>AR.2</th> <td>         -58.4573</td> <td>          +0.0000j</td> <td>          58.4573</td> <td>           0.5000</td>\n",
       "</tr>\n",
       "</table>"
      ],
      "text/plain": [
       "<class 'statsmodels.iolib.summary.Summary'>\n",
       "\"\"\"\n",
       "                              ARMA Model Results                              \n",
       "==============================================================================\n",
       "Dep. Variable:           market_value   No. Observations:                 5021\n",
       "Model:                     ARMA(2, 0)   Log Likelihood              -27621.866\n",
       "Method:                       css-mle   S.D. of innovations             59.249\n",
       "Date:                Thu, 05 Sep 2019   AIC                          55251.731\n",
       "Time:                        11:01:53   BIC                          55277.817\n",
       "Sample:                    01-07-1994   HQIC                         55260.872\n",
       "                         - 04-05-2013                                         \n",
       "======================================================================================\n",
       "                         coef    std err          z      P>|z|      [0.025      0.975]\n",
       "--------------------------------------------------------------------------------------\n",
       "const               5036.7744    495.444     10.166      0.000    4065.721    6007.828\n",
       "ar.L1.market_value     0.9814      0.014     69.595      0.000       0.954       1.009\n",
       "ar.L2.market_value     0.0171      0.014      1.211      0.226      -0.011       0.045\n",
       "                                    Roots                                    \n",
       "=============================================================================\n",
       "                  Real          Imaginary           Modulus         Frequency\n",
       "-----------------------------------------------------------------------------\n",
       "AR.1            1.0015           +0.0000j            1.0015            0.0000\n",
       "AR.2          -58.4573           +0.0000j           58.4573            0.5000\n",
       "-----------------------------------------------------------------------------\n",
       "\"\"\""
      ]
     },
     "execution_count": 11,
     "metadata": {},
     "output_type": "execute_result"
    }
   ],
   "source": [
    "model_ar_2 = ARMA(df.market_value, order=(2,0))\n",
    "results_ar_2 = model_ar_2.fit()\n",
    "results_ar_2.summary()"
   ]
  },
  {
   "cell_type": "code",
   "execution_count": 12,
   "metadata": {},
   "outputs": [
    {
     "data": {
      "text/html": [
       "<table class=\"simpletable\">\n",
       "<caption>ARMA Model Results</caption>\n",
       "<tr>\n",
       "  <th>Dep. Variable:</th>   <td>market_value</td>   <th>  No. Observations:  </th>    <td>5021</td>   \n",
       "</tr>\n",
       "<tr>\n",
       "  <th>Model:</th>            <td>ARMA(3, 0)</td>    <th>  Log Likelihood     </th> <td>-27615.871</td>\n",
       "</tr>\n",
       "<tr>\n",
       "  <th>Method:</th>             <td>css-mle</td>     <th>  S.D. of innovations</th>   <td>59.178</td>  \n",
       "</tr>\n",
       "<tr>\n",
       "  <th>Date:</th>          <td>Thu, 05 Sep 2019</td> <th>  AIC                </th>  <td>55241.742</td>\n",
       "</tr>\n",
       "<tr>\n",
       "  <th>Time:</th>              <td>11:01:53</td>     <th>  BIC                </th>  <td>55274.349</td>\n",
       "</tr>\n",
       "<tr>\n",
       "  <th>Sample:</th>           <td>01-07-1994</td>    <th>  HQIC               </th>  <td>55253.168</td>\n",
       "</tr>\n",
       "<tr>\n",
       "  <th></th>                 <td>- 04-05-2013</td>   <th>                     </th>      <td> </td>    \n",
       "</tr>\n",
       "</table>\n",
       "<table class=\"simpletable\">\n",
       "<tr>\n",
       "           <td></td>             <th>coef</th>     <th>std err</th>      <th>z</th>      <th>P>|z|</th>  <th>[0.025</th>    <th>0.975]</th>  \n",
       "</tr>\n",
       "<tr>\n",
       "  <th>const</th>              <td> 5089.6412</td> <td>  520.376</td> <td>    9.781</td> <td> 0.000</td> <td> 4069.723</td> <td> 6109.560</td>\n",
       "</tr>\n",
       "<tr>\n",
       "  <th>ar.L1.market_value</th> <td>    0.9806</td> <td>    0.014</td> <td>   69.619</td> <td> 0.000</td> <td>    0.953</td> <td>    1.008</td>\n",
       "</tr>\n",
       "<tr>\n",
       "  <th>ar.L2.market_value</th> <td>   -0.0309</td> <td>    0.020</td> <td>   -1.563</td> <td> 0.118</td> <td>   -0.070</td> <td>    0.008</td>\n",
       "</tr>\n",
       "<tr>\n",
       "  <th>ar.L3.market_value</th> <td>    0.0489</td> <td>    0.014</td> <td>    3.466</td> <td> 0.001</td> <td>    0.021</td> <td>    0.077</td>\n",
       "</tr>\n",
       "</table>\n",
       "<table class=\"simpletable\">\n",
       "<caption>Roots</caption>\n",
       "<tr>\n",
       "    <td></td>   <th>            Real</th>  <th>         Imaginary</th> <th>         Modulus</th>  <th>        Frequency</th>\n",
       "</tr>\n",
       "<tr>\n",
       "  <th>AR.1</th> <td>           1.0013</td> <td>          -0.0000j</td> <td>           1.0013</td> <td>          -0.0000</td>\n",
       "</tr>\n",
       "<tr>\n",
       "  <th>AR.2</th> <td>          -0.1850</td> <td>          -4.5161j</td> <td>           4.5199</td> <td>          -0.2565</td>\n",
       "</tr>\n",
       "<tr>\n",
       "  <th>AR.3</th> <td>          -0.1850</td> <td>          +4.5161j</td> <td>           4.5199</td> <td>           0.2565</td>\n",
       "</tr>\n",
       "</table>"
      ],
      "text/plain": [
       "<class 'statsmodels.iolib.summary.Summary'>\n",
       "\"\"\"\n",
       "                              ARMA Model Results                              \n",
       "==============================================================================\n",
       "Dep. Variable:           market_value   No. Observations:                 5021\n",
       "Model:                     ARMA(3, 0)   Log Likelihood              -27615.871\n",
       "Method:                       css-mle   S.D. of innovations             59.178\n",
       "Date:                Thu, 05 Sep 2019   AIC                          55241.742\n",
       "Time:                        11:01:53   BIC                          55274.349\n",
       "Sample:                    01-07-1994   HQIC                         55253.168\n",
       "                         - 04-05-2013                                         \n",
       "======================================================================================\n",
       "                         coef    std err          z      P>|z|      [0.025      0.975]\n",
       "--------------------------------------------------------------------------------------\n",
       "const               5089.6412    520.376      9.781      0.000    4069.723    6109.560\n",
       "ar.L1.market_value     0.9806      0.014     69.619      0.000       0.953       1.008\n",
       "ar.L2.market_value    -0.0309      0.020     -1.563      0.118      -0.070       0.008\n",
       "ar.L3.market_value     0.0489      0.014      3.466      0.001       0.021       0.077\n",
       "                                    Roots                                    \n",
       "=============================================================================\n",
       "                  Real          Imaginary           Modulus         Frequency\n",
       "-----------------------------------------------------------------------------\n",
       "AR.1            1.0013           -0.0000j            1.0013           -0.0000\n",
       "AR.2           -0.1850           -4.5161j            4.5199           -0.2565\n",
       "AR.3           -0.1850           +4.5161j            4.5199            0.2565\n",
       "-----------------------------------------------------------------------------\n",
       "\"\"\""
      ]
     },
     "execution_count": 12,
     "metadata": {},
     "output_type": "execute_result"
    }
   ],
   "source": [
    "model_ar_3 = ARMA(df.market_value, order=(3,0))\n",
    "results_ar_3 = model_ar_3.fit()\n",
    "results_ar_3.summary()"
   ]
  },
  {
   "cell_type": "code",
   "execution_count": 13,
   "metadata": {},
   "outputs": [
    {
     "data": {
      "text/html": [
       "<table class=\"simpletable\">\n",
       "<caption>ARMA Model Results</caption>\n",
       "<tr>\n",
       "  <th>Dep. Variable:</th>   <td>market_value</td>   <th>  No. Observations:  </th>    <td>5021</td>   \n",
       "</tr>\n",
       "<tr>\n",
       "  <th>Model:</th>            <td>ARMA(4, 0)</td>    <th>  Log Likelihood     </th> <td>-27602.863</td>\n",
       "</tr>\n",
       "<tr>\n",
       "  <th>Method:</th>             <td>css-mle</td>     <th>  S.D. of innovations</th>   <td>59.024</td>  \n",
       "</tr>\n",
       "<tr>\n",
       "  <th>Date:</th>          <td>Thu, 05 Sep 2019</td> <th>  AIC                </th>  <td>55217.726</td>\n",
       "</tr>\n",
       "<tr>\n",
       "  <th>Time:</th>              <td>11:01:54</td>     <th>  BIC                </th>  <td>55256.854</td>\n",
       "</tr>\n",
       "<tr>\n",
       "  <th>Sample:</th>           <td>01-07-1994</td>    <th>  HQIC               </th>  <td>55231.437</td>\n",
       "</tr>\n",
       "<tr>\n",
       "  <th></th>                 <td>- 04-05-2013</td>   <th>                     </th>      <td> </td>    \n",
       "</tr>\n",
       "</table>\n",
       "<table class=\"simpletable\">\n",
       "<tr>\n",
       "           <td></td>             <th>coef</th>     <th>std err</th>      <th>z</th>      <th>P>|z|</th>  <th>[0.025</th>    <th>0.975]</th>  \n",
       "</tr>\n",
       "<tr>\n",
       "  <th>const</th>              <td> 5493.1989</td> <td>  959.292</td> <td>    5.726</td> <td> 0.000</td> <td> 3613.022</td> <td> 7373.376</td>\n",
       "</tr>\n",
       "<tr>\n",
       "  <th>ar.L1.market_value</th> <td>    0.9771</td> <td>    0.014</td> <td>   69.567</td> <td> 0.000</td> <td>    0.950</td> <td>    1.005</td>\n",
       "</tr>\n",
       "<tr>\n",
       "  <th>ar.L2.market_value</th> <td>   -0.0286</td> <td>    0.020</td> <td>   -1.455</td> <td> 0.146</td> <td>   -0.067</td> <td>    0.010</td>\n",
       "</tr>\n",
       "<tr>\n",
       "  <th>ar.L3.market_value</th> <td>   -0.0224</td> <td>    0.020</td> <td>   -1.135</td> <td> 0.256</td> <td>   -0.061</td> <td>    0.016</td>\n",
       "</tr>\n",
       "<tr>\n",
       "  <th>ar.L4.market_value</th> <td>    0.0729</td> <td>    0.014</td> <td>    5.171</td> <td> 0.000</td> <td>    0.045</td> <td>    0.100</td>\n",
       "</tr>\n",
       "</table>\n",
       "<table class=\"simpletable\">\n",
       "<caption>Roots</caption>\n",
       "<tr>\n",
       "    <td></td>   <th>            Real</th>  <th>         Imaginary</th> <th>         Modulus</th>  <th>        Frequency</th>\n",
       "</tr>\n",
       "<tr>\n",
       "  <th>AR.1</th> <td>           1.0009</td> <td>          -0.0000j</td> <td>           1.0009</td> <td>          -0.0000</td>\n",
       "</tr>\n",
       "<tr>\n",
       "  <th>AR.2</th> <td>           0.9543</td> <td>          -2.0876j</td> <td>           2.2954</td> <td>          -0.1818</td>\n",
       "</tr>\n",
       "<tr>\n",
       "  <th>AR.3</th> <td>           0.9543</td> <td>          +2.0876j</td> <td>           2.2954</td> <td>           0.1818</td>\n",
       "</tr>\n",
       "<tr>\n",
       "  <th>AR.4</th> <td>          -2.6026</td> <td>          -0.0000j</td> <td>           2.6026</td> <td>          -0.5000</td>\n",
       "</tr>\n",
       "</table>"
      ],
      "text/plain": [
       "<class 'statsmodels.iolib.summary.Summary'>\n",
       "\"\"\"\n",
       "                              ARMA Model Results                              \n",
       "==============================================================================\n",
       "Dep. Variable:           market_value   No. Observations:                 5021\n",
       "Model:                     ARMA(4, 0)   Log Likelihood              -27602.863\n",
       "Method:                       css-mle   S.D. of innovations             59.024\n",
       "Date:                Thu, 05 Sep 2019   AIC                          55217.726\n",
       "Time:                        11:01:54   BIC                          55256.854\n",
       "Sample:                    01-07-1994   HQIC                         55231.437\n",
       "                         - 04-05-2013                                         \n",
       "======================================================================================\n",
       "                         coef    std err          z      P>|z|      [0.025      0.975]\n",
       "--------------------------------------------------------------------------------------\n",
       "const               5493.1989    959.292      5.726      0.000    3613.022    7373.376\n",
       "ar.L1.market_value     0.9771      0.014     69.567      0.000       0.950       1.005\n",
       "ar.L2.market_value    -0.0286      0.020     -1.455      0.146      -0.067       0.010\n",
       "ar.L3.market_value    -0.0224      0.020     -1.135      0.256      -0.061       0.016\n",
       "ar.L4.market_value     0.0729      0.014      5.171      0.000       0.045       0.100\n",
       "                                    Roots                                    \n",
       "=============================================================================\n",
       "                  Real          Imaginary           Modulus         Frequency\n",
       "-----------------------------------------------------------------------------\n",
       "AR.1            1.0009           -0.0000j            1.0009           -0.0000\n",
       "AR.2            0.9543           -2.0876j            2.2954           -0.1818\n",
       "AR.3            0.9543           +2.0876j            2.2954            0.1818\n",
       "AR.4           -2.6026           -0.0000j            2.6026           -0.5000\n",
       "-----------------------------------------------------------------------------\n",
       "\"\"\""
      ]
     },
     "execution_count": 13,
     "metadata": {},
     "output_type": "execute_result"
    }
   ],
   "source": [
    "model_ar_4 = ARMA(df.market_value, order=[4,0])\n",
    "results_ar_4 = model_ar_4.fit()\n",
    "results_ar_4.summary()"
   ]
  },
  {
   "cell_type": "markdown",
   "metadata": {},
   "source": [
    "## LLR Test"
   ]
  },
  {
   "cell_type": "code",
   "execution_count": 14,
   "metadata": {},
   "outputs": [],
   "source": [
    "def LLR_test(mod_1, mod_2, DF=1):\n",
    "    L1 = mod_1.fit().llf\n",
    "    L2 = mod_2.fit().llf\n",
    "    LR = (2*(L2-L1))\n",
    "    p = chi2.sf(LR, DF).round(3)\n",
    "    return p"
   ]
  },
  {
   "cell_type": "markdown",
   "metadata": {},
   "source": [
    "## Comparing Higher-Lag AR Models"
   ]
  },
  {
   "cell_type": "code",
   "execution_count": 15,
   "metadata": {},
   "outputs": [
    {
     "data": {
      "text/plain": [
       "0.001"
      ]
     },
     "execution_count": 15,
     "metadata": {},
     "output_type": "execute_result"
    }
   ],
   "source": [
    "LLR_test(model_ar_2, model_ar_3)"
   ]
  },
  {
   "cell_type": "code",
   "execution_count": 16,
   "metadata": {},
   "outputs": [
    {
     "data": {
      "text/plain": [
       "0.0"
      ]
     },
     "execution_count": 16,
     "metadata": {},
     "output_type": "execute_result"
    }
   ],
   "source": [
    "LLR_test(model_ar_3, model_ar_4)"
   ]
  },
  {
   "cell_type": "code",
   "execution_count": 17,
   "metadata": {},
   "outputs": [
    {
     "name": "stdout",
     "output_type": "stream",
     "text": [
      "                              ARMA Model Results                              \n",
      "==============================================================================\n",
      "Dep. Variable:           market_value   No. Observations:                 5021\n",
      "Model:                     ARMA(4, 0)   Log Likelihood              -27602.863\n",
      "Method:                       css-mle   S.D. of innovations             59.024\n",
      "Date:                Thu, 05 Sep 2019   AIC                          55217.726\n",
      "Time:                        11:01:58   BIC                          55256.854\n",
      "Sample:                    01-07-1994   HQIC                         55231.437\n",
      "                         - 04-05-2013                                         \n",
      "======================================================================================\n",
      "                         coef    std err          z      P>|z|      [0.025      0.975]\n",
      "--------------------------------------------------------------------------------------\n",
      "const               5493.1989    959.292      5.726      0.000    3613.022    7373.376\n",
      "ar.L1.market_value     0.9771      0.014     69.567      0.000       0.950       1.005\n",
      "ar.L2.market_value    -0.0286      0.020     -1.455      0.146      -0.067       0.010\n",
      "ar.L3.market_value    -0.0224      0.020     -1.135      0.256      -0.061       0.016\n",
      "ar.L4.market_value     0.0729      0.014      5.171      0.000       0.045       0.100\n",
      "                                    Roots                                    \n",
      "=============================================================================\n",
      "                  Real          Imaginary           Modulus         Frequency\n",
      "-----------------------------------------------------------------------------\n",
      "AR.1            1.0009           -0.0000j            1.0009           -0.0000\n",
      "AR.2            0.9543           -2.0876j            2.2954           -0.1818\n",
      "AR.3            0.9543           +2.0876j            2.2954            0.1818\n",
      "AR.4           -2.6026           -0.0000j            2.6026           -0.5000\n",
      "-----------------------------------------------------------------------------\n",
      "LLR test: 0.0\n"
     ]
    }
   ],
   "source": [
    "model_ar_4 = ARMA(df.market_value, order=[4,0])\n",
    "results_ar_4 = model_ar_4.fit()\n",
    "print(results_ar_4.summary()) \n",
    "print (\"LLR test: \" + str(LLR_test(model_ar_3, model_ar_4)))"
   ]
  },
  {
   "cell_type": "code",
   "execution_count": 18,
   "metadata": {},
   "outputs": [
    {
     "name": "stdout",
     "output_type": "stream",
     "text": [
      "                              ARMA Model Results                              \n",
      "==============================================================================\n",
      "Dep. Variable:           market_value   No. Observations:                 5021\n",
      "Model:                     ARMA(5, 0)   Log Likelihood              -27600.348\n",
      "Method:                       css-mle   S.D. of innovations             58.996\n",
      "Date:                Thu, 05 Sep 2019   AIC                          55214.697\n",
      "Time:                        11:02:00   BIC                          55260.346\n",
      "Sample:                    01-07-1994   HQIC                         55230.693\n",
      "                         - 04-05-2013                                         \n",
      "======================================================================================\n",
      "                         coef    std err          z      P>|z|      [0.025      0.975]\n",
      "--------------------------------------------------------------------------------------\n",
      "const               5089.6414    543.590      9.363      0.000    4024.225    6155.058\n",
      "ar.L1.market_value     0.9791      0.014     69.481      0.000       0.952       1.007\n",
      "ar.L2.market_value    -0.0293      0.020     -1.488      0.137      -0.068       0.009\n",
      "ar.L3.market_value    -0.0232      0.020     -1.178      0.239      -0.062       0.015\n",
      "ar.L4.market_value     0.1018      0.020      5.166      0.000       0.063       0.140\n",
      "ar.L5.market_value    -0.0297      0.014     -2.106      0.035      -0.057      -0.002\n",
      "                                    Roots                                    \n",
      "=============================================================================\n",
      "                  Real          Imaginary           Modulus         Frequency\n",
      "-----------------------------------------------------------------------------\n",
      "AR.1            1.0012           -0.0000j            1.0012           -0.0000\n",
      "AR.2           -2.0605           -0.0000j            2.0605           -0.5000\n",
      "AR.3            0.4270           -2.0763j            2.1198           -0.2177\n",
      "AR.4            0.4270           +2.0763j            2.1198            0.2177\n",
      "AR.5            3.6286           -0.0000j            3.6286           -0.0000\n",
      "-----------------------------------------------------------------------------\n",
      "\n",
      "LLR test p-value = 0.025\n"
     ]
    }
   ],
   "source": [
    "model_ar_5 = ARMA(df.market_value, order=(5,0))\n",
    "results_ar_5 = model_ar_5.fit()\n",
    "print(results_ar_5.summary())\n",
    "print(\"\\nLLR test p-value = \" + str(LLR_test(model_ar_4, model_ar_5)))"
   ]
  },
  {
   "cell_type": "code",
   "execution_count": 19,
   "metadata": {},
   "outputs": [
    {
     "name": "stdout",
     "output_type": "stream",
     "text": [
      "                              ARMA Model Results                              \n",
      "==============================================================================\n",
      "Dep. Variable:           market_value   No. Observations:                 5021\n",
      "Model:                     ARMA(6, 0)   Log Likelihood              -27596.474\n",
      "Method:                       css-mle   S.D. of innovations             58.950\n",
      "Date:                Thu, 05 Sep 2019   AIC                          55208.947\n",
      "Time:                        11:02:03   BIC                          55261.118\n",
      "Sample:                    01-07-1994   HQIC                         55227.229\n",
      "                         - 04-05-2013                                         \n",
      "======================================================================================\n",
      "                         coef    std err          z      P>|z|      [0.025      0.975]\n",
      "--------------------------------------------------------------------------------------\n",
      "const               5089.6414    565.184      9.005      0.000    3981.900    6197.382\n",
      "ar.L1.market_value     0.9803      0.014     69.604      0.000       0.953       1.008\n",
      "ar.L2.market_value    -0.0333      0.020     -1.687      0.092      -0.072       0.005\n",
      "ar.L3.market_value    -0.0223      0.020     -1.134      0.257      -0.061       0.016\n",
      "ar.L4.market_value     0.1029      0.020      5.227      0.000       0.064       0.141\n",
      "ar.L5.market_value    -0.0682      0.020     -3.454      0.001      -0.107      -0.029\n",
      "ar.L6.market_value     0.0393      0.014      2.785      0.005       0.012       0.067\n",
      "                                    Roots                                    \n",
      "=============================================================================\n",
      "                  Real          Imaginary           Modulus         Frequency\n",
      "-----------------------------------------------------------------------------\n",
      "AR.1            1.0011           -0.0000j            1.0011           -0.0000\n",
      "AR.2           -1.6828           -0.0000j            1.6828           -0.5000\n",
      "AR.3           -0.3031           -1.8985j            1.9226           -0.2752\n",
      "AR.4           -0.3031           +1.8985j            1.9226            0.2752\n",
      "AR.5            1.5114           -1.3426j            2.0216           -0.1156\n",
      "AR.6            1.5114           +1.3426j            2.0216            0.1156\n",
      "-----------------------------------------------------------------------------\n",
      "\n",
      "LLR test p-value = 0.005\n"
     ]
    }
   ],
   "source": [
    "model_ar_6 = ARMA(df.market_value, order=(6,0))\n",
    "results_ar_6 = model_ar_6.fit()\n",
    "print(results_ar_6.summary())\n",
    "print(\"\\nLLR test p-value = \" + str(LLR_test(model_ar_5, model_ar_6)))"
   ]
  },
  {
   "cell_type": "code",
   "execution_count": 20,
   "metadata": {},
   "outputs": [
    {
     "name": "stdout",
     "output_type": "stream",
     "text": [
      "                              ARMA Model Results                              \n",
      "==============================================================================\n",
      "Dep. Variable:           market_value   No. Observations:                 5021\n",
      "Model:                     ARMA(7, 0)   Log Likelihood              -27591.900\n",
      "Method:                       css-mle   S.D. of innovations             58.896\n",
      "Date:                Thu, 05 Sep 2019   AIC                          55201.799\n",
      "Time:                        11:02:07   BIC                          55260.492\n",
      "Sample:                    01-07-1994   HQIC                         55222.366\n",
      "                         - 04-05-2013                                         \n",
      "======================================================================================\n",
      "                         coef    std err          z      P>|z|      [0.025      0.975]\n",
      "--------------------------------------------------------------------------------------\n",
      "const               5089.6412    589.568      8.633      0.000    3934.110    6245.173\n",
      "ar.L1.market_value     0.9786      0.014     69.518      0.000       0.951       1.006\n",
      "ar.L2.market_value    -0.0304      0.020     -1.540      0.124      -0.069       0.008\n",
      "ar.L3.market_value    -0.0267      0.020     -1.353      0.176      -0.065       0.012\n",
      "ar.L4.market_value     0.1038      0.020      5.279      0.000       0.065       0.142\n",
      "ar.L5.market_value    -0.0668      0.020     -3.385      0.001      -0.105      -0.028\n",
      "ar.L6.market_value    -0.0025      0.020     -0.127      0.899      -0.041       0.036\n",
      "ar.L7.market_value     0.0427      0.014      3.026      0.002       0.015       0.070\n",
      "                                    Roots                                    \n",
      "=============================================================================\n",
      "                  Real          Imaginary           Modulus         Frequency\n",
      "-----------------------------------------------------------------------------\n",
      "AR.1            1.0010           -0.0000j            1.0010           -0.0000\n",
      "AR.2            1.3301           -0.9296j            1.6228           -0.0971\n",
      "AR.3            1.3301           +0.9296j            1.6228            0.0971\n",
      "AR.4           -0.0400           -1.5870j            1.5875           -0.2540\n",
      "AR.5           -0.0400           +1.5870j            1.5875            0.2540\n",
      "AR.6           -1.7611           -0.6517j            1.8779           -0.4436\n",
      "AR.7           -1.7611           +0.6517j            1.8779            0.4436\n",
      "-----------------------------------------------------------------------------\n",
      "\n",
      "LLR test p-value = 0.002\n"
     ]
    }
   ],
   "source": [
    "model_ar_7 = ARMA(df.market_value, order=(7,0))\n",
    "results_ar_7 = model_ar_7.fit()\n",
    "print(results_ar_7.summary())\n",
    "print(\"\\nLLR test p-value = \" + str(LLR_test(model_ar_6, model_ar_7)))"
   ]
  },
  {
   "cell_type": "code",
   "execution_count": 21,
   "metadata": {},
   "outputs": [
    {
     "name": "stdout",
     "output_type": "stream",
     "text": [
      "                              ARMA Model Results                              \n",
      "==============================================================================\n",
      "Dep. Variable:           market_value   No. Observations:                 5021\n",
      "Model:                     ARMA(8, 0)   Log Likelihood              -27591.739\n",
      "Method:                       css-mle   S.D. of innovations             58.894\n",
      "Date:                Thu, 05 Sep 2019   AIC                          55203.478\n",
      "Time:                        11:02:13   BIC                          55268.692\n",
      "Sample:                    01-07-1994   HQIC                         55226.329\n",
      "                         - 04-05-2013                                         \n",
      "======================================================================================\n",
      "                         coef    std err          z      P>|z|      [0.025      0.975]\n",
      "--------------------------------------------------------------------------------------\n",
      "const               5089.6414    585.017      8.700      0.000    3943.029    6236.254\n",
      "ar.L1.market_value     0.9790      0.014     69.476      0.000       0.951       1.007\n",
      "ar.L2.market_value    -0.0304      0.020     -1.541      0.123      -0.069       0.008\n",
      "ar.L3.market_value    -0.0272      0.020     -1.379      0.168      -0.066       0.011\n",
      "ar.L4.market_value     0.1047      0.020      5.306      0.000       0.066       0.143\n",
      "ar.L5.market_value    -0.0670      0.020     -3.396      0.001      -0.106      -0.028\n",
      "ar.L6.market_value    -0.0028      0.020     -0.139      0.889      -0.041       0.036\n",
      "ar.L7.market_value     0.0505      0.020      2.559      0.011       0.012       0.089\n",
      "ar.L8.market_value    -0.0080      0.014     -0.567      0.571      -0.036       0.020\n",
      "                                    Roots                                    \n",
      "=============================================================================\n",
      "                  Real          Imaginary           Modulus         Frequency\n",
      "-----------------------------------------------------------------------------\n",
      "AR.1            1.0010           -0.0000j            1.0010           -0.0000\n",
      "AR.2           -1.6223           -0.6323j            1.7412           -0.4409\n",
      "AR.3           -1.6223           +0.6323j            1.7412            0.4409\n",
      "AR.4           -0.0911           -1.5626j            1.5653           -0.2593\n",
      "AR.5           -0.0911           +1.5626j            1.5653            0.2593\n",
      "AR.6            1.3256           -1.0019j            1.6616           -0.1030\n",
      "AR.7            1.3256           +1.0019j            1.6616            0.1030\n",
      "AR.8            6.0864           -0.0000j            6.0864           -0.0000\n",
      "-----------------------------------------------------------------------------\n",
      "\n",
      "LLR test p-value = 0.571\n"
     ]
    }
   ],
   "source": [
    "model_ar_8 = ARMA(df.market_value, order=(8,0))\n",
    "results_ar_8 = model_ar_8.fit()\n",
    "print(results_ar_8.summary())\n",
    "print(\"\\nLLR test p-value = \" + str(LLR_test(model_ar_7, model_ar_8)))"
   ]
  },
  {
   "cell_type": "code",
   "execution_count": 22,
   "metadata": {},
   "outputs": [
    {
     "name": "stdout",
     "output_type": "stream",
     "text": [
      "LLR test: 0.0\n"
     ]
    }
   ],
   "source": [
    "print(\"LLR test: \" + str(LLR_test(model_ar, model_ar_7, DF = 6)))"
   ]
  },
  {
   "cell_type": "markdown",
   "metadata": {},
   "source": [
    "## Analysing the Residuals"
   ]
  },
  {
   "cell_type": "code",
   "execution_count": 29,
   "metadata": {},
   "outputs": [],
   "source": [
    "df['res_price'] = results_ar_7.resid"
   ]
  },
  {
   "cell_type": "code",
   "execution_count": 30,
   "metadata": {},
   "outputs": [
    {
     "data": {
      "text/plain": [
       "0.35224575261958635"
      ]
     },
     "execution_count": 30,
     "metadata": {},
     "output_type": "execute_result"
    }
   ],
   "source": [
    "df.res_price.mean()"
   ]
  },
  {
   "cell_type": "code",
   "execution_count": 31,
   "metadata": {},
   "outputs": [
    {
     "data": {
      "text/plain": [
       "4005.944625495745"
      ]
     },
     "execution_count": 31,
     "metadata": {},
     "output_type": "execute_result"
    }
   ],
   "source": [
    "df.res_price.var()"
   ]
  },
  {
   "cell_type": "code",
   "execution_count": 32,
   "metadata": {},
   "outputs": [
    {
     "data": {
      "text/plain": [
       "(-76.07468939179434,\n",
       " 0.0,\n",
       " 0,\n",
       " 5020,\n",
       " {'1%': -3.431653316130827,\n",
       "  '5%': -2.8621159253018247,\n",
       "  '10%': -2.5670765656497516},\n",
       " 54842.41506437515)"
      ]
     },
     "execution_count": 32,
     "metadata": {},
     "output_type": "execute_result"
    }
   ],
   "source": [
    "sts.adfuller(df.res_price)"
   ]
  },
  {
   "cell_type": "code",
   "execution_count": 33,
   "metadata": {},
   "outputs": [
    {
     "data": {
      "image/png": "[encoded data removed]",
      "text/plain": [
       "<Figure size 432x288 with 1 Axes>"
      ]
     },
     "metadata": {
      "needs_background": "light"
     },
     "output_type": "display_data"
    }
   ],
   "source": [
    "sgt.plot_acf(df.res_price, zero = False, lags = 40)\n",
    "plt.title(\"ACF Of Residuals for Prices\",size=24)\n",
    "plt.show()"
   ]
  },
  {
   "cell_type": "code",
   "execution_count": 34,
   "metadata": {},
   "outputs": [
    {
     "data": {
      "image/png": "[encoded data removed]",
      "text/plain": [
       "<Figure size 1440x360 with 1 Axes>"
      ]
     },
     "metadata": {
      "needs_background": "light"
     },
     "output_type": "display_data"
    }
   ],
   "source": [
    "df.res_price[1:].plot(figsize=(20,5))\n",
    "plt.title(\"Residuals of Prices\",size=24)\n",
    "plt.show()"
   ]
  }
 ],
 "metadata": {
  "kernelspec": {
   "display_name": "Python 3 (ipykernel)",
   "language": "python",
   "name": "python3"
  },
  "language_info": {
   "codemirror_mode": {
    "name": "ipython",
    "version": 3
   },
   "file_extension": ".py",
   "mimetype": "text/x-python",
   "name": "python",
   "nbconvert_exporter": "python",
   "pygments_lexer": "ipython3",
   "version": "3.8.12"
  }
 },
 "nbformat": 4,
 "nbformat_minor": 2
}
