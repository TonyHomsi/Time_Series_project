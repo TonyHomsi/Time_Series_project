{
 "cells": [
  {
   "cell_type": "markdown",
   "id": "dcd734d0",
   "metadata": {},
   "source": [
    "* Install pytorch-lightning\n",
    "* install tqdm"
   ]
  },
  {
   "cell_type": "code",
   "execution_count": 1,
   "id": "03eed73d",
   "metadata": {},
   "outputs": [
    {
     "name": "stdout",
     "output_type": "stream",
     "text": [
      "Thu Dec  2 16:10:15 2021       \n",
      "+-----------------------------------------------------------------------------+\n",
      "| NVIDIA-SMI 462.80       Driver Version: 462.80       CUDA Version: 11.2     |\n",
      "|-------------------------------+----------------------+----------------------+\n",
      "| GPU  Name            TCC/WDDM | Bus-Id        Disp.A | Volatile Uncorr. ECC |\n",
      "| Fan  Temp  Perf  Pwr:Usage/Cap|         Memory-Usage | GPU-Util  Compute M. |\n",
      "|                               |                      |               MIG M. |\n",
      "|===============================+======================+======================|\n",
      "|   0  GeForce RTX 206... WDDM  | 00000000:01:00.0  On |                  N/A |\n",
      "| N/A   48C    P8     6W /  N/A |    510MiB /  6144MiB |     10%      Default |\n",
      "|                               |                      |                  N/A |\n",
      "+-------------------------------+----------------------+----------------------+\n",
      "                                                                               \n",
      "+-----------------------------------------------------------------------------+\n",
      "| Processes:                                                                  |\n",
      "|  GPU   GI   CI        PID   Type   Process name                  GPU Memory |\n",
      "|        ID   ID                                                   Usage      |\n",
      "|=============================================================================|\n",
      "|    0   N/A  N/A      2404    C+G   Insufficient Permissions        N/A      |\n",
      "|    0   N/A  N/A     18028    C+G   ...e\\Current\\LogiOverlay.exe    N/A      |\n",
      "|    0   N/A  N/A     21432    C+G   ...ystemEventUtilityHost.exe    N/A      |\n",
      "+-----------------------------------------------------------------------------+\n"
     ]
    }
   ],
   "source": [
    "!nvidia-smi"
   ]
  },
  {
   "cell_type": "code",
   "execution_count": 2,
   "id": "e2bf2d29",
   "metadata": {},
   "outputs": [],
   "source": [
    "import seaborn as sns\n",
    "from pylab import rcParams\n",
    "import matplotlib.pyplot as plt\n",
    "from matplotlib import rc\n",
    "import matplotlib\n",
    "import math\n",
    "\n",
    "import numpy as np\n",
    "import pandas as pd\n",
    "from tqdm import tqdm\n",
    "import pytorch_lightning as pl\n",
    "from pytorch_lightning.callbacks import ModelCheckpoint, EarlyStopping\n",
    "from pytorch_lightning.loggers import TensorBoardLogger\n",
    "from sklearn.preprocessing import MinMaxScaler\n",
    "\n",
    "import torch\n",
    "import torch.autograd as autograd\n",
    "from torch import nn, optim\n",
    "import torch.nn.functional as F\n",
    "from torch.utils.data import Dataset, DataLoader\n",
    "from pandas.plotting import register_matplotlib_converters"
   ]
  },
  {
   "cell_type": "code",
   "execution_count": 3,
   "id": "d052ed0b",
   "metadata": {},
   "outputs": [
    {
     "data": {
      "text/plain": [
       "<torch._C.Generator at 0x22c908986f0>"
      ]
     },
     "execution_count": 3,
     "metadata": {},
     "output_type": "execute_result"
    }
   ],
   "source": [
    "\n",
    "%matplotlib inline\n",
    "%config InlineBackend.figure_format='retina'\n",
    "\n",
    "sns.set(style='whitegrid', palette='muted', font_scale=1.2)\n",
    "\n",
    "HAPPY_COLORS_PALETTE = [\"#01BEFE\", \"#FFDD00\", \"#FF7D00\", \"#FF006D\", \"#93D30C\", \"#8F00FF\"]\n",
    "\n",
    "sns.set_palette(sns.color_palette(HAPPY_COLORS_PALETTE))\n",
    "\n",
    "rcParams['figure.figsize'] = 14, 10\n",
    "register_matplotlib_converters()\n",
    "\n",
    "RANDOM_SEED = 42\n",
    "np.random.seed(RANDOM_SEED)\n",
    "torch.manual_seed(RANDOM_SEED)"
   ]
  },
  {
   "cell_type": "code",
   "execution_count": 4,
   "id": "18cd6a12",
   "metadata": {},
   "outputs": [
    {
     "name": "stderr",
     "output_type": "stream",
     "text": [
      "Global seed set to 42\n"
     ]
    },
    {
     "data": {
      "text/plain": [
       "42"
      ]
     },
     "execution_count": 4,
     "metadata": {},
     "output_type": "execute_result"
    }
   ],
   "source": [
    "pl.seed_everything(42)"
   ]
  },
  {
   "cell_type": "markdown",
   "id": "7c9ba7c3",
   "metadata": {},
   "source": [
    "### Load Data"
   ]
  },
  {
   "cell_type": "code",
   "execution_count": 5,
   "id": "39857edd",
   "metadata": {},
   "outputs": [
    {
     "data": {
      "text/html": [
       "<div>\n",
       "<style scoped>\n",
       "    .dataframe tbody tr th:only-of-type {\n",
       "        vertical-align: middle;\n",
       "    }\n",
       "\n",
       "    .dataframe tbody tr th {\n",
       "        vertical-align: top;\n",
       "    }\n",
       "\n",
       "    .dataframe thead th {\n",
       "        text-align: right;\n",
       "    }\n",
       "</style>\n",
       "<table border=\"1\" class=\"dataframe\">\n",
       "  <thead>\n",
       "    <tr style=\"text-align: right;\">\n",
       "      <th></th>\n",
       "      <th>unix</th>\n",
       "      <th>date</th>\n",
       "      <th>symbol</th>\n",
       "      <th>open</th>\n",
       "      <th>high</th>\n",
       "      <th>low</th>\n",
       "      <th>close</th>\n",
       "      <th>Volume BTC</th>\n",
       "      <th>Volume USDT</th>\n",
       "      <th>tradecount</th>\n",
       "    </tr>\n",
       "  </thead>\n",
       "  <tbody>\n",
       "    <tr>\n",
       "      <th>0</th>\n",
       "      <td>1575170040000</td>\n",
       "      <td>2019-12-01 03:14:00</td>\n",
       "      <td>BTC/USDT</td>\n",
       "      <td>7278.00</td>\n",
       "      <td>7282.70</td>\n",
       "      <td>7269.11</td>\n",
       "      <td>7282.23</td>\n",
       "      <td>175.907</td>\n",
       "      <td>1.279841e+06</td>\n",
       "      <td>513</td>\n",
       "    </tr>\n",
       "    <tr>\n",
       "      <th>1</th>\n",
       "      <td>1575170100000</td>\n",
       "      <td>2019-12-01 03:15:00</td>\n",
       "      <td>BTC/USDT</td>\n",
       "      <td>7281.08</td>\n",
       "      <td>7282.00</td>\n",
       "      <td>7272.47</td>\n",
       "      <td>7278.90</td>\n",
       "      <td>124.766</td>\n",
       "      <td>9.081154e+05</td>\n",
       "      <td>435</td>\n",
       "    </tr>\n",
       "    <tr>\n",
       "      <th>2</th>\n",
       "      <td>1575170160000</td>\n",
       "      <td>2019-12-01 03:16:00</td>\n",
       "      <td>BTC/USDT</td>\n",
       "      <td>7279.06</td>\n",
       "      <td>7297.38</td>\n",
       "      <td>7279.00</td>\n",
       "      <td>7297.37</td>\n",
       "      <td>311.670</td>\n",
       "      <td>2.270862e+06</td>\n",
       "      <td>729</td>\n",
       "    </tr>\n",
       "    <tr>\n",
       "      <th>3</th>\n",
       "      <td>1575170220000</td>\n",
       "      <td>2019-12-01 03:17:00</td>\n",
       "      <td>BTC/USDT</td>\n",
       "      <td>7296.14</td>\n",
       "      <td>7298.99</td>\n",
       "      <td>7280.31</td>\n",
       "      <td>7288.00</td>\n",
       "      <td>194.617</td>\n",
       "      <td>1.418390e+06</td>\n",
       "      <td>632</td>\n",
       "    </tr>\n",
       "    <tr>\n",
       "      <th>4</th>\n",
       "      <td>1575170280000</td>\n",
       "      <td>2019-12-01 03:18:00</td>\n",
       "      <td>BTC/USDT</td>\n",
       "      <td>7286.01</td>\n",
       "      <td>7289.70</td>\n",
       "      <td>7275.74</td>\n",
       "      <td>7275.74</td>\n",
       "      <td>83.405</td>\n",
       "      <td>6.073795e+05</td>\n",
       "      <td>316</td>\n",
       "    </tr>\n",
       "  </tbody>\n",
       "</table>\n",
       "</div>"
      ],
      "text/plain": [
       "            unix                date    symbol     open     high      low  \\\n",
       "0  1575170040000 2019-12-01 03:14:00  BTC/USDT  7278.00  7282.70  7269.11   \n",
       "1  1575170100000 2019-12-01 03:15:00  BTC/USDT  7281.08  7282.00  7272.47   \n",
       "2  1575170160000 2019-12-01 03:16:00  BTC/USDT  7279.06  7297.38  7279.00   \n",
       "3  1575170220000 2019-12-01 03:17:00  BTC/USDT  7296.14  7298.99  7280.31   \n",
       "4  1575170280000 2019-12-01 03:18:00  BTC/USDT  7286.01  7289.70  7275.74   \n",
       "\n",
       "     close  Volume BTC   Volume USDT  tradecount  \n",
       "0  7282.23     175.907  1.279841e+06         513  \n",
       "1  7278.90     124.766  9.081154e+05         435  \n",
       "2  7297.37     311.670  2.270862e+06         729  \n",
       "3  7288.00     194.617  1.418390e+06         632  \n",
       "4  7275.74      83.405  6.073795e+05         316  "
      ]
     },
     "execution_count": 5,
     "metadata": {},
     "output_type": "execute_result"
    }
   ],
   "source": [
    "df = pd.read_csv('Binance_BTCUSDT_minute.csv', parse_dates=['date'])\n",
    "# Sort the date\n",
    "df = df.sort_values(by=\"date\").reset_index(drop=True)\n",
    "df.head()"
   ]
  },
  {
   "cell_type": "code",
   "execution_count": 6,
   "id": "f5fd9d0c",
   "metadata": {},
   "outputs": [
    {
     "data": {
      "text/html": [
       "<div>\n",
       "<style scoped>\n",
       "    .dataframe tbody tr th:only-of-type {\n",
       "        vertical-align: middle;\n",
       "    }\n",
       "\n",
       "    .dataframe tbody tr th {\n",
       "        vertical-align: top;\n",
       "    }\n",
       "\n",
       "    .dataframe thead th {\n",
       "        text-align: right;\n",
       "    }\n",
       "</style>\n",
       "<table border=\"1\" class=\"dataframe\">\n",
       "  <thead>\n",
       "    <tr style=\"text-align: right;\">\n",
       "      <th></th>\n",
       "      <th>unix</th>\n",
       "      <th>date</th>\n",
       "      <th>symbol</th>\n",
       "      <th>open</th>\n",
       "      <th>high</th>\n",
       "      <th>low</th>\n",
       "      <th>close</th>\n",
       "      <th>Volume BTC</th>\n",
       "      <th>Volume USDT</th>\n",
       "      <th>tradecount</th>\n",
       "    </tr>\n",
       "  </thead>\n",
       "  <tbody>\n",
       "    <tr>\n",
       "      <th>1048571</th>\n",
       "      <td>1638408780000</td>\n",
       "      <td>2021-12-02 01:33:00</td>\n",
       "      <td>BTC/USDT</td>\n",
       "      <td>57233.42</td>\n",
       "      <td>57233.43</td>\n",
       "      <td>57178.41</td>\n",
       "      <td>57190.17</td>\n",
       "      <td>21.15174</td>\n",
       "      <td>1.209836e+06</td>\n",
       "      <td>856</td>\n",
       "    </tr>\n",
       "    <tr>\n",
       "      <th>1048572</th>\n",
       "      <td>1638408840000</td>\n",
       "      <td>2021-12-02 01:34:00</td>\n",
       "      <td>BTC/USDT</td>\n",
       "      <td>57195.67</td>\n",
       "      <td>57216.48</td>\n",
       "      <td>57160.90</td>\n",
       "      <td>57187.41</td>\n",
       "      <td>21.67796</td>\n",
       "      <td>1.239699e+06</td>\n",
       "      <td>724</td>\n",
       "    </tr>\n",
       "    <tr>\n",
       "      <th>1048573</th>\n",
       "      <td>1638408900000</td>\n",
       "      <td>2021-12-02 01:35:00</td>\n",
       "      <td>BTC/USDT</td>\n",
       "      <td>57187.40</td>\n",
       "      <td>57228.98</td>\n",
       "      <td>57184.39</td>\n",
       "      <td>57185.99</td>\n",
       "      <td>17.35244</td>\n",
       "      <td>9.925354e+05</td>\n",
       "      <td>539</td>\n",
       "    </tr>\n",
       "  </tbody>\n",
       "</table>\n",
       "</div>"
      ],
      "text/plain": [
       "                  unix                date    symbol      open      high  \\\n",
       "1048571  1638408780000 2021-12-02 01:33:00  BTC/USDT  57233.42  57233.43   \n",
       "1048572  1638408840000 2021-12-02 01:34:00  BTC/USDT  57195.67  57216.48   \n",
       "1048573  1638408900000 2021-12-02 01:35:00  BTC/USDT  57187.40  57228.98   \n",
       "\n",
       "              low     close  Volume BTC   Volume USDT  tradecount  \n",
       "1048571  57178.41  57190.17    21.15174  1.209836e+06         856  \n",
       "1048572  57160.90  57187.41    21.67796  1.239699e+06         724  \n",
       "1048573  57184.39  57185.99    17.35244  9.925354e+05         539  "
      ]
     },
     "execution_count": 6,
     "metadata": {},
     "output_type": "execute_result"
    }
   ],
   "source": [
    "df.tail(3)"
   ]
  },
  {
   "cell_type": "code",
   "execution_count": 7,
   "id": "ed3eaec4",
   "metadata": {
    "scrolled": true
   },
   "outputs": [
    {
     "data": {
      "text/plain": [
       "unix                    int64\n",
       "date           datetime64[ns]\n",
       "symbol                 object\n",
       "open                  float64\n",
       "high                  float64\n",
       "low                   float64\n",
       "close                 float64\n",
       "Volume BTC            float64\n",
       "Volume USDT           float64\n",
       "tradecount              int64\n",
       "dtype: object"
      ]
     },
     "execution_count": 7,
     "metadata": {},
     "output_type": "execute_result"
    }
   ],
   "source": [
    "df.dtypes"
   ]
  },
  {
   "cell_type": "code",
   "execution_count": 8,
   "id": "1f33f346",
   "metadata": {},
   "outputs": [
    {
     "data": {
      "text/plain": [
       "(1048574, 10)"
      ]
     },
     "execution_count": 8,
     "metadata": {},
     "output_type": "execute_result"
    }
   ],
   "source": [
    "df.shape"
   ]
  },
  {
   "cell_type": "code",
   "execution_count": 9,
   "id": "db6699cb",
   "metadata": {},
   "outputs": [
    {
     "data": {
      "text/plain": [
       "unix           0\n",
       "date           0\n",
       "symbol         0\n",
       "open           0\n",
       "high           0\n",
       "low            0\n",
       "close          0\n",
       "Volume BTC     0\n",
       "Volume USDT    0\n",
       "tradecount     0\n",
       "dtype: int64"
      ]
     },
     "execution_count": 9,
     "metadata": {},
     "output_type": "execute_result"
    }
   ],
   "source": [
    "df.isna().sum()"
   ]
  },
  {
   "cell_type": "markdown",
   "id": "4046a8ee",
   "metadata": {},
   "source": [
    "## Preprocessing"
   ]
  },
  {
   "cell_type": "code",
   "execution_count": 10,
   "id": "b09309d5",
   "metadata": {},
   "outputs": [
    {
     "data": {
      "text/plain": [
       "0           7282.23\n",
       "1           7278.90\n",
       "2           7297.37\n",
       "3           7288.00\n",
       "4           7275.74\n",
       "             ...   \n",
       "1048569    57317.69\n",
       "1048570    57233.43\n",
       "1048571    57190.17\n",
       "1048572    57187.41\n",
       "1048573    57185.99\n",
       "Name: close, Length: 1048574, dtype: float64"
      ]
     },
     "execution_count": 10,
     "metadata": {},
     "output_type": "execute_result"
    }
   ],
   "source": [
    "df.close"
   ]
  },
  {
   "cell_type": "code",
   "execution_count": 11,
   "id": "8faaea39",
   "metadata": {},
   "outputs": [],
   "source": [
    "df[\"prev_close\"] = df.shift(1)[\"close\"]"
   ]
  },
  {
   "cell_type": "code",
   "execution_count": 12,
   "id": "afdca683",
   "metadata": {},
   "outputs": [
    {
     "data": {
      "text/html": [
       "<div>\n",
       "<style scoped>\n",
       "    .dataframe tbody tr th:only-of-type {\n",
       "        vertical-align: middle;\n",
       "    }\n",
       "\n",
       "    .dataframe tbody tr th {\n",
       "        vertical-align: top;\n",
       "    }\n",
       "\n",
       "    .dataframe thead th {\n",
       "        text-align: right;\n",
       "    }\n",
       "</style>\n",
       "<table border=\"1\" class=\"dataframe\">\n",
       "  <thead>\n",
       "    <tr style=\"text-align: right;\">\n",
       "      <th></th>\n",
       "      <th>unix</th>\n",
       "      <th>date</th>\n",
       "      <th>symbol</th>\n",
       "      <th>open</th>\n",
       "      <th>high</th>\n",
       "      <th>low</th>\n",
       "      <th>close</th>\n",
       "      <th>Volume BTC</th>\n",
       "      <th>Volume USDT</th>\n",
       "      <th>tradecount</th>\n",
       "      <th>prev_close</th>\n",
       "    </tr>\n",
       "  </thead>\n",
       "  <tbody>\n",
       "    <tr>\n",
       "      <th>0</th>\n",
       "      <td>1575170040000</td>\n",
       "      <td>2019-12-01 03:14:00</td>\n",
       "      <td>BTC/USDT</td>\n",
       "      <td>7278.00</td>\n",
       "      <td>7282.70</td>\n",
       "      <td>7269.11</td>\n",
       "      <td>7282.23</td>\n",
       "      <td>175.907</td>\n",
       "      <td>1.279841e+06</td>\n",
       "      <td>513</td>\n",
       "      <td>NaN</td>\n",
       "    </tr>\n",
       "    <tr>\n",
       "      <th>1</th>\n",
       "      <td>1575170100000</td>\n",
       "      <td>2019-12-01 03:15:00</td>\n",
       "      <td>BTC/USDT</td>\n",
       "      <td>7281.08</td>\n",
       "      <td>7282.00</td>\n",
       "      <td>7272.47</td>\n",
       "      <td>7278.90</td>\n",
       "      <td>124.766</td>\n",
       "      <td>9.081154e+05</td>\n",
       "      <td>435</td>\n",
       "      <td>7282.23</td>\n",
       "    </tr>\n",
       "    <tr>\n",
       "      <th>2</th>\n",
       "      <td>1575170160000</td>\n",
       "      <td>2019-12-01 03:16:00</td>\n",
       "      <td>BTC/USDT</td>\n",
       "      <td>7279.06</td>\n",
       "      <td>7297.38</td>\n",
       "      <td>7279.00</td>\n",
       "      <td>7297.37</td>\n",
       "      <td>311.670</td>\n",
       "      <td>2.270862e+06</td>\n",
       "      <td>729</td>\n",
       "      <td>7278.90</td>\n",
       "    </tr>\n",
       "    <tr>\n",
       "      <th>3</th>\n",
       "      <td>1575170220000</td>\n",
       "      <td>2019-12-01 03:17:00</td>\n",
       "      <td>BTC/USDT</td>\n",
       "      <td>7296.14</td>\n",
       "      <td>7298.99</td>\n",
       "      <td>7280.31</td>\n",
       "      <td>7288.00</td>\n",
       "      <td>194.617</td>\n",
       "      <td>1.418390e+06</td>\n",
       "      <td>632</td>\n",
       "      <td>7297.37</td>\n",
       "    </tr>\n",
       "    <tr>\n",
       "      <th>4</th>\n",
       "      <td>1575170280000</td>\n",
       "      <td>2019-12-01 03:18:00</td>\n",
       "      <td>BTC/USDT</td>\n",
       "      <td>7286.01</td>\n",
       "      <td>7289.70</td>\n",
       "      <td>7275.74</td>\n",
       "      <td>7275.74</td>\n",
       "      <td>83.405</td>\n",
       "      <td>6.073795e+05</td>\n",
       "      <td>316</td>\n",
       "      <td>7288.00</td>\n",
       "    </tr>\n",
       "  </tbody>\n",
       "</table>\n",
       "</div>"
      ],
      "text/plain": [
       "            unix                date    symbol     open     high      low  \\\n",
       "0  1575170040000 2019-12-01 03:14:00  BTC/USDT  7278.00  7282.70  7269.11   \n",
       "1  1575170100000 2019-12-01 03:15:00  BTC/USDT  7281.08  7282.00  7272.47   \n",
       "2  1575170160000 2019-12-01 03:16:00  BTC/USDT  7279.06  7297.38  7279.00   \n",
       "3  1575170220000 2019-12-01 03:17:00  BTC/USDT  7296.14  7298.99  7280.31   \n",
       "4  1575170280000 2019-12-01 03:18:00  BTC/USDT  7286.01  7289.70  7275.74   \n",
       "\n",
       "     close  Volume BTC   Volume USDT  tradecount  prev_close  \n",
       "0  7282.23     175.907  1.279841e+06         513         NaN  \n",
       "1  7278.90     124.766  9.081154e+05         435     7282.23  \n",
       "2  7297.37     311.670  2.270862e+06         729     7278.90  \n",
       "3  7288.00     194.617  1.418390e+06         632     7297.37  \n",
       "4  7275.74      83.405  6.073795e+05         316     7288.00  "
      ]
     },
     "execution_count": 12,
     "metadata": {},
     "output_type": "execute_result"
    }
   ],
   "source": [
    "df.head()"
   ]
  },
  {
   "cell_type": "code",
   "execution_count": 13,
   "id": "1b89fae9",
   "metadata": {},
   "outputs": [],
   "source": [
    "from tqdm.notebook import tqdm\n",
    "tqdm.pandas()"
   ]
  },
  {
   "cell_type": "code",
   "execution_count": 14,
   "id": "df5a4f57",
   "metadata": {},
   "outputs": [
    {
     "data": {
      "application/vnd.jupyter.widget-view+json": {
       "model_id": "0f907e1b71614fc6be09a77e117a98b0",
       "version_major": 2,
       "version_minor": 0
      },
      "text/plain": [
       "  0%|          | 0/1048574 [00:00<?, ?it/s]"
      ]
     },
     "metadata": {},
     "output_type": "display_data"
    }
   ],
   "source": [
    "df[\"close_change\"] = df.progress_apply(\n",
    "    lambda row: 0 if np.isnan(row.prev_close) else row.close - row.prev_close,\n",
    "    axis = 1\n",
    ")"
   ]
  },
  {
   "cell_type": "code",
   "execution_count": 15,
   "id": "be96ccfd",
   "metadata": {},
   "outputs": [
    {
     "data": {
      "text/html": [
       "<div>\n",
       "<style scoped>\n",
       "    .dataframe tbody tr th:only-of-type {\n",
       "        vertical-align: middle;\n",
       "    }\n",
       "\n",
       "    .dataframe tbody tr th {\n",
       "        vertical-align: top;\n",
       "    }\n",
       "\n",
       "    .dataframe thead th {\n",
       "        text-align: right;\n",
       "    }\n",
       "</style>\n",
       "<table border=\"1\" class=\"dataframe\">\n",
       "  <thead>\n",
       "    <tr style=\"text-align: right;\">\n",
       "      <th></th>\n",
       "      <th>unix</th>\n",
       "      <th>date</th>\n",
       "      <th>symbol</th>\n",
       "      <th>open</th>\n",
       "      <th>high</th>\n",
       "      <th>low</th>\n",
       "      <th>close</th>\n",
       "      <th>Volume BTC</th>\n",
       "      <th>Volume USDT</th>\n",
       "      <th>tradecount</th>\n",
       "      <th>prev_close</th>\n",
       "      <th>close_change</th>\n",
       "    </tr>\n",
       "  </thead>\n",
       "  <tbody>\n",
       "    <tr>\n",
       "      <th>0</th>\n",
       "      <td>1575170040000</td>\n",
       "      <td>2019-12-01 03:14:00</td>\n",
       "      <td>BTC/USDT</td>\n",
       "      <td>7278.00</td>\n",
       "      <td>7282.70</td>\n",
       "      <td>7269.11</td>\n",
       "      <td>7282.23</td>\n",
       "      <td>175.907</td>\n",
       "      <td>1.279841e+06</td>\n",
       "      <td>513</td>\n",
       "      <td>NaN</td>\n",
       "      <td>0.00</td>\n",
       "    </tr>\n",
       "    <tr>\n",
       "      <th>1</th>\n",
       "      <td>1575170100000</td>\n",
       "      <td>2019-12-01 03:15:00</td>\n",
       "      <td>BTC/USDT</td>\n",
       "      <td>7281.08</td>\n",
       "      <td>7282.00</td>\n",
       "      <td>7272.47</td>\n",
       "      <td>7278.90</td>\n",
       "      <td>124.766</td>\n",
       "      <td>9.081154e+05</td>\n",
       "      <td>435</td>\n",
       "      <td>7282.23</td>\n",
       "      <td>-3.33</td>\n",
       "    </tr>\n",
       "    <tr>\n",
       "      <th>2</th>\n",
       "      <td>1575170160000</td>\n",
       "      <td>2019-12-01 03:16:00</td>\n",
       "      <td>BTC/USDT</td>\n",
       "      <td>7279.06</td>\n",
       "      <td>7297.38</td>\n",
       "      <td>7279.00</td>\n",
       "      <td>7297.37</td>\n",
       "      <td>311.670</td>\n",
       "      <td>2.270862e+06</td>\n",
       "      <td>729</td>\n",
       "      <td>7278.90</td>\n",
       "      <td>18.47</td>\n",
       "    </tr>\n",
       "    <tr>\n",
       "      <th>3</th>\n",
       "      <td>1575170220000</td>\n",
       "      <td>2019-12-01 03:17:00</td>\n",
       "      <td>BTC/USDT</td>\n",
       "      <td>7296.14</td>\n",
       "      <td>7298.99</td>\n",
       "      <td>7280.31</td>\n",
       "      <td>7288.00</td>\n",
       "      <td>194.617</td>\n",
       "      <td>1.418390e+06</td>\n",
       "      <td>632</td>\n",
       "      <td>7297.37</td>\n",
       "      <td>-9.37</td>\n",
       "    </tr>\n",
       "    <tr>\n",
       "      <th>4</th>\n",
       "      <td>1575170280000</td>\n",
       "      <td>2019-12-01 03:18:00</td>\n",
       "      <td>BTC/USDT</td>\n",
       "      <td>7286.01</td>\n",
       "      <td>7289.70</td>\n",
       "      <td>7275.74</td>\n",
       "      <td>7275.74</td>\n",
       "      <td>83.405</td>\n",
       "      <td>6.073795e+05</td>\n",
       "      <td>316</td>\n",
       "      <td>7288.00</td>\n",
       "      <td>-12.26</td>\n",
       "    </tr>\n",
       "  </tbody>\n",
       "</table>\n",
       "</div>"
      ],
      "text/plain": [
       "            unix                date    symbol     open     high      low  \\\n",
       "0  1575170040000 2019-12-01 03:14:00  BTC/USDT  7278.00  7282.70  7269.11   \n",
       "1  1575170100000 2019-12-01 03:15:00  BTC/USDT  7281.08  7282.00  7272.47   \n",
       "2  1575170160000 2019-12-01 03:16:00  BTC/USDT  7279.06  7297.38  7279.00   \n",
       "3  1575170220000 2019-12-01 03:17:00  BTC/USDT  7296.14  7298.99  7280.31   \n",
       "4  1575170280000 2019-12-01 03:18:00  BTC/USDT  7286.01  7289.70  7275.74   \n",
       "\n",
       "     close  Volume BTC   Volume USDT  tradecount  prev_close  close_change  \n",
       "0  7282.23     175.907  1.279841e+06         513         NaN          0.00  \n",
       "1  7278.90     124.766  9.081154e+05         435     7282.23         -3.33  \n",
       "2  7297.37     311.670  2.270862e+06         729     7278.90         18.47  \n",
       "3  7288.00     194.617  1.418390e+06         632     7297.37         -9.37  \n",
       "4  7275.74      83.405  6.073795e+05         316     7288.00        -12.26  "
      ]
     },
     "execution_count": 15,
     "metadata": {},
     "output_type": "execute_result"
    }
   ],
   "source": [
    "df.head()"
   ]
  },
  {
   "cell_type": "code",
   "execution_count": 16,
   "id": "2c0d7609",
   "metadata": {},
   "outputs": [
    {
     "data": {
      "application/vnd.jupyter.widget-view+json": {
       "model_id": "9d4e6a168d994da0a46823f4c18cb708",
       "version_major": 2,
       "version_minor": 0
      },
      "text/plain": [
       "  0%|          | 0/1048574 [00:00<?, ?it/s]"
      ]
     },
     "metadata": {},
     "output_type": "display_data"
    }
   ],
   "source": [
    "# Convert to feature data frame\n",
    "rows = []\n",
    "\n",
    "for _, row in tqdm(df.iterrows(), total=df.shape[0]):\n",
    "    row_data = dict(\n",
    "        day_of_week=row.date.dayofweek,\n",
    "        day_of_month = row.date.day,\n",
    "        week_of_year=row.date.week,\n",
    "        month= row.date.month,\n",
    "        _open=row.open,\n",
    "        high=row.high,\n",
    "        low=row.low,\n",
    "        close_change=row.close_change,\n",
    "        close=row.close\n",
    "    )\n",
    "    rows.append(row_data)\n",
    "    \n",
    "features_df = pd.DataFrame(rows)"
   ]
  },
  {
   "cell_type": "code",
   "execution_count": 17,
   "id": "e455083e",
   "metadata": {},
   "outputs": [
    {
     "data": {
      "text/html": [
       "<div>\n",
       "<style scoped>\n",
       "    .dataframe tbody tr th:only-of-type {\n",
       "        vertical-align: middle;\n",
       "    }\n",
       "\n",
       "    .dataframe tbody tr th {\n",
       "        vertical-align: top;\n",
       "    }\n",
       "\n",
       "    .dataframe thead th {\n",
       "        text-align: right;\n",
       "    }\n",
       "</style>\n",
       "<table border=\"1\" class=\"dataframe\">\n",
       "  <thead>\n",
       "    <tr style=\"text-align: right;\">\n",
       "      <th></th>\n",
       "      <th>day_of_week</th>\n",
       "      <th>day_of_month</th>\n",
       "      <th>week_of_year</th>\n",
       "      <th>month</th>\n",
       "      <th>_open</th>\n",
       "      <th>high</th>\n",
       "      <th>low</th>\n",
       "      <th>close_change</th>\n",
       "      <th>close</th>\n",
       "    </tr>\n",
       "  </thead>\n",
       "  <tbody>\n",
       "    <tr>\n",
       "      <th>0</th>\n",
       "      <td>6</td>\n",
       "      <td>1</td>\n",
       "      <td>48</td>\n",
       "      <td>12</td>\n",
       "      <td>7278.00</td>\n",
       "      <td>7282.70</td>\n",
       "      <td>7269.11</td>\n",
       "      <td>0.00</td>\n",
       "      <td>7282.23</td>\n",
       "    </tr>\n",
       "    <tr>\n",
       "      <th>1</th>\n",
       "      <td>6</td>\n",
       "      <td>1</td>\n",
       "      <td>48</td>\n",
       "      <td>12</td>\n",
       "      <td>7281.08</td>\n",
       "      <td>7282.00</td>\n",
       "      <td>7272.47</td>\n",
       "      <td>-3.33</td>\n",
       "      <td>7278.90</td>\n",
       "    </tr>\n",
       "    <tr>\n",
       "      <th>2</th>\n",
       "      <td>6</td>\n",
       "      <td>1</td>\n",
       "      <td>48</td>\n",
       "      <td>12</td>\n",
       "      <td>7279.06</td>\n",
       "      <td>7297.38</td>\n",
       "      <td>7279.00</td>\n",
       "      <td>18.47</td>\n",
       "      <td>7297.37</td>\n",
       "    </tr>\n",
       "    <tr>\n",
       "      <th>3</th>\n",
       "      <td>6</td>\n",
       "      <td>1</td>\n",
       "      <td>48</td>\n",
       "      <td>12</td>\n",
       "      <td>7296.14</td>\n",
       "      <td>7298.99</td>\n",
       "      <td>7280.31</td>\n",
       "      <td>-9.37</td>\n",
       "      <td>7288.00</td>\n",
       "    </tr>\n",
       "    <tr>\n",
       "      <th>4</th>\n",
       "      <td>6</td>\n",
       "      <td>1</td>\n",
       "      <td>48</td>\n",
       "      <td>12</td>\n",
       "      <td>7286.01</td>\n",
       "      <td>7289.70</td>\n",
       "      <td>7275.74</td>\n",
       "      <td>-12.26</td>\n",
       "      <td>7275.74</td>\n",
       "    </tr>\n",
       "  </tbody>\n",
       "</table>\n",
       "</div>"
      ],
      "text/plain": [
       "   day_of_week  day_of_month  week_of_year  month    _open     high      low  \\\n",
       "0            6             1            48     12  7278.00  7282.70  7269.11   \n",
       "1            6             1            48     12  7281.08  7282.00  7272.47   \n",
       "2            6             1            48     12  7279.06  7297.38  7279.00   \n",
       "3            6             1            48     12  7296.14  7298.99  7280.31   \n",
       "4            6             1            48     12  7286.01  7289.70  7275.74   \n",
       "\n",
       "   close_change    close  \n",
       "0          0.00  7282.23  \n",
       "1         -3.33  7278.90  \n",
       "2         18.47  7297.37  \n",
       "3         -9.37  7288.00  \n",
       "4        -12.26  7275.74  "
      ]
     },
     "execution_count": 17,
     "metadata": {},
     "output_type": "execute_result"
    }
   ],
   "source": [
    "features_df.head()"
   ]
  },
  {
   "cell_type": "code",
   "execution_count": 18,
   "id": "fd992a8e",
   "metadata": {},
   "outputs": [
    {
     "data": {
      "text/plain": [
       "(1048574, 9)"
      ]
     },
     "execution_count": 18,
     "metadata": {},
     "output_type": "execute_result"
    }
   ],
   "source": [
    "features_df.shape"
   ]
  },
  {
   "cell_type": "code",
   "execution_count": 19,
   "id": "ebbfe838",
   "metadata": {},
   "outputs": [
    {
     "data": {
      "text/plain": [
       "943716"
      ]
     },
     "execution_count": 19,
     "metadata": {},
     "output_type": "execute_result"
    }
   ],
   "source": [
    "train_size = int(len(features_df)*0.9)\n",
    "train_size"
   ]
  },
  {
   "cell_type": "code",
   "execution_count": 20,
   "id": "4811bca6",
   "metadata": {},
   "outputs": [
    {
     "data": {
      "text/plain": [
       "((943716, 9), (104858, 9))"
      ]
     },
     "execution_count": 20,
     "metadata": {},
     "output_type": "execute_result"
    }
   ],
   "source": [
    "train_df, test_df = features_df[:train_size], features_df[train_size:]\n",
    "train_df.shape, test_df.shape"
   ]
  },
  {
   "cell_type": "code",
   "execution_count": 21,
   "id": "670ed619",
   "metadata": {},
   "outputs": [
    {
     "data": {
      "text/plain": [
       "1048574"
      ]
     },
     "execution_count": 21,
     "metadata": {},
     "output_type": "execute_result"
    }
   ],
   "source": [
    "943716 + 104858"
   ]
  },
  {
   "cell_type": "markdown",
   "id": "747d6f53",
   "metadata": {},
   "source": [
    "## Scaling"
   ]
  },
  {
   "cell_type": "code",
   "execution_count": 22,
   "id": "5487d4ae",
   "metadata": {},
   "outputs": [],
   "source": [
    "scaler = MinMaxScaler(feature_range=(-1,1))\n",
    "scaler = scaler.fit(train_df)"
   ]
  },
  {
   "cell_type": "code",
   "execution_count": 23,
   "id": "cfd13778",
   "metadata": {},
   "outputs": [],
   "source": [
    "train_df = pd.DataFrame(scaler.transform(train_df),\n",
    "                        index=train_df.index,\n",
    "                        columns=train_df.columns\n",
    "                       )"
   ]
  },
  {
   "cell_type": "code",
   "execution_count": 24,
   "id": "69ee5a51",
   "metadata": {},
   "outputs": [
    {
     "data": {
      "text/html": [
       "<div>\n",
       "<style scoped>\n",
       "    .dataframe tbody tr th:only-of-type {\n",
       "        vertical-align: middle;\n",
       "    }\n",
       "\n",
       "    .dataframe tbody tr th {\n",
       "        vertical-align: top;\n",
       "    }\n",
       "\n",
       "    .dataframe thead th {\n",
       "        text-align: right;\n",
       "    }\n",
       "</style>\n",
       "<table border=\"1\" class=\"dataframe\">\n",
       "  <thead>\n",
       "    <tr style=\"text-align: right;\">\n",
       "      <th></th>\n",
       "      <th>day_of_week</th>\n",
       "      <th>day_of_month</th>\n",
       "      <th>week_of_year</th>\n",
       "      <th>month</th>\n",
       "      <th>_open</th>\n",
       "      <th>high</th>\n",
       "      <th>low</th>\n",
       "      <th>close_change</th>\n",
       "      <th>close</th>\n",
       "    </tr>\n",
       "  </thead>\n",
       "  <tbody>\n",
       "    <tr>\n",
       "      <th>0</th>\n",
       "      <td>1.0</td>\n",
       "      <td>-1.0</td>\n",
       "      <td>0.807692</td>\n",
       "      <td>1.0</td>\n",
       "      <td>-0.883095</td>\n",
       "      <td>-0.885266</td>\n",
       "      <td>-0.880540</td>\n",
       "      <td>0.453872</td>\n",
       "      <td>-0.882957</td>\n",
       "    </tr>\n",
       "    <tr>\n",
       "      <th>1</th>\n",
       "      <td>1.0</td>\n",
       "      <td>-1.0</td>\n",
       "      <td>0.807692</td>\n",
       "      <td>1.0</td>\n",
       "      <td>-0.882994</td>\n",
       "      <td>-0.885289</td>\n",
       "      <td>-0.880430</td>\n",
       "      <td>0.452852</td>\n",
       "      <td>-0.883066</td>\n",
       "    </tr>\n",
       "    <tr>\n",
       "      <th>2</th>\n",
       "      <td>1.0</td>\n",
       "      <td>-1.0</td>\n",
       "      <td>0.807692</td>\n",
       "      <td>1.0</td>\n",
       "      <td>-0.883060</td>\n",
       "      <td>-0.884785</td>\n",
       "      <td>-0.880217</td>\n",
       "      <td>0.459531</td>\n",
       "      <td>-0.882461</td>\n",
       "    </tr>\n",
       "    <tr>\n",
       "      <th>3</th>\n",
       "      <td>1.0</td>\n",
       "      <td>-1.0</td>\n",
       "      <td>0.807692</td>\n",
       "      <td>1.0</td>\n",
       "      <td>-0.882501</td>\n",
       "      <td>-0.884732</td>\n",
       "      <td>-0.880174</td>\n",
       "      <td>0.451002</td>\n",
       "      <td>-0.882768</td>\n",
       "    </tr>\n",
       "    <tr>\n",
       "      <th>4</th>\n",
       "      <td>1.0</td>\n",
       "      <td>-1.0</td>\n",
       "      <td>0.807692</td>\n",
       "      <td>1.0</td>\n",
       "      <td>-0.882833</td>\n",
       "      <td>-0.885036</td>\n",
       "      <td>-0.880323</td>\n",
       "      <td>0.450116</td>\n",
       "      <td>-0.883169</td>\n",
       "    </tr>\n",
       "  </tbody>\n",
       "</table>\n",
       "</div>"
      ],
      "text/plain": [
       "   day_of_week  day_of_month  week_of_year  month     _open      high  \\\n",
       "0          1.0          -1.0      0.807692    1.0 -0.883095 -0.885266   \n",
       "1          1.0          -1.0      0.807692    1.0 -0.882994 -0.885289   \n",
       "2          1.0          -1.0      0.807692    1.0 -0.883060 -0.884785   \n",
       "3          1.0          -1.0      0.807692    1.0 -0.882501 -0.884732   \n",
       "4          1.0          -1.0      0.807692    1.0 -0.882833 -0.885036   \n",
       "\n",
       "        low  close_change     close  \n",
       "0 -0.880540      0.453872 -0.882957  \n",
       "1 -0.880430      0.452852 -0.883066  \n",
       "2 -0.880217      0.459531 -0.882461  \n",
       "3 -0.880174      0.451002 -0.882768  \n",
       "4 -0.880323      0.450116 -0.883169  "
      ]
     },
     "execution_count": 24,
     "metadata": {},
     "output_type": "execute_result"
    }
   ],
   "source": [
    "train_df.head()"
   ]
  },
  {
   "cell_type": "code",
   "execution_count": 25,
   "id": "a6b38050",
   "metadata": {},
   "outputs": [],
   "source": [
    "test_df = pd.DataFrame(scaler.transform(test_df),\n",
    "                        index=test_df.index,\n",
    "                        columns=test_df.columns\n",
    "                       )"
   ]
  },
  {
   "cell_type": "markdown",
   "id": "7dae0c88",
   "metadata": {},
   "source": [
    "## Creating Squences\n"
   ]
  },
  {
   "cell_type": "code",
   "execution_count": 26,
   "id": "13a01751",
   "metadata": {},
   "outputs": [],
   "source": [
    "def create_sequences(input_data: pd.DataFrame, target_column, sequence_length):\n",
    "    \n",
    "    sequences = []\n",
    "    data_size = len(input_data)\n",
    "    \n",
    "    for i in tqdm(range(data_size - sequence_length)):\n",
    "        \n",
    "        sequence = input_data[i:i+sequence_length]\n",
    "        \n",
    "        label_position = i + sequence_length\n",
    "        \n",
    "        label = input_data.iloc[label_position][target_column]\n",
    "        \n",
    "        sequences.append((sequence, label))\n",
    "        \n",
    "    return sequences"
   ]
  },
  {
   "cell_type": "code",
   "execution_count": 27,
   "id": "aa4b0a96",
   "metadata": {},
   "outputs": [
    {
     "data": {
      "text/html": [
       "<div>\n",
       "<style scoped>\n",
       "    .dataframe tbody tr th:only-of-type {\n",
       "        vertical-align: middle;\n",
       "    }\n",
       "\n",
       "    .dataframe tbody tr th {\n",
       "        vertical-align: top;\n",
       "    }\n",
       "\n",
       "    .dataframe thead th {\n",
       "        text-align: right;\n",
       "    }\n",
       "</style>\n",
       "<table border=\"1\" class=\"dataframe\">\n",
       "  <thead>\n",
       "    <tr style=\"text-align: right;\">\n",
       "      <th></th>\n",
       "      <th>feature_1</th>\n",
       "      <th>label</th>\n",
       "    </tr>\n",
       "  </thead>\n",
       "  <tbody>\n",
       "    <tr>\n",
       "      <th>0</th>\n",
       "      <td>1</td>\n",
       "      <td>6</td>\n",
       "    </tr>\n",
       "    <tr>\n",
       "      <th>1</th>\n",
       "      <td>2</td>\n",
       "      <td>7</td>\n",
       "    </tr>\n",
       "    <tr>\n",
       "      <th>2</th>\n",
       "      <td>3</td>\n",
       "      <td>8</td>\n",
       "    </tr>\n",
       "    <tr>\n",
       "      <th>3</th>\n",
       "      <td>4</td>\n",
       "      <td>9</td>\n",
       "    </tr>\n",
       "    <tr>\n",
       "      <th>4</th>\n",
       "      <td>5</td>\n",
       "      <td>10</td>\n",
       "    </tr>\n",
       "  </tbody>\n",
       "</table>\n",
       "</div>"
      ],
      "text/plain": [
       "   feature_1  label\n",
       "0          1      6\n",
       "1          2      7\n",
       "2          3      8\n",
       "3          4      9\n",
       "4          5     10"
      ]
     },
     "execution_count": 27,
     "metadata": {},
     "output_type": "execute_result"
    }
   ],
   "source": [
    "# Creating simple data\n",
    "sample_data = pd.DataFrame(dict(\n",
    "    feature_1=[1, 2, 3, 4, 5],\n",
    "    label=[6,7,8,9,10]\n",
    "))\n",
    "\n",
    "sample_data.head()"
   ]
  },
  {
   "cell_type": "code",
   "execution_count": 28,
   "id": "c2467ed0",
   "metadata": {},
   "outputs": [
    {
     "data": {
      "application/vnd.jupyter.widget-view+json": {
       "model_id": "4cfc239ee56f433ea91c762a4bb741fd",
       "version_major": 2,
       "version_minor": 0
      },
      "text/plain": [
       "  0%|          | 0/2 [00:00<?, ?it/s]"
      ]
     },
     "metadata": {},
     "output_type": "display_data"
    }
   ],
   "source": [
    "sample_seq = create_sequences(sample_data, \"label\", sequence_length=3)"
   ]
  },
  {
   "cell_type": "code",
   "execution_count": 29,
   "id": "b1566cb2",
   "metadata": {},
   "outputs": [
    {
     "data": {
      "text/plain": [
       "2"
      ]
     },
     "execution_count": 29,
     "metadata": {},
     "output_type": "execute_result"
    }
   ],
   "source": [
    "len(sample_seq)"
   ]
  },
  {
   "cell_type": "code",
   "execution_count": 30,
   "id": "bc381492",
   "metadata": {},
   "outputs": [
    {
     "name": "stdout",
     "output_type": "stream",
     "text": [
      "   feature_1  label\n",
      "0          1      6\n",
      "1          2      7\n",
      "2          3      8\n",
      "\n",
      "label: 9\n"
     ]
    }
   ],
   "source": [
    "print(sample_seq[0][0])\n",
    "print()\n",
    "print(f\"label: {sample_seq[0][1]}\")"
   ]
  },
  {
   "cell_type": "code",
   "execution_count": 31,
   "id": "185e7d79",
   "metadata": {},
   "outputs": [
    {
     "name": "stdout",
     "output_type": "stream",
     "text": [
      "   feature_1  label\n",
      "1          2      7\n",
      "2          3      8\n",
      "3          4      9\n",
      "\n",
      "label: 10\n"
     ]
    }
   ],
   "source": [
    "print(sample_seq[1][0])\n",
    "print()\n",
    "print(f\"label: {sample_seq[1][1]}\")"
   ]
  },
  {
   "cell_type": "code",
   "execution_count": 32,
   "id": "1bee2259",
   "metadata": {},
   "outputs": [
    {
     "data": {
      "application/vnd.jupyter.widget-view+json": {
       "model_id": "37b0e32b7ae94a2eba72e31519d89ddd",
       "version_major": 2,
       "version_minor": 0
      },
      "text/plain": [
       "  0%|          | 0/943596 [00:00<?, ?it/s]"
      ]
     },
     "metadata": {},
     "output_type": "display_data"
    },
    {
     "data": {
      "application/vnd.jupyter.widget-view+json": {
       "model_id": "42774fa3750d43ed8c101736abe650ba",
       "version_major": 2,
       "version_minor": 0
      },
      "text/plain": [
       "  0%|          | 0/104738 [00:00<?, ?it/s]"
      ]
     },
     "metadata": {},
     "output_type": "display_data"
    }
   ],
   "source": [
    "SQUENCE_LENGTH = 120\n",
    "\n",
    "train_sequences = create_sequences(train_df, \"close\", SQUENCE_LENGTH)\n",
    "test_sequences = create_sequences(test_df, \"close\", SQUENCE_LENGTH)"
   ]
  },
  {
   "cell_type": "code",
   "execution_count": 33,
   "id": "4fb18a4d",
   "metadata": {},
   "outputs": [
    {
     "data": {
      "text/plain": [
       "(120, 9)"
      ]
     },
     "execution_count": 33,
     "metadata": {},
     "output_type": "execute_result"
    }
   ],
   "source": [
    "train_sequences[0][0].shape"
   ]
  },
  {
   "cell_type": "code",
   "execution_count": 34,
   "id": "cf2e344b",
   "metadata": {},
   "outputs": [
    {
     "data": {
      "text/plain": [
       "(943596, 104738)"
      ]
     },
     "execution_count": 34,
     "metadata": {},
     "output_type": "execute_result"
    }
   ],
   "source": [
    "len(train_sequences), len(test_sequences)"
   ]
  },
  {
   "cell_type": "code",
   "execution_count": 35,
   "id": "5717682b",
   "metadata": {},
   "outputs": [
    {
     "data": {
      "text/plain": [
       "True"
      ]
     },
     "execution_count": 35,
     "metadata": {},
     "output_type": "execute_result"
    }
   ],
   "source": [
    "# Training DataFrame - train_sequences\n",
    "(943716-943596) == SQUENCE_LENGTH"
   ]
  },
  {
   "cell_type": "markdown",
   "id": "eb81d71b",
   "metadata": {},
   "source": [
    "## PyTorch Dataset"
   ]
  },
  {
   "cell_type": "code",
   "execution_count": 36,
   "id": "8793bcc1",
   "metadata": {},
   "outputs": [],
   "source": [
    "class BTCDataset(Dataset):\n",
    "    def __init__(self, sequences):\n",
    "        self.sequences = sequences\n",
    "        \n",
    "    def __len__(self):\n",
    "        return len(self.sequences)\n",
    "    \n",
    "    def __getitem__(self, idx):\n",
    "        sequence, label = self.sequences[idx]\n",
    "        \n",
    "        return dict(\n",
    "            sequence=torch.tensor(sequence.to_numpy()),\n",
    "            label=torch.tensor(label).float()\n",
    "        )"
   ]
  },
  {
   "cell_type": "code",
   "execution_count": 37,
   "id": "001eaca8",
   "metadata": {},
   "outputs": [],
   "source": [
    "class BTCPriceDataModule(pl.LightningDataModule):\n",
    "    def __init__(self, train_seq, test_seq, batch_size=8):\n",
    "        self.train_seq = train_seq\n",
    "        self.test_seq = test_seq\n",
    "        self.batch_size = batch_size\n",
    "        \n",
    "        \n",
    "    def setup(self):\n",
    "        self.train_dataset = BTCDataset(self.train_seq)\n",
    "        self.test_dataset = BTCDataset(self.test_seq)\n",
    "        \n",
    "    \n",
    "    def train_dataloader(self):\n",
    "        return DataLoader(\n",
    "            self.train_dataset,\n",
    "            batch_size=self.batch_size,\n",
    "            shuffle=False,\n",
    "            num_workers=2\n",
    "        )\n",
    "    \n",
    "    def val_dataloder(self):\n",
    "        return DataLoader(\n",
    "            self.train_dataset,\n",
    "            batch_size=1,\n",
    "            shuffle=False, #Because it's time series data\n",
    "            num_workers=1\n",
    "        )\n",
    "    \n",
    "    \n",
    "        def test_dataloder(self):\n",
    "            return DataLoader(\n",
    "                self.train_dataset,\n",
    "                batch_size=self.batch_size,\n",
    "                shuffle=False, #Because it's time series data\n",
    "                num_workers=1\n",
    "        )\n",
    "        \n",
    "        \n",
    "        \n",
    "        "
   ]
  },
  {
   "cell_type": "code",
   "execution_count": 38,
   "id": "f2f6b652",
   "metadata": {},
   "outputs": [],
   "source": [
    "N_EPOCHS = 8\n",
    "BATCH_SIZE = 64\n",
    "\n",
    "\n",
    "data_module = BTCPriceDataModule(train_sequences, test_sequences, batch_size=BATCH_SIZE)\n",
    "data_module.setup()"
   ]
  },
  {
   "cell_type": "code",
   "execution_count": 39,
   "id": "fc39142d",
   "metadata": {},
   "outputs": [],
   "source": [
    "train_dataset = BTCDataset(train_sequences)"
   ]
  },
  {
   "cell_type": "markdown",
   "id": "06366576",
   "metadata": {},
   "source": [
    "## Model"
   ]
  },
  {
   "cell_type": "code",
   "execution_count": 40,
   "id": "93373976",
   "metadata": {},
   "outputs": [],
   "source": [
    "class PricePredictionModel(nn.Module):\n",
    "    \n",
    "    def __init__(self, n_feature, n_hidden=128, n_layers=2):\n",
    "        super().__init__()\n",
    "        \n",
    "        self.n_hidden = n_hidden\n",
    "        \n",
    "        self.lstm = nn.LSTM(\n",
    "            input_size = n_feature,\n",
    "            hidden_size=n_hidden,\n",
    "            batch_first=True,\n",
    "            num_layers=n_layers,\n",
    "            dropout=0.2\n",
    "        )\n",
    "         \n",
    "        \n",
    "        #Output\n",
    "        self.regressor = nn.Linear(n_hidden, 1)\n",
    "        \n",
    "    \n",
    "    def forward(self, x):\n",
    "        self.lstm.flatten_parameters()\n",
    "        \n",
    "        _, (hidden, _) = self.lstm(x)\n",
    "        out = hidden[-1]\n",
    "        \n",
    "        return self.regressor(out)"
   ]
  },
  {
   "cell_type": "code",
   "execution_count": 41,
   "id": "364774d5",
   "metadata": {},
   "outputs": [],
   "source": [
    "class BTCPricePredictor(pl.LightningDataModule):\n",
    "    \n",
    "    def __init__(self, n_features: int):\n",
    "        super().__init__()\n",
    "        self.model = PricePredictionModel(n_features)\n",
    "        self.criterion = nn.MSELoss()\n",
    "        \n",
    "    \n",
    "    def forward(self, x, labels=None):\n",
    "        output = self.model(x)\n",
    "        loss = 0\n",
    "        if labels is not None:\n",
    "            loss = self.criterion(output, labels.unsqueeze(dim=1))\n",
    "        return loss, output\n",
    "    \n",
    "    def training_step(self, batch, batch_idx):\n",
    "        sequences = batch[\"sequence\"]\n",
    "        labels = batch[\"label\"]\n",
    "        loss, outputs = self(sequences, labels)\n",
    "        self.log(\"train_loss\", loss, prog_bar=True, logger=True)\n",
    "        return loss\n",
    "    \n",
    "    \n",
    "    def validation_step(self, batch, batch_idx):\n",
    "        sequences = batch[\"sequence\"]\n",
    "        labels = batch[\"label\"]\n",
    "        loss, outputs = self(sequences, labels)\n",
    "        self.log(\"val_loss\", loss, prog_bar=True, logger=True)\n",
    "        return loss\n",
    "    \n",
    "    \n",
    "    \n",
    "    def test_step(self, batch, batch_idx):\n",
    "        sequences = batch[\"sequence\"]\n",
    "        labels = batch[\"label\"]\n",
    "        loss, outputs = self(sequences, labels)\n",
    "        self.log(\"test_loss\", loss, prog_bar=True, logger=True)\n",
    "        return loss\n",
    "    \n",
    "    \n",
    "    def configure_optimizer(self):\n",
    "        return optim.AdamW(self.parameters(), lr=0.0001)\n",
    "        "
   ]
  },
  {
   "cell_type": "code",
   "execution_count": 42,
   "id": "f5d504d7",
   "metadata": {},
   "outputs": [],
   "source": [
    "model = BTCPricePredictor(n_features=train_df.shape[1])"
   ]
  },
  {
   "cell_type": "code",
   "execution_count": 43,
   "id": "029fe9a8",
   "metadata": {},
   "outputs": [],
   "source": [
    "#for item in data_module.train_dataloader():\n",
    " #   print(item[\"sequences\"].shape)\n",
    "  #  print(item[\"label\"].shape)\n",
    "    # print(item[\"label\"])\n",
    "  #  break"
   ]
  },
  {
   "cell_type": "code",
   "execution_count": 68,
   "id": "6de0022d",
   "metadata": {},
   "outputs": [
    {
     "name": "stdout",
     "output_type": "stream",
     "text": [
      "The tensorboard extension is already loaded. To reload it, use:\n",
      "  %reload_ext tensorboard\n"
     ]
    },
    {
     "data": {
      "text/plain": [
       "Reusing TensorBoard on port 6006 (pid 11408), started 0:13:59 ago. (Use '!kill 11408' to kill it.)"
      ]
     },
     "metadata": {},
     "output_type": "display_data"
    },
    {
     "data": {
      "text/html": [
       "\n",
       "      <iframe id=\"tensorboard-frame-1a3d1fa7bc8960a9\" width=\"100%\" height=\"800\" frameborder=\"0\">\n",
       "      </iframe>\n",
       "      <script>\n",
       "        (function() {\n",
       "          const frame = document.getElementById(\"tensorboard-frame-1a3d1fa7bc8960a9\");\n",
       "          const url = new URL(\"/\", window.location);\n",
       "          const port = 6006;\n",
       "          if (port) {\n",
       "            url.port = port;\n",
       "          }\n",
       "          frame.src = url;\n",
       "        })();\n",
       "      </script>\n",
       "    "
      ],
      "text/plain": [
       "<IPython.core.display.HTML object>"
      ]
     },
     "metadata": {},
     "output_type": "display_data"
    }
   ],
   "source": [
    "%load_ext tensorboard\n",
    "%tensorboard --logdir ./lightning_logs"
   ]
  },
  {
   "cell_type": "code",
   "execution_count": 93,
   "id": "1a81f37b",
   "metadata": {},
   "outputs": [
    {
     "name": "stderr",
     "output_type": "stream",
     "text": [
      "C:\\ProgramData\\Anaconda3\\lib\\site-packages\\pytorch_lightning\\trainer\\connectors\\callback_connector.py:147: LightningDeprecationWarning: Setting `Trainer(checkpoint_callback=<pytorch_lightning.callbacks.model_checkpoint.ModelCheckpoint object at 0x0000022D3C95CE20>)` is deprecated in v1.5 and will be removed in v1.7. Please consider using `Trainer(enable_checkpointing=<pytorch_lightning.callbacks.model_checkpoint.ModelCheckpoint object at 0x0000022D3C95CE20>)`.\n",
      "  rank_zero_deprecation(\n",
      "GPU available: False, used: False\n",
      "TPU available: False, using: 0 TPU cores\n",
      "IPU available: False, using: 0 IPUs\n"
     ]
    }
   ],
   "source": [
    "checkpoint_callback = ModelCheckpoint(\n",
    "    dirpath=\"checkpoints\",\n",
    "    filename=\"best-checkpoint\",\n",
    "    save_top_k=1,\n",
    "    verbose=True,\n",
    "    monitor=\"val_loss\",\n",
    "    mode=\"min\"\n",
    ")\n",
    "\n",
    "\n",
    "logger = TensorBoardLogger(\"Lightning_logs\", name=\"btc-price\")\n",
    "early_stopping_callback = EarlyStopping(monitor=\"val_loss\", patience=2)\n",
    "\n",
    "\n",
    "trainer = pl.Trainer(\n",
    "    logger=logger,\n",
    "    checkpoint_callback=checkpoint_callback,\n",
    "    callbacks=[early_stopping_callback],\n",
    "    max_epochs=N_EPOCHS,\n",
    "    gpus=[],\n",
    "    #tpu_cores=1,\n",
    "    progress_bar_refresh_rate=30\n",
    ")"
   ]
  },
  {
   "cell_type": "code",
   "execution_count": 94,
   "id": "eb7e3a13",
   "metadata": {},
   "outputs": [
    {
     "ename": "ValueError",
     "evalue": "The parent should define the method",
     "output_type": "error",
     "traceback": [
      "\u001b[1;31m---------------------------------------------------------------------------\u001b[0m",
      "\u001b[1;31mValueError\u001b[0m                                Traceback (most recent call last)",
      "\u001b[1;32mC:\\Users\\DATASC~1\\AppData\\Local\\Temp/ipykernel_8768/1775107835.py\u001b[0m in \u001b[0;36m<module>\u001b[1;34m\u001b[0m\n\u001b[1;32m----> 1\u001b[1;33m \u001b[0mtrainer\u001b[0m\u001b[1;33m.\u001b[0m\u001b[0mfit\u001b[0m\u001b[1;33m(\u001b[0m\u001b[0mmodel\u001b[0m\u001b[1;33m,\u001b[0m \u001b[0mdata_module\u001b[0m\u001b[1;33m)\u001b[0m\u001b[1;33m\u001b[0m\u001b[1;33m\u001b[0m\u001b[0m\n\u001b[0m",
      "\u001b[1;32mC:\\ProgramData\\Anaconda3\\lib\\site-packages\\pytorch_lightning\\trainer\\trainer.py\u001b[0m in \u001b[0;36mfit\u001b[1;34m(self, model, train_dataloaders, val_dataloaders, datamodule, train_dataloader, ckpt_path)\u001b[0m\n\u001b[0;32m    735\u001b[0m             )\n\u001b[0;32m    736\u001b[0m             \u001b[0mtrain_dataloaders\u001b[0m \u001b[1;33m=\u001b[0m \u001b[0mtrain_dataloader\u001b[0m\u001b[1;33m\u001b[0m\u001b[1;33m\u001b[0m\u001b[0m\n\u001b[1;32m--> 737\u001b[1;33m         self._call_and_handle_interrupt(\n\u001b[0m\u001b[0;32m    738\u001b[0m             \u001b[0mself\u001b[0m\u001b[1;33m.\u001b[0m\u001b[0m_fit_impl\u001b[0m\u001b[1;33m,\u001b[0m \u001b[0mmodel\u001b[0m\u001b[1;33m,\u001b[0m \u001b[0mtrain_dataloaders\u001b[0m\u001b[1;33m,\u001b[0m \u001b[0mval_dataloaders\u001b[0m\u001b[1;33m,\u001b[0m \u001b[0mdatamodule\u001b[0m\u001b[1;33m,\u001b[0m \u001b[0mckpt_path\u001b[0m\u001b[1;33m\u001b[0m\u001b[1;33m\u001b[0m\u001b[0m\n\u001b[0;32m    739\u001b[0m         )\n",
      "\u001b[1;32mC:\\ProgramData\\Anaconda3\\lib\\site-packages\\pytorch_lightning\\trainer\\trainer.py\u001b[0m in \u001b[0;36m_call_and_handle_interrupt\u001b[1;34m(self, trainer_fn, *args, **kwargs)\u001b[0m\n\u001b[0;32m    680\u001b[0m         \"\"\"\n\u001b[0;32m    681\u001b[0m         \u001b[1;32mtry\u001b[0m\u001b[1;33m:\u001b[0m\u001b[1;33m\u001b[0m\u001b[1;33m\u001b[0m\u001b[0m\n\u001b[1;32m--> 682\u001b[1;33m             \u001b[1;32mreturn\u001b[0m \u001b[0mtrainer_fn\u001b[0m\u001b[1;33m(\u001b[0m\u001b[1;33m*\u001b[0m\u001b[0margs\u001b[0m\u001b[1;33m,\u001b[0m \u001b[1;33m**\u001b[0m\u001b[0mkwargs\u001b[0m\u001b[1;33m)\u001b[0m\u001b[1;33m\u001b[0m\u001b[1;33m\u001b[0m\u001b[0m\n\u001b[0m\u001b[0;32m    683\u001b[0m         \u001b[1;31m# TODO: treat KeyboardInterrupt as BaseException (delete the code below) in v1.7\u001b[0m\u001b[1;33m\u001b[0m\u001b[1;33m\u001b[0m\u001b[1;33m\u001b[0m\u001b[0m\n\u001b[0;32m    684\u001b[0m         \u001b[1;32mexcept\u001b[0m \u001b[0mKeyboardInterrupt\u001b[0m \u001b[1;32mas\u001b[0m \u001b[0mexception\u001b[0m\u001b[1;33m:\u001b[0m\u001b[1;33m\u001b[0m\u001b[1;33m\u001b[0m\u001b[0m\n",
      "\u001b[1;32mC:\\ProgramData\\Anaconda3\\lib\\site-packages\\pytorch_lightning\\trainer\\trainer.py\u001b[0m in \u001b[0;36m_fit_impl\u001b[1;34m(self, model, train_dataloaders, val_dataloaders, datamodule, ckpt_path)\u001b[0m\n\u001b[0;32m    770\u001b[0m         \u001b[1;31m# TODO: ckpt_path only in v1.7\u001b[0m\u001b[1;33m\u001b[0m\u001b[1;33m\u001b[0m\u001b[1;33m\u001b[0m\u001b[0m\n\u001b[0;32m    771\u001b[0m         \u001b[0mckpt_path\u001b[0m \u001b[1;33m=\u001b[0m \u001b[0mckpt_path\u001b[0m \u001b[1;32mor\u001b[0m \u001b[0mself\u001b[0m\u001b[1;33m.\u001b[0m\u001b[0mresume_from_checkpoint\u001b[0m\u001b[1;33m\u001b[0m\u001b[1;33m\u001b[0m\u001b[0m\n\u001b[1;32m--> 772\u001b[1;33m         \u001b[0mself\u001b[0m\u001b[1;33m.\u001b[0m\u001b[0m_run\u001b[0m\u001b[1;33m(\u001b[0m\u001b[0mmodel\u001b[0m\u001b[1;33m,\u001b[0m \u001b[0mckpt_path\u001b[0m\u001b[1;33m=\u001b[0m\u001b[0mckpt_path\u001b[0m\u001b[1;33m)\u001b[0m\u001b[1;33m\u001b[0m\u001b[1;33m\u001b[0m\u001b[0m\n\u001b[0m\u001b[0;32m    773\u001b[0m \u001b[1;33m\u001b[0m\u001b[0m\n\u001b[0;32m    774\u001b[0m         \u001b[1;32massert\u001b[0m \u001b[0mself\u001b[0m\u001b[1;33m.\u001b[0m\u001b[0mstate\u001b[0m\u001b[1;33m.\u001b[0m\u001b[0mstopped\u001b[0m\u001b[1;33m\u001b[0m\u001b[1;33m\u001b[0m\u001b[0m\n",
      "\u001b[1;32mC:\\ProgramData\\Anaconda3\\lib\\site-packages\\pytorch_lightning\\trainer\\trainer.py\u001b[0m in \u001b[0;36m_run\u001b[1;34m(self, model, ckpt_path)\u001b[0m\n\u001b[0;32m   1115\u001b[0m             \u001b[0mparsing\u001b[0m\u001b[1;33m.\u001b[0m\u001b[0mclean_namespace\u001b[0m\u001b[1;33m(\u001b[0m\u001b[0mmodel\u001b[0m\u001b[1;33m.\u001b[0m\u001b[0mhparams\u001b[0m\u001b[1;33m)\u001b[0m\u001b[1;33m\u001b[0m\u001b[1;33m\u001b[0m\u001b[0m\n\u001b[0;32m   1116\u001b[0m \u001b[1;33m\u001b[0m\u001b[0m\n\u001b[1;32m-> 1117\u001b[1;33m         \u001b[0mverify_loop_configurations\u001b[0m\u001b[1;33m(\u001b[0m\u001b[0mself\u001b[0m\u001b[1;33m,\u001b[0m \u001b[0mmodel\u001b[0m\u001b[1;33m)\u001b[0m\u001b[1;33m\u001b[0m\u001b[1;33m\u001b[0m\u001b[0m\n\u001b[0m\u001b[0;32m   1118\u001b[0m \u001b[1;33m\u001b[0m\u001b[0m\n\u001b[0;32m   1119\u001b[0m         \u001b[1;31m# attach model log function to callback\u001b[0m\u001b[1;33m\u001b[0m\u001b[1;33m\u001b[0m\u001b[1;33m\u001b[0m\u001b[0m\n",
      "\u001b[1;32mC:\\ProgramData\\Anaconda3\\lib\\site-packages\\pytorch_lightning\\trainer\\configuration_validator.py\u001b[0m in \u001b[0;36mverify_loop_configurations\u001b[1;34m(trainer, model)\u001b[0m\n\u001b[0;32m     30\u001b[0m     \"\"\"\n\u001b[0;32m     31\u001b[0m     \u001b[1;32mif\u001b[0m \u001b[0mtrainer\u001b[0m\u001b[1;33m.\u001b[0m\u001b[0mstate\u001b[0m\u001b[1;33m.\u001b[0m\u001b[0mfn\u001b[0m \u001b[1;32min\u001b[0m \u001b[1;33m(\u001b[0m\u001b[0mTrainerFn\u001b[0m\u001b[1;33m.\u001b[0m\u001b[0mFITTING\u001b[0m\u001b[1;33m,\u001b[0m \u001b[0mTrainerFn\u001b[0m\u001b[1;33m.\u001b[0m\u001b[0mTUNING\u001b[0m\u001b[1;33m)\u001b[0m\u001b[1;33m:\u001b[0m\u001b[1;33m\u001b[0m\u001b[1;33m\u001b[0m\u001b[0m\n\u001b[1;32m---> 32\u001b[1;33m         \u001b[0m__verify_train_val_loop_configuration\u001b[0m\u001b[1;33m(\u001b[0m\u001b[0mtrainer\u001b[0m\u001b[1;33m,\u001b[0m \u001b[0mmodel\u001b[0m\u001b[1;33m)\u001b[0m\u001b[1;33m\u001b[0m\u001b[1;33m\u001b[0m\u001b[0m\n\u001b[0m\u001b[0;32m     33\u001b[0m         \u001b[0m__verify_manual_optimization_support\u001b[0m\u001b[1;33m(\u001b[0m\u001b[0mtrainer\u001b[0m\u001b[1;33m,\u001b[0m \u001b[0mmodel\u001b[0m\u001b[1;33m)\u001b[0m\u001b[1;33m\u001b[0m\u001b[1;33m\u001b[0m\u001b[0m\n\u001b[0;32m     34\u001b[0m         \u001b[0m__check_training_step_requires_dataloader_iter\u001b[0m\u001b[1;33m(\u001b[0m\u001b[0mmodel\u001b[0m\u001b[1;33m)\u001b[0m\u001b[1;33m\u001b[0m\u001b[1;33m\u001b[0m\u001b[0m\n",
      "\u001b[1;32mC:\\ProgramData\\Anaconda3\\lib\\site-packages\\pytorch_lightning\\trainer\\configuration_validator.py\u001b[0m in \u001b[0;36m__verify_train_val_loop_configuration\u001b[1;34m(trainer, model)\u001b[0m\n\u001b[0;32m     56\u001b[0m     \u001b[1;31m# verify model has a training step\u001b[0m\u001b[1;33m\u001b[0m\u001b[1;33m\u001b[0m\u001b[1;33m\u001b[0m\u001b[0m\n\u001b[0;32m     57\u001b[0m     \u001b[1;31m# -----------------------------------\u001b[0m\u001b[1;33m\u001b[0m\u001b[1;33m\u001b[0m\u001b[1;33m\u001b[0m\u001b[0m\n\u001b[1;32m---> 58\u001b[1;33m     \u001b[0mhas_training_step\u001b[0m \u001b[1;33m=\u001b[0m \u001b[0mis_overridden\u001b[0m\u001b[1;33m(\u001b[0m\u001b[1;34m\"training_step\"\u001b[0m\u001b[1;33m,\u001b[0m \u001b[0mmodel\u001b[0m\u001b[1;33m)\u001b[0m\u001b[1;33m\u001b[0m\u001b[1;33m\u001b[0m\u001b[0m\n\u001b[0m\u001b[0;32m     59\u001b[0m     \u001b[1;32mif\u001b[0m \u001b[1;32mnot\u001b[0m \u001b[0mhas_training_step\u001b[0m\u001b[1;33m:\u001b[0m\u001b[1;33m\u001b[0m\u001b[1;33m\u001b[0m\u001b[0m\n\u001b[0;32m     60\u001b[0m         raise MisconfigurationException(\n",
      "\u001b[1;32mC:\\ProgramData\\Anaconda3\\lib\\site-packages\\pytorch_lightning\\utilities\\model_helpers.py\u001b[0m in \u001b[0;36mis_overridden\u001b[1;34m(method_name, instance, parent, model)\u001b[0m\n\u001b[0;32m     63\u001b[0m     \u001b[0mparent_attr\u001b[0m \u001b[1;33m=\u001b[0m \u001b[0mgetattr\u001b[0m\u001b[1;33m(\u001b[0m\u001b[0mparent\u001b[0m\u001b[1;33m,\u001b[0m \u001b[0mmethod_name\u001b[0m\u001b[1;33m,\u001b[0m \u001b[1;32mNone\u001b[0m\u001b[1;33m)\u001b[0m\u001b[1;33m\u001b[0m\u001b[1;33m\u001b[0m\u001b[0m\n\u001b[0;32m     64\u001b[0m     \u001b[1;32mif\u001b[0m \u001b[0mparent_attr\u001b[0m \u001b[1;32mis\u001b[0m \u001b[1;32mNone\u001b[0m\u001b[1;33m:\u001b[0m\u001b[1;33m\u001b[0m\u001b[1;33m\u001b[0m\u001b[0m\n\u001b[1;32m---> 65\u001b[1;33m         \u001b[1;32mraise\u001b[0m \u001b[0mValueError\u001b[0m\u001b[1;33m(\u001b[0m\u001b[1;34m\"The parent should define the method\"\u001b[0m\u001b[1;33m)\u001b[0m\u001b[1;33m\u001b[0m\u001b[1;33m\u001b[0m\u001b[0m\n\u001b[0m\u001b[0;32m     66\u001b[0m \u001b[1;33m\u001b[0m\u001b[0m\n\u001b[0;32m     67\u001b[0m     \u001b[1;32mreturn\u001b[0m \u001b[0minstance_attr\u001b[0m\u001b[1;33m.\u001b[0m\u001b[0m__code__\u001b[0m \u001b[1;33m!=\u001b[0m \u001b[0mparent_attr\u001b[0m\u001b[1;33m.\u001b[0m\u001b[0m__code__\u001b[0m\u001b[1;33m\u001b[0m\u001b[1;33m\u001b[0m\u001b[0m\n",
      "\u001b[1;31mValueError\u001b[0m: The parent should define the method"
     ]
    }
   ],
   "source": [
    "trainer.fit(model, data_module)"
   ]
  },
  {
   "cell_type": "code",
   "execution_count": null,
   "id": "422474c3",
   "metadata": {},
   "outputs": [],
   "source": []
  },
  {
   "cell_type": "code",
   "execution_count": null,
   "id": "a2cc0020",
   "metadata": {},
   "outputs": [],
   "source": []
  }
 ],
 "metadata": {
  "kernelspec": {
   "display_name": "Python 3 (ipykernel)",
   "language": "python",
   "name": "python3"
  },
  "language_info": {
   "codemirror_mode": {
    "name": "ipython",
    "version": 3
   },
   "file_extension": ".py",
   "mimetype": "text/x-python",
   "name": "python",
   "nbconvert_exporter": "python",
   "pygments_lexer": "ipython3",
   "version": "3.8.12"
  }
 },
 "nbformat": 4,
 "nbformat_minor": 5
}
