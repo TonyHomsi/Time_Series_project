{
 "cells": [
  {
   "cell_type": "markdown",
   "id": "aabf43c3",
   "metadata": {},
   "source": [
    "# 1 — Setting the Stage\n",
    "In recent years, anomaly detection has become more popular in the machine learning community. Despite this, there are definitely fewer resources on anomaly detection than classical machine learning algorithms. As such, learning about anomaly detection can feel more tricky than it should be. Anomaly detection is from a conceptual standpoint actually very simple!\n",
    "\n",
    "The goal of this blog post is to give you a quick introduction to anomaly/outlier detection. Specifically, I will show you how to implement anomaly detection in Python with the package PyOD — Python Outlier Detection. In this way, you will not only get an understanding of what anomaly/outlier detection is but also how to implement anomaly detection in Python.\n",
    "\n"
   ]
  },
  {
   "cell_type": "markdown",
   "id": "384be595",
   "metadata": {},
   "source": [
    "# 2 — What is Anomaly/Outlier Detection?\n",
    "Anomaly detection goes under many names; outlier detection, outlier analysis, anomaly analysis, and novelty detection. A concise description from Wikipedia describes anomaly detection as follows:\n",
    "Anomaly detection is the identification of rare items, events or observations which raise suspicions by differing significantly from the majority of the data.\n",
    "Let‘s try to unpack the above statements. Say you have a dataset consisting of many observations. The goal of anomaly detection is to identify the observations that differ significantly from the rest. Why would you want to do this? There are two major reasons:\n",
    "\n",
    "### Use Case 1 — Data Cleaning\n",
    "When cleaning the data, it is sometimes better to remove anomalies as they misrepresent the data\n",
    "\n",
    "**Anomaly detection is implementing algorithms to detect outliers automatically.**\n",
    "\n",
    "### Use Case 2 — Prediction\n",
    "In other applications, the anomalies themselves are the point of interest. Examples are network intrusion, bank fraud, and certain structural defects. In these applications, the anomalies represent something that is worthy of further study.\n",
    "* Network intrusion — anomalies in network data can indicate that a network attack of some sort has taken place.\n",
    "* Bank fraud — anomalies in transaction data can indicate fraud or suspicious behaviour.\n",
    "* Structural defects — anomalies can indicate that something is wrong with your hardware. While more traditional monitoring software is typically available in this setting, anomaly detection can discover more weird defects."
   ]
  },
  {
   "cell_type": "markdown",
   "id": "402e9eb2",
   "metadata": {},
   "source": [
    "# 3 — Introducing PyOD\n",
    "**PyOD is a comprehensive and scalable Python toolkit for detecting outlying objects in multivariate data.\n",
    "Brifly put, PyOD supplies you with a bunch of models that perform anomaly.**\n",
    "\n",
    "I will demonstrate two algorithms for doing anomaly detection: KNN and LOC. You’ve maybe heard of KNN (K – Nearest Neighbors) previously, while LOC (Local Outlier Factor) is probably unfamiliar to you. Let’s first take a look at the data you will be using"
   ]
  },
  {
   "cell_type": "markdown",
   "id": "4d759a3d",
   "metadata": {},
   "source": [
    "# 4 — Getting Familiar with the Data\n",
    "classical Titanic dataset."
   ]
  },
  {
   "cell_type": "code",
   "execution_count": 1,
   "id": "7b64ddc1",
   "metadata": {},
   "outputs": [],
   "source": [
    "import pandas as pd\n",
    "titanic = pd.read_csv(\n",
    "\"https://raw.githubusercontent.com/datasciencedojo/datasets/master/titanic.csv\"\n",
    ")"
   ]
  },
  {
   "cell_type": "code",
   "execution_count": 2,
   "id": "5f29b9b7",
   "metadata": {},
   "outputs": [
    {
     "data": {
      "text/html": [
       "<div>\n",
       "<style scoped>\n",
       "    .dataframe tbody tr th:only-of-type {\n",
       "        vertical-align: middle;\n",
       "    }\n",
       "\n",
       "    .dataframe tbody tr th {\n",
       "        vertical-align: top;\n",
       "    }\n",
       "\n",
       "    .dataframe thead th {\n",
       "        text-align: right;\n",
       "    }\n",
       "</style>\n",
       "<table border=\"1\" class=\"dataframe\">\n",
       "  <thead>\n",
       "    <tr style=\"text-align: right;\">\n",
       "      <th></th>\n",
       "      <th>PassengerId</th>\n",
       "      <th>Survived</th>\n",
       "      <th>Pclass</th>\n",
       "      <th>Name</th>\n",
       "      <th>Sex</th>\n",
       "      <th>Age</th>\n",
       "      <th>SibSp</th>\n",
       "      <th>Parch</th>\n",
       "      <th>Ticket</th>\n",
       "      <th>Fare</th>\n",
       "      <th>Cabin</th>\n",
       "      <th>Embarked</th>\n",
       "    </tr>\n",
       "  </thead>\n",
       "  <tbody>\n",
       "    <tr>\n",
       "      <th>0</th>\n",
       "      <td>1</td>\n",
       "      <td>0</td>\n",
       "      <td>3</td>\n",
       "      <td>Braund, Mr. Owen Harris</td>\n",
       "      <td>male</td>\n",
       "      <td>22.0</td>\n",
       "      <td>1</td>\n",
       "      <td>0</td>\n",
       "      <td>A/5 21171</td>\n",
       "      <td>7.2500</td>\n",
       "      <td>NaN</td>\n",
       "      <td>S</td>\n",
       "    </tr>\n",
       "    <tr>\n",
       "      <th>1</th>\n",
       "      <td>2</td>\n",
       "      <td>1</td>\n",
       "      <td>1</td>\n",
       "      <td>Cumings, Mrs. John Bradley (Florence Briggs Th...</td>\n",
       "      <td>female</td>\n",
       "      <td>38.0</td>\n",
       "      <td>1</td>\n",
       "      <td>0</td>\n",
       "      <td>PC 17599</td>\n",
       "      <td>71.2833</td>\n",
       "      <td>C85</td>\n",
       "      <td>C</td>\n",
       "    </tr>\n",
       "    <tr>\n",
       "      <th>2</th>\n",
       "      <td>3</td>\n",
       "      <td>1</td>\n",
       "      <td>3</td>\n",
       "      <td>Heikkinen, Miss. Laina</td>\n",
       "      <td>female</td>\n",
       "      <td>26.0</td>\n",
       "      <td>0</td>\n",
       "      <td>0</td>\n",
       "      <td>STON/O2. 3101282</td>\n",
       "      <td>7.9250</td>\n",
       "      <td>NaN</td>\n",
       "      <td>S</td>\n",
       "    </tr>\n",
       "    <tr>\n",
       "      <th>3</th>\n",
       "      <td>4</td>\n",
       "      <td>1</td>\n",
       "      <td>1</td>\n",
       "      <td>Futrelle, Mrs. Jacques Heath (Lily May Peel)</td>\n",
       "      <td>female</td>\n",
       "      <td>35.0</td>\n",
       "      <td>1</td>\n",
       "      <td>0</td>\n",
       "      <td>113803</td>\n",
       "      <td>53.1000</td>\n",
       "      <td>C123</td>\n",
       "      <td>S</td>\n",
       "    </tr>\n",
       "    <tr>\n",
       "      <th>4</th>\n",
       "      <td>5</td>\n",
       "      <td>0</td>\n",
       "      <td>3</td>\n",
       "      <td>Allen, Mr. William Henry</td>\n",
       "      <td>male</td>\n",
       "      <td>35.0</td>\n",
       "      <td>0</td>\n",
       "      <td>0</td>\n",
       "      <td>373450</td>\n",
       "      <td>8.0500</td>\n",
       "      <td>NaN</td>\n",
       "      <td>S</td>\n",
       "    </tr>\n",
       "  </tbody>\n",
       "</table>\n",
       "</div>"
      ],
      "text/plain": [
       "   PassengerId  Survived  Pclass  \\\n",
       "0            1         0       3   \n",
       "1            2         1       1   \n",
       "2            3         1       3   \n",
       "3            4         1       1   \n",
       "4            5         0       3   \n",
       "\n",
       "                                                Name     Sex   Age  SibSp  \\\n",
       "0                            Braund, Mr. Owen Harris    male  22.0      1   \n",
       "1  Cumings, Mrs. John Bradley (Florence Briggs Th...  female  38.0      1   \n",
       "2                             Heikkinen, Miss. Laina  female  26.0      0   \n",
       "3       Futrelle, Mrs. Jacques Heath (Lily May Peel)  female  35.0      1   \n",
       "4                           Allen, Mr. William Henry    male  35.0      0   \n",
       "\n",
       "   Parch            Ticket     Fare Cabin Embarked  \n",
       "0      0         A/5 21171   7.2500   NaN        S  \n",
       "1      0          PC 17599  71.2833   C85        C  \n",
       "2      0  STON/O2. 3101282   7.9250   NaN        S  \n",
       "3      0            113803  53.1000  C123        S  \n",
       "4      0            373450   8.0500   NaN        S  "
      ]
     },
     "execution_count": 2,
     "metadata": {},
     "output_type": "execute_result"
    }
   ],
   "source": [
    "titanic.head()"
   ]
  },
  {
   "cell_type": "code",
   "execution_count": 3,
   "id": "0b238c0e",
   "metadata": {},
   "outputs": [],
   "source": [
    "#Selecting only the columns Survived, Pclass, Fare, and Sex\n",
    "partial_titanic = titanic[[\"Survived\", \"Pclass\", \"Fare\", \"Sex\"]]"
   ]
  },
  {
   "cell_type": "markdown",
   "id": "1b2ad991",
   "metadata": {},
   "source": [
    "There are no missing values in partial_titanic. However, the column Sex consists of the string values male or female. To be able to do anomaly detection, you need numeric values. You can convert this binary categorical variable to the values 0 and 1 with the code:"
   ]
  },
  {
   "cell_type": "code",
   "execution_count": 4,
   "id": "033a4baf",
   "metadata": {},
   "outputs": [
    {
     "name": "stderr",
     "output_type": "stream",
     "text": [
      "C:\\Users\\DATASC~1\\AppData\\Local\\Temp/ipykernel_37872/3279938749.py:2: SettingWithCopyWarning: \n",
      "A value is trying to be set on a copy of a slice from a DataFrame.\n",
      "Try using .loc[row_indexer,col_indexer] = value instead\n",
      "\n",
      "See the caveats in the documentation: https://pandas.pydata.org/pandas-docs/stable/user_guide/indexing.html#returning-a-view-versus-a-copy\n",
      "  partial_titanic[\"Sex\"] = partial_titanic[\"Sex\"].map({\n"
     ]
    }
   ],
   "source": [
    "# Change the categorical value Sex to numeric values\n",
    "partial_titanic[\"Sex\"] = partial_titanic[\"Sex\"].map({\n",
    "\"male\": 0,\n",
    "\"female\": 1\n",
    "})"
   ]
  },
  {
   "cell_type": "markdown",
   "id": "f1f11404",
   "metadata": {},
   "source": [
    "# 5 — Anomaly Detection for Data Cleaning\n",
    "Let’s now use anomaly detection to clean the dataset partial_titanic you made in the previous section. You will use the KNN model to do this. The KNN model examines the data and looks for data points (rows) that are far from the other data points. To get started, you import the KNN model as follows:"
   ]
  },
  {
   "cell_type": "code",
   "execution_count": 5,
   "id": "2e218687",
   "metadata": {},
   "outputs": [],
   "source": [
    "# Import the KNN\n",
    "from pyod.models.knn import KNN"
   ]
  },
  {
   "cell_type": "code",
   "execution_count": 6,
   "id": "93104862",
   "metadata": {},
   "outputs": [],
   "source": [
    "# Initiate a KNN model\n",
    "KNN_model = KNN()"
   ]
  },
  {
   "cell_type": "code",
   "execution_count": 7,
   "id": "1b985b53",
   "metadata": {},
   "outputs": [
    {
     "data": {
      "text/plain": [
       "KNN(algorithm='auto', contamination=0.1, leaf_size=30, method='largest',\n",
       "  metric='minkowski', metric_params=None, n_jobs=1, n_neighbors=5, p=2,\n",
       "  radius=1.0)"
      ]
     },
     "execution_count": 7,
     "metadata": {},
     "output_type": "execute_result"
    }
   ],
   "source": [
    "# Fit the model to the whole dataset\n",
    "KNN_model.fit(partial_titanic)"
   ]
  },
  {
   "cell_type": "markdown",
   "id": "af13d1af",
   "metadata": {},
   "source": [
    "When running the code above you get printed out a lot of default values (e.g. contamination=0.1). This can be tweaked if needed. After running a model you can access two types of output:\n",
    "\n",
    "`Labels`: By running KNN_model.labels_ you can find binary labels of whether an observation is an outlier or not. The number 0 indicates a normal observation, while the number 1 indicates an outlier.\n",
    "\n",
    "`Decision Scores`: By running KNN_model.decision_scores_ you get the raw scores of how much of an outlier something is. The values will range from 0 and upwards. A higher anomaly score indicates that a data point is more of an outlier."
   ]
  },
  {
   "cell_type": "code",
   "execution_count": 8,
   "id": "c692508b",
   "metadata": {},
   "outputs": [
    {
     "name": "stdout",
     "output_type": "stream",
     "text": [
      "88\n"
     ]
    }
   ],
   "source": [
    "# Find the labels\n",
    "outlier_labels = KNN_model.labels_\n",
    "# Find the number of outliers\n",
    "number_of_outliers = len(outlier_labels[outlier_labels == 1])\n",
    "print(number_of_outliers)"
   ]
  },
  {
   "cell_type": "markdown",
   "id": "2f1e4807",
   "metadata": {},
   "source": [
    "For a dataset with 891 passengers, having 88 outliers is quite high. To reduce this, you can specify the parameter contamination in the KNN model to be lower. The contamination indicates the percentage of data points that are outliers. Let’s say that the contamination is only 1%:"
   ]
  },
  {
   "cell_type": "code",
   "execution_count": 9,
   "id": "388f8707",
   "metadata": {},
   "outputs": [
    {
     "name": "stdout",
     "output_type": "stream",
     "text": [
      "9\n"
     ]
    }
   ],
   "source": [
    "# Initiate a KNN model\n",
    "KNN_model = KNN(contamination=0.01)\n",
    "# Fit the model to the whole dataset\n",
    "KNN_model.fit(partial_titanic)\n",
    "# Find the labels\n",
    "outlier_labels = KNN_model.labels_\n",
    "# Find the number of outliers\n",
    "number_of_outliers = len(outlier_labels[outlier_labels == 1])\n",
    "print(number_of_outliers)"
   ]
  },
  {
   "cell_type": "code",
   "execution_count": 10,
   "id": "d80a13b3",
   "metadata": {},
   "outputs": [],
   "source": [
    "# Finding the outlier passengers\n",
    "outliers = partial_titanic.iloc[outlier_labels == 1]"
   ]
  },
  {
   "cell_type": "code",
   "execution_count": 12,
   "id": "437b61e9",
   "metadata": {},
   "outputs": [
    {
     "data": {
      "text/html": [
       "<div>\n",
       "<style scoped>\n",
       "    .dataframe tbody tr th:only-of-type {\n",
       "        vertical-align: middle;\n",
       "    }\n",
       "\n",
       "    .dataframe tbody tr th {\n",
       "        vertical-align: top;\n",
       "    }\n",
       "\n",
       "    .dataframe thead th {\n",
       "        text-align: right;\n",
       "    }\n",
       "</style>\n",
       "<table border=\"1\" class=\"dataframe\">\n",
       "  <thead>\n",
       "    <tr style=\"text-align: right;\">\n",
       "      <th></th>\n",
       "      <th>Survived</th>\n",
       "      <th>Pclass</th>\n",
       "      <th>Fare</th>\n",
       "      <th>Sex</th>\n",
       "    </tr>\n",
       "  </thead>\n",
       "  <tbody>\n",
       "    <tr>\n",
       "      <th>258</th>\n",
       "      <td>1</td>\n",
       "      <td>1</td>\n",
       "      <td>512.3292</td>\n",
       "      <td>1</td>\n",
       "    </tr>\n",
       "    <tr>\n",
       "      <th>380</th>\n",
       "      <td>1</td>\n",
       "      <td>1</td>\n",
       "      <td>227.5250</td>\n",
       "      <td>1</td>\n",
       "    </tr>\n",
       "    <tr>\n",
       "      <th>679</th>\n",
       "      <td>1</td>\n",
       "      <td>1</td>\n",
       "      <td>512.3292</td>\n",
       "      <td>0</td>\n",
       "    </tr>\n",
       "    <tr>\n",
       "      <th>689</th>\n",
       "      <td>1</td>\n",
       "      <td>1</td>\n",
       "      <td>211.3375</td>\n",
       "      <td>1</td>\n",
       "    </tr>\n",
       "    <tr>\n",
       "      <th>700</th>\n",
       "      <td>1</td>\n",
       "      <td>1</td>\n",
       "      <td>227.5250</td>\n",
       "      <td>1</td>\n",
       "    </tr>\n",
       "    <tr>\n",
       "      <th>716</th>\n",
       "      <td>1</td>\n",
       "      <td>1</td>\n",
       "      <td>227.5250</td>\n",
       "      <td>1</td>\n",
       "    </tr>\n",
       "    <tr>\n",
       "      <th>730</th>\n",
       "      <td>1</td>\n",
       "      <td>1</td>\n",
       "      <td>211.3375</td>\n",
       "      <td>1</td>\n",
       "    </tr>\n",
       "    <tr>\n",
       "      <th>737</th>\n",
       "      <td>1</td>\n",
       "      <td>1</td>\n",
       "      <td>512.3292</td>\n",
       "      <td>0</td>\n",
       "    </tr>\n",
       "    <tr>\n",
       "      <th>779</th>\n",
       "      <td>1</td>\n",
       "      <td>1</td>\n",
       "      <td>211.3375</td>\n",
       "      <td>1</td>\n",
       "    </tr>\n",
       "  </tbody>\n",
       "</table>\n",
       "</div>"
      ],
      "text/plain": [
       "     Survived  Pclass      Fare  Sex\n",
       "258         1       1  512.3292    1\n",
       "380         1       1  227.5250    1\n",
       "679         1       1  512.3292    0\n",
       "689         1       1  211.3375    1\n",
       "700         1       1  227.5250    1\n",
       "716         1       1  227.5250    1\n",
       "730         1       1  211.3375    1\n",
       "737         1       1  512.3292    0\n",
       "779         1       1  211.3375    1"
      ]
     },
     "execution_count": 12,
     "metadata": {},
     "output_type": "execute_result"
    }
   ],
   "source": [
    "outliers"
   ]
  },
  {
   "cell_type": "markdown",
   "id": "825432c5",
   "metadata": {},
   "source": [
    "If you check out the passengers above, then the KNN model picks up that their fare price is incredibly high. The average fare price for all the passengers can be easily found in Pandas:"
   ]
  },
  {
   "cell_type": "code",
   "execution_count": 13,
   "id": "c9a39361",
   "metadata": {},
   "outputs": [
    {
     "data": {
      "text/plain": [
       "32.204"
      ]
     },
     "execution_count": 13,
     "metadata": {},
     "output_type": "execute_result"
    }
   ],
   "source": [
    "# Average fare price\n",
    "round(partial_titanic[\"Fare\"].mean(), 3)"
   ]
  },
  {
   "cell_type": "markdown",
   "id": "7f104d0f",
   "metadata": {},
   "source": [
    "The KNN algorithm has successfully found 9 passengers that are outliers in the sense of the fare price. There are many optional parameters you can play around with for the KNN model to make it suit your specific need 🔥\n",
    "\n",
    "The outliers can now be removed from the data if you feel like they don’t represent the general feel of the data. As mentioned previously, you should consider carefully whether anomaly detection for data cleaning is appropriate for your problem."
   ]
  },
  {
   "cell_type": "markdown",
   "id": "c1604387",
   "metadata": {},
   "source": [
    "# 6 — Anomaly Detection for Prediction\n",
    "In the previous section, you looked at anomaly detection for data cleaning. In this section, you will take a peak at anomaly detection for prediction. You will train a model on existing data, and then use the model to predict whether new data are outliers.\n",
    "\n",
    "Say a rumor spread that a Mrs. Watson had also taken the Titanic, but her death was never recorded. According to the rumors, Mrs. Watson was a wealthy lady that paid 1000$ to travel with the Titanic in a very exclusive suite.\n",
    "\n",
    "Anomaly detection can not say with certainty whether the rumor is true or false. However, it can say whether Mrs. Watson is an anomaly or not based on the information of the other passengers. If she is an anomaly, the rumor should be taken with a grain of salt.\n",
    "\n",
    "Let’s test Mrs. Watson existence with another model in the PyOD library; Local Outlier Factor (LOF). A LOF model tests whether a data point is an outlier by comparing the local density of the datapoint with the local densities of its neighbors."
   ]
  },
  {
   "cell_type": "code",
   "execution_count": 14,
   "id": "851de403",
   "metadata": {},
   "outputs": [
    {
     "data": {
      "text/plain": [
       "LOF(algorithm='auto', contamination=0.1, leaf_size=30, metric='minkowski',\n",
       "  metric_params=None, n_jobs=1, n_neighbors=20, novelty=True, p=2)"
      ]
     },
     "execution_count": 14,
     "metadata": {},
     "output_type": "execute_result"
    }
   ],
   "source": [
    "# Import the LOF\n",
    "from pyod.models.lof import LOF\n",
    "# Initiate a LOF model\n",
    "LOF_model = LOF()\n",
    "# Train the model on the Titanic data\n",
    "LOF_model.fit(partial_titanic)"
   ]
  },
  {
   "cell_type": "code",
   "execution_count": 15,
   "id": "f0e25f50",
   "metadata": {},
   "outputs": [],
   "source": [
    "# Represent Mrs. Watson as a data point\n",
    "mrs_watson = [[0, 1, 1000, 1]]"
   ]
  },
  {
   "cell_type": "markdown",
   "id": "478f50a1",
   "metadata": {},
   "source": [
    "The values in mrs_watson represent her survival (0 for not survived), passenger class (1 for first-class), fare price (1000$ for the fare price), and sex (1 for female). The LOF model requires 2D arrays, so this is the reason for the extra bracket pair [] in mrs_watson.\n",
    "We now use the predict() method to predict whether Mrs. Watson is an outlier or not:"
   ]
  },
  {
   "cell_type": "code",
   "execution_count": 16,
   "id": "8d9fefa6",
   "metadata": {},
   "outputs": [
    {
     "name": "stdout",
     "output_type": "stream",
     "text": [
      "[1]\n"
     ]
    }
   ],
   "source": [
    "outlier = LOF_model.predict(mrs_watson)\n",
    "print(outlier)"
   ]
  },
  {
   "cell_type": "markdown",
   "id": "f986c6e3",
   "metadata": {},
   "source": [
    "A value of 1 indicates that Mrs. Watson is an outlier. This should make you suspicious that the rumor regarding Mrs. Watson is false"
   ]
  },
  {
   "cell_type": "code",
   "execution_count": null,
   "id": "83323fcd",
   "metadata": {},
   "outputs": [],
   "source": []
  }
 ],
 "metadata": {
  "kernelspec": {
   "display_name": "gpu2",
   "language": "python",
   "name": "gpu2"
  },
  "language_info": {
   "codemirror_mode": {
    "name": "ipython",
    "version": 3
   },
   "file_extension": ".py",
   "mimetype": "text/x-python",
   "name": "python",
   "nbconvert_exporter": "python",
   "pygments_lexer": "ipython3",
   "version": "3.8.12"
  }
 },
 "nbformat": 4,
 "nbformat_minor": 5
}
