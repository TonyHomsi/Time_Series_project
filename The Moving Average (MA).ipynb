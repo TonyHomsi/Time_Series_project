{
 "cells": [
  {
   "cell_type": "code",
   "execution_count": 12,
   "id": "d2b06e23",
   "metadata": {},
   "outputs": [],
   "source": [
    "import pandas as pd\n",
    "import numpy as np\n",
    "import matplotlib.pyplot as plt\n",
    "import statsmodels.graphics.tsaplots as sgt\n",
    "import statsmodels.tsa.stattools as sts\n",
    "from statsmodels.tsa.arima_model import ARMA\n",
    "from statsmodels.tsa.arima.model import ARIMA\n",
    "from scipy.stats.distributions import chi2 \n",
    "from math import sqrt\n",
    "import seaborn as sns\n",
    "sns.set()"
   ]
  },
  {
   "cell_type": "code",
   "execution_count": 13,
   "id": "8c49c1e8",
   "metadata": {},
   "outputs": [],
   "source": [
    "raw_csv_data = pd.read_csv(\"Data/Index2018.csv\") \n",
    "df_comp=raw_csv_data.copy()\n",
    "df_comp.date = pd.to_datetime(df_comp.date, dayfirst = True)\n",
    "df_comp.set_index(\"date\", inplace=True)\n",
    "df_comp=df_comp.asfreq('b')\n",
    "df_comp=df_comp.fillna(method='ffill')"
   ]
  },
  {
   "cell_type": "code",
   "execution_count": 14,
   "id": "923f906f",
   "metadata": {},
   "outputs": [],
   "source": [
    "df_comp['market_value']=df_comp.ftse"
   ]
  },
  {
   "cell_type": "code",
   "execution_count": 15,
   "id": "6b9ea251",
   "metadata": {},
   "outputs": [],
   "source": [
    "del df_comp['spx']\n",
    "del df_comp['dax']\n",
    "del df_comp['ftse']\n",
    "del df_comp['nikkei']\n",
    "size = int(len(df_comp)*0.8)\n",
    "df, df_test = df_comp.iloc[:size], df_comp.iloc[size:]"
   ]
  },
  {
   "cell_type": "markdown",
   "id": "c5a62005",
   "metadata": {},
   "source": [
    "## The LLR Test"
   ]
  },
  {
   "cell_type": "code",
   "execution_count": 16,
   "id": "c60079ab",
   "metadata": {},
   "outputs": [],
   "source": [
    "def LLR_test(mod_1, mod_2, DF = 1):\n",
    "    L1 = mod_1.fit().llf\n",
    "    L2 = mod_2.fit().llf\n",
    "    LR = (2*(L2-L1))    \n",
    "    p = chi2.sf(LR, DF).round(3)\n",
    "    return p"
   ]
  },
  {
   "cell_type": "code",
   "execution_count": 17,
   "id": "1f710b33",
   "metadata": {},
   "outputs": [],
   "source": [
    "import warnings\n",
    "warnings.filterwarnings(\"ignore\")"
   ]
  },
  {
   "cell_type": "markdown",
   "id": "9a6bc5d6",
   "metadata": {},
   "source": [
    "## Creating Returns"
   ]
  },
  {
   "cell_type": "code",
   "execution_count": 18,
   "id": "5f3079b9",
   "metadata": {},
   "outputs": [],
   "source": [
    "df['returns'] = df.market_value.pct_change(1)*100"
   ]
  },
  {
   "cell_type": "markdown",
   "id": "a3d8a54e",
   "metadata": {},
   "source": [
    "## ACF for Returns"
   ]
  },
  {
   "cell_type": "code",
   "execution_count": 19,
   "id": "75db4fbc",
   "metadata": {},
   "outputs": [
    {
     "data": {
      "image/png": "[encoded data removed]",
      "text/plain": [
       "<Figure size 432x288 with 1 Axes>"
      ]
     },
     "metadata": {},
     "output_type": "display_data"
    }
   ],
   "source": [
    "sgt.plot_acf(df.returns[1:], zero = False, lags = 40)\n",
    "plt.title(\"ACF for Returns\", size=24)\n",
    "plt.show()"
   ]
  },
  {
   "cell_type": "markdown",
   "id": "b1ff40f9",
   "metadata": {},
   "source": [
    "## MA(1) for Returns"
   ]
  },
  {
   "cell_type": "code",
   "execution_count": 20,
   "id": "a1992f8a",
   "metadata": {},
   "outputs": [
    {
     "data": {
      "text/html": [
       "<table class=\"simpletable\">\n",
       "<caption>SARIMAX Results</caption>\n",
       "<tr>\n",
       "  <th>Dep. Variable:</th>        <td>returns</td>     <th>  No. Observations:  </th>   <td>5020</td>   \n",
       "</tr>\n",
       "<tr>\n",
       "  <th>Model:</th>            <td>ARIMA(0, 0, 1)</td>  <th>  Log Likelihood     </th> <td>-7929.595</td>\n",
       "</tr>\n",
       "<tr>\n",
       "  <th>Date:</th>            <td>Wed, 10 Nov 2021</td> <th>  AIC                </th> <td>15865.190</td>\n",
       "</tr>\n",
       "<tr>\n",
       "  <th>Time:</th>                <td>13:23:07</td>     <th>  BIC                </th> <td>15884.754</td>\n",
       "</tr>\n",
       "<tr>\n",
       "  <th>Sample:</th>             <td>01-10-1994</td>    <th>  HQIC               </th> <td>15872.045</td>\n",
       "</tr>\n",
       "<tr>\n",
       "  <th></th>                   <td>- 04-05-2013</td>   <th>                     </th>     <td> </td>    \n",
       "</tr>\n",
       "<tr>\n",
       "  <th>Covariance Type:</th>        <td>opg</td>       <th>                     </th>     <td> </td>    \n",
       "</tr>\n",
       "</table>\n",
       "<table class=\"simpletable\">\n",
       "<tr>\n",
       "     <td></td>       <th>coef</th>     <th>std err</th>      <th>z</th>      <th>P>|z|</th>  <th>[0.025</th>    <th>0.975]</th>  \n",
       "</tr>\n",
       "<tr>\n",
       "  <th>const</th>  <td>    0.0188</td> <td>    0.016</td> <td>    1.146</td> <td> 0.252</td> <td>   -0.013</td> <td>    0.051</td>\n",
       "</tr>\n",
       "<tr>\n",
       "  <th>ma.L1</th>  <td>   -0.0257</td> <td>    0.009</td> <td>   -3.018</td> <td> 0.003</td> <td>   -0.042</td> <td>   -0.009</td>\n",
       "</tr>\n",
       "<tr>\n",
       "  <th>sigma2</th> <td>    1.3789</td> <td>    0.014</td> <td>   99.990</td> <td> 0.000</td> <td>    1.352</td> <td>    1.406</td>\n",
       "</tr>\n",
       "</table>\n",
       "<table class=\"simpletable\">\n",
       "<tr>\n",
       "  <th>Ljung-Box (L1) (Q):</th>     <td>0.01</td> <th>  Jarque-Bera (JB):  </th> <td>7852.85</td>\n",
       "</tr>\n",
       "<tr>\n",
       "  <th>Prob(Q):</th>                <td>0.92</td> <th>  Prob(JB):          </th>  <td>0.00</td>  \n",
       "</tr>\n",
       "<tr>\n",
       "  <th>Heteroskedasticity (H):</th> <td>2.04</td> <th>  Skew:              </th>  <td>-0.03</td> \n",
       "</tr>\n",
       "<tr>\n",
       "  <th>Prob(H) (two-sided):</th>    <td>0.00</td> <th>  Kurtosis:          </th>  <td>9.13</td>  \n",
       "</tr>\n",
       "</table><br/><br/>Warnings:<br/>[1] Covariance matrix calculated using the outer product of gradients (complex-step)."
      ],
      "text/plain": [
       "<class 'statsmodels.iolib.summary.Summary'>\n",
       "\"\"\"\n",
       "                               SARIMAX Results                                \n",
       "==============================================================================\n",
       "Dep. Variable:                returns   No. Observations:                 5020\n",
       "Model:                 ARIMA(0, 0, 1)   Log Likelihood               -7929.595\n",
       "Date:                Wed, 10 Nov 2021   AIC                          15865.190\n",
       "Time:                        13:23:07   BIC                          15884.754\n",
       "Sample:                    01-10-1994   HQIC                         15872.045\n",
       "                         - 04-05-2013                                         \n",
       "Covariance Type:                  opg                                         \n",
       "==============================================================================\n",
       "                 coef    std err          z      P>|z|      [0.025      0.975]\n",
       "------------------------------------------------------------------------------\n",
       "const          0.0188      0.016      1.146      0.252      -0.013       0.051\n",
       "ma.L1         -0.0257      0.009     -3.018      0.003      -0.042      -0.009\n",
       "sigma2         1.3789      0.014     99.990      0.000       1.352       1.406\n",
       "===================================================================================\n",
       "Ljung-Box (L1) (Q):                   0.01   Jarque-Bera (JB):              7852.85\n",
       "Prob(Q):                              0.92   Prob(JB):                         0.00\n",
       "Heteroskedasticity (H):               2.04   Skew:                            -0.03\n",
       "Prob(H) (two-sided):                  0.00   Kurtosis:                         9.13\n",
       "===================================================================================\n",
       "\n",
       "Warnings:\n",
       "[1] Covariance matrix calculated using the outer product of gradients (complex-step).\n",
       "\"\"\""
      ]
     },
     "execution_count": 20,
     "metadata": {},
     "output_type": "execute_result"
    }
   ],
   "source": [
    "model_ret_ma_1 = ARIMA(df.returns[1:], order=(0,0,1))\n",
    "results_ret_ma_1 = model_ret_ma_1.fit()\n",
    "results_ret_ma_1.summary()"
   ]
  },
  {
   "cell_type": "markdown",
   "id": "b4749dcf",
   "metadata": {},
   "source": [
    "## Higher-Lag MA Models for Returns"
   ]
  },
  {
   "cell_type": "code",
   "execution_count": 21,
   "id": "3c67328b",
   "metadata": {},
   "outputs": [
    {
     "name": "stdout",
     "output_type": "stream",
     "text": [
      "                               SARIMAX Results                                \n",
      "==============================================================================\n",
      "Dep. Variable:                returns   No. Observations:                 5020\n",
      "Model:                 ARIMA(0, 0, 2)   Log Likelihood               -7922.864\n",
      "Date:                Wed, 10 Nov 2021   AIC                          15853.728\n",
      "Time:                        13:27:42   BIC                          15879.812\n",
      "Sample:                    01-10-1994   HQIC                         15862.868\n",
      "                         - 04-05-2013                                         \n",
      "Covariance Type:                  opg                                         \n",
      "==============================================================================\n",
      "                 coef    std err          z      P>|z|      [0.025      0.975]\n",
      "------------------------------------------------------------------------------\n",
      "const          0.0188      0.016      1.204      0.228      -0.012       0.049\n",
      "ma.L1         -0.0327      0.009     -3.760      0.000      -0.050      -0.016\n",
      "ma.L2         -0.0502      0.008     -6.416      0.000      -0.066      -0.035\n",
      "sigma2         1.3753      0.014     99.021      0.000       1.348       1.402\n",
      "===================================================================================\n",
      "Ljung-Box (L1) (Q):                   0.08   Jarque-Bera (JB):              7657.23\n",
      "Prob(Q):                              0.77   Prob(JB):                         0.00\n",
      "Heteroskedasticity (H):               2.03   Skew:                            -0.08\n",
      "Prob(H) (two-sided):                  0.00   Kurtosis:                         9.05\n",
      "===================================================================================\n",
      "\n",
      "Warnings:\n",
      "[1] Covariance matrix calculated using the outer product of gradients (complex-step).\n",
      "\n",
      "LLR test p-value = 0.0\n"
     ]
    }
   ],
   "source": [
    "model_ret_ma_2 = ARIMA(df.returns[1:], order=(0, 0, 2))\n",
    "results_ret_ma_2 = model_ret_ma_2.fit()\n",
    "print(results_ret_ma_2.summary())\n",
    "print(\"\\nLLR test p-value = \" + str(LLR_test(model_ret_ma_1, model_ret_ma_2)))"
   ]
  },
  {
   "cell_type": "code",
   "execution_count": 22,
   "id": "e799a8e3",
   "metadata": {},
   "outputs": [
    {
     "name": "stdout",
     "output_type": "stream",
     "text": [
      "                               SARIMAX Results                                \n",
      "==============================================================================\n",
      "Dep. Variable:                returns   No. Observations:                 5020\n",
      "Model:                 ARIMA(0, 0, 3)   Log Likelihood               -7904.317\n",
      "Date:                Wed, 10 Nov 2021   AIC                          15818.634\n",
      "Time:                        13:30:49   BIC                          15851.240\n",
      "Sample:                    01-10-1994   HQIC                         15830.060\n",
      "                         - 04-05-2013                                         \n",
      "Covariance Type:                  opg                                         \n",
      "==============================================================================\n",
      "                 coef    std err          z      P>|z|      [0.025      0.975]\n",
      "------------------------------------------------------------------------------\n",
      "const          0.0189      0.015      1.296      0.195      -0.010       0.048\n",
      "ma.L1         -0.0203      0.009     -2.334      0.020      -0.037      -0.003\n",
      "ma.L2         -0.0556      0.008     -7.032      0.000      -0.071      -0.040\n",
      "ma.L3         -0.0904      0.008    -11.594      0.000      -0.106      -0.075\n",
      "sigma2         1.3651      0.014     95.367      0.000       1.337       1.393\n",
      "===================================================================================\n",
      "Ljung-Box (L1) (Q):                   0.10   Jarque-Bera (JB):              6843.07\n",
      "Prob(Q):                              0.76   Prob(JB):                         0.00\n",
      "Heteroskedasticity (H):               2.03   Skew:                            -0.18\n",
      "Prob(H) (two-sided):                  0.00   Kurtosis:                         8.71\n",
      "===================================================================================\n",
      "\n",
      "Warnings:\n",
      "[1] Covariance matrix calculated using the outer product of gradients (complex-step).\n",
      "\n",
      "LLR test p-value = 0.0\n"
     ]
    }
   ],
   "source": [
    "model_ret_ma_3 = ARIMA(df.returns[1:], order=(0, 0, 3))\n",
    "results_ret_ma_3 = model_ret_ma_3.fit()\n",
    "print(results_ret_ma_3.summary())\n",
    "print(\"\\nLLR test p-value = \" + str(LLR_test(model_ret_ma_2, model_ret_ma_3)))"
   ]
  },
  {
   "cell_type": "code",
   "execution_count": 23,
   "id": "70495949",
   "metadata": {},
   "outputs": [
    {
     "data": {
      "text/plain": [
       "0.001"
      ]
     },
     "execution_count": 23,
     "metadata": {},
     "output_type": "execute_result"
    }
   ],
   "source": [
    "LLR_test(model_ret_ma_1, model_ret_ma_2, DF = 2)"
   ]
  },
  {
   "cell_type": "code",
   "execution_count": null,
   "id": "8153b5a1",
   "metadata": {},
   "outputs": [],
   "source": []
  }
 ],
 "metadata": {
  "kernelspec": {
   "display_name": "Python 3 (ipykernel)",
   "language": "python",
   "name": "python3"
  },
  "language_info": {
   "codemirror_mode": {
    "name": "ipython",
    "version": 3
   },
   "file_extension": ".py",
   "mimetype": "text/x-python",
   "name": "python",
   "nbconvert_exporter": "python",
   "pygments_lexer": "ipython3",
   "version": "3.8.12"
  }
 },
 "nbformat": 4,
 "nbformat_minor": 5
}
