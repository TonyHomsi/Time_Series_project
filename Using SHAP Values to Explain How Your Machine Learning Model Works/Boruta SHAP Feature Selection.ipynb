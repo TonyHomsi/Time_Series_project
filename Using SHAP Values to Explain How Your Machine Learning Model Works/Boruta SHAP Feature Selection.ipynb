{
 "cells": [
  {
   "cell_type": "markdown",
   "id": "4bd924ba-e490-478b-9aaf-2c222d0bbba4",
   "metadata": {},
   "source": [
    "## Boruta SHAP Feature Selection"
   ]
  },
  {
   "cell_type": "markdown",
   "id": "dfaa0005-756c-42b2-8401-fee6b5dd34a2",
   "metadata": {},
   "source": [
    "In this notebook I will explore the use of the Boruta-SHAP Feature Selection Method"
   ]
  },
  {
   "cell_type": "markdown",
   "id": "cb7d1865-11dc-4fc5-859f-54a7fedb3a8a",
   "metadata": {},
   "source": [
    "### Imports"
   ]
  },
  {
   "cell_type": "code",
   "execution_count": 4,
   "id": "ddc266f6-961d-41e6-9a9f-98e76a6e4633",
   "metadata": {
    "execution": {
     "iopub.execute_input": "2022-01-08T20:22:04.407379Z",
     "iopub.status.busy": "2022-01-08T20:22:04.407379Z",
     "iopub.status.idle": "2022-01-08T20:22:04.420345Z",
     "shell.execute_reply": "2022-01-08T20:22:04.420345Z",
     "shell.execute_reply.started": "2022-01-08T20:22:04.407379Z"
    }
   },
   "outputs": [],
   "source": [
    "import pandas as pd\n",
    "import numpy as np"
   ]
  },
  {
   "cell_type": "code",
   "execution_count": 5,
   "id": "7c409384-13f5-469b-b815-aefbc02c3457",
   "metadata": {
    "execution": {
     "iopub.execute_input": "2022-01-08T20:22:04.811299Z",
     "iopub.status.busy": "2022-01-08T20:22:04.811299Z",
     "iopub.status.idle": "2022-01-08T20:22:04.980873Z",
     "shell.execute_reply": "2022-01-08T20:22:04.980873Z",
     "shell.execute_reply.started": "2022-01-08T20:22:04.811299Z"
    }
   },
   "outputs": [],
   "source": [
    "from sklearn.datasets import load_diabetes\n",
    "from sklearn.ensemble import RandomForestRegressor\n",
    "from sklearn.metrics import mean_squared_error as MSE\n",
    "from sklearn.metrics import mean_absolute_error as MAE\n",
    "from sklearn.metrics import r2_score as R2\n",
    "from scipy.special import softmax"
   ]
  },
  {
   "cell_type": "code",
   "execution_count": 6,
   "id": "e537253d-4a36-430d-b5ef-48061fde4216",
   "metadata": {
    "execution": {
     "iopub.execute_input": "2022-01-08T20:22:05.139422Z",
     "iopub.status.busy": "2022-01-08T20:22:05.138453Z",
     "iopub.status.idle": "2022-01-08T20:22:06.627441Z",
     "shell.execute_reply": "2022-01-08T20:22:06.627441Z",
     "shell.execute_reply.started": "2022-01-08T20:22:05.139422Z"
    }
   },
   "outputs": [],
   "source": [
    "from BorutaShap import BorutaShap\n",
    "import shap"
   ]
  },
  {
   "cell_type": "markdown",
   "id": "bf7b8f91-0da0-4032-9f8d-5f4c35765cd5",
   "metadata": {},
   "source": [
    "### Functions"
   ]
  },
  {
   "cell_type": "code",
   "execution_count": 7,
   "id": "4eaa4df8-4ccc-455e-84e1-add36b48a493",
   "metadata": {},
   "outputs": [],
   "source": [
    "def print_feature_importances_random_forest(random_forest_model):\n",
    "    \n",
    "    '''\n",
    "    Prints the feature importances of a Random Forest model in an ordered way.\n",
    "    random_forest_model -> The sklearn.ensemble.RandomForestRegressor or RandomForestClassifier trained model\n",
    "    '''\n",
    "    \n",
    "    # Fetch the feature importances and feature names\n",
    "    importances = random_forest_model.feature_importances_\n",
    "    features = random_forest_model.feature_names_in_\n",
    "    \n",
    "    # Organize them in a dictionary\n",
    "    feature_importances = {fea: imp for imp, fea in zip(importances, features)}\n",
    "    \n",
    "    # Sorts the dictionary\n",
    "    feature_importances = {k: v for k, v in sorted(feature_importances.items(), key=lambda item: item[1], reverse = True)}\n",
    "    \n",
    "    # Prints the feature importances\n",
    "    for k, v in feature_importances.items():\n",
    "        print(f\"{k} -> {v:.4f}\")"
   ]
  },
  {
   "cell_type": "code",
   "execution_count": 8,
   "id": "4c30b3f4-a795-425e-8f62-42a5e8cd68b7",
   "metadata": {},
   "outputs": [],
   "source": [
    "def print_feature_importances_shap_values(shap_values, features):\n",
    "    \n",
    "    '''\n",
    "    Prints the feature importances based on SHAP values in an ordered way\n",
    "    shap_values -> The SHAP values calculated from a shap.Explainer object\n",
    "    features -> The name of the features, on the order presented to the explainer\n",
    "    '''\n",
    "\n",
    "    # Calculates the feature importance (mean absolute shap value) for each feature\n",
    "    importances = []\n",
    "    for i in range(shap_values.values.shape[1]):\n",
    "        importances.append(np.mean(np.abs(shap_values.values[:, i])))\n",
    "        \n",
    "    # Calculates the normalized version\n",
    "    importances_norm = softmax(importances)\n",
    "\n",
    "    # Organize the importances and columns in a dictionary\n",
    "    feature_importances = {fea: imp for imp, fea in zip(importances, features)}\n",
    "    feature_importances_norm = {fea: imp for imp, fea in zip(importances_norm, features)}\n",
    "\n",
    "    # Sorts the dictionary\n",
    "    feature_importances = {k: v for k, v in sorted(feature_importances.items(), key=lambda item: item[1], reverse = True)}\n",
    "    feature_importances_norm= {k: v for k, v in sorted(feature_importances_norm.items(), key=lambda item: item[1], reverse = True)}\n",
    "\n",
    "    # Prints the feature importances\n",
    "    for k, v in feature_importances.items():\n",
    "        print(f\"{k} -> {v:.4f} (softmax = {feature_importances_norm[k]:.4f})\")"
   ]
  },
  {
   "cell_type": "code",
   "execution_count": 9,
   "id": "71f0fad4-8689-4a71-824a-5c66b08111a3",
   "metadata": {},
   "outputs": [],
   "source": [
    "def evaluate_regression(y, y_pred):\n",
    "    \n",
    "    '''\n",
    "    Prints the most common evaluation metrics for regression\n",
    "    '''\n",
    "    \n",
    "    mae = MAE(y, y_pred)\n",
    "    mse = MSE(y, y_pred)\n",
    "    rmse = mse ** (1/2)\n",
    "    r2 = R2(y, y_pred)\n",
    "    \n",
    "    print('Regression result')\n",
    "    print(f\"MAE: {mae:.2f}\")\n",
    "    print(f\"MSE: {mse:.2f}\")\n",
    "    print(f\"RMSE: {rmse:.2f}\")\n",
    "    print(f\"R2: {r2:.2f}\")"
   ]
  },
  {
   "cell_type": "markdown",
   "id": "0be336f5-34f1-438e-bfd0-6345e836dbe0",
   "metadata": {},
   "source": [
    "### Loading the Dataset\n",
    "California Housing dataset"
   ]
  },
  {
   "cell_type": "code",
   "execution_count": 10,
   "id": "3cdc2cc2-ba51-4173-a1e0-efb511f3b739",
   "metadata": {},
   "outputs": [],
   "source": [
    "# Fetches the data\n",
    "# dataset = fetch_california_housing(as_frame = True)\n",
    "dataset = load_diabetes(as_frame = True)"
   ]
  },
  {
   "cell_type": "raw",
   "id": "1068bed1-d828-4f2c-8fc0-b49b08b7de76",
   "metadata": {},
   "source": [
    "# Prints the description of the dataset\n",
    "print(dataset[\"DESCR\"])"
   ]
  },
  {
   "cell_type": "code",
   "execution_count": 11,
   "id": "acfb2d38-dcea-4625-b6a4-c2d19103c860",
   "metadata": {},
   "outputs": [
    {
     "data": {
      "text/html": [
       "<div>\n",
       "<style scoped>\n",
       "    .dataframe tbody tr th:only-of-type {\n",
       "        vertical-align: middle;\n",
       "    }\n",
       "\n",
       "    .dataframe tbody tr th {\n",
       "        vertical-align: top;\n",
       "    }\n",
       "\n",
       "    .dataframe thead th {\n",
       "        text-align: right;\n",
       "    }\n",
       "</style>\n",
       "<table border=\"1\" class=\"dataframe\">\n",
       "  <thead>\n",
       "    <tr style=\"text-align: right;\">\n",
       "      <th></th>\n",
       "      <th>age</th>\n",
       "      <th>sex</th>\n",
       "      <th>bmi</th>\n",
       "      <th>bp</th>\n",
       "      <th>s1</th>\n",
       "      <th>s2</th>\n",
       "      <th>s3</th>\n",
       "      <th>s4</th>\n",
       "      <th>s5</th>\n",
       "      <th>s6</th>\n",
       "    </tr>\n",
       "  </thead>\n",
       "  <tbody>\n",
       "    <tr>\n",
       "      <th>0</th>\n",
       "      <td>0.038076</td>\n",
       "      <td>0.050680</td>\n",
       "      <td>0.061696</td>\n",
       "      <td>0.021872</td>\n",
       "      <td>-0.044223</td>\n",
       "      <td>-0.034821</td>\n",
       "      <td>-0.043401</td>\n",
       "      <td>-0.002592</td>\n",
       "      <td>0.019908</td>\n",
       "      <td>-0.017646</td>\n",
       "    </tr>\n",
       "    <tr>\n",
       "      <th>1</th>\n",
       "      <td>-0.001882</td>\n",
       "      <td>-0.044642</td>\n",
       "      <td>-0.051474</td>\n",
       "      <td>-0.026328</td>\n",
       "      <td>-0.008449</td>\n",
       "      <td>-0.019163</td>\n",
       "      <td>0.074412</td>\n",
       "      <td>-0.039493</td>\n",
       "      <td>-0.068330</td>\n",
       "      <td>-0.092204</td>\n",
       "    </tr>\n",
       "    <tr>\n",
       "      <th>2</th>\n",
       "      <td>0.085299</td>\n",
       "      <td>0.050680</td>\n",
       "      <td>0.044451</td>\n",
       "      <td>-0.005671</td>\n",
       "      <td>-0.045599</td>\n",
       "      <td>-0.034194</td>\n",
       "      <td>-0.032356</td>\n",
       "      <td>-0.002592</td>\n",
       "      <td>0.002864</td>\n",
       "      <td>-0.025930</td>\n",
       "    </tr>\n",
       "    <tr>\n",
       "      <th>3</th>\n",
       "      <td>-0.089063</td>\n",
       "      <td>-0.044642</td>\n",
       "      <td>-0.011595</td>\n",
       "      <td>-0.036656</td>\n",
       "      <td>0.012191</td>\n",
       "      <td>0.024991</td>\n",
       "      <td>-0.036038</td>\n",
       "      <td>0.034309</td>\n",
       "      <td>0.022692</td>\n",
       "      <td>-0.009362</td>\n",
       "    </tr>\n",
       "    <tr>\n",
       "      <th>4</th>\n",
       "      <td>0.005383</td>\n",
       "      <td>-0.044642</td>\n",
       "      <td>-0.036385</td>\n",
       "      <td>0.021872</td>\n",
       "      <td>0.003935</td>\n",
       "      <td>0.015596</td>\n",
       "      <td>0.008142</td>\n",
       "      <td>-0.002592</td>\n",
       "      <td>-0.031991</td>\n",
       "      <td>-0.046641</td>\n",
       "    </tr>\n",
       "  </tbody>\n",
       "</table>\n",
       "</div>"
      ],
      "text/plain": [
       "        age       sex       bmi        bp        s1        s2        s3  \\\n",
       "0  0.038076  0.050680  0.061696  0.021872 -0.044223 -0.034821 -0.043401   \n",
       "1 -0.001882 -0.044642 -0.051474 -0.026328 -0.008449 -0.019163  0.074412   \n",
       "2  0.085299  0.050680  0.044451 -0.005671 -0.045599 -0.034194 -0.032356   \n",
       "3 -0.089063 -0.044642 -0.011595 -0.036656  0.012191  0.024991 -0.036038   \n",
       "4  0.005383 -0.044642 -0.036385  0.021872  0.003935  0.015596  0.008142   \n",
       "\n",
       "         s4        s5        s6  \n",
       "0 -0.002592  0.019908 -0.017646  \n",
       "1 -0.039493 -0.068330 -0.092204  \n",
       "2 -0.002592  0.002864 -0.025930  \n",
       "3  0.034309  0.022692 -0.009362  \n",
       "4 -0.002592 -0.031991 -0.046641  "
      ]
     },
     "execution_count": 11,
     "metadata": {},
     "output_type": "execute_result"
    }
   ],
   "source": [
    "# Gets the independent variables\n",
    "X = dataset['data']\n",
    "X.head(5)"
   ]
  },
  {
   "cell_type": "code",
   "execution_count": 12,
   "id": "dc08d4a9-60f7-4d64-8c22-76be4a7604ec",
   "metadata": {},
   "outputs": [
    {
     "data": {
      "text/plain": [
       "(442, 10)"
      ]
     },
     "execution_count": 12,
     "metadata": {},
     "output_type": "execute_result"
    }
   ],
   "source": [
    "# Checks the shape of the data\n",
    "X.shape"
   ]
  },
  {
   "cell_type": "code",
   "execution_count": 13,
   "id": "9db88b0b-e144-460d-8a4f-93c17f86d507",
   "metadata": {},
   "outputs": [
    {
     "data": {
      "text/plain": [
       "0    151.0\n",
       "1     75.0\n",
       "2    141.0\n",
       "3    206.0\n",
       "4    135.0\n",
       "Name: target, dtype: float64"
      ]
     },
     "execution_count": 13,
     "metadata": {},
     "output_type": "execute_result"
    }
   ],
   "source": [
    "# Gets the dependent variable (the target)\n",
    "y = dataset['target']\n",
    "y.head(5)"
   ]
  },
  {
   "cell_type": "markdown",
   "id": "7d8de961-2d24-409e-8a09-0ee6f0f9108f",
   "metadata": {},
   "source": [
    "### Create a simple regression"
   ]
  },
  {
   "cell_type": "markdown",
   "id": "94ee7e27-bf93-45ed-a250-f27185675852",
   "metadata": {},
   "source": [
    "In order to compare results before and after applying Boruta Shap feature selection, we will fisrt run a simple regression"
   ]
  },
  {
   "cell_type": "code",
   "execution_count": 14,
   "id": "edbb099a-e24c-40ed-97ea-0f815c24819b",
   "metadata": {},
   "outputs": [],
   "source": [
    "# Prepares a default instance of the random forest regressor\n",
    "model = RandomForestRegressor()"
   ]
  },
  {
   "cell_type": "code",
   "execution_count": 15,
   "id": "c38b6bef-20e1-431b-9eec-b74fae426955",
   "metadata": {
    "tags": []
   },
   "outputs": [
    {
     "data": {
      "text/plain": [
       "RandomForestRegressor()"
      ]
     },
     "execution_count": 15,
     "metadata": {},
     "output_type": "execute_result"
    }
   ],
   "source": [
    "# Fits the model on the data\n",
    "model.fit(X, y)"
   ]
  },
  {
   "cell_type": "code",
   "execution_count": 16,
   "id": "55708154-14e1-4971-b67e-6c593c0bddb9",
   "metadata": {},
   "outputs": [
    {
     "name": "stdout",
     "output_type": "stream",
     "text": [
      "Regression result\n",
      "MAE: 17.44\n",
      "MSE: 468.30\n",
      "RMSE: 21.64\n",
      "R2: 0.92\n"
     ]
    }
   ],
   "source": [
    "# Evaluates the model\n",
    "y_pred = model.predict(X)\n",
    "evaluate_regression(y, y_pred)"
   ]
  },
  {
   "cell_type": "code",
   "execution_count": 17,
   "id": "a9feac8f-0bc6-4997-bcf0-3abcc37f320a",
   "metadata": {},
   "outputs": [
    {
     "name": "stdout",
     "output_type": "stream",
     "text": [
      "s5 -> 0.3101\n",
      "bmi -> 0.2711\n",
      "bp -> 0.0985\n",
      "s6 -> 0.0680\n",
      "age -> 0.0596\n",
      "s2 -> 0.0580\n",
      "s3 -> 0.0516\n",
      "s1 -> 0.0453\n",
      "s4 -> 0.0256\n",
      "sex -> 0.0121\n"
     ]
    }
   ],
   "source": [
    "# Prints the feature importances\n",
    "print_feature_importances_random_forest(model)"
   ]
  },
  {
   "cell_type": "markdown",
   "id": "9ece1757-7689-4fab-80ce-2600a14c9901",
   "metadata": {},
   "source": [
    "### SHAP evaluation"
   ]
  },
  {
   "cell_type": "code",
   "execution_count": 18,
   "id": "08d8dc19-38b4-4ae9-afcb-2f6793a6584b",
   "metadata": {},
   "outputs": [],
   "source": [
    "# Fits the explainer\n",
    "explainer = shap.Explainer(model.predict, X)"
   ]
  },
  {
   "cell_type": "code",
   "execution_count": 19,
   "id": "cd5eb7d4-ea3e-4a46-952d-fc0d10c415a1",
   "metadata": {
    "tags": []
   },
   "outputs": [
    {
     "name": "stderr",
     "output_type": "stream",
     "text": [
      "Exact explainer: 443it [03:34,  1.98it/s]                         \n"
     ]
    }
   ],
   "source": [
    "# Calculates the SHAP values - It takes some time\n",
    "shap_values = explainer(X)"
   ]
  },
  {
   "cell_type": "code",
   "execution_count": 20,
   "id": "a46c2288-5c9e-46d3-8c2d-480ce21197e6",
   "metadata": {},
   "outputs": [
    {
     "name": "stdout",
     "output_type": "stream",
     "text": [
      "s5 -> 23.9909 (softmax = 0.8415)\n",
      "bmi -> 22.3215 (softmax = 0.1585)\n",
      "bp -> 8.1369 (softmax = 0.0000)\n",
      "s3 -> 5.2180 (softmax = 0.0000)\n",
      "s6 -> 4.4359 (softmax = 0.0000)\n",
      "age -> 3.9110 (softmax = 0.0000)\n",
      "sex -> 3.3272 (softmax = 0.0000)\n",
      "s2 -> 2.9382 (softmax = 0.0000)\n",
      "s4 -> 2.4428 (softmax = 0.0000)\n",
      "s1 -> 2.1223 (softmax = 0.0000)\n"
     ]
    }
   ],
   "source": [
    "# Prints the SHAP feature importances\n",
    "print_feature_importances_shap_values(shap_values, X.columns)"
   ]
  },
  {
   "cell_type": "code",
   "execution_count": 21,
   "id": "b21d1446-0a9b-4fa8-9990-2769cec11f7a",
   "metadata": {},
   "outputs": [
    {
     "data": {
      "image/png": "[encoded data removed]",
      "text/plain": [
       "<Figure size 576x468 with 1 Axes>"
      ]
     },
     "metadata": {},
     "output_type": "display_data"
    }
   ],
   "source": [
    "# Plots this view\n",
    "shap.plots.bar(shap_values)"
   ]
  },
  {
   "cell_type": "code",
   "execution_count": 22,
   "id": "55ab2815-e7a6-4f65-830a-b4dbf4e6da88",
   "metadata": {},
   "outputs": [
    {
     "data": {
      "image/png": "[encoded data removed]",
      "text/plain": [
       "<Figure size 576x396 with 2 Axes>"
      ]
     },
     "metadata": {
      "needs_background": "light"
     },
     "output_type": "display_data"
    }
   ],
   "source": [
    "# Plots the beeswarm\n",
    "shap.plots.beeswarm(shap_values)"
   ]
  },
  {
   "cell_type": "markdown",
   "id": "d331260d-5e87-4822-96a9-6200ba7e7354",
   "metadata": {},
   "source": [
    "### Select features using Boruta-SHAP"
   ]
  },
  {
   "cell_type": "raw",
   "id": "1c6acd76-974f-4085-8839-14318b9c8e73",
   "metadata": {},
   "source": [
    "# Takes a sample with 10% of the data\n",
    "X_large, X_small, y_large, y_small = train_test_split(X, y, test_size=0.1)"
   ]
  },
  {
   "cell_type": "code",
   "execution_count": 23,
   "id": "5a9dc4f2-a7b2-42e3-9684-4f09da79e56f",
   "metadata": {},
   "outputs": [],
   "source": [
    "# Creates a BorutaShap selector for regression\n",
    "selector = BorutaShap(importance_measure = 'shap', classification = False)"
   ]
  },
  {
   "cell_type": "code",
   "execution_count": 24,
   "id": "aa0dce38-446a-408a-89a6-63cbc7fdaa58",
   "metadata": {},
   "outputs": [
    {
     "data": {
      "application/vnd.jupyter.widget-view+json": {
       "model_id": "dd4c886ec1f5459a9e82a49057978141",
       "version_major": 2,
       "version_minor": 0
      },
      "text/plain": [
       "  0%|          | 0/20 [00:00<?, ?it/s]"
      ]
     },
     "metadata": {},
     "output_type": "display_data"
    },
    {
     "name": "stdout",
     "output_type": "stream",
     "text": [
      "4 attributes confirmed important: ['bmi', 's5', 's3', 'bp']\n",
      "5 attributes confirmed unimportant: ['s2', 's1', 'age', 's4', 'sex']\n",
      "1 tentative attributes remains: ['s6']\n"
     ]
    }
   ],
   "source": [
    "# Fits the selector\n",
    "selector.fit(X = X, y = y, n_trials = 20, sample = False, verbose = True)\n",
    "# n_trials -> number of iterations for Boruta algorithm\n",
    "# sample -> samples the data so it goes faster"
   ]
  },
  {
   "cell_type": "code",
   "execution_count": 25,
   "id": "a86a0ee6-6cea-4061-bbd8-77a2597dcd5d",
   "metadata": {},
   "outputs": [
    {
     "data": {
      "text/plain": [
       "array(['age', 'sex', 's1', 's2', 's4'], dtype=object)"
      ]
     },
     "execution_count": 25,
     "metadata": {},
     "output_type": "execute_result"
    }
   ],
   "source": [
    "# Display features to be removed\n",
    "features_to_remove = selector.features_to_remove\n",
    "features_to_remove"
   ]
  },
  {
   "cell_type": "code",
   "execution_count": 26,
   "id": "c7edf397-f58f-427d-a561-cbf8a00f8710",
   "metadata": {},
   "outputs": [],
   "source": [
    "# Removes them\n",
    "X_new = X.drop(columns = features_to_remove)"
   ]
  },
  {
   "cell_type": "markdown",
   "id": "a6716cfd-b102-4a6f-8ecd-ab038ddb3a01",
   "metadata": {},
   "source": [
    "### Fits a new regression model to the new data"
   ]
  },
  {
   "cell_type": "code",
   "execution_count": 27,
   "id": "fc3e8f6b-ed85-4598-b700-c6a14bbd45d9",
   "metadata": {},
   "outputs": [],
   "source": [
    "# Prepares a default instance of the random forest regressor\n",
    "model_new = RandomForestRegressor()"
   ]
  },
  {
   "cell_type": "code",
   "execution_count": 28,
   "id": "d257d93c-890b-4d4f-a280-afb7b7fbb574",
   "metadata": {
    "tags": []
   },
   "outputs": [
    {
     "data": {
      "text/plain": [
       "RandomForestRegressor()"
      ]
     },
     "execution_count": 28,
     "metadata": {},
     "output_type": "execute_result"
    }
   ],
   "source": [
    "# Fits the model on the data\n",
    "model_new.fit(X_new, y)"
   ]
  },
  {
   "cell_type": "code",
   "execution_count": 29,
   "id": "b4ad1381-970c-4eaf-8738-66d43c1cf3e6",
   "metadata": {},
   "outputs": [
    {
     "name": "stdout",
     "output_type": "stream",
     "text": [
      "Regression result\n",
      "MAE: 17.77\n",
      "MSE: 489.96\n",
      "RMSE: 22.14\n",
      "R2: 0.92\n"
     ]
    }
   ],
   "source": [
    "# Evaluates the model\n",
    "y_pred_new = model_new.predict(X_new)\n",
    "evaluate_regression(y, y_pred_new)"
   ]
  },
  {
   "cell_type": "code",
   "execution_count": 30,
   "id": "a862689a-c174-4967-a248-48dabd0abe74",
   "metadata": {},
   "outputs": [
    {
     "name": "stdout",
     "output_type": "stream",
     "text": [
      "s5 -> 0.3365\n",
      "bmi -> 0.3268\n",
      "bp -> 0.1359\n",
      "s6 -> 0.1067\n",
      "s3 -> 0.0940\n"
     ]
    }
   ],
   "source": [
    "# Prints the feature importances\n",
    "print_feature_importances_random_forest(model_new)"
   ]
  },
  {
   "cell_type": "code",
   "execution_count": 31,
   "id": "eebe5613-52fd-484f-8294-0fe700cc620c",
   "metadata": {},
   "outputs": [],
   "source": [
    "# Fits the explainer\n",
    "explainer_new = shap.Explainer(model_new.predict, X_new)"
   ]
  },
  {
   "cell_type": "code",
   "execution_count": 32,
   "id": "e407f68c-de1d-41c0-a331-34758fff23d7",
   "metadata": {
    "tags": []
   },
   "outputs": [
    {
     "name": "stderr",
     "output_type": "stream",
     "text": [
      "Exact explainer: 443it [00:16, 11.12it/s]                         \n"
     ]
    }
   ],
   "source": [
    "# Calculates the SHAP values - It takes some time\n",
    "shap_values = explainer_new(X_new)"
   ]
  },
  {
   "cell_type": "code",
   "execution_count": 33,
   "id": "c6f1ec97-3d41-4579-b38d-ba2ce4af340d",
   "metadata": {},
   "outputs": [
    {
     "name": "stdout",
     "output_type": "stream",
     "text": [
      "bp -> 23.5722 (softmax = 0.7566)\n",
      "age -> 22.4380 (softmax = 0.2434)\n",
      "sex -> 9.6980 (softmax = 0.0000)\n",
      "s1 -> 6.6932 (softmax = 0.0000)\n",
      "bmi -> 6.5323 (softmax = 0.0000)\n"
     ]
    }
   ],
   "source": [
    "# Prints the SHAP feature importances\n",
    "print_feature_importances_shap_values(shap_values, X.columns)"
   ]
  },
  {
   "cell_type": "code",
   "execution_count": 34,
   "id": "42cc5b85-47c1-4ff9-8b1d-180831de5ff6",
   "metadata": {},
   "outputs": [
    {
     "data": {
      "image/png": "[encoded data removed]",
      "text/plain": [
       "<Figure size 576x288 with 1 Axes>"
      ]
     },
     "metadata": {},
     "output_type": "display_data"
    }
   ],
   "source": [
    "# Plots this view\n",
    "shap.plots.bar(shap_values)"
   ]
  },
  {
   "cell_type": "code",
   "execution_count": 35,
   "id": "bee83e49-c448-4afe-b35b-9745e8137472",
   "metadata": {},
   "outputs": [
    {
     "data": {
      "image/png": "[encoded data removed]",
      "text/plain": [
       "<Figure size 576x252 with 2 Axes>"
      ]
     },
     "metadata": {
      "needs_background": "light"
     },
     "output_type": "display_data"
    }
   ],
   "source": [
    "# Plots the beeswarm\n",
    "shap.plots.beeswarm(shap_values, max_display=14)"
   ]
  },
  {
   "cell_type": "code",
   "execution_count": null,
   "id": "77b1a271-fbdd-43f8-8241-9c707f146578",
   "metadata": {},
   "outputs": [],
   "source": []
  }
 ],
 "metadata": {
  "kernelspec": {
   "display_name": "Python 3 (ipykernel)",
   "language": "python",
   "name": "python3"
  },
  "language_info": {
   "codemirror_mode": {
    "name": "ipython",
    "version": 3
   },
   "file_extension": ".py",
   "mimetype": "text/x-python",
   "name": "python",
   "nbconvert_exporter": "python",
   "pygments_lexer": "ipython3",
   "version": "3.8.12"
  }
 },
 "nbformat": 4,
 "nbformat_minor": 5
}
