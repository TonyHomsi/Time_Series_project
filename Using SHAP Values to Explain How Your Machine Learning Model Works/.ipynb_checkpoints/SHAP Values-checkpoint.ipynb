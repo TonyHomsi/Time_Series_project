{
 "cells": [
  {
   "cell_type": "markdown",
   "id": "5fc12e38-1a86-4313-bb7d-c504799be82f",
   "metadata": {
    "tags": []
   },
   "source": [
    "# SHAP Values"
   ]
  },
  {
   "cell_type": "markdown",
   "id": "2e527315-2e89-4e34-a47d-400887948d58",
   "metadata": {
    "tags": []
   },
   "source": [
    "### Imports"
   ]
  },
  {
   "cell_type": "code",
   "execution_count": 1,
   "id": "ec65d201-c832-4fe5-9d7f-0e5716745f13",
   "metadata": {
    "execution": {
     "iopub.execute_input": "2022-01-08T20:13:12.508833Z",
     "iopub.status.busy": "2022-01-08T20:13:12.508833Z",
     "iopub.status.idle": "2022-01-08T20:13:12.513814Z",
     "shell.execute_reply": "2022-01-08T20:13:12.513814Z",
     "shell.execute_reply.started": "2022-01-08T20:13:12.508833Z"
    },
    "tags": []
   },
   "outputs": [],
   "source": [
    "import pandas as pd\n",
    "import numpy as np\n",
    "import matplotlib.pyplot as plt"
   ]
  },
  {
   "cell_type": "code",
   "execution_count": 2,
   "id": "90114079-ded2-4c5d-b7b6-7da2d72e7bc2",
   "metadata": {
    "execution": {
     "iopub.execute_input": "2022-01-08T20:13:12.515810Z",
     "iopub.status.busy": "2022-01-08T20:13:12.515810Z",
     "iopub.status.idle": "2022-01-08T20:13:12.529772Z",
     "shell.execute_reply": "2022-01-08T20:13:12.529772Z",
     "shell.execute_reply.started": "2022-01-08T20:13:12.515810Z"
    },
    "tags": []
   },
   "outputs": [],
   "source": [
    "plt.style.use('default')"
   ]
  },
  {
   "cell_type": "code",
   "execution_count": 3,
   "id": "2c1529d8-be51-4852-8b6f-813bf6380d66",
   "metadata": {
    "execution": {
     "iopub.execute_input": "2022-01-08T20:13:12.530769Z",
     "iopub.status.busy": "2022-01-08T20:13:12.530769Z",
     "iopub.status.idle": "2022-01-08T20:13:12.685550Z",
     "shell.execute_reply": "2022-01-08T20:13:12.685550Z",
     "shell.execute_reply.started": "2022-01-08T20:13:12.530769Z"
    }
   },
   "outputs": [],
   "source": [
    "from sklearn.ensemble import RandomForestRegressor\n",
    "from sklearn.model_selection import train_test_split\n",
    "from sklearn.metrics import mean_squared_error as MSE\n",
    "from sklearn.metrics import mean_absolute_error as MAE\n",
    "from sklearn.metrics import r2_score as R2\n",
    "from scipy.special import softmax"
   ]
  },
  {
   "cell_type": "code",
   "execution_count": 4,
   "id": "21cfb339-67b1-46a7-b62f-95645ba8465f",
   "metadata": {
    "execution": {
     "iopub.execute_input": "2022-01-08T20:13:12.686546Z",
     "iopub.status.busy": "2022-01-08T20:13:12.686546Z",
     "iopub.status.idle": "2022-01-08T20:13:13.340978Z",
     "shell.execute_reply": "2022-01-08T20:13:13.340978Z",
     "shell.execute_reply.started": "2022-01-08T20:13:12.686546Z"
    }
   },
   "outputs": [],
   "source": [
    "import shap "
   ]
  },
  {
   "cell_type": "markdown",
   "id": "e1725320-82ef-4ef0-8a27-ed56daa50f45",
   "metadata": {
    "tags": []
   },
   "source": [
    "### Functions"
   ]
  },
  {
   "cell_type": "code",
   "execution_count": 5,
   "id": "189c101f-ebfe-499b-b29f-5d51ebfd84b4",
   "metadata": {
    "execution": {
     "iopub.execute_input": "2022-01-08T20:13:13.341976Z",
     "iopub.status.busy": "2022-01-08T20:13:13.341976Z",
     "iopub.status.idle": "2022-01-08T20:13:13.356936Z",
     "shell.execute_reply": "2022-01-08T20:13:13.356936Z",
     "shell.execute_reply.started": "2022-01-08T20:13:13.341976Z"
    }
   },
   "outputs": [],
   "source": [
    "def print_feature_importances_random_forest(random_forest_model):\n",
    "    \n",
    "    '''\n",
    "    Prints the feature importances of a Random Forest model in an ordered way.\n",
    "    random_forest_model -> The sklearn.ensemble.RandomForestRegressor or RandomForestClassifier trained model\n",
    "    '''\n",
    "    \n",
    "    # Fetch the feature importances and feature names\n",
    "    importances = random_forest_model.feature_importances_\n",
    "    features = random_forest_model.feature_names_in_\n",
    "    \n",
    "    # Organize them in a dictionary\n",
    "    feature_importances = {fea: imp for imp, fea in zip(importances, features)}\n",
    "    \n",
    "    # Sorts the dictionary\n",
    "    feature_importances = {k: v for k, v in sorted(feature_importances.items(), key=lambda item: item[1], reverse = True)}\n",
    "    \n",
    "    # Prints the feature importances\n",
    "    for k, v in feature_importances.items():\n",
    "        print(f\"{k} -> {v:.4f}\")"
   ]
  },
  {
   "cell_type": "code",
   "execution_count": 6,
   "id": "3e7c71a0-3614-483f-ac87-ad041167f209",
   "metadata": {
    "execution": {
     "iopub.execute_input": "2022-01-08T20:13:13.357942Z",
     "iopub.status.busy": "2022-01-08T20:13:13.357942Z",
     "iopub.status.idle": "2022-01-08T20:13:13.372893Z",
     "shell.execute_reply": "2022-01-08T20:13:13.371896Z",
     "shell.execute_reply.started": "2022-01-08T20:13:13.357942Z"
    }
   },
   "outputs": [],
   "source": [
    "def print_feature_importances_shap_values(shap_values, features):\n",
    "    \n",
    "    '''\n",
    "    Prints the feature importances based on SHAP values in an ordered way\n",
    "    shap_values -> The SHAP values calculated from a shap.Explainer object\n",
    "    features -> The name of the features, on the order presented to the explainer\n",
    "    '''\n",
    "\n",
    "    # Calculates the feature importance (mean absolute shap value) for each feature\n",
    "    importances = []\n",
    "    for i in range(shap_values.values.shape[1]):\n",
    "        importances.append(np.mean(np.abs(shap_values.values[:, i])))\n",
    "        \n",
    "    # Calculates the normalized version\n",
    "    importances_norm = softmax(importances)\n",
    "\n",
    "    # Organize the importances and columns in a dictionary\n",
    "    feature_importances = {fea: imp for imp, fea in zip(importances, features)}\n",
    "    feature_importances_norm = {fea: imp for imp, fea in zip(importances_norm, features)}\n",
    "\n",
    "    # Sorts the dictionary\n",
    "    feature_importances = {k: v for k, v in sorted(feature_importances.items(), key=lambda item: item[1], reverse = True)}\n",
    "    feature_importances_norm= {k: v for k, v in sorted(feature_importances_norm.items(), key=lambda item: item[1], reverse = True)}\n",
    "\n",
    "    # Prints the feature importances\n",
    "    for k, v in feature_importances.items():\n",
    "        print(f\"{k} -> {v:.4f} (softmax = {feature_importances_norm[k]:.4f})\")"
   ]
  },
  {
   "cell_type": "code",
   "execution_count": 7,
   "id": "b573aa34-01be-47d4-b2f2-5e3fe3c5237d",
   "metadata": {
    "execution": {
     "iopub.execute_input": "2022-01-08T20:13:13.373918Z",
     "iopub.status.busy": "2022-01-08T20:13:13.373918Z",
     "iopub.status.idle": "2022-01-08T20:13:13.387854Z",
     "shell.execute_reply": "2022-01-08T20:13:13.387854Z",
     "shell.execute_reply.started": "2022-01-08T20:13:13.373918Z"
    }
   },
   "outputs": [],
   "source": [
    "def evaluate_regression(y, y_pred):\n",
    "    \n",
    "    '''\n",
    "    Prints the most common evaluation metrics for regression\n",
    "    '''\n",
    "    \n",
    "    mae = MAE(y, y_pred)\n",
    "    mse = MSE(y, y_pred)\n",
    "    rmse = mse ** (1/2)\n",
    "    r2 = R2(y, y_pred)\n",
    "    \n",
    "    print('Regression result')\n",
    "    print(f\"MAE: {mae:.2f}\")\n",
    "    print(f\"MSE: {mse:.2f}\")\n",
    "    print(f\"RMSE: {rmse:.2f}\")\n",
    "    print(f\"R2: {r2:.2f}\")"
   ]
  },
  {
   "cell_type": "markdown",
   "id": "458bb389-5049-4ac0-aa5f-773dafbdf359",
   "metadata": {},
   "source": [
    "## Regression"
   ]
  },
  {
   "cell_type": "markdown",
   "id": "bdc46177-d52d-4e4e-96a3-fc3337271bf9",
   "metadata": {},
   "source": [
    "### Import a regression dataset"
   ]
  },
  {
   "cell_type": "code",
   "execution_count": 8,
   "id": "387a2a55-a2f5-4dae-b5f5-d48d3218c0c6",
   "metadata": {
    "execution": {
     "iopub.execute_input": "2022-01-08T20:13:13.388880Z",
     "iopub.status.busy": "2022-01-08T20:13:13.388880Z",
     "iopub.status.idle": "2022-01-08T20:13:13.403811Z",
     "shell.execute_reply": "2022-01-08T20:13:13.402843Z",
     "shell.execute_reply.started": "2022-01-08T20:13:13.388880Z"
    }
   },
   "outputs": [],
   "source": [
    "from sklearn.datasets import fetch_california_housing"
   ]
  },
  {
   "cell_type": "code",
   "execution_count": 9,
   "id": "5dcef1e3-bc9d-43a9-8a5b-5b09dca0a0c7",
   "metadata": {
    "execution": {
     "iopub.execute_input": "2022-01-08T20:13:13.404818Z",
     "iopub.status.busy": "2022-01-08T20:13:13.404818Z",
     "iopub.status.idle": "2022-01-08T20:13:13.435729Z",
     "shell.execute_reply": "2022-01-08T20:13:13.434761Z",
     "shell.execute_reply.started": "2022-01-08T20:13:13.404818Z"
    }
   },
   "outputs": [],
   "source": [
    "dataset = fetch_california_housing(as_frame = True)"
   ]
  },
  {
   "cell_type": "code",
   "execution_count": 10,
   "id": "03ee4574-2e89-4d1c-8f26-fca9fdd26a50",
   "metadata": {
    "execution": {
     "iopub.execute_input": "2022-01-08T20:13:13.436723Z",
     "iopub.status.busy": "2022-01-08T20:13:13.436723Z",
     "iopub.status.idle": "2022-01-08T20:13:13.450685Z",
     "shell.execute_reply": "2022-01-08T20:13:13.450685Z",
     "shell.execute_reply.started": "2022-01-08T20:13:13.436723Z"
    },
    "tags": []
   },
   "outputs": [
    {
     "name": "stdout",
     "output_type": "stream",
     "text": [
      ".. _california_housing_dataset:\n",
      "\n",
      "California Housing dataset\n",
      "--------------------------\n",
      "\n",
      "**Data Set Characteristics:**\n",
      "\n",
      "    :Number of Instances: 20640\n",
      "\n",
      "    :Number of Attributes: 8 numeric, predictive attributes and the target\n",
      "\n",
      "    :Attribute Information:\n",
      "        - MedInc        median income in block\n",
      "        - HouseAge      median house age in block\n",
      "        - AveRooms      average number of rooms\n",
      "        - AveBedrms     average number of bedrooms\n",
      "        - Population    block population\n",
      "        - AveOccup      average house occupancy\n",
      "        - Latitude      house block latitude\n",
      "        - Longitude     house block longitude\n",
      "\n",
      "    :Missing Attribute Values: None\n",
      "\n",
      "This dataset was obtained from the StatLib repository.\n",
      "http://lib.stat.cmu.edu/datasets/\n",
      "\n",
      "The target variable is the median house value for California districts.\n",
      "\n",
      "This dataset was derived from the 1990 U.S. census, using one row per census\n",
      "block group. A block group is the smallest geographical unit for which the U.S.\n",
      "Census Bureau publishes sample data (a block group typically has a population\n",
      "of 600 to 3,000 people).\n",
      "\n",
      "It can be downloaded/loaded using the\n",
      ":func:`sklearn.datasets.fetch_california_housing` function.\n",
      "\n",
      ".. topic:: References\n",
      "\n",
      "    - Pace, R. Kelley and Ronald Barry, Sparse Spatial Autoregressions,\n",
      "      Statistics and Probability Letters, 33 (1997) 291-297\n",
      "\n"
     ]
    }
   ],
   "source": [
    "print(dataset['DESCR'])"
   ]
  },
  {
   "cell_type": "code",
   "execution_count": 11,
   "id": "54288bca-203b-4d1f-8ee7-8dc80b77e747",
   "metadata": {
    "execution": {
     "iopub.execute_input": "2022-01-08T20:13:13.451693Z",
     "iopub.status.busy": "2022-01-08T20:13:13.451693Z",
     "iopub.status.idle": "2022-01-08T20:13:13.482625Z",
     "shell.execute_reply": "2022-01-08T20:13:13.482625Z",
     "shell.execute_reply.started": "2022-01-08T20:13:13.451693Z"
    }
   },
   "outputs": [
    {
     "data": {
      "text/html": [
       "<div>\n",
       "<style scoped>\n",
       "    .dataframe tbody tr th:only-of-type {\n",
       "        vertical-align: middle;\n",
       "    }\n",
       "\n",
       "    .dataframe tbody tr th {\n",
       "        vertical-align: top;\n",
       "    }\n",
       "\n",
       "    .dataframe thead th {\n",
       "        text-align: right;\n",
       "    }\n",
       "</style>\n",
       "<table border=\"1\" class=\"dataframe\">\n",
       "  <thead>\n",
       "    <tr style=\"text-align: right;\">\n",
       "      <th></th>\n",
       "      <th>MedInc</th>\n",
       "      <th>HouseAge</th>\n",
       "      <th>AveRooms</th>\n",
       "      <th>AveBedrms</th>\n",
       "      <th>Population</th>\n",
       "      <th>AveOccup</th>\n",
       "      <th>Latitude</th>\n",
       "      <th>Longitude</th>\n",
       "    </tr>\n",
       "  </thead>\n",
       "  <tbody>\n",
       "    <tr>\n",
       "      <th>0</th>\n",
       "      <td>8.3252</td>\n",
       "      <td>41.0</td>\n",
       "      <td>6.984127</td>\n",
       "      <td>1.023810</td>\n",
       "      <td>322.0</td>\n",
       "      <td>2.555556</td>\n",
       "      <td>37.88</td>\n",
       "      <td>-122.23</td>\n",
       "    </tr>\n",
       "    <tr>\n",
       "      <th>1</th>\n",
       "      <td>8.3014</td>\n",
       "      <td>21.0</td>\n",
       "      <td>6.238137</td>\n",
       "      <td>0.971880</td>\n",
       "      <td>2401.0</td>\n",
       "      <td>2.109842</td>\n",
       "      <td>37.86</td>\n",
       "      <td>-122.22</td>\n",
       "    </tr>\n",
       "    <tr>\n",
       "      <th>2</th>\n",
       "      <td>7.2574</td>\n",
       "      <td>52.0</td>\n",
       "      <td>8.288136</td>\n",
       "      <td>1.073446</td>\n",
       "      <td>496.0</td>\n",
       "      <td>2.802260</td>\n",
       "      <td>37.85</td>\n",
       "      <td>-122.24</td>\n",
       "    </tr>\n",
       "    <tr>\n",
       "      <th>3</th>\n",
       "      <td>5.6431</td>\n",
       "      <td>52.0</td>\n",
       "      <td>5.817352</td>\n",
       "      <td>1.073059</td>\n",
       "      <td>558.0</td>\n",
       "      <td>2.547945</td>\n",
       "      <td>37.85</td>\n",
       "      <td>-122.25</td>\n",
       "    </tr>\n",
       "    <tr>\n",
       "      <th>4</th>\n",
       "      <td>3.8462</td>\n",
       "      <td>52.0</td>\n",
       "      <td>6.281853</td>\n",
       "      <td>1.081081</td>\n",
       "      <td>565.0</td>\n",
       "      <td>2.181467</td>\n",
       "      <td>37.85</td>\n",
       "      <td>-122.25</td>\n",
       "    </tr>\n",
       "  </tbody>\n",
       "</table>\n",
       "</div>"
      ],
      "text/plain": [
       "   MedInc  HouseAge  AveRooms  AveBedrms  Population  AveOccup  Latitude  \\\n",
       "0  8.3252      41.0  6.984127   1.023810       322.0  2.555556     37.88   \n",
       "1  8.3014      21.0  6.238137   0.971880      2401.0  2.109842     37.86   \n",
       "2  7.2574      52.0  8.288136   1.073446       496.0  2.802260     37.85   \n",
       "3  5.6431      52.0  5.817352   1.073059       558.0  2.547945     37.85   \n",
       "4  3.8462      52.0  6.281853   1.081081       565.0  2.181467     37.85   \n",
       "\n",
       "   Longitude  \n",
       "0    -122.23  \n",
       "1    -122.22  \n",
       "2    -122.24  \n",
       "3    -122.25  \n",
       "4    -122.25  "
      ]
     },
     "execution_count": 11,
     "metadata": {},
     "output_type": "execute_result"
    }
   ],
   "source": [
    "# Gets the independent variables\n",
    "X = dataset['data']\n",
    "X.head(5)"
   ]
  },
  {
   "cell_type": "code",
   "execution_count": 12,
   "id": "5c1f9a53-9318-4499-9f36-19504cc840ce",
   "metadata": {
    "execution": {
     "iopub.execute_input": "2022-01-08T20:13:13.483598Z",
     "iopub.status.busy": "2022-01-08T20:13:13.483598Z",
     "iopub.status.idle": "2022-01-08T20:13:13.498558Z",
     "shell.execute_reply": "2022-01-08T20:13:13.498558Z",
     "shell.execute_reply.started": "2022-01-08T20:13:13.483598Z"
    }
   },
   "outputs": [
    {
     "data": {
      "text/plain": [
       "(20640, 8)"
      ]
     },
     "execution_count": 12,
     "metadata": {},
     "output_type": "execute_result"
    }
   ],
   "source": [
    "# Checks the shape of the data\n",
    "X.shape"
   ]
  },
  {
   "cell_type": "code",
   "execution_count": 13,
   "id": "399bca3a-1527-43dc-af58-b670069a0b8d",
   "metadata": {
    "execution": {
     "iopub.execute_input": "2022-01-08T20:13:13.499559Z",
     "iopub.status.busy": "2022-01-08T20:13:13.499559Z",
     "iopub.status.idle": "2022-01-08T20:13:13.515530Z",
     "shell.execute_reply": "2022-01-08T20:13:13.514520Z",
     "shell.execute_reply.started": "2022-01-08T20:13:13.499559Z"
    }
   },
   "outputs": [
    {
     "data": {
      "text/plain": [
       "0    4.526\n",
       "1    3.585\n",
       "2    3.521\n",
       "3    3.413\n",
       "4    3.422\n",
       "Name: MedHouseVal, dtype: float64"
      ]
     },
     "execution_count": 13,
     "metadata": {},
     "output_type": "execute_result"
    }
   ],
   "source": [
    "# Gets the dependent variable (the target)\n",
    "y = dataset['target']\n",
    "y.head(5)"
   ]
  },
  {
   "cell_type": "markdown",
   "id": "1fe0cf4f-276d-471b-ace7-f10a6e81c53a",
   "metadata": {},
   "source": [
    "### Create a simple regression"
   ]
  },
  {
   "cell_type": "code",
   "execution_count": 14,
   "id": "23c6cf8c-fb0f-408b-a33c-299e1128020d",
   "metadata": {
    "execution": {
     "iopub.execute_input": "2022-01-08T20:13:13.516509Z",
     "iopub.status.busy": "2022-01-08T20:13:13.516509Z",
     "iopub.status.idle": "2022-01-08T20:13:13.530499Z",
     "shell.execute_reply": "2022-01-08T20:13:13.530499Z",
     "shell.execute_reply.started": "2022-01-08T20:13:13.516509Z"
    }
   },
   "outputs": [],
   "source": [
    "X_train, X_test, y_train, y_test = train_test_split(X, y, test_size = 0.2)"
   ]
  },
  {
   "cell_type": "code",
   "execution_count": 15,
   "id": "3c98421b-f7d9-4edb-892f-4b1cbaf31a58",
   "metadata": {
    "execution": {
     "iopub.execute_input": "2022-01-08T20:13:13.531470Z",
     "iopub.status.busy": "2022-01-08T20:13:13.531470Z",
     "iopub.status.idle": "2022-01-08T20:13:13.545460Z",
     "shell.execute_reply": "2022-01-08T20:13:13.545460Z",
     "shell.execute_reply.started": "2022-01-08T20:13:13.531470Z"
    }
   },
   "outputs": [],
   "source": [
    "# Prepares a default instance of the random forest regressor\n",
    "model = RandomForestRegressor()"
   ]
  },
  {
   "cell_type": "code",
   "execution_count": 16,
   "id": "39e6274c-464e-4564-a8c4-6c00a0408b31",
   "metadata": {
    "execution": {
     "iopub.execute_input": "2022-01-08T20:13:13.546459Z",
     "iopub.status.busy": "2022-01-08T20:13:13.546459Z",
     "iopub.status.idle": "2022-01-08T20:13:20.833960Z",
     "shell.execute_reply": "2022-01-08T20:13:20.833960Z",
     "shell.execute_reply.started": "2022-01-08T20:13:13.546459Z"
    },
    "tags": []
   },
   "outputs": [
    {
     "data": {
      "text/plain": [
       "RandomForestRegressor()"
      ]
     },
     "execution_count": 16,
     "metadata": {},
     "output_type": "execute_result"
    }
   ],
   "source": [
    "# Fits the model on the data\n",
    "model.fit(X_train, y_train)"
   ]
  },
  {
   "cell_type": "code",
   "execution_count": 17,
   "id": "4bd75992-fbec-4951-8d5c-b05dafbb4e40",
   "metadata": {
    "execution": {
     "iopub.execute_input": "2022-01-08T20:13:20.834933Z",
     "iopub.status.busy": "2022-01-08T20:13:20.834933Z",
     "iopub.status.idle": "2022-01-08T20:13:20.960621Z",
     "shell.execute_reply": "2022-01-08T20:13:20.960621Z",
     "shell.execute_reply.started": "2022-01-08T20:13:20.834933Z"
    }
   },
   "outputs": [
    {
     "name": "stdout",
     "output_type": "stream",
     "text": [
      "Regression result\n",
      "MAE: 0.33\n",
      "MSE: 0.26\n",
      "RMSE: 0.51\n",
      "R2: 0.81\n"
     ]
    }
   ],
   "source": [
    "# Evaluates the model\n",
    "y_pred = model.predict(X_test)\n",
    "evaluate_regression(y_test, y_pred)"
   ]
  },
  {
   "cell_type": "code",
   "execution_count": 18,
   "id": "b64c3341-f496-4bad-a89b-105c9cebb739",
   "metadata": {
    "execution": {
     "iopub.execute_input": "2022-01-08T20:13:20.961594Z",
     "iopub.status.busy": "2022-01-08T20:13:20.961594Z",
     "iopub.status.idle": "2022-01-08T20:13:21.006474Z",
     "shell.execute_reply": "2022-01-08T20:13:21.006474Z",
     "shell.execute_reply.started": "2022-01-08T20:13:20.961594Z"
    }
   },
   "outputs": [
    {
     "ename": "AttributeError",
     "evalue": "'RandomForestRegressor' object has no attribute 'feature_names_in_'",
     "output_type": "error",
     "traceback": [
      "\u001b[1;31m---------------------------------------------------------------------------\u001b[0m",
      "\u001b[1;31mAttributeError\u001b[0m                            Traceback (most recent call last)",
      "\u001b[1;32mC:\\Users\\DATASC~1\\AppData\\Local\\Temp/ipykernel_2124/3671838763.py\u001b[0m in \u001b[0;36m<module>\u001b[1;34m\u001b[0m\n\u001b[0;32m      1\u001b[0m \u001b[1;31m# Prints the feature importances\u001b[0m\u001b[1;33m\u001b[0m\u001b[1;33m\u001b[0m\u001b[1;33m\u001b[0m\u001b[0m\n\u001b[1;32m----> 2\u001b[1;33m \u001b[0mprint_feature_importances_random_forest\u001b[0m\u001b[1;33m(\u001b[0m\u001b[0mmodel\u001b[0m\u001b[1;33m)\u001b[0m\u001b[1;33m\u001b[0m\u001b[1;33m\u001b[0m\u001b[0m\n\u001b[0m",
      "\u001b[1;32mC:\\Users\\DATASC~1\\AppData\\Local\\Temp/ipykernel_2124/3335921356.py\u001b[0m in \u001b[0;36mprint_feature_importances_random_forest\u001b[1;34m(random_forest_model)\u001b[0m\n\u001b[0;32m      8\u001b[0m     \u001b[1;31m# Fetch the feature importances and feature names\u001b[0m\u001b[1;33m\u001b[0m\u001b[1;33m\u001b[0m\u001b[1;33m\u001b[0m\u001b[0m\n\u001b[0;32m      9\u001b[0m     \u001b[0mimportances\u001b[0m \u001b[1;33m=\u001b[0m \u001b[0mrandom_forest_model\u001b[0m\u001b[1;33m.\u001b[0m\u001b[0mfeature_importances_\u001b[0m\u001b[1;33m\u001b[0m\u001b[1;33m\u001b[0m\u001b[0m\n\u001b[1;32m---> 10\u001b[1;33m     \u001b[0mfeatures\u001b[0m \u001b[1;33m=\u001b[0m \u001b[0mrandom_forest_model\u001b[0m\u001b[1;33m.\u001b[0m\u001b[0mfeature_names_in_\u001b[0m\u001b[1;33m\u001b[0m\u001b[1;33m\u001b[0m\u001b[0m\n\u001b[0m\u001b[0;32m     11\u001b[0m \u001b[1;33m\u001b[0m\u001b[0m\n\u001b[0;32m     12\u001b[0m     \u001b[1;31m# Organize them in a dictionary\u001b[0m\u001b[1;33m\u001b[0m\u001b[1;33m\u001b[0m\u001b[1;33m\u001b[0m\u001b[0m\n",
      "\u001b[1;31mAttributeError\u001b[0m: 'RandomForestRegressor' object has no attribute 'feature_names_in_'"
     ]
    }
   ],
   "source": [
    "# Prints the feature importances\n",
    "print_feature_importances_random_forest(model)"
   ]
  },
  {
   "cell_type": "markdown",
   "id": "c5654e47-0dc0-4f7c-870b-1c93788aed1d",
   "metadata": {},
   "source": [
    "### SHAP values"
   ]
  },
  {
   "cell_type": "code",
   "execution_count": null,
   "id": "670266c6-be6f-4626-a6e1-25165ff920c2",
   "metadata": {
    "execution": {
     "iopub.execute_input": "2022-01-08T20:13:21.007471Z",
     "iopub.status.busy": "2022-01-08T20:13:21.007471Z",
     "iopub.status.idle": "2022-01-08T20:13:21.026421Z",
     "shell.execute_reply": "2022-01-08T20:13:21.022432Z",
     "shell.execute_reply.started": "2022-01-08T20:13:21.007471Z"
    }
   },
   "outputs": [],
   "source": [
    "# Fits the explainer\n",
    "explainer = shap.Explainer(model.predict, X_test)"
   ]
  },
  {
   "cell_type": "code",
   "execution_count": null,
   "id": "700f435c-cf9c-4770-af0a-a9e1b7cdcc3d",
   "metadata": {
    "execution": {
     "iopub.execute_input": "2022-01-08T20:13:21.027419Z",
     "iopub.status.busy": "2022-01-08T20:13:21.026421Z",
     "iopub.status.idle": "2022-01-08T20:32:24.725954Z",
     "shell.execute_reply": "2022-01-08T20:32:24.725954Z",
     "shell.execute_reply.started": "2022-01-08T20:13:21.026421Z"
    },
    "tags": []
   },
   "outputs": [],
   "source": [
    "# Calculates the SHAP values - It takes some time\n",
    "shap_values = explainer(X_test)"
   ]
  },
  {
   "cell_type": "code",
   "execution_count": null,
   "id": "fe413dd1-6f0d-4e84-9884-cb3bcbb6ddbc",
   "metadata": {
    "execution": {
     "iopub.execute_input": "2022-01-08T20:32:24.726952Z",
     "iopub.status.busy": "2022-01-08T20:32:24.726952Z",
     "iopub.status.idle": "2022-01-08T20:32:24.741912Z",
     "shell.execute_reply": "2022-01-08T20:32:24.741912Z",
     "shell.execute_reply.started": "2022-01-08T20:32:24.726952Z"
    }
   },
   "outputs": [],
   "source": [
    "shap_values"
   ]
  },
  {
   "cell_type": "markdown",
   "id": "4ed8c14c-8327-4f51-846b-229fd5f34221",
   "metadata": {
    "execution": {
     "iopub.execute_input": "2022-01-12T21:31:48.664455Z",
     "iopub.status.busy": "2022-01-12T21:31:48.663457Z",
     "iopub.status.idle": "2022-01-12T21:31:48.667467Z",
     "shell.execute_reply": "2022-01-12T21:31:48.667467Z",
     "shell.execute_reply.started": "2022-01-12T21:31:48.663457Z"
    },
    "tags": []
   },
   "source": [
    "### SHAP global evaluation"
   ]
  },
  {
   "cell_type": "code",
   "execution_count": null,
   "id": "f35c9c7b-83d2-4473-8f99-0e9e56a22e5a",
   "metadata": {
    "execution": {
     "iopub.execute_input": "2022-01-08T20:32:24.757869Z",
     "iopub.status.busy": "2022-01-08T20:32:24.757869Z",
     "iopub.status.idle": "2022-01-08T20:32:25.037122Z",
     "shell.execute_reply": "2022-01-08T20:32:25.037122Z",
     "shell.execute_reply.started": "2022-01-08T20:32:24.757869Z"
    },
    "tags": []
   },
   "outputs": [],
   "source": [
    "# Plots this view\n",
    "shap.plots.bar(shap_values)"
   ]
  },
  {
   "cell_type": "code",
   "execution_count": null,
   "id": "0f726f36-ee8f-4955-8e98-aa285ffd2329",
   "metadata": {
    "execution": {
     "iopub.execute_input": "2022-01-08T20:32:25.038120Z",
     "iopub.status.busy": "2022-01-08T20:32:25.038120Z",
     "iopub.status.idle": "2022-01-08T20:32:25.320426Z",
     "shell.execute_reply": "2022-01-08T20:32:25.319367Z",
     "shell.execute_reply.started": "2022-01-08T20:32:25.038120Z"
    },
    "tags": []
   },
   "outputs": [],
   "source": [
    "# Plots the beeswarm\n",
    "shap.plots.beeswarm(shap_values.sample(50))"
   ]
  },
  {
   "cell_type": "code",
   "execution_count": null,
   "id": "3cab32d5-0f9c-43ef-8c67-45f6f0d18826",
   "metadata": {
    "execution": {
     "iopub.execute_input": "2022-01-08T20:50:31.310875Z",
     "iopub.status.busy": "2022-01-08T20:50:31.310875Z",
     "iopub.status.idle": "2022-01-08T20:50:31.719780Z",
     "shell.execute_reply": "2022-01-08T20:50:31.719780Z",
     "shell.execute_reply.started": "2022-01-08T20:50:31.310875Z"
    }
   },
   "outputs": [],
   "source": [
    "shap.summary_plot(shap_values)"
   ]
  },
  {
   "cell_type": "code",
   "execution_count": null,
   "id": "3668ec85-c0ce-43eb-af48-5783b86af57e",
   "metadata": {
    "execution": {
     "iopub.execute_input": "2022-01-08T20:32:25.323358Z",
     "iopub.status.busy": "2022-01-08T20:32:25.322359Z",
     "iopub.status.idle": "2022-01-08T20:32:26.074420Z",
     "shell.execute_reply": "2022-01-08T20:32:26.073450Z",
     "shell.execute_reply.started": "2022-01-08T20:32:25.323358Z"
    }
   },
   "outputs": [],
   "source": [
    "# Violin plot\n",
    "shap.summary_plot(shap_values, plot_type='violin')"
   ]
  },
  {
   "cell_type": "code",
   "execution_count": null,
   "id": "ff3ec678-8e37-4d48-b292-0ceb6cead904",
   "metadata": {
    "execution": {
     "iopub.execute_input": "2022-01-08T20:32:26.075418Z",
     "iopub.status.busy": "2022-01-08T20:32:26.075418Z",
     "iopub.status.idle": "2022-01-08T20:32:26.089380Z",
     "shell.execute_reply": "2022-01-08T20:32:26.088383Z",
     "shell.execute_reply.started": "2022-01-08T20:32:26.075418Z"
    }
   },
   "outputs": [],
   "source": [
    "# Prints the SHAP feature importances\n",
    "print_feature_importances_shap_values(shap_values, X_test.columns)"
   ]
  },
  {
   "cell_type": "markdown",
   "id": "d86d6073-e612-4365-847a-e443e6449eb2",
   "metadata": {},
   "source": [
    "### SHAP local evaluation\n",
    "For a single example"
   ]
  },
  {
   "cell_type": "code",
   "execution_count": null,
   "id": "25cecbb9-2c03-4f53-96f3-a8f037be110c",
   "metadata": {
    "execution": {
     "iopub.execute_input": "2022-01-08T20:32:26.090382Z",
     "iopub.status.busy": "2022-01-08T20:32:26.089380Z",
     "iopub.status.idle": "2022-01-08T20:32:26.291839Z",
     "shell.execute_reply": "2022-01-08T20:32:26.291839Z",
     "shell.execute_reply.started": "2022-01-08T20:32:26.090382Z"
    }
   },
   "outputs": [],
   "source": [
    "shap.plots.bar(shap_values[0])"
   ]
  },
  {
   "cell_type": "code",
   "execution_count": null,
   "id": "31509db4-bdcb-4e75-9460-35847e0ba2ae",
   "metadata": {
    "execution": {
     "iopub.execute_input": "2022-01-08T20:32:26.292835Z",
     "iopub.status.busy": "2022-01-08T20:32:26.292835Z",
     "iopub.status.idle": "2022-01-08T20:32:26.794521Z",
     "shell.execute_reply": "2022-01-08T20:32:26.794521Z",
     "shell.execute_reply.started": "2022-01-08T20:32:26.292835Z"
    }
   },
   "outputs": [],
   "source": [
    "shap.plots.waterfall(shap_values[0], max_display=10)"
   ]
  },
  {
   "cell_type": "code",
   "execution_count": null,
   "id": "f8f58f74-84ad-4c17-b7c4-792df23c923a",
   "metadata": {
    "execution": {
     "iopub.execute_input": "2022-01-08T20:32:26.795491Z",
     "iopub.status.busy": "2022-01-08T20:32:26.795491Z",
     "iopub.status.idle": "2022-01-08T20:32:26.809454Z",
     "shell.execute_reply": "2022-01-08T20:32:26.809454Z",
     "shell.execute_reply.started": "2022-01-08T20:32:26.795491Z"
    }
   },
   "outputs": [],
   "source": [
    "shap.initjs()\n",
    "shap.plots.force(shap_values[0])"
   ]
  },
  {
   "cell_type": "code",
   "execution_count": null,
   "id": "af7e4e49-8b82-4968-af9e-c7bd9aefc9ea",
   "metadata": {},
   "outputs": [],
   "source": []
  }
 ],
 "metadata": {
  "kernelspec": {
   "display_name": "gpu2",
   "language": "python",
   "name": "gpu2"
  },
  "language_info": {
   "codemirror_mode": {
    "name": "ipython",
    "version": 3
   },
   "file_extension": ".py",
   "mimetype": "text/x-python",
   "name": "python",
   "nbconvert_exporter": "python",
   "pygments_lexer": "ipython3",
   "version": "3.8.12"
  }
 },
 "nbformat": 4,
 "nbformat_minor": 5
}
